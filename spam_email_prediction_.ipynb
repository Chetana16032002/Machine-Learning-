{
  "nbformat": 4,
  "nbformat_minor": 0,
  "metadata": {
    "colab": {
      "name": "spam email prediction .ipynb",
      "provenance": [],
      "collapsed_sections": [],
      "authorship_tag": "ABX9TyMN8QdzRI3r3tJIvN9i8Dg8",
      "include_colab_link": true
    },
    "kernelspec": {
      "name": "python3",
      "display_name": "Python 3"
    },
    "language_info": {
      "name": "python"
    }
  },
  "cells": [
    {
      "cell_type": "markdown",
      "metadata": {
        "id": "view-in-github",
        "colab_type": "text"
      },
      "source": [
        "<a href=\"https://colab.research.google.com/github/Chetana16032002/Machine-Learning-/blob/main/spam_email_prediction_.ipynb\" target=\"_parent\"><img src=\"https://colab.research.google.com/assets/colab-badge.svg\" alt=\"Open In Colab\"/></a>"
      ]
    },
    {
      "cell_type": "markdown",
      "source": [
        "# Spam email prediction using random forest"
      ],
      "metadata": {
        "id": "vlqyU610bhE_"
      }
    },
    {
      "cell_type": "markdown",
      "source": [
        "## Get understnding about Data set "
      ],
      "metadata": {
        "id": "Up-S3t_Cbq8K"
      }
    },
    {
      "cell_type": "markdown",
      "source": [
        "Email data contains \n",
        "- ID \n",
        "- Mail\n",
        "- Text \n",
        "- Label "
      ],
      "metadata": {
        "id": "_D1w1rBVb19A"
      }
    },
    {
      "cell_type": "markdown",
      "source": [
        "## Import Library "
      ],
      "metadata": {
        "id": "A-eevoslcCdh"
      }
    },
    {
      "cell_type": "code",
      "source": [
        "import pandas as pd "
      ],
      "metadata": {
        "id": "OMX-ewD7cF0X"
      },
      "execution_count": null,
      "outputs": []
    },
    {
      "cell_type": "code",
      "source": [
        "import numpy as np "
      ],
      "metadata": {
        "id": "6e9m8HpvcLqf"
      },
      "execution_count": null,
      "outputs": []
    },
    {
      "cell_type": "markdown",
      "source": [
        "## Import CSV as Dataframe\n"
      ],
      "metadata": {
        "id": "YpTBI6TIcPb9"
      }
    },
    {
      "cell_type": "markdown",
      "source": [
        "### Use URL of file directly "
      ],
      "metadata": {
        "id": "qAJW36RkcXQA"
      }
    },
    {
      "cell_type": "code",
      "source": [
        "df = pd.read_csv(r'https://raw.githubusercontent.com/YBI-Foundation/Dataset/main/Spam%20Email.csv')"
      ],
      "metadata": {
        "id": "j-X-qT-ycblM"
      },
      "execution_count": null,
      "outputs": []
    },
    {
      "cell_type": "markdown",
      "source": [
        "## Get the first Five Rows of Dataframe"
      ],
      "metadata": {
        "id": "DzjiIiu1dXwo"
      }
    },
    {
      "cell_type": "code",
      "source": [
        "df.head()"
      ],
      "metadata": {
        "colab": {
          "base_uri": "https://localhost:8080/",
          "height": 206
        },
        "id": "EEhUgEv1djGD",
        "outputId": "a3cf867e-5f4d-445f-b330-d37d58cd7948"
      },
      "execution_count": null,
      "outputs": [
        {
          "output_type": "execute_result",
          "data": {
            "text/html": [
              "\n",
              "  <div id=\"df-b1d38a4d-bc13-4b5c-8a3b-33e246453a7a\">\n",
              "    <div class=\"colab-df-container\">\n",
              "      <div>\n",
              "<style scoped>\n",
              "    .dataframe tbody tr th:only-of-type {\n",
              "        vertical-align: middle;\n",
              "    }\n",
              "\n",
              "    .dataframe tbody tr th {\n",
              "        vertical-align: top;\n",
              "    }\n",
              "\n",
              "    .dataframe thead th {\n",
              "        text-align: right;\n",
              "    }\n",
              "</style>\n",
              "<table border=\"1\" class=\"dataframe\">\n",
              "  <thead>\n",
              "    <tr style=\"text-align: right;\">\n",
              "      <th></th>\n",
              "      <th>ID</th>\n",
              "      <th>Mail</th>\n",
              "      <th>Text</th>\n",
              "      <th>Label</th>\n",
              "    </tr>\n",
              "  </thead>\n",
              "  <tbody>\n",
              "    <tr>\n",
              "      <th>0</th>\n",
              "      <td>1</td>\n",
              "      <td>ham</td>\n",
              "      <td>Subject: christmas tree farm pictures\\r\\n</td>\n",
              "      <td>0</td>\n",
              "    </tr>\n",
              "    <tr>\n",
              "      <th>1</th>\n",
              "      <td>2</td>\n",
              "      <td>ham</td>\n",
              "      <td>Subject: vastar resources , inc .\\r\\ngary , pr...</td>\n",
              "      <td>0</td>\n",
              "    </tr>\n",
              "    <tr>\n",
              "      <th>2</th>\n",
              "      <td>3</td>\n",
              "      <td>ham</td>\n",
              "      <td>Subject: calpine daily gas nomination\\r\\n- cal...</td>\n",
              "      <td>0</td>\n",
              "    </tr>\n",
              "    <tr>\n",
              "      <th>3</th>\n",
              "      <td>4</td>\n",
              "      <td>ham</td>\n",
              "      <td>Subject: re : issue\\r\\nfyi - see note below - ...</td>\n",
              "      <td>0</td>\n",
              "    </tr>\n",
              "    <tr>\n",
              "      <th>4</th>\n",
              "      <td>5</td>\n",
              "      <td>ham</td>\n",
              "      <td>Subject: meter 7268 nov allocation\\r\\nfyi .\\r\\...</td>\n",
              "      <td>0</td>\n",
              "    </tr>\n",
              "  </tbody>\n",
              "</table>\n",
              "</div>\n",
              "      <button class=\"colab-df-convert\" onclick=\"convertToInteractive('df-b1d38a4d-bc13-4b5c-8a3b-33e246453a7a')\"\n",
              "              title=\"Convert this dataframe to an interactive table.\"\n",
              "              style=\"display:none;\">\n",
              "        \n",
              "  <svg xmlns=\"http://www.w3.org/2000/svg\" height=\"24px\"viewBox=\"0 0 24 24\"\n",
              "       width=\"24px\">\n",
              "    <path d=\"M0 0h24v24H0V0z\" fill=\"none\"/>\n",
              "    <path d=\"M18.56 5.44l.94 2.06.94-2.06 2.06-.94-2.06-.94-.94-2.06-.94 2.06-2.06.94zm-11 1L8.5 8.5l.94-2.06 2.06-.94-2.06-.94L8.5 2.5l-.94 2.06-2.06.94zm10 10l.94 2.06.94-2.06 2.06-.94-2.06-.94-.94-2.06-.94 2.06-2.06.94z\"/><path d=\"M17.41 7.96l-1.37-1.37c-.4-.4-.92-.59-1.43-.59-.52 0-1.04.2-1.43.59L10.3 9.45l-7.72 7.72c-.78.78-.78 2.05 0 2.83L4 21.41c.39.39.9.59 1.41.59.51 0 1.02-.2 1.41-.59l7.78-7.78 2.81-2.81c.8-.78.8-2.07 0-2.86zM5.41 20L4 18.59l7.72-7.72 1.47 1.35L5.41 20z\"/>\n",
              "  </svg>\n",
              "      </button>\n",
              "      \n",
              "  <style>\n",
              "    .colab-df-container {\n",
              "      display:flex;\n",
              "      flex-wrap:wrap;\n",
              "      gap: 12px;\n",
              "    }\n",
              "\n",
              "    .colab-df-convert {\n",
              "      background-color: #E8F0FE;\n",
              "      border: none;\n",
              "      border-radius: 50%;\n",
              "      cursor: pointer;\n",
              "      display: none;\n",
              "      fill: #1967D2;\n",
              "      height: 32px;\n",
              "      padding: 0 0 0 0;\n",
              "      width: 32px;\n",
              "    }\n",
              "\n",
              "    .colab-df-convert:hover {\n",
              "      background-color: #E2EBFA;\n",
              "      box-shadow: 0px 1px 2px rgba(60, 64, 67, 0.3), 0px 1px 3px 1px rgba(60, 64, 67, 0.15);\n",
              "      fill: #174EA6;\n",
              "    }\n",
              "\n",
              "    [theme=dark] .colab-df-convert {\n",
              "      background-color: #3B4455;\n",
              "      fill: #D2E3FC;\n",
              "    }\n",
              "\n",
              "    [theme=dark] .colab-df-convert:hover {\n",
              "      background-color: #434B5C;\n",
              "      box-shadow: 0px 1px 3px 1px rgba(0, 0, 0, 0.15);\n",
              "      filter: drop-shadow(0px 1px 2px rgba(0, 0, 0, 0.3));\n",
              "      fill: #FFFFFF;\n",
              "    }\n",
              "  </style>\n",
              "\n",
              "      <script>\n",
              "        const buttonEl =\n",
              "          document.querySelector('#df-b1d38a4d-bc13-4b5c-8a3b-33e246453a7a button.colab-df-convert');\n",
              "        buttonEl.style.display =\n",
              "          google.colab.kernel.accessAllowed ? 'block' : 'none';\n",
              "\n",
              "        async function convertToInteractive(key) {\n",
              "          const element = document.querySelector('#df-b1d38a4d-bc13-4b5c-8a3b-33e246453a7a');\n",
              "          const dataTable =\n",
              "            await google.colab.kernel.invokeFunction('convertToInteractive',\n",
              "                                                     [key], {});\n",
              "          if (!dataTable) return;\n",
              "\n",
              "          const docLinkHtml = 'Like what you see? Visit the ' +\n",
              "            '<a target=\"_blank\" href=https://colab.research.google.com/notebooks/data_table.ipynb>data table notebook</a>'\n",
              "            + ' to learn more about interactive tables.';\n",
              "          element.innerHTML = '';\n",
              "          dataTable['output_type'] = 'display_data';\n",
              "          await google.colab.output.renderOutput(dataTable, element);\n",
              "          const docLink = document.createElement('div');\n",
              "          docLink.innerHTML = docLinkHtml;\n",
              "          element.appendChild(docLink);\n",
              "        }\n",
              "      </script>\n",
              "    </div>\n",
              "  </div>\n",
              "  "
            ],
            "text/plain": [
              "   ID Mail                                               Text  Label\n",
              "0   1  ham          Subject: christmas tree farm pictures\\r\\n      0\n",
              "1   2  ham  Subject: vastar resources , inc .\\r\\ngary , pr...      0\n",
              "2   3  ham  Subject: calpine daily gas nomination\\r\\n- cal...      0\n",
              "3   4  ham  Subject: re : issue\\r\\nfyi - see note below - ...      0\n",
              "4   5  ham  Subject: meter 7268 nov allocation\\r\\nfyi .\\r\\...      0"
            ]
          },
          "metadata": {},
          "execution_count": 40
        }
      ]
    },
    {
      "cell_type": "markdown",
      "source": [
        "## Get Information of Dataframe "
      ],
      "metadata": {
        "id": "GojzAx_odyba"
      }
    },
    {
      "cell_type": "code",
      "source": [
        "df.info()"
      ],
      "metadata": {
        "colab": {
          "base_uri": "https://localhost:8080/"
        },
        "id": "9qerSLiEdxAt",
        "outputId": "7c4d2ee3-4a54-432c-ea3f-a10b2a03eb9d"
      },
      "execution_count": null,
      "outputs": [
        {
          "output_type": "stream",
          "name": "stdout",
          "text": [
            "<class 'pandas.core.frame.DataFrame'>\n",
            "RangeIndex: 5171 entries, 0 to 5170\n",
            "Data columns (total 4 columns):\n",
            " #   Column  Non-Null Count  Dtype \n",
            "---  ------  --------------  ----- \n",
            " 0   ID      5171 non-null   int64 \n",
            " 1   Mail    5171 non-null   object\n",
            " 2   Text    5171 non-null   object\n",
            " 3   Label   5171 non-null   int64 \n",
            "dtypes: int64(2), object(2)\n",
            "memory usage: 161.7+ KB\n"
          ]
        }
      ]
    },
    {
      "cell_type": "markdown",
      "source": [
        "## Get Column Names"
      ],
      "metadata": {
        "id": "Lh995oB4d6Ur"
      }
    },
    {
      "cell_type": "code",
      "source": [
        "df.columns"
      ],
      "metadata": {
        "colab": {
          "base_uri": "https://localhost:8080/"
        },
        "id": "CPc-mBvLeB0B",
        "outputId": "75d3aae0-b225-4aff-e1b8-6e063600a8b3"
      },
      "execution_count": null,
      "outputs": [
        {
          "output_type": "execute_result",
          "data": {
            "text/plain": [
              "Index(['ID', 'Mail', 'Text', 'Label'], dtype='object')"
            ]
          },
          "metadata": {},
          "execution_count": 42
        }
      ]
    },
    {
      "cell_type": "markdown",
      "source": [
        "## Get Shape of DataFrame"
      ],
      "metadata": {
        "id": "EmWqsT3MeJ1M"
      }
    },
    {
      "cell_type": "code",
      "source": [
        "df.shape"
      ],
      "metadata": {
        "colab": {
          "base_uri": "https://localhost:8080/"
        },
        "id": "cnj9pSbseQR9",
        "outputId": "9b216e80-f013-4aa4-b8cd-5eb7e926970d"
      },
      "execution_count": null,
      "outputs": [
        {
          "output_type": "execute_result",
          "data": {
            "text/plain": [
              "(5171, 4)"
            ]
          },
          "metadata": {},
          "execution_count": 43
        }
      ]
    },
    {
      "cell_type": "markdown",
      "source": [
        "## Define y (dependent variable) and X (independent variable )  "
      ],
      "metadata": {
        "id": "azMKTQl_eTI7"
      }
    },
    {
      "cell_type": "code",
      "source": [
        "y = df['Label']"
      ],
      "metadata": {
        "id": "v12W1fMMend0"
      },
      "execution_count": null,
      "outputs": []
    },
    {
      "cell_type": "code",
      "source": [
        "y.shape"
      ],
      "metadata": {
        "colab": {
          "base_uri": "https://localhost:8080/"
        },
        "id": "T3AcdWDfespx",
        "outputId": "999779f3-2973-426e-b1cb-c23209f7f9dc"
      },
      "execution_count": null,
      "outputs": [
        {
          "output_type": "execute_result",
          "data": {
            "text/plain": [
              "(5171,)"
            ]
          },
          "metadata": {},
          "execution_count": 45
        }
      ]
    },
    {
      "cell_type": "code",
      "source": [
        "y"
      ],
      "metadata": {
        "colab": {
          "base_uri": "https://localhost:8080/"
        },
        "id": "4JdZwzZSevFW",
        "outputId": "f47626b1-0cd3-4952-b213-73e0e104447b"
      },
      "execution_count": null,
      "outputs": [
        {
          "output_type": "execute_result",
          "data": {
            "text/plain": [
              "0       0\n",
              "1       0\n",
              "2       0\n",
              "3       0\n",
              "4       0\n",
              "       ..\n",
              "5166    1\n",
              "5167    1\n",
              "5168    1\n",
              "5169    1\n",
              "5170    1\n",
              "Name: Label, Length: 5171, dtype: int64"
            ]
          },
          "metadata": {},
          "execution_count": 46
        }
      ]
    },
    {
      "cell_type": "code",
      "source": [
        "X = df['Text']"
      ],
      "metadata": {
        "id": "kQIi0xSdezGj"
      },
      "execution_count": null,
      "outputs": []
    },
    {
      "cell_type": "code",
      "source": [
        "X.shape"
      ],
      "metadata": {
        "colab": {
          "base_uri": "https://localhost:8080/"
        },
        "id": "NIJSRfXfe2hf",
        "outputId": "b8113d3c-5565-43ae-a581-8db12979e1a5"
      },
      "execution_count": null,
      "outputs": [
        {
          "output_type": "execute_result",
          "data": {
            "text/plain": [
              "(5171,)"
            ]
          },
          "metadata": {},
          "execution_count": 48
        }
      ]
    },
    {
      "cell_type": "code",
      "source": [
        "X"
      ],
      "metadata": {
        "colab": {
          "base_uri": "https://localhost:8080/"
        },
        "id": "30Cm0Ux7e4_Y",
        "outputId": "298c3eee-9590-429f-cd0a-7222f465e96f"
      },
      "execution_count": null,
      "outputs": [
        {
          "output_type": "execute_result",
          "data": {
            "text/plain": [
              "0               Subject: christmas tree farm pictures\\r\\n\n",
              "1       Subject: vastar resources , inc .\\r\\ngary , pr...\n",
              "2       Subject: calpine daily gas nomination\\r\\n- cal...\n",
              "3       Subject: re : issue\\r\\nfyi - see note below - ...\n",
              "4       Subject: meter 7268 nov allocation\\r\\nfyi .\\r\\...\n",
              "                              ...                        \n",
              "5166    Subject: our pro - forma invoice attached\\r\\nd...\n",
              "5167    Subject: str _ rndlen ( 2 - 4 ) } { extra _ ti...\n",
              "5168    Subject: check me out !\\r\\n61 bb\\r\\nhey derm\\r...\n",
              "5169    Subject: hot jobs\\r\\nglobal marketing specialt...\n",
              "5170    Subject: save up to 89 % on ink + no shipping ...\n",
              "Name: Text, Length: 5171, dtype: object"
            ]
          },
          "metadata": {},
          "execution_count": 49
        }
      ]
    },
    {
      "cell_type": "markdown",
      "source": [
        "## Get Train Test Split "
      ],
      "metadata": {
        "id": "Bg5Yxpmee9IT"
      }
    },
    {
      "cell_type": "code",
      "source": [
        "from sklearn.model_selection import train_test_split"
      ],
      "metadata": {
        "id": "Zg0Uy86LfAVE"
      },
      "execution_count": null,
      "outputs": []
    },
    {
      "cell_type": "code",
      "source": [
        "X_train, X_test, y_train, y_test = train_test_split(X, y, test_size = 0.3 ,stratify = y, random_state = 2529)\n"
      ],
      "metadata": {
        "id": "6xLIGmkcfPxd"
      },
      "execution_count": null,
      "outputs": []
    },
    {
      "cell_type": "code",
      "source": [
        "X_train.shape, X_test.shape, y_train.shape, y_test.shape"
      ],
      "metadata": {
        "colab": {
          "base_uri": "https://localhost:8080/"
        },
        "id": "laGQe-ExfnGm",
        "outputId": "49e01d56-c8a4-432a-bbbe-7c98615f9a93"
      },
      "execution_count": null,
      "outputs": [
        {
          "output_type": "execute_result",
          "data": {
            "text/plain": [
              "((3619,), (1552,), (3619,), (1552,))"
            ]
          },
          "metadata": {},
          "execution_count": 52
        }
      ]
    },
    {
      "cell_type": "markdown",
      "source": [
        "## Get X variables Feature Extraction"
      ],
      "metadata": {
        "id": "CHfhoM7qgeZ3"
      }
    },
    {
      "cell_type": "markdown",
      "source": [
        "The sklearn.feature_extraction module can be used to extract features in a format supported by ML algorithms from datasets consisting of formats such as text and image "
      ],
      "metadata": {
        "id": "bd7S3Sr6gkIT"
      }
    },
    {
      "cell_type": "code",
      "source": [
        "from sklearn.feature_extraction.text import TfidfVectorizer"
      ],
      "metadata": {
        "id": "drEZVBTFhwxW"
      },
      "execution_count": null,
      "outputs": []
    },
    {
      "cell_type": "code",
      "source": [
        "tfidf = TfidfVectorizer(min_df = 1 ,stop_words = 'english',lowercase ='True')"
      ],
      "metadata": {
        "id": "MiwS-ukuh9UR"
      },
      "execution_count": null,
      "outputs": []
    },
    {
      "cell_type": "code",
      "source": [
        "X_train_features = tfidf.fit_transform(X_train)"
      ],
      "metadata": {
        "id": "O679jHESiNxx"
      },
      "execution_count": null,
      "outputs": []
    },
    {
      "cell_type": "code",
      "source": [
        "X_test_features = tfidf.transform(X_test)"
      ],
      "metadata": {
        "id": "PrSgAnxEiXbB"
      },
      "execution_count": null,
      "outputs": []
    },
    {
      "cell_type": "code",
      "source": [
        "X_train"
      ],
      "metadata": {
        "colab": {
          "base_uri": "https://localhost:8080/"
        },
        "id": "GemEgMtNijo6",
        "outputId": "61771126-2204-4133-d49a-ab1538b6ff6a"
      },
      "execution_count": null,
      "outputs": [
        {
          "output_type": "execute_result",
          "data": {
            "text/plain": [
              "4367    Subject: time sensitive . . . refer to # f 781...\n",
              "3849    Subject: homeowners - get more money in your p...\n",
              "2199    Subject: calpine daily gas nomination\\r\\n>\\r\\n...\n",
              "2057    Subject: holiday invitation\\r\\nplease click on...\n",
              "3019    Subject: first deliveries - comstock oil & gas...\n",
              "                              ...                        \n",
              "579     Subject: new update for buybacks\\r\\nthere are ...\n",
              "4280    Subject: get it free - ibm thinkpad computer !...\n",
              "3909    Subject: buckhorn doberman\\r\\nhello . i did no...\n",
              "2133    Subject: galleryfurniture . com bowl\\r\\nenron ...\n",
              "4508              Subject: want a new playstation 2 ?\\r\\n\n",
              "Name: Text, Length: 3619, dtype: object"
            ]
          },
          "metadata": {},
          "execution_count": 57
        }
      ]
    },
    {
      "cell_type": "code",
      "source": [
        "X_train_features"
      ],
      "metadata": {
        "colab": {
          "base_uri": "https://localhost:8080/"
        },
        "id": "byKxpHS4ioRR",
        "outputId": "2cb67553-44ba-40fa-962b-96125422dfd7"
      },
      "execution_count": null,
      "outputs": [
        {
          "output_type": "execute_result",
          "data": {
            "text/plain": [
              "<1552x40400 sparse matrix of type '<class 'numpy.float64'>'\n",
              "\twith 90723 stored elements in Compressed Sparse Row format>"
            ]
          },
          "metadata": {},
          "execution_count": 63
        }
      ]
    },
    {
      "cell_type": "markdown",
      "source": [
        "## Get Model Train"
      ],
      "metadata": {
        "id": "Ehf0f2yYiuyg"
      }
    },
    {
      "cell_type": "code",
      "source": [
        "from sklearn.ensemble import RandomForestClassifier"
      ],
      "metadata": {
        "id": "U9HktxFUiuZD"
      },
      "execution_count": null,
      "outputs": []
    },
    {
      "cell_type": "code",
      "source": [
        "rf = RandomForestClassifier(random_state=2529)"
      ],
      "metadata": {
        "id": "nSxvqpoTi-Fn"
      },
      "execution_count": null,
      "outputs": []
    },
    {
      "cell_type": "code",
      "source": [
        "rf.fit(X_train_features , y_train)"
      ],
      "metadata": {
        "colab": {
          "base_uri": "https://localhost:8080/"
        },
        "id": "CBrOxW9SjGfo",
        "outputId": "f6e0e3a2-d1bb-4f57-bdd3-522818c533c4"
      },
      "execution_count": null,
      "outputs": [
        {
          "output_type": "execute_result",
          "data": {
            "text/plain": [
              "RandomForestClassifier(random_state=2529)"
            ]
          },
          "metadata": {},
          "execution_count": 71
        }
      ]
    },
    {
      "cell_type": "markdown",
      "source": [
        "## Get Model Prediction "
      ],
      "metadata": {
        "id": "4IPwo0VXjcdV"
      }
    },
    {
      "cell_type": "code",
      "source": [
        "y_pred = rf.predict(X_test_features)"
      ],
      "metadata": {
        "id": "9fzU4jEcjcGh"
      },
      "execution_count": null,
      "outputs": []
    },
    {
      "cell_type": "code",
      "source": [
        "y_pred.shape"
      ],
      "metadata": {
        "colab": {
          "base_uri": "https://localhost:8080/"
        },
        "id": "TCKLMU9pkvsb",
        "outputId": "7e7ec755-a1ec-4123-9aa3-6500fac60d98"
      },
      "execution_count": null,
      "outputs": [
        {
          "output_type": "execute_result",
          "data": {
            "text/plain": [
              "(1552,)"
            ]
          },
          "metadata": {},
          "execution_count": 73
        }
      ]
    },
    {
      "cell_type": "code",
      "source": [
        "y_pred"
      ],
      "metadata": {
        "colab": {
          "base_uri": "https://localhost:8080/"
        },
        "id": "0yE3qzkXky9n",
        "outputId": "cd41f8e7-0bb6-4619-fa56-de9a5fd52a64"
      },
      "execution_count": null,
      "outputs": [
        {
          "output_type": "execute_result",
          "data": {
            "text/plain": [
              "array([0, 1, 0, ..., 1, 0, 0])"
            ]
          },
          "metadata": {},
          "execution_count": 74
        }
      ]
    },
    {
      "cell_type": "markdown",
      "source": [
        "## Get Probability of each predicted class "
      ],
      "metadata": {
        "id": "uTyM8nN5mmec"
      }
    },
    {
      "cell_type": "code",
      "source": [
        "rf.predict_proba(X_test_features)"
      ],
      "metadata": {
        "colab": {
          "base_uri": "https://localhost:8080/"
        },
        "id": "zKCjZsqJmror",
        "outputId": "b60bf553-51b7-43a2-f2ff-6cce6772a260"
      },
      "execution_count": null,
      "outputs": [
        {
          "output_type": "execute_result",
          "data": {
            "text/plain": [
              "array([[0.99, 0.01],\n",
              "       [0.1 , 0.9 ],\n",
              "       [0.72, 0.28],\n",
              "       ...,\n",
              "       [0.3 , 0.7 ],\n",
              "       [0.89, 0.11],\n",
              "       [0.68, 0.32]])"
            ]
          },
          "metadata": {},
          "execution_count": 75
        }
      ]
    },
    {
      "cell_type": "markdown",
      "source": [
        "## Get Model Evaluation "
      ],
      "metadata": {
        "id": "aPR1FAgqm0Na"
      }
    },
    {
      "cell_type": "code",
      "source": [
        "from sklearn.metrics import confusion_matrix , classification_report"
      ],
      "metadata": {
        "id": "apOt1vYXmzmP"
      },
      "execution_count": null,
      "outputs": []
    },
    {
      "cell_type": "code",
      "source": [
        "print(confusion_matrix(y_test,y_pred))"
      ],
      "metadata": {
        "colab": {
          "base_uri": "https://localhost:8080/"
        },
        "id": "0QaIPucdm_gt",
        "outputId": "d079d630-83f5-4da6-f9aa-e9e56fbc337f"
      },
      "execution_count": null,
      "outputs": [
        {
          "output_type": "stream",
          "name": "stdout",
          "text": [
            "[[1081   21]\n",
            " [  15  435]]\n"
          ]
        }
      ]
    },
    {
      "cell_type": "code",
      "source": [
        "print(classification_report(y_test,y_pred))"
      ],
      "metadata": {
        "colab": {
          "base_uri": "https://localhost:8080/"
        },
        "id": "9s8HIv4GnFfg",
        "outputId": "c740d8f9-4b27-4cc9-943d-5a16c175adc1"
      },
      "execution_count": null,
      "outputs": [
        {
          "output_type": "stream",
          "name": "stdout",
          "text": [
            "              precision    recall  f1-score   support\n",
            "\n",
            "           0       0.99      0.98      0.98      1102\n",
            "           1       0.95      0.97      0.96       450\n",
            "\n",
            "    accuracy                           0.98      1552\n",
            "   macro avg       0.97      0.97      0.97      1552\n",
            "weighted avg       0.98      0.98      0.98      1552\n",
            "\n"
          ]
        }
      ]
    }
  ]
}