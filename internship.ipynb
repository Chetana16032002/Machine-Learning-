{
  "nbformat": 4,
  "nbformat_minor": 0,
  "metadata": {
    "colab": {
      "name": "internship1.ipynb",
      "provenance": [],
      "collapsed_sections": []
    },
    "kernelspec": {
      "name": "python3",
      "display_name": "Python 3"
    },
    "language_info": {
      "name": "python"
    }
  },
  "cells": [
    {
      "cell_type": "markdown",
      "source": [
        "# Practise notebook internship \n"
      ],
      "metadata": {
        "id": "JEl9FJJgnsmd"
      }
    },
    {
      "cell_type": "markdown",
      "source": [
        "### session 2"
      ],
      "metadata": {
        "id": "-U3EQpGZY2a5"
      }
    },
    {
      "cell_type": "code",
      "source": [
        "import pandas as pd  # here pandas give us the data frame"
      ],
      "metadata": {
        "id": "Thhr1bxZf_d-"
      },
      "execution_count": null,
      "outputs": []
    },
    {
      "cell_type": "code",
      "source": [
        "import numpy as np # numpy is imported becoz in data we got some missing values "
      ],
      "metadata": {
        "id": "yYPHaLBJgL8Q"
      },
      "execution_count": null,
      "outputs": []
    },
    {
      "cell_type": "code",
      "source": [
        "df = pd.DataFrame({\n",
        "    \"Name\": [\"Hari\", \"Shyam\",\"Reema\", \"Bhadur\", \"Robin\", \"Arti\"],\n",
        "   \"Age\": [22, 35, 58, 18, 42, 39],\n",
        "   \"Gender\": [\"male\", \"male\", \"female\", \"male\", \"male\", \"female\" ],\n",
        "    \"Income\" : [100, 220 , 75, 35, 125, 190], \n",
        "    \"Car\" : [True, np.nan , True, False, True, False]}\n",
        "   )\n",
        "df"
      ],
      "metadata": {
        "colab": {
          "base_uri": "https://localhost:8080/",
          "height": 238
        },
        "id": "ulO_D-augYNV",
        "outputId": "0bb10c13-6dd7-44bd-9282-206368f13704"
      },
      "execution_count": null,
      "outputs": [
        {
          "output_type": "execute_result",
          "data": {
            "text/html": [
              "\n",
              "  <div id=\"df-ff4abc03-5435-4974-b041-b356174f6610\">\n",
              "    <div class=\"colab-df-container\">\n",
              "      <div>\n",
              "<style scoped>\n",
              "    .dataframe tbody tr th:only-of-type {\n",
              "        vertical-align: middle;\n",
              "    }\n",
              "\n",
              "    .dataframe tbody tr th {\n",
              "        vertical-align: top;\n",
              "    }\n",
              "\n",
              "    .dataframe thead th {\n",
              "        text-align: right;\n",
              "    }\n",
              "</style>\n",
              "<table border=\"1\" class=\"dataframe\">\n",
              "  <thead>\n",
              "    <tr style=\"text-align: right;\">\n",
              "      <th></th>\n",
              "      <th>Name</th>\n",
              "      <th>Age</th>\n",
              "      <th>Gender</th>\n",
              "      <th>Income</th>\n",
              "      <th>Car</th>\n",
              "    </tr>\n",
              "  </thead>\n",
              "  <tbody>\n",
              "    <tr>\n",
              "      <th>0</th>\n",
              "      <td>Hari</td>\n",
              "      <td>22</td>\n",
              "      <td>male</td>\n",
              "      <td>100</td>\n",
              "      <td>True</td>\n",
              "    </tr>\n",
              "    <tr>\n",
              "      <th>1</th>\n",
              "      <td>Shyam</td>\n",
              "      <td>35</td>\n",
              "      <td>male</td>\n",
              "      <td>220</td>\n",
              "      <td>NaN</td>\n",
              "    </tr>\n",
              "    <tr>\n",
              "      <th>2</th>\n",
              "      <td>Reema</td>\n",
              "      <td>58</td>\n",
              "      <td>female</td>\n",
              "      <td>75</td>\n",
              "      <td>True</td>\n",
              "    </tr>\n",
              "    <tr>\n",
              "      <th>3</th>\n",
              "      <td>Bhadur</td>\n",
              "      <td>18</td>\n",
              "      <td>male</td>\n",
              "      <td>35</td>\n",
              "      <td>False</td>\n",
              "    </tr>\n",
              "    <tr>\n",
              "      <th>4</th>\n",
              "      <td>Robin</td>\n",
              "      <td>42</td>\n",
              "      <td>male</td>\n",
              "      <td>125</td>\n",
              "      <td>True</td>\n",
              "    </tr>\n",
              "    <tr>\n",
              "      <th>5</th>\n",
              "      <td>Arti</td>\n",
              "      <td>39</td>\n",
              "      <td>female</td>\n",
              "      <td>190</td>\n",
              "      <td>False</td>\n",
              "    </tr>\n",
              "  </tbody>\n",
              "</table>\n",
              "</div>\n",
              "      <button class=\"colab-df-convert\" onclick=\"convertToInteractive('df-ff4abc03-5435-4974-b041-b356174f6610')\"\n",
              "              title=\"Convert this dataframe to an interactive table.\"\n",
              "              style=\"display:none;\">\n",
              "        \n",
              "  <svg xmlns=\"http://www.w3.org/2000/svg\" height=\"24px\"viewBox=\"0 0 24 24\"\n",
              "       width=\"24px\">\n",
              "    <path d=\"M0 0h24v24H0V0z\" fill=\"none\"/>\n",
              "    <path d=\"M18.56 5.44l.94 2.06.94-2.06 2.06-.94-2.06-.94-.94-2.06-.94 2.06-2.06.94zm-11 1L8.5 8.5l.94-2.06 2.06-.94-2.06-.94L8.5 2.5l-.94 2.06-2.06.94zm10 10l.94 2.06.94-2.06 2.06-.94-2.06-.94-.94-2.06-.94 2.06-2.06.94z\"/><path d=\"M17.41 7.96l-1.37-1.37c-.4-.4-.92-.59-1.43-.59-.52 0-1.04.2-1.43.59L10.3 9.45l-7.72 7.72c-.78.78-.78 2.05 0 2.83L4 21.41c.39.39.9.59 1.41.59.51 0 1.02-.2 1.41-.59l7.78-7.78 2.81-2.81c.8-.78.8-2.07 0-2.86zM5.41 20L4 18.59l7.72-7.72 1.47 1.35L5.41 20z\"/>\n",
              "  </svg>\n",
              "      </button>\n",
              "      \n",
              "  <style>\n",
              "    .colab-df-container {\n",
              "      display:flex;\n",
              "      flex-wrap:wrap;\n",
              "      gap: 12px;\n",
              "    }\n",
              "\n",
              "    .colab-df-convert {\n",
              "      background-color: #E8F0FE;\n",
              "      border: none;\n",
              "      border-radius: 50%;\n",
              "      cursor: pointer;\n",
              "      display: none;\n",
              "      fill: #1967D2;\n",
              "      height: 32px;\n",
              "      padding: 0 0 0 0;\n",
              "      width: 32px;\n",
              "    }\n",
              "\n",
              "    .colab-df-convert:hover {\n",
              "      background-color: #E2EBFA;\n",
              "      box-shadow: 0px 1px 2px rgba(60, 64, 67, 0.3), 0px 1px 3px 1px rgba(60, 64, 67, 0.15);\n",
              "      fill: #174EA6;\n",
              "    }\n",
              "\n",
              "    [theme=dark] .colab-df-convert {\n",
              "      background-color: #3B4455;\n",
              "      fill: #D2E3FC;\n",
              "    }\n",
              "\n",
              "    [theme=dark] .colab-df-convert:hover {\n",
              "      background-color: #434B5C;\n",
              "      box-shadow: 0px 1px 3px 1px rgba(0, 0, 0, 0.15);\n",
              "      filter: drop-shadow(0px 1px 2px rgba(0, 0, 0, 0.3));\n",
              "      fill: #FFFFFF;\n",
              "    }\n",
              "  </style>\n",
              "\n",
              "      <script>\n",
              "        const buttonEl =\n",
              "          document.querySelector('#df-ff4abc03-5435-4974-b041-b356174f6610 button.colab-df-convert');\n",
              "        buttonEl.style.display =\n",
              "          google.colab.kernel.accessAllowed ? 'block' : 'none';\n",
              "\n",
              "        async function convertToInteractive(key) {\n",
              "          const element = document.querySelector('#df-ff4abc03-5435-4974-b041-b356174f6610');\n",
              "          const dataTable =\n",
              "            await google.colab.kernel.invokeFunction('convertToInteractive',\n",
              "                                                     [key], {});\n",
              "          if (!dataTable) return;\n",
              "\n",
              "          const docLinkHtml = 'Like what you see? Visit the ' +\n",
              "            '<a target=\"_blank\" href=https://colab.research.google.com/notebooks/data_table.ipynb>data table notebook</a>'\n",
              "            + ' to learn more about interactive tables.';\n",
              "          element.innerHTML = '';\n",
              "          dataTable['output_type'] = 'display_data';\n",
              "          await google.colab.output.renderOutput(dataTable, element);\n",
              "          const docLink = document.createElement('div');\n",
              "          docLink.innerHTML = docLinkHtml;\n",
              "          element.appendChild(docLink);\n",
              "        }\n",
              "      </script>\n",
              "    </div>\n",
              "  </div>\n",
              "  "
            ],
            "text/plain": [
              "     Name  Age  Gender  Income    Car\n",
              "0    Hari   22    male     100   True\n",
              "1   Shyam   35    male     220    NaN\n",
              "2   Reema   58  female      75   True\n",
              "3  Bhadur   18    male      35  False\n",
              "4   Robin   42    male     125   True\n",
              "5    Arti   39  female     190  False"
            ]
          },
          "metadata": {},
          "execution_count": 4
        }
      ]
    },
    {
      "cell_type": "code",
      "source": [
        "df.info() #gives the info about missing values ,data types "
      ],
      "metadata": {
        "colab": {
          "base_uri": "https://localhost:8080/"
        },
        "id": "fkcR_VAagYZH",
        "outputId": "f7ec7eaa-3f3b-403b-a3be-4d719f2817a3"
      },
      "execution_count": null,
      "outputs": [
        {
          "output_type": "stream",
          "name": "stdout",
          "text": [
            "<class 'pandas.core.frame.DataFrame'>\n",
            "RangeIndex: 6 entries, 0 to 5\n",
            "Data columns (total 5 columns):\n",
            " #   Column  Non-Null Count  Dtype \n",
            "---  ------  --------------  ----- \n",
            " 0   Name    6 non-null      object\n",
            " 1   Age     6 non-null      int64 \n",
            " 2   Gender  6 non-null      object\n",
            " 3   Income  6 non-null      int64 \n",
            " 4   Car     5 non-null      object\n",
            "dtypes: int64(2), object(3)\n",
            "memory usage: 368.0+ bytes\n"
          ]
        }
      ]
    },
    {
      "cell_type": "markdown",
      "source": [
        "###### non null = not  missing values\n",
        "##### this implythat in the above table in car there are 5 values out of 6 i.e 1 value is missing \n",
        "\n",
        "##### range index = 0-5 i.e 6 rows => it has to be 6 non null other wise we can say that there are some missing values \n",
        "\n",
        "\n",
        "*   object=>string or text in pandas \n",
        "\n",
        "\n"
      ],
      "metadata": {
        "id": "vISwVnc1iMY2"
      }
    },
    {
      "cell_type": "code",
      "source": [
        "iris = pd.read_csv(r'https://github.com/YBI-Foundation/Dataset/raw/main/IRIS.csv')"
      ],
      "metadata": {
        "id": "gOh_nVwbL1-m"
      },
      "execution_count": null,
      "outputs": []
    },
    {
      "cell_type": "code",
      "source": [
        "iris.info() # here  iris which is bigger data frame than pandas is been imported \n",
        "            # this data set is abut the iris flower "
      ],
      "metadata": {
        "colab": {
          "base_uri": "https://localhost:8080/"
        },
        "id": "e6HoC--viJtt",
        "outputId": "403f3358-2d46-4fda-a52a-b0a03c088f1a"
      },
      "execution_count": null,
      "outputs": [
        {
          "output_type": "stream",
          "name": "stdout",
          "text": [
            "<class 'pandas.core.frame.DataFrame'>\n",
            "RangeIndex: 150 entries, 0 to 149\n",
            "Data columns (total 5 columns):\n",
            " #   Column        Non-Null Count  Dtype  \n",
            "---  ------        --------------  -----  \n",
            " 0   sepal_length  150 non-null    float64\n",
            " 1   sepal_width   150 non-null    float64\n",
            " 2   petal_length  150 non-null    float64\n",
            " 3   petal_width   150 non-null    float64\n",
            " 4   species       150 non-null    object \n",
            "dtypes: float64(4), object(1)\n",
            "memory usage: 6.0+ KB\n"
          ]
        }
      ]
    },
    {
      "cell_type": "markdown",
      "source": [
        "*   150 entries => 150 rows \n",
        "*   object => string \n",
        "*   all rows has 150 non - empty =>no value is missing\n"
      ],
      "metadata": {
        "id": "4_bYRCp1kKRO"
      }
    },
    {
      "cell_type": "code",
      "source": [
        "df.columns # gives list of names of each column"
      ],
      "metadata": {
        "colab": {
          "base_uri": "https://localhost:8080/"
        },
        "id": "zf4WdP5rky_T",
        "outputId": "d7c49cb9-744c-4b7a-cc1e-cb869994aed4"
      },
      "execution_count": null,
      "outputs": [
        {
          "output_type": "execute_result",
          "data": {
            "text/plain": [
              "Index(['Name', 'Age', 'Gender', 'Income', 'Car'], dtype='object')"
            ]
          },
          "metadata": {},
          "execution_count": 11
        }
      ]
    },
    {
      "cell_type": "code",
      "source": [
        " df.describe() # gives summary statistics i.e mean , median,mode "
      ],
      "metadata": {
        "colab": {
          "base_uri": "https://localhost:8080/",
          "height": 300
        },
        "id": "LfT2rsqTj36R",
        "outputId": "15f68ff2-b953-4ba1-9a96-f56c826ed4a8"
      },
      "execution_count": null,
      "outputs": [
        {
          "output_type": "execute_result",
          "data": {
            "text/html": [
              "\n",
              "  <div id=\"df-c22ab4f7-a41a-4fcd-a475-f61b829af519\">\n",
              "    <div class=\"colab-df-container\">\n",
              "      <div>\n",
              "<style scoped>\n",
              "    .dataframe tbody tr th:only-of-type {\n",
              "        vertical-align: middle;\n",
              "    }\n",
              "\n",
              "    .dataframe tbody tr th {\n",
              "        vertical-align: top;\n",
              "    }\n",
              "\n",
              "    .dataframe thead th {\n",
              "        text-align: right;\n",
              "    }\n",
              "</style>\n",
              "<table border=\"1\" class=\"dataframe\">\n",
              "  <thead>\n",
              "    <tr style=\"text-align: right;\">\n",
              "      <th></th>\n",
              "      <th>Age</th>\n",
              "      <th>Income</th>\n",
              "    </tr>\n",
              "  </thead>\n",
              "  <tbody>\n",
              "    <tr>\n",
              "      <th>count</th>\n",
              "      <td>6.000000</td>\n",
              "      <td>6.000000</td>\n",
              "    </tr>\n",
              "    <tr>\n",
              "      <th>mean</th>\n",
              "      <td>35.666667</td>\n",
              "      <td>124.166667</td>\n",
              "    </tr>\n",
              "    <tr>\n",
              "      <th>std</th>\n",
              "      <td>14.486776</td>\n",
              "      <td>69.958321</td>\n",
              "    </tr>\n",
              "    <tr>\n",
              "      <th>min</th>\n",
              "      <td>18.000000</td>\n",
              "      <td>35.000000</td>\n",
              "    </tr>\n",
              "    <tr>\n",
              "      <th>25%</th>\n",
              "      <td>25.250000</td>\n",
              "      <td>81.250000</td>\n",
              "    </tr>\n",
              "    <tr>\n",
              "      <th>50%</th>\n",
              "      <td>37.000000</td>\n",
              "      <td>112.500000</td>\n",
              "    </tr>\n",
              "    <tr>\n",
              "      <th>75%</th>\n",
              "      <td>41.250000</td>\n",
              "      <td>173.750000</td>\n",
              "    </tr>\n",
              "    <tr>\n",
              "      <th>max</th>\n",
              "      <td>58.000000</td>\n",
              "      <td>220.000000</td>\n",
              "    </tr>\n",
              "  </tbody>\n",
              "</table>\n",
              "</div>\n",
              "      <button class=\"colab-df-convert\" onclick=\"convertToInteractive('df-c22ab4f7-a41a-4fcd-a475-f61b829af519')\"\n",
              "              title=\"Convert this dataframe to an interactive table.\"\n",
              "              style=\"display:none;\">\n",
              "        \n",
              "  <svg xmlns=\"http://www.w3.org/2000/svg\" height=\"24px\"viewBox=\"0 0 24 24\"\n",
              "       width=\"24px\">\n",
              "    <path d=\"M0 0h24v24H0V0z\" fill=\"none\"/>\n",
              "    <path d=\"M18.56 5.44l.94 2.06.94-2.06 2.06-.94-2.06-.94-.94-2.06-.94 2.06-2.06.94zm-11 1L8.5 8.5l.94-2.06 2.06-.94-2.06-.94L8.5 2.5l-.94 2.06-2.06.94zm10 10l.94 2.06.94-2.06 2.06-.94-2.06-.94-.94-2.06-.94 2.06-2.06.94z\"/><path d=\"M17.41 7.96l-1.37-1.37c-.4-.4-.92-.59-1.43-.59-.52 0-1.04.2-1.43.59L10.3 9.45l-7.72 7.72c-.78.78-.78 2.05 0 2.83L4 21.41c.39.39.9.59 1.41.59.51 0 1.02-.2 1.41-.59l7.78-7.78 2.81-2.81c.8-.78.8-2.07 0-2.86zM5.41 20L4 18.59l7.72-7.72 1.47 1.35L5.41 20z\"/>\n",
              "  </svg>\n",
              "      </button>\n",
              "      \n",
              "  <style>\n",
              "    .colab-df-container {\n",
              "      display:flex;\n",
              "      flex-wrap:wrap;\n",
              "      gap: 12px;\n",
              "    }\n",
              "\n",
              "    .colab-df-convert {\n",
              "      background-color: #E8F0FE;\n",
              "      border: none;\n",
              "      border-radius: 50%;\n",
              "      cursor: pointer;\n",
              "      display: none;\n",
              "      fill: #1967D2;\n",
              "      height: 32px;\n",
              "      padding: 0 0 0 0;\n",
              "      width: 32px;\n",
              "    }\n",
              "\n",
              "    .colab-df-convert:hover {\n",
              "      background-color: #E2EBFA;\n",
              "      box-shadow: 0px 1px 2px rgba(60, 64, 67, 0.3), 0px 1px 3px 1px rgba(60, 64, 67, 0.15);\n",
              "      fill: #174EA6;\n",
              "    }\n",
              "\n",
              "    [theme=dark] .colab-df-convert {\n",
              "      background-color: #3B4455;\n",
              "      fill: #D2E3FC;\n",
              "    }\n",
              "\n",
              "    [theme=dark] .colab-df-convert:hover {\n",
              "      background-color: #434B5C;\n",
              "      box-shadow: 0px 1px 3px 1px rgba(0, 0, 0, 0.15);\n",
              "      filter: drop-shadow(0px 1px 2px rgba(0, 0, 0, 0.3));\n",
              "      fill: #FFFFFF;\n",
              "    }\n",
              "  </style>\n",
              "\n",
              "      <script>\n",
              "        const buttonEl =\n",
              "          document.querySelector('#df-c22ab4f7-a41a-4fcd-a475-f61b829af519 button.colab-df-convert');\n",
              "        buttonEl.style.display =\n",
              "          google.colab.kernel.accessAllowed ? 'block' : 'none';\n",
              "\n",
              "        async function convertToInteractive(key) {\n",
              "          const element = document.querySelector('#df-c22ab4f7-a41a-4fcd-a475-f61b829af519');\n",
              "          const dataTable =\n",
              "            await google.colab.kernel.invokeFunction('convertToInteractive',\n",
              "                                                     [key], {});\n",
              "          if (!dataTable) return;\n",
              "\n",
              "          const docLinkHtml = 'Like what you see? Visit the ' +\n",
              "            '<a target=\"_blank\" href=https://colab.research.google.com/notebooks/data_table.ipynb>data table notebook</a>'\n",
              "            + ' to learn more about interactive tables.';\n",
              "          element.innerHTML = '';\n",
              "          dataTable['output_type'] = 'display_data';\n",
              "          await google.colab.output.renderOutput(dataTable, element);\n",
              "          const docLink = document.createElement('div');\n",
              "          docLink.innerHTML = docLinkHtml;\n",
              "          element.appendChild(docLink);\n",
              "        }\n",
              "      </script>\n",
              "    </div>\n",
              "  </div>\n",
              "  "
            ],
            "text/plain": [
              "             Age      Income\n",
              "count   6.000000    6.000000\n",
              "mean   35.666667  124.166667\n",
              "std    14.486776   69.958321\n",
              "min    18.000000   35.000000\n",
              "25%    25.250000   81.250000\n",
              "50%    37.000000  112.500000\n",
              "75%    41.250000  173.750000\n",
              "max    58.000000  220.000000"
            ]
          },
          "metadata": {},
          "execution_count": 10
        }
      ]
    },
    {
      "cell_type": "markdown",
      "source": [
        "here there are only 2 columns "
      ],
      "metadata": {
        "id": "bdegqZMSlFjg"
      }
    },
    {
      "cell_type": "code",
      "source": [
        "df.describe(include = 'all') #includes all the columns not like above "
      ],
      "metadata": {
        "colab": {
          "base_uri": "https://localhost:8080/",
          "height": 394
        },
        "id": "CdA3xPOcj1OZ",
        "outputId": "70790169-d289-4907-ff11-e20244e12f23"
      },
      "execution_count": null,
      "outputs": [
        {
          "output_type": "execute_result",
          "data": {
            "text/html": [
              "\n",
              "  <div id=\"df-5c701cf7-069e-425e-9e75-0444cf2bfa46\">\n",
              "    <div class=\"colab-df-container\">\n",
              "      <div>\n",
              "<style scoped>\n",
              "    .dataframe tbody tr th:only-of-type {\n",
              "        vertical-align: middle;\n",
              "    }\n",
              "\n",
              "    .dataframe tbody tr th {\n",
              "        vertical-align: top;\n",
              "    }\n",
              "\n",
              "    .dataframe thead th {\n",
              "        text-align: right;\n",
              "    }\n",
              "</style>\n",
              "<table border=\"1\" class=\"dataframe\">\n",
              "  <thead>\n",
              "    <tr style=\"text-align: right;\">\n",
              "      <th></th>\n",
              "      <th>Name</th>\n",
              "      <th>Age</th>\n",
              "      <th>Gender</th>\n",
              "      <th>Income</th>\n",
              "      <th>Car</th>\n",
              "    </tr>\n",
              "  </thead>\n",
              "  <tbody>\n",
              "    <tr>\n",
              "      <th>count</th>\n",
              "      <td>6</td>\n",
              "      <td>6.000000</td>\n",
              "      <td>6</td>\n",
              "      <td>6.000000</td>\n",
              "      <td>5</td>\n",
              "    </tr>\n",
              "    <tr>\n",
              "      <th>unique</th>\n",
              "      <td>6</td>\n",
              "      <td>NaN</td>\n",
              "      <td>2</td>\n",
              "      <td>NaN</td>\n",
              "      <td>2</td>\n",
              "    </tr>\n",
              "    <tr>\n",
              "      <th>top</th>\n",
              "      <td>Hari</td>\n",
              "      <td>NaN</td>\n",
              "      <td>male</td>\n",
              "      <td>NaN</td>\n",
              "      <td>True</td>\n",
              "    </tr>\n",
              "    <tr>\n",
              "      <th>freq</th>\n",
              "      <td>1</td>\n",
              "      <td>NaN</td>\n",
              "      <td>4</td>\n",
              "      <td>NaN</td>\n",
              "      <td>3</td>\n",
              "    </tr>\n",
              "    <tr>\n",
              "      <th>mean</th>\n",
              "      <td>NaN</td>\n",
              "      <td>35.666667</td>\n",
              "      <td>NaN</td>\n",
              "      <td>124.166667</td>\n",
              "      <td>NaN</td>\n",
              "    </tr>\n",
              "    <tr>\n",
              "      <th>std</th>\n",
              "      <td>NaN</td>\n",
              "      <td>14.486776</td>\n",
              "      <td>NaN</td>\n",
              "      <td>69.958321</td>\n",
              "      <td>NaN</td>\n",
              "    </tr>\n",
              "    <tr>\n",
              "      <th>min</th>\n",
              "      <td>NaN</td>\n",
              "      <td>18.000000</td>\n",
              "      <td>NaN</td>\n",
              "      <td>35.000000</td>\n",
              "      <td>NaN</td>\n",
              "    </tr>\n",
              "    <tr>\n",
              "      <th>25%</th>\n",
              "      <td>NaN</td>\n",
              "      <td>25.250000</td>\n",
              "      <td>NaN</td>\n",
              "      <td>81.250000</td>\n",
              "      <td>NaN</td>\n",
              "    </tr>\n",
              "    <tr>\n",
              "      <th>50%</th>\n",
              "      <td>NaN</td>\n",
              "      <td>37.000000</td>\n",
              "      <td>NaN</td>\n",
              "      <td>112.500000</td>\n",
              "      <td>NaN</td>\n",
              "    </tr>\n",
              "    <tr>\n",
              "      <th>75%</th>\n",
              "      <td>NaN</td>\n",
              "      <td>41.250000</td>\n",
              "      <td>NaN</td>\n",
              "      <td>173.750000</td>\n",
              "      <td>NaN</td>\n",
              "    </tr>\n",
              "    <tr>\n",
              "      <th>max</th>\n",
              "      <td>NaN</td>\n",
              "      <td>58.000000</td>\n",
              "      <td>NaN</td>\n",
              "      <td>220.000000</td>\n",
              "      <td>NaN</td>\n",
              "    </tr>\n",
              "  </tbody>\n",
              "</table>\n",
              "</div>\n",
              "      <button class=\"colab-df-convert\" onclick=\"convertToInteractive('df-5c701cf7-069e-425e-9e75-0444cf2bfa46')\"\n",
              "              title=\"Convert this dataframe to an interactive table.\"\n",
              "              style=\"display:none;\">\n",
              "        \n",
              "  <svg xmlns=\"http://www.w3.org/2000/svg\" height=\"24px\"viewBox=\"0 0 24 24\"\n",
              "       width=\"24px\">\n",
              "    <path d=\"M0 0h24v24H0V0z\" fill=\"none\"/>\n",
              "    <path d=\"M18.56 5.44l.94 2.06.94-2.06 2.06-.94-2.06-.94-.94-2.06-.94 2.06-2.06.94zm-11 1L8.5 8.5l.94-2.06 2.06-.94-2.06-.94L8.5 2.5l-.94 2.06-2.06.94zm10 10l.94 2.06.94-2.06 2.06-.94-2.06-.94-.94-2.06-.94 2.06-2.06.94z\"/><path d=\"M17.41 7.96l-1.37-1.37c-.4-.4-.92-.59-1.43-.59-.52 0-1.04.2-1.43.59L10.3 9.45l-7.72 7.72c-.78.78-.78 2.05 0 2.83L4 21.41c.39.39.9.59 1.41.59.51 0 1.02-.2 1.41-.59l7.78-7.78 2.81-2.81c.8-.78.8-2.07 0-2.86zM5.41 20L4 18.59l7.72-7.72 1.47 1.35L5.41 20z\"/>\n",
              "  </svg>\n",
              "      </button>\n",
              "      \n",
              "  <style>\n",
              "    .colab-df-container {\n",
              "      display:flex;\n",
              "      flex-wrap:wrap;\n",
              "      gap: 12px;\n",
              "    }\n",
              "\n",
              "    .colab-df-convert {\n",
              "      background-color: #E8F0FE;\n",
              "      border: none;\n",
              "      border-radius: 50%;\n",
              "      cursor: pointer;\n",
              "      display: none;\n",
              "      fill: #1967D2;\n",
              "      height: 32px;\n",
              "      padding: 0 0 0 0;\n",
              "      width: 32px;\n",
              "    }\n",
              "\n",
              "    .colab-df-convert:hover {\n",
              "      background-color: #E2EBFA;\n",
              "      box-shadow: 0px 1px 2px rgba(60, 64, 67, 0.3), 0px 1px 3px 1px rgba(60, 64, 67, 0.15);\n",
              "      fill: #174EA6;\n",
              "    }\n",
              "\n",
              "    [theme=dark] .colab-df-convert {\n",
              "      background-color: #3B4455;\n",
              "      fill: #D2E3FC;\n",
              "    }\n",
              "\n",
              "    [theme=dark] .colab-df-convert:hover {\n",
              "      background-color: #434B5C;\n",
              "      box-shadow: 0px 1px 3px 1px rgba(0, 0, 0, 0.15);\n",
              "      filter: drop-shadow(0px 1px 2px rgba(0, 0, 0, 0.3));\n",
              "      fill: #FFFFFF;\n",
              "    }\n",
              "  </style>\n",
              "\n",
              "      <script>\n",
              "        const buttonEl =\n",
              "          document.querySelector('#df-5c701cf7-069e-425e-9e75-0444cf2bfa46 button.colab-df-convert');\n",
              "        buttonEl.style.display =\n",
              "          google.colab.kernel.accessAllowed ? 'block' : 'none';\n",
              "\n",
              "        async function convertToInteractive(key) {\n",
              "          const element = document.querySelector('#df-5c701cf7-069e-425e-9e75-0444cf2bfa46');\n",
              "          const dataTable =\n",
              "            await google.colab.kernel.invokeFunction('convertToInteractive',\n",
              "                                                     [key], {});\n",
              "          if (!dataTable) return;\n",
              "\n",
              "          const docLinkHtml = 'Like what you see? Visit the ' +\n",
              "            '<a target=\"_blank\" href=https://colab.research.google.com/notebooks/data_table.ipynb>data table notebook</a>'\n",
              "            + ' to learn more about interactive tables.';\n",
              "          element.innerHTML = '';\n",
              "          dataTable['output_type'] = 'display_data';\n",
              "          await google.colab.output.renderOutput(dataTable, element);\n",
              "          const docLink = document.createElement('div');\n",
              "          docLink.innerHTML = docLinkHtml;\n",
              "          element.appendChild(docLink);\n",
              "        }\n",
              "      </script>\n",
              "    </div>\n",
              "  </div>\n",
              "  "
            ],
            "text/plain": [
              "        Name        Age Gender      Income   Car\n",
              "count      6   6.000000      6    6.000000     5\n",
              "unique     6        NaN      2         NaN     2\n",
              "top     Hari        NaN   male         NaN  True\n",
              "freq       1        NaN      4         NaN     3\n",
              "mean     NaN  35.666667    NaN  124.166667   NaN\n",
              "std      NaN  14.486776    NaN   69.958321   NaN\n",
              "min      NaN  18.000000    NaN   35.000000   NaN\n",
              "25%      NaN  25.250000    NaN   81.250000   NaN\n",
              "50%      NaN  37.000000    NaN  112.500000   NaN\n",
              "75%      NaN  41.250000    NaN  173.750000   NaN\n",
              "max      NaN  58.000000    NaN  220.000000   NaN"
            ]
          },
          "metadata": {},
          "execution_count": 13
        }
      ]
    },
    {
      "cell_type": "markdown",
      "source": [
        "for a string there cannot be mean ,std ,min.. that is why most of the values in the above table were missing \n",
        "\n",
        "here 25,50,75 % are quartiles q1,q2,q3 i.e  q1=>1st quartile ,q2=>median,q3=>3rd\n",
        "quartile"
      ],
      "metadata": {
        "id": "s32-68jsl4Vy"
      }
    },
    {
      "cell_type": "code",
      "source": [
        "df"
      ],
      "metadata": {
        "colab": {
          "base_uri": "https://localhost:8080/",
          "height": 238
        },
        "id": "Gc7uJvJdmE1B",
        "outputId": "ab394394-dbae-484f-dd9d-de2aed201876"
      },
      "execution_count": null,
      "outputs": [
        {
          "output_type": "execute_result",
          "data": {
            "text/html": [
              "\n",
              "  <div id=\"df-acc169b1-df27-4876-917a-5bd651dab22c\">\n",
              "    <div class=\"colab-df-container\">\n",
              "      <div>\n",
              "<style scoped>\n",
              "    .dataframe tbody tr th:only-of-type {\n",
              "        vertical-align: middle;\n",
              "    }\n",
              "\n",
              "    .dataframe tbody tr th {\n",
              "        vertical-align: top;\n",
              "    }\n",
              "\n",
              "    .dataframe thead th {\n",
              "        text-align: right;\n",
              "    }\n",
              "</style>\n",
              "<table border=\"1\" class=\"dataframe\">\n",
              "  <thead>\n",
              "    <tr style=\"text-align: right;\">\n",
              "      <th></th>\n",
              "      <th>Name</th>\n",
              "      <th>Age</th>\n",
              "      <th>Gender</th>\n",
              "      <th>Income</th>\n",
              "      <th>Car</th>\n",
              "    </tr>\n",
              "  </thead>\n",
              "  <tbody>\n",
              "    <tr>\n",
              "      <th>0</th>\n",
              "      <td>Hari</td>\n",
              "      <td>22</td>\n",
              "      <td>male</td>\n",
              "      <td>100</td>\n",
              "      <td>True</td>\n",
              "    </tr>\n",
              "    <tr>\n",
              "      <th>1</th>\n",
              "      <td>Shyam</td>\n",
              "      <td>35</td>\n",
              "      <td>male</td>\n",
              "      <td>220</td>\n",
              "      <td>NaN</td>\n",
              "    </tr>\n",
              "    <tr>\n",
              "      <th>2</th>\n",
              "      <td>Reema</td>\n",
              "      <td>58</td>\n",
              "      <td>female</td>\n",
              "      <td>75</td>\n",
              "      <td>True</td>\n",
              "    </tr>\n",
              "    <tr>\n",
              "      <th>3</th>\n",
              "      <td>Bhadur</td>\n",
              "      <td>18</td>\n",
              "      <td>male</td>\n",
              "      <td>35</td>\n",
              "      <td>False</td>\n",
              "    </tr>\n",
              "    <tr>\n",
              "      <th>4</th>\n",
              "      <td>Robin</td>\n",
              "      <td>42</td>\n",
              "      <td>male</td>\n",
              "      <td>125</td>\n",
              "      <td>True</td>\n",
              "    </tr>\n",
              "    <tr>\n",
              "      <th>5</th>\n",
              "      <td>Arti</td>\n",
              "      <td>39</td>\n",
              "      <td>female</td>\n",
              "      <td>190</td>\n",
              "      <td>False</td>\n",
              "    </tr>\n",
              "  </tbody>\n",
              "</table>\n",
              "</div>\n",
              "      <button class=\"colab-df-convert\" onclick=\"convertToInteractive('df-acc169b1-df27-4876-917a-5bd651dab22c')\"\n",
              "              title=\"Convert this dataframe to an interactive table.\"\n",
              "              style=\"display:none;\">\n",
              "        \n",
              "  <svg xmlns=\"http://www.w3.org/2000/svg\" height=\"24px\"viewBox=\"0 0 24 24\"\n",
              "       width=\"24px\">\n",
              "    <path d=\"M0 0h24v24H0V0z\" fill=\"none\"/>\n",
              "    <path d=\"M18.56 5.44l.94 2.06.94-2.06 2.06-.94-2.06-.94-.94-2.06-.94 2.06-2.06.94zm-11 1L8.5 8.5l.94-2.06 2.06-.94-2.06-.94L8.5 2.5l-.94 2.06-2.06.94zm10 10l.94 2.06.94-2.06 2.06-.94-2.06-.94-.94-2.06-.94 2.06-2.06.94z\"/><path d=\"M17.41 7.96l-1.37-1.37c-.4-.4-.92-.59-1.43-.59-.52 0-1.04.2-1.43.59L10.3 9.45l-7.72 7.72c-.78.78-.78 2.05 0 2.83L4 21.41c.39.39.9.59 1.41.59.51 0 1.02-.2 1.41-.59l7.78-7.78 2.81-2.81c.8-.78.8-2.07 0-2.86zM5.41 20L4 18.59l7.72-7.72 1.47 1.35L5.41 20z\"/>\n",
              "  </svg>\n",
              "      </button>\n",
              "      \n",
              "  <style>\n",
              "    .colab-df-container {\n",
              "      display:flex;\n",
              "      flex-wrap:wrap;\n",
              "      gap: 12px;\n",
              "    }\n",
              "\n",
              "    .colab-df-convert {\n",
              "      background-color: #E8F0FE;\n",
              "      border: none;\n",
              "      border-radius: 50%;\n",
              "      cursor: pointer;\n",
              "      display: none;\n",
              "      fill: #1967D2;\n",
              "      height: 32px;\n",
              "      padding: 0 0 0 0;\n",
              "      width: 32px;\n",
              "    }\n",
              "\n",
              "    .colab-df-convert:hover {\n",
              "      background-color: #E2EBFA;\n",
              "      box-shadow: 0px 1px 2px rgba(60, 64, 67, 0.3), 0px 1px 3px 1px rgba(60, 64, 67, 0.15);\n",
              "      fill: #174EA6;\n",
              "    }\n",
              "\n",
              "    [theme=dark] .colab-df-convert {\n",
              "      background-color: #3B4455;\n",
              "      fill: #D2E3FC;\n",
              "    }\n",
              "\n",
              "    [theme=dark] .colab-df-convert:hover {\n",
              "      background-color: #434B5C;\n",
              "      box-shadow: 0px 1px 3px 1px rgba(0, 0, 0, 0.15);\n",
              "      filter: drop-shadow(0px 1px 2px rgba(0, 0, 0, 0.3));\n",
              "      fill: #FFFFFF;\n",
              "    }\n",
              "  </style>\n",
              "\n",
              "      <script>\n",
              "        const buttonEl =\n",
              "          document.querySelector('#df-acc169b1-df27-4876-917a-5bd651dab22c button.colab-df-convert');\n",
              "        buttonEl.style.display =\n",
              "          google.colab.kernel.accessAllowed ? 'block' : 'none';\n",
              "\n",
              "        async function convertToInteractive(key) {\n",
              "          const element = document.querySelector('#df-acc169b1-df27-4876-917a-5bd651dab22c');\n",
              "          const dataTable =\n",
              "            await google.colab.kernel.invokeFunction('convertToInteractive',\n",
              "                                                     [key], {});\n",
              "          if (!dataTable) return;\n",
              "\n",
              "          const docLinkHtml = 'Like what you see? Visit the ' +\n",
              "            '<a target=\"_blank\" href=https://colab.research.google.com/notebooks/data_table.ipynb>data table notebook</a>'\n",
              "            + ' to learn more about interactive tables.';\n",
              "          element.innerHTML = '';\n",
              "          dataTable['output_type'] = 'display_data';\n",
              "          await google.colab.output.renderOutput(dataTable, element);\n",
              "          const docLink = document.createElement('div');\n",
              "          docLink.innerHTML = docLinkHtml;\n",
              "          element.appendChild(docLink);\n",
              "        }\n",
              "      </script>\n",
              "    </div>\n",
              "  </div>\n",
              "  "
            ],
            "text/plain": [
              "     Name  Age  Gender  Income    Car\n",
              "0    Hari   22    male     100   True\n",
              "1   Shyam   35    male     220    NaN\n",
              "2   Reema   58  female      75   True\n",
              "3  Bhadur   18    male      35  False\n",
              "4   Robin   42    male     125   True\n",
              "5    Arti   39  female     190  False"
            ]
          },
          "metadata": {},
          "execution_count": 14
        }
      ]
    },
    {
      "cell_type": "markdown",
      "source": [
        "*   we want to extractthe column gender \n"
      ],
      "metadata": {
        "id": "Cjl0geeYnfDn"
      }
    },
    {
      "cell_type": "code",
      "source": [
        "df['Gender']"
      ],
      "metadata": {
        "colab": {
          "base_uri": "https://localhost:8080/"
        },
        "id": "qyG5skWDnuBg",
        "outputId": "705a2527-0485-4cb2-b561-648a1e690280"
      },
      "execution_count": null,
      "outputs": [
        {
          "output_type": "execute_result",
          "data": {
            "text/plain": [
              "0      male\n",
              "1      male\n",
              "2    female\n",
              "3      male\n",
              "4      male\n",
              "5    female\n",
              "Name: Gender, dtype: object"
            ]
          },
          "metadata": {},
          "execution_count": 17
        }
      ]
    },
    {
      "cell_type": "markdown",
      "source": [
        "shape of the data frame => no.o f rows ,columns \n"
      ],
      "metadata": {
        "id": "LxpAEyTdqXEg"
      }
    },
    {
      "cell_type": "code",
      "source": [
        "df.shape \n"
      ],
      "metadata": {
        "colab": {
          "base_uri": "https://localhost:8080/"
        },
        "id": "WOJrkheWnjQL",
        "outputId": "4d7e59aa-8000-4e65-ba86-dea995774371"
      },
      "execution_count": null,
      "outputs": [
        {
          "output_type": "execute_result",
          "data": {
            "text/plain": [
              "(6, 5)"
            ]
          },
          "metadata": {},
          "execution_count": 18
        }
      ]
    },
    {
      "cell_type": "markdown",
      "source": [
        "6,5 => 6 rows and 5 columns "
      ],
      "metadata": {
        "id": "otzyVltlqgZv"
      }
    },
    {
      "cell_type": "code",
      "source": [
        "df['Gender'] # we have to pass information as a list "
      ],
      "metadata": {
        "colab": {
          "base_uri": "https://localhost:8080/"
        },
        "id": "3fom3Ee9ql1a",
        "outputId": "7e11eabe-f7f8-411f-80a8-103af2250c18"
      },
      "execution_count": null,
      "outputs": [
        {
          "output_type": "execute_result",
          "data": {
            "text/plain": [
              "0      male\n",
              "1      male\n",
              "2    female\n",
              "3      male\n",
              "4      male\n",
              "5    female\n",
              "Name: Gender, dtype: object"
            ]
          },
          "metadata": {},
          "execution_count": 19
        }
      ]
    },
    {
      "cell_type": "code",
      "source": [
        "df['Gender'].shape # to derive the shape of the gender column"
      ],
      "metadata": {
        "colab": {
          "base_uri": "https://localhost:8080/"
        },
        "id": "gU1WGzdNq2bY",
        "outputId": "00c64512-fa60-422e-f412-3c0bfca489c8"
      },
      "execution_count": null,
      "outputs": [
        {
          "output_type": "execute_result",
          "data": {
            "text/plain": [
              "(6,)"
            ]
          },
          "metadata": {},
          "execution_count": 20
        }
      ]
    },
    {
      "cell_type": "markdown",
      "source": [
        "(6,) => 6 rows and 0 columns \n",
        "when you are extracting a column using a single bracket you are converting the column vector into a row vector  \n",
        "\n",
        "->here '.' dot is used to link the function 'shape' '.' acts like a chain\n",
        "\n",
        "->only df mean that display data frame\n",
        "\n",
        "->df.shape=>apply shape function on df \n"
      ],
      "metadata": {
        "id": "xrccOc2nrFaE"
      }
    },
    {
      "cell_type": "code",
      "source": [
        "df[['Gender']]"
      ],
      "metadata": {
        "colab": {
          "base_uri": "https://localhost:8080/",
          "height": 238
        },
        "id": "L8145Y-HrmgC",
        "outputId": "e81cfc11-d652-4711-f921-c7f675836912"
      },
      "execution_count": null,
      "outputs": [
        {
          "output_type": "execute_result",
          "data": {
            "text/html": [
              "\n",
              "  <div id=\"df-d8fc9224-d520-42eb-9e7d-03a865e7e178\">\n",
              "    <div class=\"colab-df-container\">\n",
              "      <div>\n",
              "<style scoped>\n",
              "    .dataframe tbody tr th:only-of-type {\n",
              "        vertical-align: middle;\n",
              "    }\n",
              "\n",
              "    .dataframe tbody tr th {\n",
              "        vertical-align: top;\n",
              "    }\n",
              "\n",
              "    .dataframe thead th {\n",
              "        text-align: right;\n",
              "    }\n",
              "</style>\n",
              "<table border=\"1\" class=\"dataframe\">\n",
              "  <thead>\n",
              "    <tr style=\"text-align: right;\">\n",
              "      <th></th>\n",
              "      <th>Gender</th>\n",
              "    </tr>\n",
              "  </thead>\n",
              "  <tbody>\n",
              "    <tr>\n",
              "      <th>0</th>\n",
              "      <td>male</td>\n",
              "    </tr>\n",
              "    <tr>\n",
              "      <th>1</th>\n",
              "      <td>male</td>\n",
              "    </tr>\n",
              "    <tr>\n",
              "      <th>2</th>\n",
              "      <td>female</td>\n",
              "    </tr>\n",
              "    <tr>\n",
              "      <th>3</th>\n",
              "      <td>male</td>\n",
              "    </tr>\n",
              "    <tr>\n",
              "      <th>4</th>\n",
              "      <td>male</td>\n",
              "    </tr>\n",
              "    <tr>\n",
              "      <th>5</th>\n",
              "      <td>female</td>\n",
              "    </tr>\n",
              "  </tbody>\n",
              "</table>\n",
              "</div>\n",
              "      <button class=\"colab-df-convert\" onclick=\"convertToInteractive('df-d8fc9224-d520-42eb-9e7d-03a865e7e178')\"\n",
              "              title=\"Convert this dataframe to an interactive table.\"\n",
              "              style=\"display:none;\">\n",
              "        \n",
              "  <svg xmlns=\"http://www.w3.org/2000/svg\" height=\"24px\"viewBox=\"0 0 24 24\"\n",
              "       width=\"24px\">\n",
              "    <path d=\"M0 0h24v24H0V0z\" fill=\"none\"/>\n",
              "    <path d=\"M18.56 5.44l.94 2.06.94-2.06 2.06-.94-2.06-.94-.94-2.06-.94 2.06-2.06.94zm-11 1L8.5 8.5l.94-2.06 2.06-.94-2.06-.94L8.5 2.5l-.94 2.06-2.06.94zm10 10l.94 2.06.94-2.06 2.06-.94-2.06-.94-.94-2.06-.94 2.06-2.06.94z\"/><path d=\"M17.41 7.96l-1.37-1.37c-.4-.4-.92-.59-1.43-.59-.52 0-1.04.2-1.43.59L10.3 9.45l-7.72 7.72c-.78.78-.78 2.05 0 2.83L4 21.41c.39.39.9.59 1.41.59.51 0 1.02-.2 1.41-.59l7.78-7.78 2.81-2.81c.8-.78.8-2.07 0-2.86zM5.41 20L4 18.59l7.72-7.72 1.47 1.35L5.41 20z\"/>\n",
              "  </svg>\n",
              "      </button>\n",
              "      \n",
              "  <style>\n",
              "    .colab-df-container {\n",
              "      display:flex;\n",
              "      flex-wrap:wrap;\n",
              "      gap: 12px;\n",
              "    }\n",
              "\n",
              "    .colab-df-convert {\n",
              "      background-color: #E8F0FE;\n",
              "      border: none;\n",
              "      border-radius: 50%;\n",
              "      cursor: pointer;\n",
              "      display: none;\n",
              "      fill: #1967D2;\n",
              "      height: 32px;\n",
              "      padding: 0 0 0 0;\n",
              "      width: 32px;\n",
              "    }\n",
              "\n",
              "    .colab-df-convert:hover {\n",
              "      background-color: #E2EBFA;\n",
              "      box-shadow: 0px 1px 2px rgba(60, 64, 67, 0.3), 0px 1px 3px 1px rgba(60, 64, 67, 0.15);\n",
              "      fill: #174EA6;\n",
              "    }\n",
              "\n",
              "    [theme=dark] .colab-df-convert {\n",
              "      background-color: #3B4455;\n",
              "      fill: #D2E3FC;\n",
              "    }\n",
              "\n",
              "    [theme=dark] .colab-df-convert:hover {\n",
              "      background-color: #434B5C;\n",
              "      box-shadow: 0px 1px 3px 1px rgba(0, 0, 0, 0.15);\n",
              "      filter: drop-shadow(0px 1px 2px rgba(0, 0, 0, 0.3));\n",
              "      fill: #FFFFFF;\n",
              "    }\n",
              "  </style>\n",
              "\n",
              "      <script>\n",
              "        const buttonEl =\n",
              "          document.querySelector('#df-d8fc9224-d520-42eb-9e7d-03a865e7e178 button.colab-df-convert');\n",
              "        buttonEl.style.display =\n",
              "          google.colab.kernel.accessAllowed ? 'block' : 'none';\n",
              "\n",
              "        async function convertToInteractive(key) {\n",
              "          const element = document.querySelector('#df-d8fc9224-d520-42eb-9e7d-03a865e7e178');\n",
              "          const dataTable =\n",
              "            await google.colab.kernel.invokeFunction('convertToInteractive',\n",
              "                                                     [key], {});\n",
              "          if (!dataTable) return;\n",
              "\n",
              "          const docLinkHtml = 'Like what you see? Visit the ' +\n",
              "            '<a target=\"_blank\" href=https://colab.research.google.com/notebooks/data_table.ipynb>data table notebook</a>'\n",
              "            + ' to learn more about interactive tables.';\n",
              "          element.innerHTML = '';\n",
              "          dataTable['output_type'] = 'display_data';\n",
              "          await google.colab.output.renderOutput(dataTable, element);\n",
              "          const docLink = document.createElement('div');\n",
              "          docLink.innerHTML = docLinkHtml;\n",
              "          element.appendChild(docLink);\n",
              "        }\n",
              "      </script>\n",
              "    </div>\n",
              "  </div>\n",
              "  "
            ],
            "text/plain": [
              "   Gender\n",
              "0    male\n",
              "1    male\n",
              "2  female\n",
              "3    male\n",
              "4    male\n",
              "5  female"
            ]
          },
          "metadata": {},
          "execution_count": 23
        }
      ]
    },
    {
      "cell_type": "code",
      "source": [
        "df[['Gender']].shape"
      ],
      "metadata": {
        "colab": {
          "base_uri": "https://localhost:8080/"
        },
        "id": "yqzV_Mc5sjpU",
        "outputId": "73714bbc-5d8c-4993-c862-92e2db6277e7"
      },
      "execution_count": null,
      "outputs": [
        {
          "output_type": "execute_result",
          "data": {
            "text/plain": [
              "(6, 1)"
            ]
          },
          "metadata": {},
          "execution_count": 24
        }
      ]
    },
    {
      "cell_type": "markdown",
      "source": [
        "here becoz of using double bracket we didinot convert column vector to row vector and now the column counts "
      ],
      "metadata": {
        "id": "TGjPbEXcsqxU"
      }
    },
    {
      "cell_type": "code",
      "source": [
        "df[['Name','Gender']]"
      ],
      "metadata": {
        "colab": {
          "base_uri": "https://localhost:8080/",
          "height": 238
        },
        "id": "-u2HeqGuso9q",
        "outputId": "6e86600c-b2b6-46bd-f7c3-bed4ca933652"
      },
      "execution_count": null,
      "outputs": [
        {
          "output_type": "execute_result",
          "data": {
            "text/html": [
              "\n",
              "  <div id=\"df-d8830fba-6be9-4fb6-be45-df560c9adcbe\">\n",
              "    <div class=\"colab-df-container\">\n",
              "      <div>\n",
              "<style scoped>\n",
              "    .dataframe tbody tr th:only-of-type {\n",
              "        vertical-align: middle;\n",
              "    }\n",
              "\n",
              "    .dataframe tbody tr th {\n",
              "        vertical-align: top;\n",
              "    }\n",
              "\n",
              "    .dataframe thead th {\n",
              "        text-align: right;\n",
              "    }\n",
              "</style>\n",
              "<table border=\"1\" class=\"dataframe\">\n",
              "  <thead>\n",
              "    <tr style=\"text-align: right;\">\n",
              "      <th></th>\n",
              "      <th>Name</th>\n",
              "      <th>Gender</th>\n",
              "    </tr>\n",
              "  </thead>\n",
              "  <tbody>\n",
              "    <tr>\n",
              "      <th>0</th>\n",
              "      <td>Hari</td>\n",
              "      <td>male</td>\n",
              "    </tr>\n",
              "    <tr>\n",
              "      <th>1</th>\n",
              "      <td>Shyam</td>\n",
              "      <td>male</td>\n",
              "    </tr>\n",
              "    <tr>\n",
              "      <th>2</th>\n",
              "      <td>Reema</td>\n",
              "      <td>female</td>\n",
              "    </tr>\n",
              "    <tr>\n",
              "      <th>3</th>\n",
              "      <td>Bhadur</td>\n",
              "      <td>male</td>\n",
              "    </tr>\n",
              "    <tr>\n",
              "      <th>4</th>\n",
              "      <td>Robin</td>\n",
              "      <td>male</td>\n",
              "    </tr>\n",
              "    <tr>\n",
              "      <th>5</th>\n",
              "      <td>Arti</td>\n",
              "      <td>female</td>\n",
              "    </tr>\n",
              "  </tbody>\n",
              "</table>\n",
              "</div>\n",
              "      <button class=\"colab-df-convert\" onclick=\"convertToInteractive('df-d8830fba-6be9-4fb6-be45-df560c9adcbe')\"\n",
              "              title=\"Convert this dataframe to an interactive table.\"\n",
              "              style=\"display:none;\">\n",
              "        \n",
              "  <svg xmlns=\"http://www.w3.org/2000/svg\" height=\"24px\"viewBox=\"0 0 24 24\"\n",
              "       width=\"24px\">\n",
              "    <path d=\"M0 0h24v24H0V0z\" fill=\"none\"/>\n",
              "    <path d=\"M18.56 5.44l.94 2.06.94-2.06 2.06-.94-2.06-.94-.94-2.06-.94 2.06-2.06.94zm-11 1L8.5 8.5l.94-2.06 2.06-.94-2.06-.94L8.5 2.5l-.94 2.06-2.06.94zm10 10l.94 2.06.94-2.06 2.06-.94-2.06-.94-.94-2.06-.94 2.06-2.06.94z\"/><path d=\"M17.41 7.96l-1.37-1.37c-.4-.4-.92-.59-1.43-.59-.52 0-1.04.2-1.43.59L10.3 9.45l-7.72 7.72c-.78.78-.78 2.05 0 2.83L4 21.41c.39.39.9.59 1.41.59.51 0 1.02-.2 1.41-.59l7.78-7.78 2.81-2.81c.8-.78.8-2.07 0-2.86zM5.41 20L4 18.59l7.72-7.72 1.47 1.35L5.41 20z\"/>\n",
              "  </svg>\n",
              "      </button>\n",
              "      \n",
              "  <style>\n",
              "    .colab-df-container {\n",
              "      display:flex;\n",
              "      flex-wrap:wrap;\n",
              "      gap: 12px;\n",
              "    }\n",
              "\n",
              "    .colab-df-convert {\n",
              "      background-color: #E8F0FE;\n",
              "      border: none;\n",
              "      border-radius: 50%;\n",
              "      cursor: pointer;\n",
              "      display: none;\n",
              "      fill: #1967D2;\n",
              "      height: 32px;\n",
              "      padding: 0 0 0 0;\n",
              "      width: 32px;\n",
              "    }\n",
              "\n",
              "    .colab-df-convert:hover {\n",
              "      background-color: #E2EBFA;\n",
              "      box-shadow: 0px 1px 2px rgba(60, 64, 67, 0.3), 0px 1px 3px 1px rgba(60, 64, 67, 0.15);\n",
              "      fill: #174EA6;\n",
              "    }\n",
              "\n",
              "    [theme=dark] .colab-df-convert {\n",
              "      background-color: #3B4455;\n",
              "      fill: #D2E3FC;\n",
              "    }\n",
              "\n",
              "    [theme=dark] .colab-df-convert:hover {\n",
              "      background-color: #434B5C;\n",
              "      box-shadow: 0px 1px 3px 1px rgba(0, 0, 0, 0.15);\n",
              "      filter: drop-shadow(0px 1px 2px rgba(0, 0, 0, 0.3));\n",
              "      fill: #FFFFFF;\n",
              "    }\n",
              "  </style>\n",
              "\n",
              "      <script>\n",
              "        const buttonEl =\n",
              "          document.querySelector('#df-d8830fba-6be9-4fb6-be45-df560c9adcbe button.colab-df-convert');\n",
              "        buttonEl.style.display =\n",
              "          google.colab.kernel.accessAllowed ? 'block' : 'none';\n",
              "\n",
              "        async function convertToInteractive(key) {\n",
              "          const element = document.querySelector('#df-d8830fba-6be9-4fb6-be45-df560c9adcbe');\n",
              "          const dataTable =\n",
              "            await google.colab.kernel.invokeFunction('convertToInteractive',\n",
              "                                                     [key], {});\n",
              "          if (!dataTable) return;\n",
              "\n",
              "          const docLinkHtml = 'Like what you see? Visit the ' +\n",
              "            '<a target=\"_blank\" href=https://colab.research.google.com/notebooks/data_table.ipynb>data table notebook</a>'\n",
              "            + ' to learn more about interactive tables.';\n",
              "          element.innerHTML = '';\n",
              "          dataTable['output_type'] = 'display_data';\n",
              "          await google.colab.output.renderOutput(dataTable, element);\n",
              "          const docLink = document.createElement('div');\n",
              "          docLink.innerHTML = docLinkHtml;\n",
              "          element.appendChild(docLink);\n",
              "        }\n",
              "      </script>\n",
              "    </div>\n",
              "  </div>\n",
              "  "
            ],
            "text/plain": [
              "     Name  Gender\n",
              "0    Hari    male\n",
              "1   Shyam    male\n",
              "2   Reema  female\n",
              "3  Bhadur    male\n",
              "4   Robin    male\n",
              "5    Arti  female"
            ]
          },
          "metadata": {},
          "execution_count": 25
        }
      ]
    },
    {
      "cell_type": "markdown",
      "source": [
        "  Extract gender before name \n",
        "  \n",
        "  ->in what ever sequence you write you extract data in that sequence "
      ],
      "metadata": {
        "id": "GelGMCcztlO3"
      }
    },
    {
      "cell_type": "code",
      "source": [
        "df[['Gender','Name']]"
      ],
      "metadata": {
        "colab": {
          "base_uri": "https://localhost:8080/",
          "height": 238
        },
        "id": "CXegAH3Ktq8F",
        "outputId": "5dfe8ee1-b31e-4ca6-af32-f79c63d5c529"
      },
      "execution_count": null,
      "outputs": [
        {
          "output_type": "execute_result",
          "data": {
            "text/html": [
              "\n",
              "  <div id=\"df-6acfa7da-4a14-4156-b0f9-8a2a2664531d\">\n",
              "    <div class=\"colab-df-container\">\n",
              "      <div>\n",
              "<style scoped>\n",
              "    .dataframe tbody tr th:only-of-type {\n",
              "        vertical-align: middle;\n",
              "    }\n",
              "\n",
              "    .dataframe tbody tr th {\n",
              "        vertical-align: top;\n",
              "    }\n",
              "\n",
              "    .dataframe thead th {\n",
              "        text-align: right;\n",
              "    }\n",
              "</style>\n",
              "<table border=\"1\" class=\"dataframe\">\n",
              "  <thead>\n",
              "    <tr style=\"text-align: right;\">\n",
              "      <th></th>\n",
              "      <th>Gender</th>\n",
              "      <th>Name</th>\n",
              "    </tr>\n",
              "  </thead>\n",
              "  <tbody>\n",
              "    <tr>\n",
              "      <th>0</th>\n",
              "      <td>male</td>\n",
              "      <td>Hari</td>\n",
              "    </tr>\n",
              "    <tr>\n",
              "      <th>1</th>\n",
              "      <td>male</td>\n",
              "      <td>Shyam</td>\n",
              "    </tr>\n",
              "    <tr>\n",
              "      <th>2</th>\n",
              "      <td>female</td>\n",
              "      <td>Reema</td>\n",
              "    </tr>\n",
              "    <tr>\n",
              "      <th>3</th>\n",
              "      <td>male</td>\n",
              "      <td>Bhadur</td>\n",
              "    </tr>\n",
              "    <tr>\n",
              "      <th>4</th>\n",
              "      <td>male</td>\n",
              "      <td>Robin</td>\n",
              "    </tr>\n",
              "    <tr>\n",
              "      <th>5</th>\n",
              "      <td>female</td>\n",
              "      <td>Arti</td>\n",
              "    </tr>\n",
              "  </tbody>\n",
              "</table>\n",
              "</div>\n",
              "      <button class=\"colab-df-convert\" onclick=\"convertToInteractive('df-6acfa7da-4a14-4156-b0f9-8a2a2664531d')\"\n",
              "              title=\"Convert this dataframe to an interactive table.\"\n",
              "              style=\"display:none;\">\n",
              "        \n",
              "  <svg xmlns=\"http://www.w3.org/2000/svg\" height=\"24px\"viewBox=\"0 0 24 24\"\n",
              "       width=\"24px\">\n",
              "    <path d=\"M0 0h24v24H0V0z\" fill=\"none\"/>\n",
              "    <path d=\"M18.56 5.44l.94 2.06.94-2.06 2.06-.94-2.06-.94-.94-2.06-.94 2.06-2.06.94zm-11 1L8.5 8.5l.94-2.06 2.06-.94-2.06-.94L8.5 2.5l-.94 2.06-2.06.94zm10 10l.94 2.06.94-2.06 2.06-.94-2.06-.94-.94-2.06-.94 2.06-2.06.94z\"/><path d=\"M17.41 7.96l-1.37-1.37c-.4-.4-.92-.59-1.43-.59-.52 0-1.04.2-1.43.59L10.3 9.45l-7.72 7.72c-.78.78-.78 2.05 0 2.83L4 21.41c.39.39.9.59 1.41.59.51 0 1.02-.2 1.41-.59l7.78-7.78 2.81-2.81c.8-.78.8-2.07 0-2.86zM5.41 20L4 18.59l7.72-7.72 1.47 1.35L5.41 20z\"/>\n",
              "  </svg>\n",
              "      </button>\n",
              "      \n",
              "  <style>\n",
              "    .colab-df-container {\n",
              "      display:flex;\n",
              "      flex-wrap:wrap;\n",
              "      gap: 12px;\n",
              "    }\n",
              "\n",
              "    .colab-df-convert {\n",
              "      background-color: #E8F0FE;\n",
              "      border: none;\n",
              "      border-radius: 50%;\n",
              "      cursor: pointer;\n",
              "      display: none;\n",
              "      fill: #1967D2;\n",
              "      height: 32px;\n",
              "      padding: 0 0 0 0;\n",
              "      width: 32px;\n",
              "    }\n",
              "\n",
              "    .colab-df-convert:hover {\n",
              "      background-color: #E2EBFA;\n",
              "      box-shadow: 0px 1px 2px rgba(60, 64, 67, 0.3), 0px 1px 3px 1px rgba(60, 64, 67, 0.15);\n",
              "      fill: #174EA6;\n",
              "    }\n",
              "\n",
              "    [theme=dark] .colab-df-convert {\n",
              "      background-color: #3B4455;\n",
              "      fill: #D2E3FC;\n",
              "    }\n",
              "\n",
              "    [theme=dark] .colab-df-convert:hover {\n",
              "      background-color: #434B5C;\n",
              "      box-shadow: 0px 1px 3px 1px rgba(0, 0, 0, 0.15);\n",
              "      filter: drop-shadow(0px 1px 2px rgba(0, 0, 0, 0.3));\n",
              "      fill: #FFFFFF;\n",
              "    }\n",
              "  </style>\n",
              "\n",
              "      <script>\n",
              "        const buttonEl =\n",
              "          document.querySelector('#df-6acfa7da-4a14-4156-b0f9-8a2a2664531d button.colab-df-convert');\n",
              "        buttonEl.style.display =\n",
              "          google.colab.kernel.accessAllowed ? 'block' : 'none';\n",
              "\n",
              "        async function convertToInteractive(key) {\n",
              "          const element = document.querySelector('#df-6acfa7da-4a14-4156-b0f9-8a2a2664531d');\n",
              "          const dataTable =\n",
              "            await google.colab.kernel.invokeFunction('convertToInteractive',\n",
              "                                                     [key], {});\n",
              "          if (!dataTable) return;\n",
              "\n",
              "          const docLinkHtml = 'Like what you see? Visit the ' +\n",
              "            '<a target=\"_blank\" href=https://colab.research.google.com/notebooks/data_table.ipynb>data table notebook</a>'\n",
              "            + ' to learn more about interactive tables.';\n",
              "          element.innerHTML = '';\n",
              "          dataTable['output_type'] = 'display_data';\n",
              "          await google.colab.output.renderOutput(dataTable, element);\n",
              "          const docLink = document.createElement('div');\n",
              "          docLink.innerHTML = docLinkHtml;\n",
              "          element.appendChild(docLink);\n",
              "        }\n",
              "      </script>\n",
              "    </div>\n",
              "  </div>\n",
              "  "
            ],
            "text/plain": [
              "   Gender    Name\n",
              "0    male    Hari\n",
              "1    male   Shyam\n",
              "2  female   Reema\n",
              "3    male  Bhadur\n",
              "4    male   Robin\n",
              "5  female    Arti"
            ]
          },
          "metadata": {},
          "execution_count": 26
        }
      ]
    },
    {
      "cell_type": "markdown",
      "source": [
        "functions =>.*loc*,.iloc\n",
        "\n",
        "i    = index\n",
        "\n",
        "loc  = label"
      ],
      "metadata": {
        "id": "OrO3jxeBud7f"
      }
    },
    {
      "cell_type": "code",
      "source": [
        " df"
      ],
      "metadata": {
        "colab": {
          "base_uri": "https://localhost:8080/",
          "height": 238
        },
        "id": "UAMyuGbSt_gL",
        "outputId": "55c92975-c6b7-486a-ad70-cb3a8b256185"
      },
      "execution_count": null,
      "outputs": [
        {
          "output_type": "execute_result",
          "data": {
            "text/html": [
              "\n",
              "  <div id=\"df-3ce981e7-f3fc-4c85-98ca-61d615b1d971\">\n",
              "    <div class=\"colab-df-container\">\n",
              "      <div>\n",
              "<style scoped>\n",
              "    .dataframe tbody tr th:only-of-type {\n",
              "        vertical-align: middle;\n",
              "    }\n",
              "\n",
              "    .dataframe tbody tr th {\n",
              "        vertical-align: top;\n",
              "    }\n",
              "\n",
              "    .dataframe thead th {\n",
              "        text-align: right;\n",
              "    }\n",
              "</style>\n",
              "<table border=\"1\" class=\"dataframe\">\n",
              "  <thead>\n",
              "    <tr style=\"text-align: right;\">\n",
              "      <th></th>\n",
              "      <th>Name</th>\n",
              "      <th>Age</th>\n",
              "      <th>Gender</th>\n",
              "      <th>Income</th>\n",
              "      <th>Car</th>\n",
              "    </tr>\n",
              "  </thead>\n",
              "  <tbody>\n",
              "    <tr>\n",
              "      <th>0</th>\n",
              "      <td>Hari</td>\n",
              "      <td>22</td>\n",
              "      <td>male</td>\n",
              "      <td>100</td>\n",
              "      <td>True</td>\n",
              "    </tr>\n",
              "    <tr>\n",
              "      <th>1</th>\n",
              "      <td>Shyam</td>\n",
              "      <td>35</td>\n",
              "      <td>male</td>\n",
              "      <td>220</td>\n",
              "      <td>NaN</td>\n",
              "    </tr>\n",
              "    <tr>\n",
              "      <th>2</th>\n",
              "      <td>Reema</td>\n",
              "      <td>58</td>\n",
              "      <td>female</td>\n",
              "      <td>75</td>\n",
              "      <td>True</td>\n",
              "    </tr>\n",
              "    <tr>\n",
              "      <th>3</th>\n",
              "      <td>Bhadur</td>\n",
              "      <td>18</td>\n",
              "      <td>male</td>\n",
              "      <td>35</td>\n",
              "      <td>False</td>\n",
              "    </tr>\n",
              "    <tr>\n",
              "      <th>4</th>\n",
              "      <td>Robin</td>\n",
              "      <td>42</td>\n",
              "      <td>male</td>\n",
              "      <td>125</td>\n",
              "      <td>True</td>\n",
              "    </tr>\n",
              "    <tr>\n",
              "      <th>5</th>\n",
              "      <td>Arti</td>\n",
              "      <td>39</td>\n",
              "      <td>female</td>\n",
              "      <td>190</td>\n",
              "      <td>False</td>\n",
              "    </tr>\n",
              "  </tbody>\n",
              "</table>\n",
              "</div>\n",
              "      <button class=\"colab-df-convert\" onclick=\"convertToInteractive('df-3ce981e7-f3fc-4c85-98ca-61d615b1d971')\"\n",
              "              title=\"Convert this dataframe to an interactive table.\"\n",
              "              style=\"display:none;\">\n",
              "        \n",
              "  <svg xmlns=\"http://www.w3.org/2000/svg\" height=\"24px\"viewBox=\"0 0 24 24\"\n",
              "       width=\"24px\">\n",
              "    <path d=\"M0 0h24v24H0V0z\" fill=\"none\"/>\n",
              "    <path d=\"M18.56 5.44l.94 2.06.94-2.06 2.06-.94-2.06-.94-.94-2.06-.94 2.06-2.06.94zm-11 1L8.5 8.5l.94-2.06 2.06-.94-2.06-.94L8.5 2.5l-.94 2.06-2.06.94zm10 10l.94 2.06.94-2.06 2.06-.94-2.06-.94-.94-2.06-.94 2.06-2.06.94z\"/><path d=\"M17.41 7.96l-1.37-1.37c-.4-.4-.92-.59-1.43-.59-.52 0-1.04.2-1.43.59L10.3 9.45l-7.72 7.72c-.78.78-.78 2.05 0 2.83L4 21.41c.39.39.9.59 1.41.59.51 0 1.02-.2 1.41-.59l7.78-7.78 2.81-2.81c.8-.78.8-2.07 0-2.86zM5.41 20L4 18.59l7.72-7.72 1.47 1.35L5.41 20z\"/>\n",
              "  </svg>\n",
              "      </button>\n",
              "      \n",
              "  <style>\n",
              "    .colab-df-container {\n",
              "      display:flex;\n",
              "      flex-wrap:wrap;\n",
              "      gap: 12px;\n",
              "    }\n",
              "\n",
              "    .colab-df-convert {\n",
              "      background-color: #E8F0FE;\n",
              "      border: none;\n",
              "      border-radius: 50%;\n",
              "      cursor: pointer;\n",
              "      display: none;\n",
              "      fill: #1967D2;\n",
              "      height: 32px;\n",
              "      padding: 0 0 0 0;\n",
              "      width: 32px;\n",
              "    }\n",
              "\n",
              "    .colab-df-convert:hover {\n",
              "      background-color: #E2EBFA;\n",
              "      box-shadow: 0px 1px 2px rgba(60, 64, 67, 0.3), 0px 1px 3px 1px rgba(60, 64, 67, 0.15);\n",
              "      fill: #174EA6;\n",
              "    }\n",
              "\n",
              "    [theme=dark] .colab-df-convert {\n",
              "      background-color: #3B4455;\n",
              "      fill: #D2E3FC;\n",
              "    }\n",
              "\n",
              "    [theme=dark] .colab-df-convert:hover {\n",
              "      background-color: #434B5C;\n",
              "      box-shadow: 0px 1px 3px 1px rgba(0, 0, 0, 0.15);\n",
              "      filter: drop-shadow(0px 1px 2px rgba(0, 0, 0, 0.3));\n",
              "      fill: #FFFFFF;\n",
              "    }\n",
              "  </style>\n",
              "\n",
              "      <script>\n",
              "        const buttonEl =\n",
              "          document.querySelector('#df-3ce981e7-f3fc-4c85-98ca-61d615b1d971 button.colab-df-convert');\n",
              "        buttonEl.style.display =\n",
              "          google.colab.kernel.accessAllowed ? 'block' : 'none';\n",
              "\n",
              "        async function convertToInteractive(key) {\n",
              "          const element = document.querySelector('#df-3ce981e7-f3fc-4c85-98ca-61d615b1d971');\n",
              "          const dataTable =\n",
              "            await google.colab.kernel.invokeFunction('convertToInteractive',\n",
              "                                                     [key], {});\n",
              "          if (!dataTable) return;\n",
              "\n",
              "          const docLinkHtml = 'Like what you see? Visit the ' +\n",
              "            '<a target=\"_blank\" href=https://colab.research.google.com/notebooks/data_table.ipynb>data table notebook</a>'\n",
              "            + ' to learn more about interactive tables.';\n",
              "          element.innerHTML = '';\n",
              "          dataTable['output_type'] = 'display_data';\n",
              "          await google.colab.output.renderOutput(dataTable, element);\n",
              "          const docLink = document.createElement('div');\n",
              "          docLink.innerHTML = docLinkHtml;\n",
              "          element.appendChild(docLink);\n",
              "        }\n",
              "      </script>\n",
              "    </div>\n",
              "  </div>\n",
              "  "
            ],
            "text/plain": [
              "     Name  Age  Gender  Income    Car\n",
              "0    Hari   22    male     100   True\n",
              "1   Shyam   35    male     220    NaN\n",
              "2   Reema   58  female      75   True\n",
              "3  Bhadur   18    male      35  False\n",
              "4   Robin   42    male     125   True\n",
              "5    Arti   39  female     190  False"
            ]
          },
          "metadata": {},
          "execution_count": 27
        }
      ]
    },
    {
      "cell_type": "markdown",
      "source": [
        "here our rows and columns has index , label(name)"
      ],
      "metadata": {
        "id": "2IQAV25avQ1V"
      }
    },
    {
      "cell_type": "code",
      "source": [
        "df.info()"
      ],
      "metadata": {
        "colab": {
          "base_uri": "https://localhost:8080/"
        },
        "id": "MBDIiXzvvfmB",
        "outputId": "6f35bf6f-8a03-41dc-8b59-0733d9e348bc"
      },
      "execution_count": null,
      "outputs": [
        {
          "output_type": "stream",
          "name": "stdout",
          "text": [
            "<class 'pandas.core.frame.DataFrame'>\n",
            "RangeIndex: 6 entries, 0 to 5\n",
            "Data columns (total 5 columns):\n",
            " #   Column  Non-Null Count  Dtype \n",
            "---  ------  --------------  ----- \n",
            " 0   Name    6 non-null      object\n",
            " 1   Age     6 non-null      int64 \n",
            " 2   Gender  6 non-null      object\n",
            " 3   Income  6 non-null      int64 \n",
            " 4   Car     5 non-null      object\n",
            "dtypes: int64(2), object(3)\n",
            "memory usage: 368.0+ bytes\n"
          ]
        }
      ]
    },
    {
      "cell_type": "markdown",
      "source": [
        "-> #=>number \n",
        "- here our column has number (# having 0,1,2,3,4) also label (name ,age ,gender )\n",
        "- Rows also have index and label\n"
      ],
      "metadata": {
        "id": "jUIt8pQHvvSY"
      }
    },
    {
      "cell_type": "markdown",
      "source": [
        "- .loc function works on label \n",
        "   \n",
        "    start     :        end\n",
        "\n",
        "   (included)  (included)\n",
        "- .iloc function works  on index \n",
        "\n",
        "    start     :      end\n",
        "\n",
        "   (included)  (Not included)"
      ],
      "metadata": {
        "id": "njMYP-SSwxen"
      }
    },
    {
      "cell_type": "code",
      "source": [
        "df"
      ],
      "metadata": {
        "colab": {
          "base_uri": "https://localhost:8080/",
          "height": 238
        },
        "id": "kmSs2OCNwwog",
        "outputId": "28e0afe2-33db-4b51-f4ab-5f80e54ad603"
      },
      "execution_count": null,
      "outputs": [
        {
          "output_type": "execute_result",
          "data": {
            "text/html": [
              "\n",
              "  <div id=\"df-6c89c181-6196-499c-a4b8-485a3bf642d8\">\n",
              "    <div class=\"colab-df-container\">\n",
              "      <div>\n",
              "<style scoped>\n",
              "    .dataframe tbody tr th:only-of-type {\n",
              "        vertical-align: middle;\n",
              "    }\n",
              "\n",
              "    .dataframe tbody tr th {\n",
              "        vertical-align: top;\n",
              "    }\n",
              "\n",
              "    .dataframe thead th {\n",
              "        text-align: right;\n",
              "    }\n",
              "</style>\n",
              "<table border=\"1\" class=\"dataframe\">\n",
              "  <thead>\n",
              "    <tr style=\"text-align: right;\">\n",
              "      <th></th>\n",
              "      <th>Name</th>\n",
              "      <th>Age</th>\n",
              "      <th>Gender</th>\n",
              "      <th>Income</th>\n",
              "      <th>Car</th>\n",
              "    </tr>\n",
              "  </thead>\n",
              "  <tbody>\n",
              "    <tr>\n",
              "      <th>0</th>\n",
              "      <td>Hari</td>\n",
              "      <td>22</td>\n",
              "      <td>male</td>\n",
              "      <td>100</td>\n",
              "      <td>True</td>\n",
              "    </tr>\n",
              "    <tr>\n",
              "      <th>1</th>\n",
              "      <td>Shyam</td>\n",
              "      <td>35</td>\n",
              "      <td>male</td>\n",
              "      <td>220</td>\n",
              "      <td>NaN</td>\n",
              "    </tr>\n",
              "    <tr>\n",
              "      <th>2</th>\n",
              "      <td>Reema</td>\n",
              "      <td>58</td>\n",
              "      <td>female</td>\n",
              "      <td>75</td>\n",
              "      <td>True</td>\n",
              "    </tr>\n",
              "    <tr>\n",
              "      <th>3</th>\n",
              "      <td>Bhadur</td>\n",
              "      <td>18</td>\n",
              "      <td>male</td>\n",
              "      <td>35</td>\n",
              "      <td>False</td>\n",
              "    </tr>\n",
              "    <tr>\n",
              "      <th>4</th>\n",
              "      <td>Robin</td>\n",
              "      <td>42</td>\n",
              "      <td>male</td>\n",
              "      <td>125</td>\n",
              "      <td>True</td>\n",
              "    </tr>\n",
              "    <tr>\n",
              "      <th>5</th>\n",
              "      <td>Arti</td>\n",
              "      <td>39</td>\n",
              "      <td>female</td>\n",
              "      <td>190</td>\n",
              "      <td>False</td>\n",
              "    </tr>\n",
              "  </tbody>\n",
              "</table>\n",
              "</div>\n",
              "      <button class=\"colab-df-convert\" onclick=\"convertToInteractive('df-6c89c181-6196-499c-a4b8-485a3bf642d8')\"\n",
              "              title=\"Convert this dataframe to an interactive table.\"\n",
              "              style=\"display:none;\">\n",
              "        \n",
              "  <svg xmlns=\"http://www.w3.org/2000/svg\" height=\"24px\"viewBox=\"0 0 24 24\"\n",
              "       width=\"24px\">\n",
              "    <path d=\"M0 0h24v24H0V0z\" fill=\"none\"/>\n",
              "    <path d=\"M18.56 5.44l.94 2.06.94-2.06 2.06-.94-2.06-.94-.94-2.06-.94 2.06-2.06.94zm-11 1L8.5 8.5l.94-2.06 2.06-.94-2.06-.94L8.5 2.5l-.94 2.06-2.06.94zm10 10l.94 2.06.94-2.06 2.06-.94-2.06-.94-.94-2.06-.94 2.06-2.06.94z\"/><path d=\"M17.41 7.96l-1.37-1.37c-.4-.4-.92-.59-1.43-.59-.52 0-1.04.2-1.43.59L10.3 9.45l-7.72 7.72c-.78.78-.78 2.05 0 2.83L4 21.41c.39.39.9.59 1.41.59.51 0 1.02-.2 1.41-.59l7.78-7.78 2.81-2.81c.8-.78.8-2.07 0-2.86zM5.41 20L4 18.59l7.72-7.72 1.47 1.35L5.41 20z\"/>\n",
              "  </svg>\n",
              "      </button>\n",
              "      \n",
              "  <style>\n",
              "    .colab-df-container {\n",
              "      display:flex;\n",
              "      flex-wrap:wrap;\n",
              "      gap: 12px;\n",
              "    }\n",
              "\n",
              "    .colab-df-convert {\n",
              "      background-color: #E8F0FE;\n",
              "      border: none;\n",
              "      border-radius: 50%;\n",
              "      cursor: pointer;\n",
              "      display: none;\n",
              "      fill: #1967D2;\n",
              "      height: 32px;\n",
              "      padding: 0 0 0 0;\n",
              "      width: 32px;\n",
              "    }\n",
              "\n",
              "    .colab-df-convert:hover {\n",
              "      background-color: #E2EBFA;\n",
              "      box-shadow: 0px 1px 2px rgba(60, 64, 67, 0.3), 0px 1px 3px 1px rgba(60, 64, 67, 0.15);\n",
              "      fill: #174EA6;\n",
              "    }\n",
              "\n",
              "    [theme=dark] .colab-df-convert {\n",
              "      background-color: #3B4455;\n",
              "      fill: #D2E3FC;\n",
              "    }\n",
              "\n",
              "    [theme=dark] .colab-df-convert:hover {\n",
              "      background-color: #434B5C;\n",
              "      box-shadow: 0px 1px 3px 1px rgba(0, 0, 0, 0.15);\n",
              "      filter: drop-shadow(0px 1px 2px rgba(0, 0, 0, 0.3));\n",
              "      fill: #FFFFFF;\n",
              "    }\n",
              "  </style>\n",
              "\n",
              "      <script>\n",
              "        const buttonEl =\n",
              "          document.querySelector('#df-6c89c181-6196-499c-a4b8-485a3bf642d8 button.colab-df-convert');\n",
              "        buttonEl.style.display =\n",
              "          google.colab.kernel.accessAllowed ? 'block' : 'none';\n",
              "\n",
              "        async function convertToInteractive(key) {\n",
              "          const element = document.querySelector('#df-6c89c181-6196-499c-a4b8-485a3bf642d8');\n",
              "          const dataTable =\n",
              "            await google.colab.kernel.invokeFunction('convertToInteractive',\n",
              "                                                     [key], {});\n",
              "          if (!dataTable) return;\n",
              "\n",
              "          const docLinkHtml = 'Like what you see? Visit the ' +\n",
              "            '<a target=\"_blank\" href=https://colab.research.google.com/notebooks/data_table.ipynb>data table notebook</a>'\n",
              "            + ' to learn more about interactive tables.';\n",
              "          element.innerHTML = '';\n",
              "          dataTable['output_type'] = 'display_data';\n",
              "          await google.colab.output.renderOutput(dataTable, element);\n",
              "          const docLink = document.createElement('div');\n",
              "          docLink.innerHTML = docLinkHtml;\n",
              "          element.appendChild(docLink);\n",
              "        }\n",
              "      </script>\n",
              "    </div>\n",
              "  </div>\n",
              "  "
            ],
            "text/plain": [
              "     Name  Age  Gender  Income    Car\n",
              "0    Hari   22    male     100   True\n",
              "1   Shyam   35    male     220    NaN\n",
              "2   Reema   58  female      75   True\n",
              "3  Bhadur   18    male      35  False\n",
              "4   Robin   42    male     125   True\n",
              "5    Arti   39  female     190  False"
            ]
          },
          "metadata": {},
          "execution_count": 30
        }
      ]
    },
    {
      "cell_type": "markdown",
      "source": [
        "To extract the whole data frame using loc ,iloc"
      ],
      "metadata": {
        "id": "xrriuU-Fy6kU"
      }
    },
    {
      "cell_type": "code",
      "source": [
        "df.loc[: ,:]    # df.loc[row,column]"
      ],
      "metadata": {
        "colab": {
          "base_uri": "https://localhost:8080/",
          "height": 238
        },
        "id": "3TBWhG5LyHm1",
        "outputId": "ffc1046d-f472-4734-e141-daaa3087bd7f"
      },
      "execution_count": null,
      "outputs": [
        {
          "output_type": "execute_result",
          "data": {
            "text/html": [
              "\n",
              "  <div id=\"df-72f54f9b-4a9f-4a70-b8a6-48836c86386a\">\n",
              "    <div class=\"colab-df-container\">\n",
              "      <div>\n",
              "<style scoped>\n",
              "    .dataframe tbody tr th:only-of-type {\n",
              "        vertical-align: middle;\n",
              "    }\n",
              "\n",
              "    .dataframe tbody tr th {\n",
              "        vertical-align: top;\n",
              "    }\n",
              "\n",
              "    .dataframe thead th {\n",
              "        text-align: right;\n",
              "    }\n",
              "</style>\n",
              "<table border=\"1\" class=\"dataframe\">\n",
              "  <thead>\n",
              "    <tr style=\"text-align: right;\">\n",
              "      <th></th>\n",
              "      <th>Name</th>\n",
              "      <th>Age</th>\n",
              "      <th>Gender</th>\n",
              "      <th>Income</th>\n",
              "      <th>Car</th>\n",
              "    </tr>\n",
              "  </thead>\n",
              "  <tbody>\n",
              "    <tr>\n",
              "      <th>0</th>\n",
              "      <td>Hari</td>\n",
              "      <td>22</td>\n",
              "      <td>male</td>\n",
              "      <td>100</td>\n",
              "      <td>True</td>\n",
              "    </tr>\n",
              "    <tr>\n",
              "      <th>1</th>\n",
              "      <td>Shyam</td>\n",
              "      <td>35</td>\n",
              "      <td>male</td>\n",
              "      <td>220</td>\n",
              "      <td>NaN</td>\n",
              "    </tr>\n",
              "    <tr>\n",
              "      <th>2</th>\n",
              "      <td>Reema</td>\n",
              "      <td>58</td>\n",
              "      <td>female</td>\n",
              "      <td>75</td>\n",
              "      <td>True</td>\n",
              "    </tr>\n",
              "    <tr>\n",
              "      <th>3</th>\n",
              "      <td>Bhadur</td>\n",
              "      <td>18</td>\n",
              "      <td>male</td>\n",
              "      <td>35</td>\n",
              "      <td>False</td>\n",
              "    </tr>\n",
              "    <tr>\n",
              "      <th>4</th>\n",
              "      <td>Robin</td>\n",
              "      <td>42</td>\n",
              "      <td>male</td>\n",
              "      <td>125</td>\n",
              "      <td>True</td>\n",
              "    </tr>\n",
              "    <tr>\n",
              "      <th>5</th>\n",
              "      <td>Arti</td>\n",
              "      <td>39</td>\n",
              "      <td>female</td>\n",
              "      <td>190</td>\n",
              "      <td>False</td>\n",
              "    </tr>\n",
              "  </tbody>\n",
              "</table>\n",
              "</div>\n",
              "      <button class=\"colab-df-convert\" onclick=\"convertToInteractive('df-72f54f9b-4a9f-4a70-b8a6-48836c86386a')\"\n",
              "              title=\"Convert this dataframe to an interactive table.\"\n",
              "              style=\"display:none;\">\n",
              "        \n",
              "  <svg xmlns=\"http://www.w3.org/2000/svg\" height=\"24px\"viewBox=\"0 0 24 24\"\n",
              "       width=\"24px\">\n",
              "    <path d=\"M0 0h24v24H0V0z\" fill=\"none\"/>\n",
              "    <path d=\"M18.56 5.44l.94 2.06.94-2.06 2.06-.94-2.06-.94-.94-2.06-.94 2.06-2.06.94zm-11 1L8.5 8.5l.94-2.06 2.06-.94-2.06-.94L8.5 2.5l-.94 2.06-2.06.94zm10 10l.94 2.06.94-2.06 2.06-.94-2.06-.94-.94-2.06-.94 2.06-2.06.94z\"/><path d=\"M17.41 7.96l-1.37-1.37c-.4-.4-.92-.59-1.43-.59-.52 0-1.04.2-1.43.59L10.3 9.45l-7.72 7.72c-.78.78-.78 2.05 0 2.83L4 21.41c.39.39.9.59 1.41.59.51 0 1.02-.2 1.41-.59l7.78-7.78 2.81-2.81c.8-.78.8-2.07 0-2.86zM5.41 20L4 18.59l7.72-7.72 1.47 1.35L5.41 20z\"/>\n",
              "  </svg>\n",
              "      </button>\n",
              "      \n",
              "  <style>\n",
              "    .colab-df-container {\n",
              "      display:flex;\n",
              "      flex-wrap:wrap;\n",
              "      gap: 12px;\n",
              "    }\n",
              "\n",
              "    .colab-df-convert {\n",
              "      background-color: #E8F0FE;\n",
              "      border: none;\n",
              "      border-radius: 50%;\n",
              "      cursor: pointer;\n",
              "      display: none;\n",
              "      fill: #1967D2;\n",
              "      height: 32px;\n",
              "      padding: 0 0 0 0;\n",
              "      width: 32px;\n",
              "    }\n",
              "\n",
              "    .colab-df-convert:hover {\n",
              "      background-color: #E2EBFA;\n",
              "      box-shadow: 0px 1px 2px rgba(60, 64, 67, 0.3), 0px 1px 3px 1px rgba(60, 64, 67, 0.15);\n",
              "      fill: #174EA6;\n",
              "    }\n",
              "\n",
              "    [theme=dark] .colab-df-convert {\n",
              "      background-color: #3B4455;\n",
              "      fill: #D2E3FC;\n",
              "    }\n",
              "\n",
              "    [theme=dark] .colab-df-convert:hover {\n",
              "      background-color: #434B5C;\n",
              "      box-shadow: 0px 1px 3px 1px rgba(0, 0, 0, 0.15);\n",
              "      filter: drop-shadow(0px 1px 2px rgba(0, 0, 0, 0.3));\n",
              "      fill: #FFFFFF;\n",
              "    }\n",
              "  </style>\n",
              "\n",
              "      <script>\n",
              "        const buttonEl =\n",
              "          document.querySelector('#df-72f54f9b-4a9f-4a70-b8a6-48836c86386a button.colab-df-convert');\n",
              "        buttonEl.style.display =\n",
              "          google.colab.kernel.accessAllowed ? 'block' : 'none';\n",
              "\n",
              "        async function convertToInteractive(key) {\n",
              "          const element = document.querySelector('#df-72f54f9b-4a9f-4a70-b8a6-48836c86386a');\n",
              "          const dataTable =\n",
              "            await google.colab.kernel.invokeFunction('convertToInteractive',\n",
              "                                                     [key], {});\n",
              "          if (!dataTable) return;\n",
              "\n",
              "          const docLinkHtml = 'Like what you see? Visit the ' +\n",
              "            '<a target=\"_blank\" href=https://colab.research.google.com/notebooks/data_table.ipynb>data table notebook</a>'\n",
              "            + ' to learn more about interactive tables.';\n",
              "          element.innerHTML = '';\n",
              "          dataTable['output_type'] = 'display_data';\n",
              "          await google.colab.output.renderOutput(dataTable, element);\n",
              "          const docLink = document.createElement('div');\n",
              "          docLink.innerHTML = docLinkHtml;\n",
              "          element.appendChild(docLink);\n",
              "        }\n",
              "      </script>\n",
              "    </div>\n",
              "  </div>\n",
              "  "
            ],
            "text/plain": [
              "     Name  Age  Gender  Income    Car\n",
              "0    Hari   22    male     100   True\n",
              "1   Shyam   35    male     220    NaN\n",
              "2   Reema   58  female      75   True\n",
              "3  Bhadur   18    male      35  False\n",
              "4   Robin   42    male     125   True\n",
              "5    Arti   39  female     190  False"
            ]
          },
          "metadata": {},
          "execution_count": 32
        }
      ]
    },
    {
      "cell_type": "code",
      "source": [
        "df.iloc[:,: ]      # df.iloc[row,column]"
      ],
      "metadata": {
        "colab": {
          "base_uri": "https://localhost:8080/",
          "height": 238
        },
        "id": "P0orTsGMyKD2",
        "outputId": "31915287-fa87-4d6d-858d-5775fee79234"
      },
      "execution_count": null,
      "outputs": [
        {
          "output_type": "execute_result",
          "data": {
            "text/html": [
              "\n",
              "  <div id=\"df-5225d5c6-98ea-426d-a6c1-7168958f09b8\">\n",
              "    <div class=\"colab-df-container\">\n",
              "      <div>\n",
              "<style scoped>\n",
              "    .dataframe tbody tr th:only-of-type {\n",
              "        vertical-align: middle;\n",
              "    }\n",
              "\n",
              "    .dataframe tbody tr th {\n",
              "        vertical-align: top;\n",
              "    }\n",
              "\n",
              "    .dataframe thead th {\n",
              "        text-align: right;\n",
              "    }\n",
              "</style>\n",
              "<table border=\"1\" class=\"dataframe\">\n",
              "  <thead>\n",
              "    <tr style=\"text-align: right;\">\n",
              "      <th></th>\n",
              "      <th>Name</th>\n",
              "      <th>Age</th>\n",
              "      <th>Gender</th>\n",
              "      <th>Income</th>\n",
              "      <th>Car</th>\n",
              "    </tr>\n",
              "  </thead>\n",
              "  <tbody>\n",
              "    <tr>\n",
              "      <th>0</th>\n",
              "      <td>Hari</td>\n",
              "      <td>22</td>\n",
              "      <td>male</td>\n",
              "      <td>100</td>\n",
              "      <td>True</td>\n",
              "    </tr>\n",
              "    <tr>\n",
              "      <th>1</th>\n",
              "      <td>Shyam</td>\n",
              "      <td>35</td>\n",
              "      <td>male</td>\n",
              "      <td>220</td>\n",
              "      <td>NaN</td>\n",
              "    </tr>\n",
              "    <tr>\n",
              "      <th>2</th>\n",
              "      <td>Reema</td>\n",
              "      <td>58</td>\n",
              "      <td>female</td>\n",
              "      <td>75</td>\n",
              "      <td>True</td>\n",
              "    </tr>\n",
              "    <tr>\n",
              "      <th>3</th>\n",
              "      <td>Bhadur</td>\n",
              "      <td>18</td>\n",
              "      <td>male</td>\n",
              "      <td>35</td>\n",
              "      <td>False</td>\n",
              "    </tr>\n",
              "    <tr>\n",
              "      <th>4</th>\n",
              "      <td>Robin</td>\n",
              "      <td>42</td>\n",
              "      <td>male</td>\n",
              "      <td>125</td>\n",
              "      <td>True</td>\n",
              "    </tr>\n",
              "    <tr>\n",
              "      <th>5</th>\n",
              "      <td>Arti</td>\n",
              "      <td>39</td>\n",
              "      <td>female</td>\n",
              "      <td>190</td>\n",
              "      <td>False</td>\n",
              "    </tr>\n",
              "  </tbody>\n",
              "</table>\n",
              "</div>\n",
              "      <button class=\"colab-df-convert\" onclick=\"convertToInteractive('df-5225d5c6-98ea-426d-a6c1-7168958f09b8')\"\n",
              "              title=\"Convert this dataframe to an interactive table.\"\n",
              "              style=\"display:none;\">\n",
              "        \n",
              "  <svg xmlns=\"http://www.w3.org/2000/svg\" height=\"24px\"viewBox=\"0 0 24 24\"\n",
              "       width=\"24px\">\n",
              "    <path d=\"M0 0h24v24H0V0z\" fill=\"none\"/>\n",
              "    <path d=\"M18.56 5.44l.94 2.06.94-2.06 2.06-.94-2.06-.94-.94-2.06-.94 2.06-2.06.94zm-11 1L8.5 8.5l.94-2.06 2.06-.94-2.06-.94L8.5 2.5l-.94 2.06-2.06.94zm10 10l.94 2.06.94-2.06 2.06-.94-2.06-.94-.94-2.06-.94 2.06-2.06.94z\"/><path d=\"M17.41 7.96l-1.37-1.37c-.4-.4-.92-.59-1.43-.59-.52 0-1.04.2-1.43.59L10.3 9.45l-7.72 7.72c-.78.78-.78 2.05 0 2.83L4 21.41c.39.39.9.59 1.41.59.51 0 1.02-.2 1.41-.59l7.78-7.78 2.81-2.81c.8-.78.8-2.07 0-2.86zM5.41 20L4 18.59l7.72-7.72 1.47 1.35L5.41 20z\"/>\n",
              "  </svg>\n",
              "      </button>\n",
              "      \n",
              "  <style>\n",
              "    .colab-df-container {\n",
              "      display:flex;\n",
              "      flex-wrap:wrap;\n",
              "      gap: 12px;\n",
              "    }\n",
              "\n",
              "    .colab-df-convert {\n",
              "      background-color: #E8F0FE;\n",
              "      border: none;\n",
              "      border-radius: 50%;\n",
              "      cursor: pointer;\n",
              "      display: none;\n",
              "      fill: #1967D2;\n",
              "      height: 32px;\n",
              "      padding: 0 0 0 0;\n",
              "      width: 32px;\n",
              "    }\n",
              "\n",
              "    .colab-df-convert:hover {\n",
              "      background-color: #E2EBFA;\n",
              "      box-shadow: 0px 1px 2px rgba(60, 64, 67, 0.3), 0px 1px 3px 1px rgba(60, 64, 67, 0.15);\n",
              "      fill: #174EA6;\n",
              "    }\n",
              "\n",
              "    [theme=dark] .colab-df-convert {\n",
              "      background-color: #3B4455;\n",
              "      fill: #D2E3FC;\n",
              "    }\n",
              "\n",
              "    [theme=dark] .colab-df-convert:hover {\n",
              "      background-color: #434B5C;\n",
              "      box-shadow: 0px 1px 3px 1px rgba(0, 0, 0, 0.15);\n",
              "      filter: drop-shadow(0px 1px 2px rgba(0, 0, 0, 0.3));\n",
              "      fill: #FFFFFF;\n",
              "    }\n",
              "  </style>\n",
              "\n",
              "      <script>\n",
              "        const buttonEl =\n",
              "          document.querySelector('#df-5225d5c6-98ea-426d-a6c1-7168958f09b8 button.colab-df-convert');\n",
              "        buttonEl.style.display =\n",
              "          google.colab.kernel.accessAllowed ? 'block' : 'none';\n",
              "\n",
              "        async function convertToInteractive(key) {\n",
              "          const element = document.querySelector('#df-5225d5c6-98ea-426d-a6c1-7168958f09b8');\n",
              "          const dataTable =\n",
              "            await google.colab.kernel.invokeFunction('convertToInteractive',\n",
              "                                                     [key], {});\n",
              "          if (!dataTable) return;\n",
              "\n",
              "          const docLinkHtml = 'Like what you see? Visit the ' +\n",
              "            '<a target=\"_blank\" href=https://colab.research.google.com/notebooks/data_table.ipynb>data table notebook</a>'\n",
              "            + ' to learn more about interactive tables.';\n",
              "          element.innerHTML = '';\n",
              "          dataTable['output_type'] = 'display_data';\n",
              "          await google.colab.output.renderOutput(dataTable, element);\n",
              "          const docLink = document.createElement('div');\n",
              "          docLink.innerHTML = docLinkHtml;\n",
              "          element.appendChild(docLink);\n",
              "        }\n",
              "      </script>\n",
              "    </div>\n",
              "  </div>\n",
              "  "
            ],
            "text/plain": [
              "     Name  Age  Gender  Income    Car\n",
              "0    Hari   22    male     100   True\n",
              "1   Shyam   35    male     220    NaN\n",
              "2   Reema   58  female      75   True\n",
              "3  Bhadur   18    male      35  False\n",
              "4   Robin   42    male     125   True\n",
              "5    Arti   39  female     190  False"
            ]
          },
          "metadata": {},
          "execution_count": 33
        }
      ]
    },
    {
      "cell_type": "code",
      "source": [
        "df.loc[0:3 ,:]  # 0,1,2,3 rows are extracted "
      ],
      "metadata": {
        "colab": {
          "base_uri": "https://localhost:8080/",
          "height": 174
        },
        "id": "dyDRK6ntzJ8Y",
        "outputId": "46b837ea-7bc3-4724-9bb5-ce92953e3ffe"
      },
      "execution_count": null,
      "outputs": [
        {
          "output_type": "execute_result",
          "data": {
            "text/html": [
              "\n",
              "  <div id=\"df-4ab98ae3-6b60-47d4-a162-75ee5fb7c772\">\n",
              "    <div class=\"colab-df-container\">\n",
              "      <div>\n",
              "<style scoped>\n",
              "    .dataframe tbody tr th:only-of-type {\n",
              "        vertical-align: middle;\n",
              "    }\n",
              "\n",
              "    .dataframe tbody tr th {\n",
              "        vertical-align: top;\n",
              "    }\n",
              "\n",
              "    .dataframe thead th {\n",
              "        text-align: right;\n",
              "    }\n",
              "</style>\n",
              "<table border=\"1\" class=\"dataframe\">\n",
              "  <thead>\n",
              "    <tr style=\"text-align: right;\">\n",
              "      <th></th>\n",
              "      <th>Name</th>\n",
              "      <th>Age</th>\n",
              "      <th>Gender</th>\n",
              "      <th>Income</th>\n",
              "      <th>Car</th>\n",
              "    </tr>\n",
              "  </thead>\n",
              "  <tbody>\n",
              "    <tr>\n",
              "      <th>0</th>\n",
              "      <td>Hari</td>\n",
              "      <td>22</td>\n",
              "      <td>male</td>\n",
              "      <td>100</td>\n",
              "      <td>True</td>\n",
              "    </tr>\n",
              "    <tr>\n",
              "      <th>1</th>\n",
              "      <td>Shyam</td>\n",
              "      <td>35</td>\n",
              "      <td>male</td>\n",
              "      <td>220</td>\n",
              "      <td>NaN</td>\n",
              "    </tr>\n",
              "    <tr>\n",
              "      <th>2</th>\n",
              "      <td>Reema</td>\n",
              "      <td>58</td>\n",
              "      <td>female</td>\n",
              "      <td>75</td>\n",
              "      <td>True</td>\n",
              "    </tr>\n",
              "    <tr>\n",
              "      <th>3</th>\n",
              "      <td>Bhadur</td>\n",
              "      <td>18</td>\n",
              "      <td>male</td>\n",
              "      <td>35</td>\n",
              "      <td>False</td>\n",
              "    </tr>\n",
              "  </tbody>\n",
              "</table>\n",
              "</div>\n",
              "      <button class=\"colab-df-convert\" onclick=\"convertToInteractive('df-4ab98ae3-6b60-47d4-a162-75ee5fb7c772')\"\n",
              "              title=\"Convert this dataframe to an interactive table.\"\n",
              "              style=\"display:none;\">\n",
              "        \n",
              "  <svg xmlns=\"http://www.w3.org/2000/svg\" height=\"24px\"viewBox=\"0 0 24 24\"\n",
              "       width=\"24px\">\n",
              "    <path d=\"M0 0h24v24H0V0z\" fill=\"none\"/>\n",
              "    <path d=\"M18.56 5.44l.94 2.06.94-2.06 2.06-.94-2.06-.94-.94-2.06-.94 2.06-2.06.94zm-11 1L8.5 8.5l.94-2.06 2.06-.94-2.06-.94L8.5 2.5l-.94 2.06-2.06.94zm10 10l.94 2.06.94-2.06 2.06-.94-2.06-.94-.94-2.06-.94 2.06-2.06.94z\"/><path d=\"M17.41 7.96l-1.37-1.37c-.4-.4-.92-.59-1.43-.59-.52 0-1.04.2-1.43.59L10.3 9.45l-7.72 7.72c-.78.78-.78 2.05 0 2.83L4 21.41c.39.39.9.59 1.41.59.51 0 1.02-.2 1.41-.59l7.78-7.78 2.81-2.81c.8-.78.8-2.07 0-2.86zM5.41 20L4 18.59l7.72-7.72 1.47 1.35L5.41 20z\"/>\n",
              "  </svg>\n",
              "      </button>\n",
              "      \n",
              "  <style>\n",
              "    .colab-df-container {\n",
              "      display:flex;\n",
              "      flex-wrap:wrap;\n",
              "      gap: 12px;\n",
              "    }\n",
              "\n",
              "    .colab-df-convert {\n",
              "      background-color: #E8F0FE;\n",
              "      border: none;\n",
              "      border-radius: 50%;\n",
              "      cursor: pointer;\n",
              "      display: none;\n",
              "      fill: #1967D2;\n",
              "      height: 32px;\n",
              "      padding: 0 0 0 0;\n",
              "      width: 32px;\n",
              "    }\n",
              "\n",
              "    .colab-df-convert:hover {\n",
              "      background-color: #E2EBFA;\n",
              "      box-shadow: 0px 1px 2px rgba(60, 64, 67, 0.3), 0px 1px 3px 1px rgba(60, 64, 67, 0.15);\n",
              "      fill: #174EA6;\n",
              "    }\n",
              "\n",
              "    [theme=dark] .colab-df-convert {\n",
              "      background-color: #3B4455;\n",
              "      fill: #D2E3FC;\n",
              "    }\n",
              "\n",
              "    [theme=dark] .colab-df-convert:hover {\n",
              "      background-color: #434B5C;\n",
              "      box-shadow: 0px 1px 3px 1px rgba(0, 0, 0, 0.15);\n",
              "      filter: drop-shadow(0px 1px 2px rgba(0, 0, 0, 0.3));\n",
              "      fill: #FFFFFF;\n",
              "    }\n",
              "  </style>\n",
              "\n",
              "      <script>\n",
              "        const buttonEl =\n",
              "          document.querySelector('#df-4ab98ae3-6b60-47d4-a162-75ee5fb7c772 button.colab-df-convert');\n",
              "        buttonEl.style.display =\n",
              "          google.colab.kernel.accessAllowed ? 'block' : 'none';\n",
              "\n",
              "        async function convertToInteractive(key) {\n",
              "          const element = document.querySelector('#df-4ab98ae3-6b60-47d4-a162-75ee5fb7c772');\n",
              "          const dataTable =\n",
              "            await google.colab.kernel.invokeFunction('convertToInteractive',\n",
              "                                                     [key], {});\n",
              "          if (!dataTable) return;\n",
              "\n",
              "          const docLinkHtml = 'Like what you see? Visit the ' +\n",
              "            '<a target=\"_blank\" href=https://colab.research.google.com/notebooks/data_table.ipynb>data table notebook</a>'\n",
              "            + ' to learn more about interactive tables.';\n",
              "          element.innerHTML = '';\n",
              "          dataTable['output_type'] = 'display_data';\n",
              "          await google.colab.output.renderOutput(dataTable, element);\n",
              "          const docLink = document.createElement('div');\n",
              "          docLink.innerHTML = docLinkHtml;\n",
              "          element.appendChild(docLink);\n",
              "        }\n",
              "      </script>\n",
              "    </div>\n",
              "  </div>\n",
              "  "
            ],
            "text/plain": [
              "     Name  Age  Gender  Income    Car\n",
              "0    Hari   22    male     100   True\n",
              "1   Shyam   35    male     220    NaN\n",
              "2   Reema   58  female      75   True\n",
              "3  Bhadur   18    male      35  False"
            ]
          },
          "metadata": {},
          "execution_count": 35
        }
      ]
    },
    {
      "cell_type": "code",
      "source": [
        "df.iloc[0:3 ,:]  # 0,1,2 rows are extracted "
      ],
      "metadata": {
        "colab": {
          "base_uri": "https://localhost:8080/",
          "height": 143
        },
        "id": "JVr_SvCpzcod",
        "outputId": "4783f5da-b7df-44eb-8aa9-f0a08b5f49b4"
      },
      "execution_count": null,
      "outputs": [
        {
          "output_type": "execute_result",
          "data": {
            "text/html": [
              "\n",
              "  <div id=\"df-1b5192d6-c921-49e5-a67f-26c54dd4538b\">\n",
              "    <div class=\"colab-df-container\">\n",
              "      <div>\n",
              "<style scoped>\n",
              "    .dataframe tbody tr th:only-of-type {\n",
              "        vertical-align: middle;\n",
              "    }\n",
              "\n",
              "    .dataframe tbody tr th {\n",
              "        vertical-align: top;\n",
              "    }\n",
              "\n",
              "    .dataframe thead th {\n",
              "        text-align: right;\n",
              "    }\n",
              "</style>\n",
              "<table border=\"1\" class=\"dataframe\">\n",
              "  <thead>\n",
              "    <tr style=\"text-align: right;\">\n",
              "      <th></th>\n",
              "      <th>Name</th>\n",
              "      <th>Age</th>\n",
              "      <th>Gender</th>\n",
              "      <th>Income</th>\n",
              "      <th>Car</th>\n",
              "    </tr>\n",
              "  </thead>\n",
              "  <tbody>\n",
              "    <tr>\n",
              "      <th>0</th>\n",
              "      <td>Hari</td>\n",
              "      <td>22</td>\n",
              "      <td>male</td>\n",
              "      <td>100</td>\n",
              "      <td>True</td>\n",
              "    </tr>\n",
              "    <tr>\n",
              "      <th>1</th>\n",
              "      <td>Shyam</td>\n",
              "      <td>35</td>\n",
              "      <td>male</td>\n",
              "      <td>220</td>\n",
              "      <td>NaN</td>\n",
              "    </tr>\n",
              "    <tr>\n",
              "      <th>2</th>\n",
              "      <td>Reema</td>\n",
              "      <td>58</td>\n",
              "      <td>female</td>\n",
              "      <td>75</td>\n",
              "      <td>True</td>\n",
              "    </tr>\n",
              "  </tbody>\n",
              "</table>\n",
              "</div>\n",
              "      <button class=\"colab-df-convert\" onclick=\"convertToInteractive('df-1b5192d6-c921-49e5-a67f-26c54dd4538b')\"\n",
              "              title=\"Convert this dataframe to an interactive table.\"\n",
              "              style=\"display:none;\">\n",
              "        \n",
              "  <svg xmlns=\"http://www.w3.org/2000/svg\" height=\"24px\"viewBox=\"0 0 24 24\"\n",
              "       width=\"24px\">\n",
              "    <path d=\"M0 0h24v24H0V0z\" fill=\"none\"/>\n",
              "    <path d=\"M18.56 5.44l.94 2.06.94-2.06 2.06-.94-2.06-.94-.94-2.06-.94 2.06-2.06.94zm-11 1L8.5 8.5l.94-2.06 2.06-.94-2.06-.94L8.5 2.5l-.94 2.06-2.06.94zm10 10l.94 2.06.94-2.06 2.06-.94-2.06-.94-.94-2.06-.94 2.06-2.06.94z\"/><path d=\"M17.41 7.96l-1.37-1.37c-.4-.4-.92-.59-1.43-.59-.52 0-1.04.2-1.43.59L10.3 9.45l-7.72 7.72c-.78.78-.78 2.05 0 2.83L4 21.41c.39.39.9.59 1.41.59.51 0 1.02-.2 1.41-.59l7.78-7.78 2.81-2.81c.8-.78.8-2.07 0-2.86zM5.41 20L4 18.59l7.72-7.72 1.47 1.35L5.41 20z\"/>\n",
              "  </svg>\n",
              "      </button>\n",
              "      \n",
              "  <style>\n",
              "    .colab-df-container {\n",
              "      display:flex;\n",
              "      flex-wrap:wrap;\n",
              "      gap: 12px;\n",
              "    }\n",
              "\n",
              "    .colab-df-convert {\n",
              "      background-color: #E8F0FE;\n",
              "      border: none;\n",
              "      border-radius: 50%;\n",
              "      cursor: pointer;\n",
              "      display: none;\n",
              "      fill: #1967D2;\n",
              "      height: 32px;\n",
              "      padding: 0 0 0 0;\n",
              "      width: 32px;\n",
              "    }\n",
              "\n",
              "    .colab-df-convert:hover {\n",
              "      background-color: #E2EBFA;\n",
              "      box-shadow: 0px 1px 2px rgba(60, 64, 67, 0.3), 0px 1px 3px 1px rgba(60, 64, 67, 0.15);\n",
              "      fill: #174EA6;\n",
              "    }\n",
              "\n",
              "    [theme=dark] .colab-df-convert {\n",
              "      background-color: #3B4455;\n",
              "      fill: #D2E3FC;\n",
              "    }\n",
              "\n",
              "    [theme=dark] .colab-df-convert:hover {\n",
              "      background-color: #434B5C;\n",
              "      box-shadow: 0px 1px 3px 1px rgba(0, 0, 0, 0.15);\n",
              "      filter: drop-shadow(0px 1px 2px rgba(0, 0, 0, 0.3));\n",
              "      fill: #FFFFFF;\n",
              "    }\n",
              "  </style>\n",
              "\n",
              "      <script>\n",
              "        const buttonEl =\n",
              "          document.querySelector('#df-1b5192d6-c921-49e5-a67f-26c54dd4538b button.colab-df-convert');\n",
              "        buttonEl.style.display =\n",
              "          google.colab.kernel.accessAllowed ? 'block' : 'none';\n",
              "\n",
              "        async function convertToInteractive(key) {\n",
              "          const element = document.querySelector('#df-1b5192d6-c921-49e5-a67f-26c54dd4538b');\n",
              "          const dataTable =\n",
              "            await google.colab.kernel.invokeFunction('convertToInteractive',\n",
              "                                                     [key], {});\n",
              "          if (!dataTable) return;\n",
              "\n",
              "          const docLinkHtml = 'Like what you see? Visit the ' +\n",
              "            '<a target=\"_blank\" href=https://colab.research.google.com/notebooks/data_table.ipynb>data table notebook</a>'\n",
              "            + ' to learn more about interactive tables.';\n",
              "          element.innerHTML = '';\n",
              "          dataTable['output_type'] = 'display_data';\n",
              "          await google.colab.output.renderOutput(dataTable, element);\n",
              "          const docLink = document.createElement('div');\n",
              "          docLink.innerHTML = docLinkHtml;\n",
              "          element.appendChild(docLink);\n",
              "        }\n",
              "      </script>\n",
              "    </div>\n",
              "  </div>\n",
              "  "
            ],
            "text/plain": [
              "    Name  Age  Gender  Income   Car\n",
              "0   Hari   22    male     100  True\n",
              "1  Shyam   35    male     220   NaN\n",
              "2  Reema   58  female      75  True"
            ]
          },
          "metadata": {},
          "execution_count": 36
        }
      ]
    },
    {
      "cell_type": "code",
      "source": [
        "df.iloc[0:3 ,1:3]"
      ],
      "metadata": {
        "colab": {
          "base_uri": "https://localhost:8080/",
          "height": 143
        },
        "id": "7f20iwKU5j_L",
        "outputId": "7e8dc284-e3be-4121-842a-333d65bc7634"
      },
      "execution_count": null,
      "outputs": [
        {
          "output_type": "execute_result",
          "data": {
            "text/html": [
              "\n",
              "  <div id=\"df-f2db6a87-e390-42ce-b02c-2bf0a28f350a\">\n",
              "    <div class=\"colab-df-container\">\n",
              "      <div>\n",
              "<style scoped>\n",
              "    .dataframe tbody tr th:only-of-type {\n",
              "        vertical-align: middle;\n",
              "    }\n",
              "\n",
              "    .dataframe tbody tr th {\n",
              "        vertical-align: top;\n",
              "    }\n",
              "\n",
              "    .dataframe thead th {\n",
              "        text-align: right;\n",
              "    }\n",
              "</style>\n",
              "<table border=\"1\" class=\"dataframe\">\n",
              "  <thead>\n",
              "    <tr style=\"text-align: right;\">\n",
              "      <th></th>\n",
              "      <th>Age</th>\n",
              "      <th>Gender</th>\n",
              "    </tr>\n",
              "  </thead>\n",
              "  <tbody>\n",
              "    <tr>\n",
              "      <th>0</th>\n",
              "      <td>22</td>\n",
              "      <td>male</td>\n",
              "    </tr>\n",
              "    <tr>\n",
              "      <th>1</th>\n",
              "      <td>35</td>\n",
              "      <td>male</td>\n",
              "    </tr>\n",
              "    <tr>\n",
              "      <th>2</th>\n",
              "      <td>58</td>\n",
              "      <td>female</td>\n",
              "    </tr>\n",
              "  </tbody>\n",
              "</table>\n",
              "</div>\n",
              "      <button class=\"colab-df-convert\" onclick=\"convertToInteractive('df-f2db6a87-e390-42ce-b02c-2bf0a28f350a')\"\n",
              "              title=\"Convert this dataframe to an interactive table.\"\n",
              "              style=\"display:none;\">\n",
              "        \n",
              "  <svg xmlns=\"http://www.w3.org/2000/svg\" height=\"24px\"viewBox=\"0 0 24 24\"\n",
              "       width=\"24px\">\n",
              "    <path d=\"M0 0h24v24H0V0z\" fill=\"none\"/>\n",
              "    <path d=\"M18.56 5.44l.94 2.06.94-2.06 2.06-.94-2.06-.94-.94-2.06-.94 2.06-2.06.94zm-11 1L8.5 8.5l.94-2.06 2.06-.94-2.06-.94L8.5 2.5l-.94 2.06-2.06.94zm10 10l.94 2.06.94-2.06 2.06-.94-2.06-.94-.94-2.06-.94 2.06-2.06.94z\"/><path d=\"M17.41 7.96l-1.37-1.37c-.4-.4-.92-.59-1.43-.59-.52 0-1.04.2-1.43.59L10.3 9.45l-7.72 7.72c-.78.78-.78 2.05 0 2.83L4 21.41c.39.39.9.59 1.41.59.51 0 1.02-.2 1.41-.59l7.78-7.78 2.81-2.81c.8-.78.8-2.07 0-2.86zM5.41 20L4 18.59l7.72-7.72 1.47 1.35L5.41 20z\"/>\n",
              "  </svg>\n",
              "      </button>\n",
              "      \n",
              "  <style>\n",
              "    .colab-df-container {\n",
              "      display:flex;\n",
              "      flex-wrap:wrap;\n",
              "      gap: 12px;\n",
              "    }\n",
              "\n",
              "    .colab-df-convert {\n",
              "      background-color: #E8F0FE;\n",
              "      border: none;\n",
              "      border-radius: 50%;\n",
              "      cursor: pointer;\n",
              "      display: none;\n",
              "      fill: #1967D2;\n",
              "      height: 32px;\n",
              "      padding: 0 0 0 0;\n",
              "      width: 32px;\n",
              "    }\n",
              "\n",
              "    .colab-df-convert:hover {\n",
              "      background-color: #E2EBFA;\n",
              "      box-shadow: 0px 1px 2px rgba(60, 64, 67, 0.3), 0px 1px 3px 1px rgba(60, 64, 67, 0.15);\n",
              "      fill: #174EA6;\n",
              "    }\n",
              "\n",
              "    [theme=dark] .colab-df-convert {\n",
              "      background-color: #3B4455;\n",
              "      fill: #D2E3FC;\n",
              "    }\n",
              "\n",
              "    [theme=dark] .colab-df-convert:hover {\n",
              "      background-color: #434B5C;\n",
              "      box-shadow: 0px 1px 3px 1px rgba(0, 0, 0, 0.15);\n",
              "      filter: drop-shadow(0px 1px 2px rgba(0, 0, 0, 0.3));\n",
              "      fill: #FFFFFF;\n",
              "    }\n",
              "  </style>\n",
              "\n",
              "      <script>\n",
              "        const buttonEl =\n",
              "          document.querySelector('#df-f2db6a87-e390-42ce-b02c-2bf0a28f350a button.colab-df-convert');\n",
              "        buttonEl.style.display =\n",
              "          google.colab.kernel.accessAllowed ? 'block' : 'none';\n",
              "\n",
              "        async function convertToInteractive(key) {\n",
              "          const element = document.querySelector('#df-f2db6a87-e390-42ce-b02c-2bf0a28f350a');\n",
              "          const dataTable =\n",
              "            await google.colab.kernel.invokeFunction('convertToInteractive',\n",
              "                                                     [key], {});\n",
              "          if (!dataTable) return;\n",
              "\n",
              "          const docLinkHtml = 'Like what you see? Visit the ' +\n",
              "            '<a target=\"_blank\" href=https://colab.research.google.com/notebooks/data_table.ipynb>data table notebook</a>'\n",
              "            + ' to learn more about interactive tables.';\n",
              "          element.innerHTML = '';\n",
              "          dataTable['output_type'] = 'display_data';\n",
              "          await google.colab.output.renderOutput(dataTable, element);\n",
              "          const docLink = document.createElement('div');\n",
              "          docLink.innerHTML = docLinkHtml;\n",
              "          element.appendChild(docLink);\n",
              "        }\n",
              "      </script>\n",
              "    </div>\n",
              "  </div>\n",
              "  "
            ],
            "text/plain": [
              "   Age  Gender\n",
              "0   22    male\n",
              "1   35    male\n",
              "2   58  female"
            ]
          },
          "metadata": {},
          "execution_count": 42
        }
      ]
    },
    {
      "cell_type": "code",
      "source": [
        "df.loc[0:3 ,'Age':'Income'] "
      ],
      "metadata": {
        "colab": {
          "base_uri": "https://localhost:8080/",
          "height": 174
        },
        "id": "pynqRkiv6wXZ",
        "outputId": "f273a2db-2fce-4f91-8d66-157f755fe39d"
      },
      "execution_count": null,
      "outputs": [
        {
          "output_type": "execute_result",
          "data": {
            "text/html": [
              "\n",
              "  <div id=\"df-adfc9e22-3663-4756-9abc-881398aa221c\">\n",
              "    <div class=\"colab-df-container\">\n",
              "      <div>\n",
              "<style scoped>\n",
              "    .dataframe tbody tr th:only-of-type {\n",
              "        vertical-align: middle;\n",
              "    }\n",
              "\n",
              "    .dataframe tbody tr th {\n",
              "        vertical-align: top;\n",
              "    }\n",
              "\n",
              "    .dataframe thead th {\n",
              "        text-align: right;\n",
              "    }\n",
              "</style>\n",
              "<table border=\"1\" class=\"dataframe\">\n",
              "  <thead>\n",
              "    <tr style=\"text-align: right;\">\n",
              "      <th></th>\n",
              "      <th>Age</th>\n",
              "      <th>Gender</th>\n",
              "      <th>Income</th>\n",
              "    </tr>\n",
              "  </thead>\n",
              "  <tbody>\n",
              "    <tr>\n",
              "      <th>0</th>\n",
              "      <td>22</td>\n",
              "      <td>male</td>\n",
              "      <td>100</td>\n",
              "    </tr>\n",
              "    <tr>\n",
              "      <th>1</th>\n",
              "      <td>35</td>\n",
              "      <td>male</td>\n",
              "      <td>220</td>\n",
              "    </tr>\n",
              "    <tr>\n",
              "      <th>2</th>\n",
              "      <td>58</td>\n",
              "      <td>female</td>\n",
              "      <td>75</td>\n",
              "    </tr>\n",
              "    <tr>\n",
              "      <th>3</th>\n",
              "      <td>18</td>\n",
              "      <td>male</td>\n",
              "      <td>35</td>\n",
              "    </tr>\n",
              "  </tbody>\n",
              "</table>\n",
              "</div>\n",
              "      <button class=\"colab-df-convert\" onclick=\"convertToInteractive('df-adfc9e22-3663-4756-9abc-881398aa221c')\"\n",
              "              title=\"Convert this dataframe to an interactive table.\"\n",
              "              style=\"display:none;\">\n",
              "        \n",
              "  <svg xmlns=\"http://www.w3.org/2000/svg\" height=\"24px\"viewBox=\"0 0 24 24\"\n",
              "       width=\"24px\">\n",
              "    <path d=\"M0 0h24v24H0V0z\" fill=\"none\"/>\n",
              "    <path d=\"M18.56 5.44l.94 2.06.94-2.06 2.06-.94-2.06-.94-.94-2.06-.94 2.06-2.06.94zm-11 1L8.5 8.5l.94-2.06 2.06-.94-2.06-.94L8.5 2.5l-.94 2.06-2.06.94zm10 10l.94 2.06.94-2.06 2.06-.94-2.06-.94-.94-2.06-.94 2.06-2.06.94z\"/><path d=\"M17.41 7.96l-1.37-1.37c-.4-.4-.92-.59-1.43-.59-.52 0-1.04.2-1.43.59L10.3 9.45l-7.72 7.72c-.78.78-.78 2.05 0 2.83L4 21.41c.39.39.9.59 1.41.59.51 0 1.02-.2 1.41-.59l7.78-7.78 2.81-2.81c.8-.78.8-2.07 0-2.86zM5.41 20L4 18.59l7.72-7.72 1.47 1.35L5.41 20z\"/>\n",
              "  </svg>\n",
              "      </button>\n",
              "      \n",
              "  <style>\n",
              "    .colab-df-container {\n",
              "      display:flex;\n",
              "      flex-wrap:wrap;\n",
              "      gap: 12px;\n",
              "    }\n",
              "\n",
              "    .colab-df-convert {\n",
              "      background-color: #E8F0FE;\n",
              "      border: none;\n",
              "      border-radius: 50%;\n",
              "      cursor: pointer;\n",
              "      display: none;\n",
              "      fill: #1967D2;\n",
              "      height: 32px;\n",
              "      padding: 0 0 0 0;\n",
              "      width: 32px;\n",
              "    }\n",
              "\n",
              "    .colab-df-convert:hover {\n",
              "      background-color: #E2EBFA;\n",
              "      box-shadow: 0px 1px 2px rgba(60, 64, 67, 0.3), 0px 1px 3px 1px rgba(60, 64, 67, 0.15);\n",
              "      fill: #174EA6;\n",
              "    }\n",
              "\n",
              "    [theme=dark] .colab-df-convert {\n",
              "      background-color: #3B4455;\n",
              "      fill: #D2E3FC;\n",
              "    }\n",
              "\n",
              "    [theme=dark] .colab-df-convert:hover {\n",
              "      background-color: #434B5C;\n",
              "      box-shadow: 0px 1px 3px 1px rgba(0, 0, 0, 0.15);\n",
              "      filter: drop-shadow(0px 1px 2px rgba(0, 0, 0, 0.3));\n",
              "      fill: #FFFFFF;\n",
              "    }\n",
              "  </style>\n",
              "\n",
              "      <script>\n",
              "        const buttonEl =\n",
              "          document.querySelector('#df-adfc9e22-3663-4756-9abc-881398aa221c button.colab-df-convert');\n",
              "        buttonEl.style.display =\n",
              "          google.colab.kernel.accessAllowed ? 'block' : 'none';\n",
              "\n",
              "        async function convertToInteractive(key) {\n",
              "          const element = document.querySelector('#df-adfc9e22-3663-4756-9abc-881398aa221c');\n",
              "          const dataTable =\n",
              "            await google.colab.kernel.invokeFunction('convertToInteractive',\n",
              "                                                     [key], {});\n",
              "          if (!dataTable) return;\n",
              "\n",
              "          const docLinkHtml = 'Like what you see? Visit the ' +\n",
              "            '<a target=\"_blank\" href=https://colab.research.google.com/notebooks/data_table.ipynb>data table notebook</a>'\n",
              "            + ' to learn more about interactive tables.';\n",
              "          element.innerHTML = '';\n",
              "          dataTable['output_type'] = 'display_data';\n",
              "          await google.colab.output.renderOutput(dataTable, element);\n",
              "          const docLink = document.createElement('div');\n",
              "          docLink.innerHTML = docLinkHtml;\n",
              "          element.appendChild(docLink);\n",
              "        }\n",
              "      </script>\n",
              "    </div>\n",
              "  </div>\n",
              "  "
            ],
            "text/plain": [
              "   Age  Gender  Income\n",
              "0   22    male     100\n",
              "1   35    male     220\n",
              "2   58  female      75\n",
              "3   18    male      35"
            ]
          },
          "metadata": {},
          "execution_count": 44
        }
      ]
    },
    {
      "cell_type": "markdown",
      "source": [
        "To extract only the mentioned columns "
      ],
      "metadata": {
        "id": "dEU8NHry7Q2p"
      }
    },
    {
      "cell_type": "code",
      "source": [
        "df.loc[0:3 ,['Age','Income']] "
      ],
      "metadata": {
        "colab": {
          "base_uri": "https://localhost:8080/",
          "height": 174
        },
        "id": "GNY0yVs37QLB",
        "outputId": "79c6874e-08b1-46ed-ae8d-da203128e636"
      },
      "execution_count": null,
      "outputs": [
        {
          "output_type": "execute_result",
          "data": {
            "text/html": [
              "\n",
              "  <div id=\"df-1ff1590c-e260-4f36-aeab-5ee9efd57bbc\">\n",
              "    <div class=\"colab-df-container\">\n",
              "      <div>\n",
              "<style scoped>\n",
              "    .dataframe tbody tr th:only-of-type {\n",
              "        vertical-align: middle;\n",
              "    }\n",
              "\n",
              "    .dataframe tbody tr th {\n",
              "        vertical-align: top;\n",
              "    }\n",
              "\n",
              "    .dataframe thead th {\n",
              "        text-align: right;\n",
              "    }\n",
              "</style>\n",
              "<table border=\"1\" class=\"dataframe\">\n",
              "  <thead>\n",
              "    <tr style=\"text-align: right;\">\n",
              "      <th></th>\n",
              "      <th>Age</th>\n",
              "      <th>Income</th>\n",
              "    </tr>\n",
              "  </thead>\n",
              "  <tbody>\n",
              "    <tr>\n",
              "      <th>0</th>\n",
              "      <td>22</td>\n",
              "      <td>100</td>\n",
              "    </tr>\n",
              "    <tr>\n",
              "      <th>1</th>\n",
              "      <td>35</td>\n",
              "      <td>220</td>\n",
              "    </tr>\n",
              "    <tr>\n",
              "      <th>2</th>\n",
              "      <td>58</td>\n",
              "      <td>75</td>\n",
              "    </tr>\n",
              "    <tr>\n",
              "      <th>3</th>\n",
              "      <td>18</td>\n",
              "      <td>35</td>\n",
              "    </tr>\n",
              "  </tbody>\n",
              "</table>\n",
              "</div>\n",
              "      <button class=\"colab-df-convert\" onclick=\"convertToInteractive('df-1ff1590c-e260-4f36-aeab-5ee9efd57bbc')\"\n",
              "              title=\"Convert this dataframe to an interactive table.\"\n",
              "              style=\"display:none;\">\n",
              "        \n",
              "  <svg xmlns=\"http://www.w3.org/2000/svg\" height=\"24px\"viewBox=\"0 0 24 24\"\n",
              "       width=\"24px\">\n",
              "    <path d=\"M0 0h24v24H0V0z\" fill=\"none\"/>\n",
              "    <path d=\"M18.56 5.44l.94 2.06.94-2.06 2.06-.94-2.06-.94-.94-2.06-.94 2.06-2.06.94zm-11 1L8.5 8.5l.94-2.06 2.06-.94-2.06-.94L8.5 2.5l-.94 2.06-2.06.94zm10 10l.94 2.06.94-2.06 2.06-.94-2.06-.94-.94-2.06-.94 2.06-2.06.94z\"/><path d=\"M17.41 7.96l-1.37-1.37c-.4-.4-.92-.59-1.43-.59-.52 0-1.04.2-1.43.59L10.3 9.45l-7.72 7.72c-.78.78-.78 2.05 0 2.83L4 21.41c.39.39.9.59 1.41.59.51 0 1.02-.2 1.41-.59l7.78-7.78 2.81-2.81c.8-.78.8-2.07 0-2.86zM5.41 20L4 18.59l7.72-7.72 1.47 1.35L5.41 20z\"/>\n",
              "  </svg>\n",
              "      </button>\n",
              "      \n",
              "  <style>\n",
              "    .colab-df-container {\n",
              "      display:flex;\n",
              "      flex-wrap:wrap;\n",
              "      gap: 12px;\n",
              "    }\n",
              "\n",
              "    .colab-df-convert {\n",
              "      background-color: #E8F0FE;\n",
              "      border: none;\n",
              "      border-radius: 50%;\n",
              "      cursor: pointer;\n",
              "      display: none;\n",
              "      fill: #1967D2;\n",
              "      height: 32px;\n",
              "      padding: 0 0 0 0;\n",
              "      width: 32px;\n",
              "    }\n",
              "\n",
              "    .colab-df-convert:hover {\n",
              "      background-color: #E2EBFA;\n",
              "      box-shadow: 0px 1px 2px rgba(60, 64, 67, 0.3), 0px 1px 3px 1px rgba(60, 64, 67, 0.15);\n",
              "      fill: #174EA6;\n",
              "    }\n",
              "\n",
              "    [theme=dark] .colab-df-convert {\n",
              "      background-color: #3B4455;\n",
              "      fill: #D2E3FC;\n",
              "    }\n",
              "\n",
              "    [theme=dark] .colab-df-convert:hover {\n",
              "      background-color: #434B5C;\n",
              "      box-shadow: 0px 1px 3px 1px rgba(0, 0, 0, 0.15);\n",
              "      filter: drop-shadow(0px 1px 2px rgba(0, 0, 0, 0.3));\n",
              "      fill: #FFFFFF;\n",
              "    }\n",
              "  </style>\n",
              "\n",
              "      <script>\n",
              "        const buttonEl =\n",
              "          document.querySelector('#df-1ff1590c-e260-4f36-aeab-5ee9efd57bbc button.colab-df-convert');\n",
              "        buttonEl.style.display =\n",
              "          google.colab.kernel.accessAllowed ? 'block' : 'none';\n",
              "\n",
              "        async function convertToInteractive(key) {\n",
              "          const element = document.querySelector('#df-1ff1590c-e260-4f36-aeab-5ee9efd57bbc');\n",
              "          const dataTable =\n",
              "            await google.colab.kernel.invokeFunction('convertToInteractive',\n",
              "                                                     [key], {});\n",
              "          if (!dataTable) return;\n",
              "\n",
              "          const docLinkHtml = 'Like what you see? Visit the ' +\n",
              "            '<a target=\"_blank\" href=https://colab.research.google.com/notebooks/data_table.ipynb>data table notebook</a>'\n",
              "            + ' to learn more about interactive tables.';\n",
              "          element.innerHTML = '';\n",
              "          dataTable['output_type'] = 'display_data';\n",
              "          await google.colab.output.renderOutput(dataTable, element);\n",
              "          const docLink = document.createElement('div');\n",
              "          docLink.innerHTML = docLinkHtml;\n",
              "          element.appendChild(docLink);\n",
              "        }\n",
              "      </script>\n",
              "    </div>\n",
              "  </div>\n",
              "  "
            ],
            "text/plain": [
              "   Age  Income\n",
              "0   22     100\n",
              "1   35     220\n",
              "2   58      75\n",
              "3   18      35"
            ]
          },
          "metadata": {},
          "execution_count": 46
        }
      ]
    },
    {
      "cell_type": "markdown",
      "source": [
        "To extract only the mentioned columns,rows"
      ],
      "metadata": {
        "id": "Hvy4gOLR9nnU"
      }
    },
    {
      "cell_type": "code",
      "source": [
        "df.loc[[0,3],['Age','Income']] "
      ],
      "metadata": {
        "colab": {
          "base_uri": "https://localhost:8080/",
          "height": 112
        },
        "id": "ZjRG3P7E9o63",
        "outputId": "97fea0c3-d2ec-4643-ff8e-70d22b478628"
      },
      "execution_count": null,
      "outputs": [
        {
          "output_type": "execute_result",
          "data": {
            "text/html": [
              "\n",
              "  <div id=\"df-d2008b6f-a737-4afc-abdb-4892cbb9c7cd\">\n",
              "    <div class=\"colab-df-container\">\n",
              "      <div>\n",
              "<style scoped>\n",
              "    .dataframe tbody tr th:only-of-type {\n",
              "        vertical-align: middle;\n",
              "    }\n",
              "\n",
              "    .dataframe tbody tr th {\n",
              "        vertical-align: top;\n",
              "    }\n",
              "\n",
              "    .dataframe thead th {\n",
              "        text-align: right;\n",
              "    }\n",
              "</style>\n",
              "<table border=\"1\" class=\"dataframe\">\n",
              "  <thead>\n",
              "    <tr style=\"text-align: right;\">\n",
              "      <th></th>\n",
              "      <th>Age</th>\n",
              "      <th>Income</th>\n",
              "    </tr>\n",
              "  </thead>\n",
              "  <tbody>\n",
              "    <tr>\n",
              "      <th>0</th>\n",
              "      <td>22</td>\n",
              "      <td>100</td>\n",
              "    </tr>\n",
              "    <tr>\n",
              "      <th>3</th>\n",
              "      <td>18</td>\n",
              "      <td>35</td>\n",
              "    </tr>\n",
              "  </tbody>\n",
              "</table>\n",
              "</div>\n",
              "      <button class=\"colab-df-convert\" onclick=\"convertToInteractive('df-d2008b6f-a737-4afc-abdb-4892cbb9c7cd')\"\n",
              "              title=\"Convert this dataframe to an interactive table.\"\n",
              "              style=\"display:none;\">\n",
              "        \n",
              "  <svg xmlns=\"http://www.w3.org/2000/svg\" height=\"24px\"viewBox=\"0 0 24 24\"\n",
              "       width=\"24px\">\n",
              "    <path d=\"M0 0h24v24H0V0z\" fill=\"none\"/>\n",
              "    <path d=\"M18.56 5.44l.94 2.06.94-2.06 2.06-.94-2.06-.94-.94-2.06-.94 2.06-2.06.94zm-11 1L8.5 8.5l.94-2.06 2.06-.94-2.06-.94L8.5 2.5l-.94 2.06-2.06.94zm10 10l.94 2.06.94-2.06 2.06-.94-2.06-.94-.94-2.06-.94 2.06-2.06.94z\"/><path d=\"M17.41 7.96l-1.37-1.37c-.4-.4-.92-.59-1.43-.59-.52 0-1.04.2-1.43.59L10.3 9.45l-7.72 7.72c-.78.78-.78 2.05 0 2.83L4 21.41c.39.39.9.59 1.41.59.51 0 1.02-.2 1.41-.59l7.78-7.78 2.81-2.81c.8-.78.8-2.07 0-2.86zM5.41 20L4 18.59l7.72-7.72 1.47 1.35L5.41 20z\"/>\n",
              "  </svg>\n",
              "      </button>\n",
              "      \n",
              "  <style>\n",
              "    .colab-df-container {\n",
              "      display:flex;\n",
              "      flex-wrap:wrap;\n",
              "      gap: 12px;\n",
              "    }\n",
              "\n",
              "    .colab-df-convert {\n",
              "      background-color: #E8F0FE;\n",
              "      border: none;\n",
              "      border-radius: 50%;\n",
              "      cursor: pointer;\n",
              "      display: none;\n",
              "      fill: #1967D2;\n",
              "      height: 32px;\n",
              "      padding: 0 0 0 0;\n",
              "      width: 32px;\n",
              "    }\n",
              "\n",
              "    .colab-df-convert:hover {\n",
              "      background-color: #E2EBFA;\n",
              "      box-shadow: 0px 1px 2px rgba(60, 64, 67, 0.3), 0px 1px 3px 1px rgba(60, 64, 67, 0.15);\n",
              "      fill: #174EA6;\n",
              "    }\n",
              "\n",
              "    [theme=dark] .colab-df-convert {\n",
              "      background-color: #3B4455;\n",
              "      fill: #D2E3FC;\n",
              "    }\n",
              "\n",
              "    [theme=dark] .colab-df-convert:hover {\n",
              "      background-color: #434B5C;\n",
              "      box-shadow: 0px 1px 3px 1px rgba(0, 0, 0, 0.15);\n",
              "      filter: drop-shadow(0px 1px 2px rgba(0, 0, 0, 0.3));\n",
              "      fill: #FFFFFF;\n",
              "    }\n",
              "  </style>\n",
              "\n",
              "      <script>\n",
              "        const buttonEl =\n",
              "          document.querySelector('#df-d2008b6f-a737-4afc-abdb-4892cbb9c7cd button.colab-df-convert');\n",
              "        buttonEl.style.display =\n",
              "          google.colab.kernel.accessAllowed ? 'block' : 'none';\n",
              "\n",
              "        async function convertToInteractive(key) {\n",
              "          const element = document.querySelector('#df-d2008b6f-a737-4afc-abdb-4892cbb9c7cd');\n",
              "          const dataTable =\n",
              "            await google.colab.kernel.invokeFunction('convertToInteractive',\n",
              "                                                     [key], {});\n",
              "          if (!dataTable) return;\n",
              "\n",
              "          const docLinkHtml = 'Like what you see? Visit the ' +\n",
              "            '<a target=\"_blank\" href=https://colab.research.google.com/notebooks/data_table.ipynb>data table notebook</a>'\n",
              "            + ' to learn more about interactive tables.';\n",
              "          element.innerHTML = '';\n",
              "          dataTable['output_type'] = 'display_data';\n",
              "          await google.colab.output.renderOutput(dataTable, element);\n",
              "          const docLink = document.createElement('div');\n",
              "          docLink.innerHTML = docLinkHtml;\n",
              "          element.appendChild(docLink);\n",
              "        }\n",
              "      </script>\n",
              "    </div>\n",
              "  </div>\n",
              "  "
            ],
            "text/plain": [
              "   Age  Income\n",
              "0   22     100\n",
              "3   18      35"
            ]
          },
          "metadata": {},
          "execution_count": 47
        }
      ]
    },
    {
      "cell_type": "markdown",
      "source": [
        "Extracts data in whatever sequence we have mentioned"
      ],
      "metadata": {
        "id": "1sPLGTBu96VW"
      }
    },
    {
      "cell_type": "code",
      "source": [
        "df.loc[[0,3,1],['Age','Income']] "
      ],
      "metadata": {
        "colab": {
          "base_uri": "https://localhost:8080/",
          "height": 143
        },
        "id": "tcADSW1-93PZ",
        "outputId": "247c660f-6dda-45bc-9359-d0e3782c9fb7"
      },
      "execution_count": null,
      "outputs": [
        {
          "output_type": "execute_result",
          "data": {
            "text/html": [
              "\n",
              "  <div id=\"df-b613d269-560a-49ab-a6ff-fbbfe05d3de6\">\n",
              "    <div class=\"colab-df-container\">\n",
              "      <div>\n",
              "<style scoped>\n",
              "    .dataframe tbody tr th:only-of-type {\n",
              "        vertical-align: middle;\n",
              "    }\n",
              "\n",
              "    .dataframe tbody tr th {\n",
              "        vertical-align: top;\n",
              "    }\n",
              "\n",
              "    .dataframe thead th {\n",
              "        text-align: right;\n",
              "    }\n",
              "</style>\n",
              "<table border=\"1\" class=\"dataframe\">\n",
              "  <thead>\n",
              "    <tr style=\"text-align: right;\">\n",
              "      <th></th>\n",
              "      <th>Age</th>\n",
              "      <th>Income</th>\n",
              "    </tr>\n",
              "  </thead>\n",
              "  <tbody>\n",
              "    <tr>\n",
              "      <th>0</th>\n",
              "      <td>22</td>\n",
              "      <td>100</td>\n",
              "    </tr>\n",
              "    <tr>\n",
              "      <th>3</th>\n",
              "      <td>18</td>\n",
              "      <td>35</td>\n",
              "    </tr>\n",
              "    <tr>\n",
              "      <th>1</th>\n",
              "      <td>35</td>\n",
              "      <td>220</td>\n",
              "    </tr>\n",
              "  </tbody>\n",
              "</table>\n",
              "</div>\n",
              "      <button class=\"colab-df-convert\" onclick=\"convertToInteractive('df-b613d269-560a-49ab-a6ff-fbbfe05d3de6')\"\n",
              "              title=\"Convert this dataframe to an interactive table.\"\n",
              "              style=\"display:none;\">\n",
              "        \n",
              "  <svg xmlns=\"http://www.w3.org/2000/svg\" height=\"24px\"viewBox=\"0 0 24 24\"\n",
              "       width=\"24px\">\n",
              "    <path d=\"M0 0h24v24H0V0z\" fill=\"none\"/>\n",
              "    <path d=\"M18.56 5.44l.94 2.06.94-2.06 2.06-.94-2.06-.94-.94-2.06-.94 2.06-2.06.94zm-11 1L8.5 8.5l.94-2.06 2.06-.94-2.06-.94L8.5 2.5l-.94 2.06-2.06.94zm10 10l.94 2.06.94-2.06 2.06-.94-2.06-.94-.94-2.06-.94 2.06-2.06.94z\"/><path d=\"M17.41 7.96l-1.37-1.37c-.4-.4-.92-.59-1.43-.59-.52 0-1.04.2-1.43.59L10.3 9.45l-7.72 7.72c-.78.78-.78 2.05 0 2.83L4 21.41c.39.39.9.59 1.41.59.51 0 1.02-.2 1.41-.59l7.78-7.78 2.81-2.81c.8-.78.8-2.07 0-2.86zM5.41 20L4 18.59l7.72-7.72 1.47 1.35L5.41 20z\"/>\n",
              "  </svg>\n",
              "      </button>\n",
              "      \n",
              "  <style>\n",
              "    .colab-df-container {\n",
              "      display:flex;\n",
              "      flex-wrap:wrap;\n",
              "      gap: 12px;\n",
              "    }\n",
              "\n",
              "    .colab-df-convert {\n",
              "      background-color: #E8F0FE;\n",
              "      border: none;\n",
              "      border-radius: 50%;\n",
              "      cursor: pointer;\n",
              "      display: none;\n",
              "      fill: #1967D2;\n",
              "      height: 32px;\n",
              "      padding: 0 0 0 0;\n",
              "      width: 32px;\n",
              "    }\n",
              "\n",
              "    .colab-df-convert:hover {\n",
              "      background-color: #E2EBFA;\n",
              "      box-shadow: 0px 1px 2px rgba(60, 64, 67, 0.3), 0px 1px 3px 1px rgba(60, 64, 67, 0.15);\n",
              "      fill: #174EA6;\n",
              "    }\n",
              "\n",
              "    [theme=dark] .colab-df-convert {\n",
              "      background-color: #3B4455;\n",
              "      fill: #D2E3FC;\n",
              "    }\n",
              "\n",
              "    [theme=dark] .colab-df-convert:hover {\n",
              "      background-color: #434B5C;\n",
              "      box-shadow: 0px 1px 3px 1px rgba(0, 0, 0, 0.15);\n",
              "      filter: drop-shadow(0px 1px 2px rgba(0, 0, 0, 0.3));\n",
              "      fill: #FFFFFF;\n",
              "    }\n",
              "  </style>\n",
              "\n",
              "      <script>\n",
              "        const buttonEl =\n",
              "          document.querySelector('#df-b613d269-560a-49ab-a6ff-fbbfe05d3de6 button.colab-df-convert');\n",
              "        buttonEl.style.display =\n",
              "          google.colab.kernel.accessAllowed ? 'block' : 'none';\n",
              "\n",
              "        async function convertToInteractive(key) {\n",
              "          const element = document.querySelector('#df-b613d269-560a-49ab-a6ff-fbbfe05d3de6');\n",
              "          const dataTable =\n",
              "            await google.colab.kernel.invokeFunction('convertToInteractive',\n",
              "                                                     [key], {});\n",
              "          if (!dataTable) return;\n",
              "\n",
              "          const docLinkHtml = 'Like what you see? Visit the ' +\n",
              "            '<a target=\"_blank\" href=https://colab.research.google.com/notebooks/data_table.ipynb>data table notebook</a>'\n",
              "            + ' to learn more about interactive tables.';\n",
              "          element.innerHTML = '';\n",
              "          dataTable['output_type'] = 'display_data';\n",
              "          await google.colab.output.renderOutput(dataTable, element);\n",
              "          const docLink = document.createElement('div');\n",
              "          docLink.innerHTML = docLinkHtml;\n",
              "          element.appendChild(docLink);\n",
              "        }\n",
              "      </script>\n",
              "    </div>\n",
              "  </div>\n",
              "  "
            ],
            "text/plain": [
              "   Age  Income\n",
              "0   22     100\n",
              "3   18      35\n",
              "1   35     220"
            ]
          },
          "metadata": {},
          "execution_count": 48
        }
      ]
    },
    {
      "cell_type": "markdown",
      "source": [
        "##session 3"
      ],
      "metadata": {
        "id": "-QkUeLqkY6q_"
      }
    },
    {
      "cell_type": "markdown",
      "source": [
        "# Framework for Machine Learnig Models "
      ],
      "metadata": {
        "id": "ePaJ2dbiaYsG"
      }
    },
    {
      "cell_type": "markdown",
      "source": [
        "# Step 1: Import library "
      ],
      "metadata": {
        "id": "qsXfIhAMct0g"
      }
    },
    {
      "cell_type": "code",
      "source": [
        "import pandas as pd"
      ],
      "metadata": {
        "id": "7zOHvRXjY86p"
      },
      "execution_count": null,
      "outputs": []
    },
    {
      "cell_type": "code",
      "source": [
        "import numpy as np"
      ],
      "metadata": {
        "id": "8pnXnevHc2qa"
      },
      "execution_count": null,
      "outputs": []
    },
    {
      "cell_type": "code",
      "source": [
        "import matplotlib.pyplot as plt "
      ],
      "metadata": {
        "id": "2QUTjWF2c51f"
      },
      "execution_count": null,
      "outputs": []
    },
    {
      "cell_type": "code",
      "source": [
        "import seaborn as sns"
      ],
      "metadata": {
        "id": "8-nxaq6YdAcN"
      },
      "execution_count": null,
      "outputs": []
    },
    {
      "cell_type": "markdown",
      "source": [
        "# Step 2: Import Data"
      ],
      "metadata": {
        "id": "6gwTufPTdQW5"
      }
    },
    {
      "cell_type": "code",
      "source": [
        "df = pd.read_csv(r'https://github.com/YBI-Foundation/Dataset/raw/main/Boston.csv')"
      ],
      "metadata": {
        "id": "8_8LoJJKdFP_"
      },
      "execution_count": null,
      "outputs": []
    },
    {
      "cell_type": "markdown",
      "source": [
        "# Step 3: Explore Data"
      ],
      "metadata": {
        "id": "dQtdYtq6dYMZ"
      }
    },
    {
      "cell_type": "code",
      "source": [
        "df.head()  # to see first few values of data "
      ],
      "metadata": {
        "colab": {
          "base_uri": "https://localhost:8080/",
          "height": 250
        },
        "id": "mXjktF5PdfW5",
        "outputId": "5b03296d-edce-4f5f-bd24-fa419d07381a"
      },
      "execution_count": null,
      "outputs": [
        {
          "output_type": "execute_result",
          "data": {
            "text/html": [
              "\n",
              "  <div id=\"df-10d671e9-0405-40e5-9b07-2cf5e8883501\">\n",
              "    <div class=\"colab-df-container\">\n",
              "      <div>\n",
              "<style scoped>\n",
              "    .dataframe tbody tr th:only-of-type {\n",
              "        vertical-align: middle;\n",
              "    }\n",
              "\n",
              "    .dataframe tbody tr th {\n",
              "        vertical-align: top;\n",
              "    }\n",
              "\n",
              "    .dataframe thead th {\n",
              "        text-align: right;\n",
              "    }\n",
              "</style>\n",
              "<table border=\"1\" class=\"dataframe\">\n",
              "  <thead>\n",
              "    <tr style=\"text-align: right;\">\n",
              "      <th></th>\n",
              "      <th>CRIM</th>\n",
              "      <th>ZN</th>\n",
              "      <th>INDUS</th>\n",
              "      <th>CHAS</th>\n",
              "      <th>NX</th>\n",
              "      <th>RM</th>\n",
              "      <th>AGE</th>\n",
              "      <th>DIS</th>\n",
              "      <th>RAD</th>\n",
              "      <th>TAX</th>\n",
              "      <th>PTRATIO</th>\n",
              "      <th>B</th>\n",
              "      <th>LSTAT</th>\n",
              "      <th>MEDV</th>\n",
              "    </tr>\n",
              "  </thead>\n",
              "  <tbody>\n",
              "    <tr>\n",
              "      <th>0</th>\n",
              "      <td>0.00632</td>\n",
              "      <td>18.0</td>\n",
              "      <td>2.31</td>\n",
              "      <td>0</td>\n",
              "      <td>0.538</td>\n",
              "      <td>6.575</td>\n",
              "      <td>65.2</td>\n",
              "      <td>4.0900</td>\n",
              "      <td>1</td>\n",
              "      <td>296.0</td>\n",
              "      <td>15.3</td>\n",
              "      <td>396.90</td>\n",
              "      <td>4.98</td>\n",
              "      <td>24.0</td>\n",
              "    </tr>\n",
              "    <tr>\n",
              "      <th>1</th>\n",
              "      <td>0.02731</td>\n",
              "      <td>0.0</td>\n",
              "      <td>7.07</td>\n",
              "      <td>0</td>\n",
              "      <td>0.469</td>\n",
              "      <td>6.421</td>\n",
              "      <td>78.9</td>\n",
              "      <td>4.9671</td>\n",
              "      <td>2</td>\n",
              "      <td>242.0</td>\n",
              "      <td>17.8</td>\n",
              "      <td>396.90</td>\n",
              "      <td>9.14</td>\n",
              "      <td>21.6</td>\n",
              "    </tr>\n",
              "    <tr>\n",
              "      <th>2</th>\n",
              "      <td>0.02729</td>\n",
              "      <td>0.0</td>\n",
              "      <td>7.07</td>\n",
              "      <td>0</td>\n",
              "      <td>0.469</td>\n",
              "      <td>7.185</td>\n",
              "      <td>61.1</td>\n",
              "      <td>4.9671</td>\n",
              "      <td>2</td>\n",
              "      <td>242.0</td>\n",
              "      <td>17.8</td>\n",
              "      <td>392.83</td>\n",
              "      <td>4.03</td>\n",
              "      <td>34.7</td>\n",
              "    </tr>\n",
              "    <tr>\n",
              "      <th>3</th>\n",
              "      <td>0.03237</td>\n",
              "      <td>0.0</td>\n",
              "      <td>2.18</td>\n",
              "      <td>0</td>\n",
              "      <td>0.458</td>\n",
              "      <td>6.998</td>\n",
              "      <td>45.8</td>\n",
              "      <td>6.0622</td>\n",
              "      <td>3</td>\n",
              "      <td>222.0</td>\n",
              "      <td>18.7</td>\n",
              "      <td>394.63</td>\n",
              "      <td>2.94</td>\n",
              "      <td>33.4</td>\n",
              "    </tr>\n",
              "    <tr>\n",
              "      <th>4</th>\n",
              "      <td>0.06905</td>\n",
              "      <td>0.0</td>\n",
              "      <td>2.18</td>\n",
              "      <td>0</td>\n",
              "      <td>0.458</td>\n",
              "      <td>7.147</td>\n",
              "      <td>54.2</td>\n",
              "      <td>6.0622</td>\n",
              "      <td>3</td>\n",
              "      <td>222.0</td>\n",
              "      <td>18.7</td>\n",
              "      <td>396.90</td>\n",
              "      <td>5.33</td>\n",
              "      <td>36.2</td>\n",
              "    </tr>\n",
              "  </tbody>\n",
              "</table>\n",
              "</div>\n",
              "      <button class=\"colab-df-convert\" onclick=\"convertToInteractive('df-10d671e9-0405-40e5-9b07-2cf5e8883501')\"\n",
              "              title=\"Convert this dataframe to an interactive table.\"\n",
              "              style=\"display:none;\">\n",
              "        \n",
              "  <svg xmlns=\"http://www.w3.org/2000/svg\" height=\"24px\"viewBox=\"0 0 24 24\"\n",
              "       width=\"24px\">\n",
              "    <path d=\"M0 0h24v24H0V0z\" fill=\"none\"/>\n",
              "    <path d=\"M18.56 5.44l.94 2.06.94-2.06 2.06-.94-2.06-.94-.94-2.06-.94 2.06-2.06.94zm-11 1L8.5 8.5l.94-2.06 2.06-.94-2.06-.94L8.5 2.5l-.94 2.06-2.06.94zm10 10l.94 2.06.94-2.06 2.06-.94-2.06-.94-.94-2.06-.94 2.06-2.06.94z\"/><path d=\"M17.41 7.96l-1.37-1.37c-.4-.4-.92-.59-1.43-.59-.52 0-1.04.2-1.43.59L10.3 9.45l-7.72 7.72c-.78.78-.78 2.05 0 2.83L4 21.41c.39.39.9.59 1.41.59.51 0 1.02-.2 1.41-.59l7.78-7.78 2.81-2.81c.8-.78.8-2.07 0-2.86zM5.41 20L4 18.59l7.72-7.72 1.47 1.35L5.41 20z\"/>\n",
              "  </svg>\n",
              "      </button>\n",
              "      \n",
              "  <style>\n",
              "    .colab-df-container {\n",
              "      display:flex;\n",
              "      flex-wrap:wrap;\n",
              "      gap: 12px;\n",
              "    }\n",
              "\n",
              "    .colab-df-convert {\n",
              "      background-color: #E8F0FE;\n",
              "      border: none;\n",
              "      border-radius: 50%;\n",
              "      cursor: pointer;\n",
              "      display: none;\n",
              "      fill: #1967D2;\n",
              "      height: 32px;\n",
              "      padding: 0 0 0 0;\n",
              "      width: 32px;\n",
              "    }\n",
              "\n",
              "    .colab-df-convert:hover {\n",
              "      background-color: #E2EBFA;\n",
              "      box-shadow: 0px 1px 2px rgba(60, 64, 67, 0.3), 0px 1px 3px 1px rgba(60, 64, 67, 0.15);\n",
              "      fill: #174EA6;\n",
              "    }\n",
              "\n",
              "    [theme=dark] .colab-df-convert {\n",
              "      background-color: #3B4455;\n",
              "      fill: #D2E3FC;\n",
              "    }\n",
              "\n",
              "    [theme=dark] .colab-df-convert:hover {\n",
              "      background-color: #434B5C;\n",
              "      box-shadow: 0px 1px 3px 1px rgba(0, 0, 0, 0.15);\n",
              "      filter: drop-shadow(0px 1px 2px rgba(0, 0, 0, 0.3));\n",
              "      fill: #FFFFFF;\n",
              "    }\n",
              "  </style>\n",
              "\n",
              "      <script>\n",
              "        const buttonEl =\n",
              "          document.querySelector('#df-10d671e9-0405-40e5-9b07-2cf5e8883501 button.colab-df-convert');\n",
              "        buttonEl.style.display =\n",
              "          google.colab.kernel.accessAllowed ? 'block' : 'none';\n",
              "\n",
              "        async function convertToInteractive(key) {\n",
              "          const element = document.querySelector('#df-10d671e9-0405-40e5-9b07-2cf5e8883501');\n",
              "          const dataTable =\n",
              "            await google.colab.kernel.invokeFunction('convertToInteractive',\n",
              "                                                     [key], {});\n",
              "          if (!dataTable) return;\n",
              "\n",
              "          const docLinkHtml = 'Like what you see? Visit the ' +\n",
              "            '<a target=\"_blank\" href=https://colab.research.google.com/notebooks/data_table.ipynb>data table notebook</a>'\n",
              "            + ' to learn more about interactive tables.';\n",
              "          element.innerHTML = '';\n",
              "          dataTable['output_type'] = 'display_data';\n",
              "          await google.colab.output.renderOutput(dataTable, element);\n",
              "          const docLink = document.createElement('div');\n",
              "          docLink.innerHTML = docLinkHtml;\n",
              "          element.appendChild(docLink);\n",
              "        }\n",
              "      </script>\n",
              "    </div>\n",
              "  </div>\n",
              "  "
            ],
            "text/plain": [
              "      CRIM    ZN  INDUS  CHAS     NX  ...    TAX  PTRATIO       B  LSTAT  MEDV\n",
              "0  0.00632  18.0   2.31     0  0.538  ...  296.0     15.3  396.90   4.98  24.0\n",
              "1  0.02731   0.0   7.07     0  0.469  ...  242.0     17.8  396.90   9.14  21.6\n",
              "2  0.02729   0.0   7.07     0  0.469  ...  242.0     17.8  392.83   4.03  34.7\n",
              "3  0.03237   0.0   2.18     0  0.458  ...  222.0     18.7  394.63   2.94  33.4\n",
              "4  0.06905   0.0   2.18     0  0.458  ...  222.0     18.7  396.90   5.33  36.2\n",
              "\n",
              "[5 rows x 14 columns]"
            ]
          },
          "metadata": {},
          "execution_count": 20
        }
      ]
    },
    {
      "cell_type": "code",
      "source": [
        "df.info() # to see if any missing values of data are there , data type "
      ],
      "metadata": {
        "colab": {
          "base_uri": "https://localhost:8080/"
        },
        "id": "_0Vi45vMeYje",
        "outputId": "69adac6e-513e-49a2-90bd-b703fe760bda"
      },
      "execution_count": null,
      "outputs": [
        {
          "output_type": "stream",
          "name": "stdout",
          "text": [
            "<class 'pandas.core.frame.DataFrame'>\n",
            "RangeIndex: 506 entries, 0 to 505\n",
            "Data columns (total 14 columns):\n",
            " #   Column   Non-Null Count  Dtype  \n",
            "---  ------   --------------  -----  \n",
            " 0   CRIM     506 non-null    float64\n",
            " 1   ZN       506 non-null    float64\n",
            " 2   INDUS    506 non-null    float64\n",
            " 3   CHAS     506 non-null    int64  \n",
            " 4   NX       506 non-null    float64\n",
            " 5   RM       506 non-null    float64\n",
            " 6   AGE      506 non-null    float64\n",
            " 7   DIS      506 non-null    float64\n",
            " 8   RAD      506 non-null    int64  \n",
            " 9   TAX      506 non-null    float64\n",
            " 10  PTRATIO  506 non-null    float64\n",
            " 11  B        506 non-null    float64\n",
            " 12  LSTAT    506 non-null    float64\n",
            " 13  MEDV     506 non-null    float64\n",
            "dtypes: float64(12), int64(2)\n",
            "memory usage: 55.5 KB\n"
          ]
        }
      ]
    },
    {
      "cell_type": "code",
      "source": [
        "df.describe() # to see summary statistics of data "
      ],
      "metadata": {
        "colab": {
          "base_uri": "https://localhost:8080/",
          "height": 364
        },
        "id": "ZR3PXkyUenkP",
        "outputId": "a627625b-29a9-4eac-c9b7-52b9cd50f1b3"
      },
      "execution_count": null,
      "outputs": [
        {
          "output_type": "execute_result",
          "data": {
            "text/html": [
              "\n",
              "  <div id=\"df-7350edec-c54e-481f-814a-8a311a7f48e5\">\n",
              "    <div class=\"colab-df-container\">\n",
              "      <div>\n",
              "<style scoped>\n",
              "    .dataframe tbody tr th:only-of-type {\n",
              "        vertical-align: middle;\n",
              "    }\n",
              "\n",
              "    .dataframe tbody tr th {\n",
              "        vertical-align: top;\n",
              "    }\n",
              "\n",
              "    .dataframe thead th {\n",
              "        text-align: right;\n",
              "    }\n",
              "</style>\n",
              "<table border=\"1\" class=\"dataframe\">\n",
              "  <thead>\n",
              "    <tr style=\"text-align: right;\">\n",
              "      <th></th>\n",
              "      <th>CRIM</th>\n",
              "      <th>ZN</th>\n",
              "      <th>INDUS</th>\n",
              "      <th>CHAS</th>\n",
              "      <th>NX</th>\n",
              "      <th>RM</th>\n",
              "      <th>AGE</th>\n",
              "      <th>DIS</th>\n",
              "      <th>RAD</th>\n",
              "      <th>TAX</th>\n",
              "      <th>PTRATIO</th>\n",
              "      <th>B</th>\n",
              "      <th>LSTAT</th>\n",
              "      <th>MEDV</th>\n",
              "    </tr>\n",
              "  </thead>\n",
              "  <tbody>\n",
              "    <tr>\n",
              "      <th>count</th>\n",
              "      <td>506.000000</td>\n",
              "      <td>506.000000</td>\n",
              "      <td>506.000000</td>\n",
              "      <td>506.000000</td>\n",
              "      <td>506.000000</td>\n",
              "      <td>506.000000</td>\n",
              "      <td>506.000000</td>\n",
              "      <td>506.000000</td>\n",
              "      <td>506.000000</td>\n",
              "      <td>506.000000</td>\n",
              "      <td>506.000000</td>\n",
              "      <td>506.000000</td>\n",
              "      <td>506.000000</td>\n",
              "      <td>506.000000</td>\n",
              "    </tr>\n",
              "    <tr>\n",
              "      <th>mean</th>\n",
              "      <td>3.613524</td>\n",
              "      <td>11.363636</td>\n",
              "      <td>11.136779</td>\n",
              "      <td>0.069170</td>\n",
              "      <td>0.554695</td>\n",
              "      <td>6.284634</td>\n",
              "      <td>68.574901</td>\n",
              "      <td>3.795043</td>\n",
              "      <td>9.549407</td>\n",
              "      <td>408.237154</td>\n",
              "      <td>18.455534</td>\n",
              "      <td>356.674032</td>\n",
              "      <td>12.653063</td>\n",
              "      <td>22.532806</td>\n",
              "    </tr>\n",
              "    <tr>\n",
              "      <th>std</th>\n",
              "      <td>8.601545</td>\n",
              "      <td>23.322453</td>\n",
              "      <td>6.860353</td>\n",
              "      <td>0.253994</td>\n",
              "      <td>0.115878</td>\n",
              "      <td>0.702617</td>\n",
              "      <td>28.148861</td>\n",
              "      <td>2.105710</td>\n",
              "      <td>8.707259</td>\n",
              "      <td>168.537116</td>\n",
              "      <td>2.164946</td>\n",
              "      <td>91.294864</td>\n",
              "      <td>7.141062</td>\n",
              "      <td>9.197104</td>\n",
              "    </tr>\n",
              "    <tr>\n",
              "      <th>min</th>\n",
              "      <td>0.006320</td>\n",
              "      <td>0.000000</td>\n",
              "      <td>0.460000</td>\n",
              "      <td>0.000000</td>\n",
              "      <td>0.385000</td>\n",
              "      <td>3.561000</td>\n",
              "      <td>2.900000</td>\n",
              "      <td>1.129600</td>\n",
              "      <td>1.000000</td>\n",
              "      <td>187.000000</td>\n",
              "      <td>12.600000</td>\n",
              "      <td>0.320000</td>\n",
              "      <td>1.730000</td>\n",
              "      <td>5.000000</td>\n",
              "    </tr>\n",
              "    <tr>\n",
              "      <th>25%</th>\n",
              "      <td>0.082045</td>\n",
              "      <td>0.000000</td>\n",
              "      <td>5.190000</td>\n",
              "      <td>0.000000</td>\n",
              "      <td>0.449000</td>\n",
              "      <td>5.885500</td>\n",
              "      <td>45.025000</td>\n",
              "      <td>2.100175</td>\n",
              "      <td>4.000000</td>\n",
              "      <td>279.000000</td>\n",
              "      <td>17.400000</td>\n",
              "      <td>375.377500</td>\n",
              "      <td>6.950000</td>\n",
              "      <td>17.025000</td>\n",
              "    </tr>\n",
              "    <tr>\n",
              "      <th>50%</th>\n",
              "      <td>0.256510</td>\n",
              "      <td>0.000000</td>\n",
              "      <td>9.690000</td>\n",
              "      <td>0.000000</td>\n",
              "      <td>0.538000</td>\n",
              "      <td>6.208500</td>\n",
              "      <td>77.500000</td>\n",
              "      <td>3.207450</td>\n",
              "      <td>5.000000</td>\n",
              "      <td>330.000000</td>\n",
              "      <td>19.050000</td>\n",
              "      <td>391.440000</td>\n",
              "      <td>11.360000</td>\n",
              "      <td>21.200000</td>\n",
              "    </tr>\n",
              "    <tr>\n",
              "      <th>75%</th>\n",
              "      <td>3.677083</td>\n",
              "      <td>12.500000</td>\n",
              "      <td>18.100000</td>\n",
              "      <td>0.000000</td>\n",
              "      <td>0.624000</td>\n",
              "      <td>6.623500</td>\n",
              "      <td>94.075000</td>\n",
              "      <td>5.188425</td>\n",
              "      <td>24.000000</td>\n",
              "      <td>666.000000</td>\n",
              "      <td>20.200000</td>\n",
              "      <td>396.225000</td>\n",
              "      <td>16.955000</td>\n",
              "      <td>25.000000</td>\n",
              "    </tr>\n",
              "    <tr>\n",
              "      <th>max</th>\n",
              "      <td>88.976200</td>\n",
              "      <td>100.000000</td>\n",
              "      <td>27.740000</td>\n",
              "      <td>1.000000</td>\n",
              "      <td>0.871000</td>\n",
              "      <td>8.780000</td>\n",
              "      <td>100.000000</td>\n",
              "      <td>12.126500</td>\n",
              "      <td>24.000000</td>\n",
              "      <td>711.000000</td>\n",
              "      <td>22.000000</td>\n",
              "      <td>396.900000</td>\n",
              "      <td>37.970000</td>\n",
              "      <td>50.000000</td>\n",
              "    </tr>\n",
              "  </tbody>\n",
              "</table>\n",
              "</div>\n",
              "      <button class=\"colab-df-convert\" onclick=\"convertToInteractive('df-7350edec-c54e-481f-814a-8a311a7f48e5')\"\n",
              "              title=\"Convert this dataframe to an interactive table.\"\n",
              "              style=\"display:none;\">\n",
              "        \n",
              "  <svg xmlns=\"http://www.w3.org/2000/svg\" height=\"24px\"viewBox=\"0 0 24 24\"\n",
              "       width=\"24px\">\n",
              "    <path d=\"M0 0h24v24H0V0z\" fill=\"none\"/>\n",
              "    <path d=\"M18.56 5.44l.94 2.06.94-2.06 2.06-.94-2.06-.94-.94-2.06-.94 2.06-2.06.94zm-11 1L8.5 8.5l.94-2.06 2.06-.94-2.06-.94L8.5 2.5l-.94 2.06-2.06.94zm10 10l.94 2.06.94-2.06 2.06-.94-2.06-.94-.94-2.06-.94 2.06-2.06.94z\"/><path d=\"M17.41 7.96l-1.37-1.37c-.4-.4-.92-.59-1.43-.59-.52 0-1.04.2-1.43.59L10.3 9.45l-7.72 7.72c-.78.78-.78 2.05 0 2.83L4 21.41c.39.39.9.59 1.41.59.51 0 1.02-.2 1.41-.59l7.78-7.78 2.81-2.81c.8-.78.8-2.07 0-2.86zM5.41 20L4 18.59l7.72-7.72 1.47 1.35L5.41 20z\"/>\n",
              "  </svg>\n",
              "      </button>\n",
              "      \n",
              "  <style>\n",
              "    .colab-df-container {\n",
              "      display:flex;\n",
              "      flex-wrap:wrap;\n",
              "      gap: 12px;\n",
              "    }\n",
              "\n",
              "    .colab-df-convert {\n",
              "      background-color: #E8F0FE;\n",
              "      border: none;\n",
              "      border-radius: 50%;\n",
              "      cursor: pointer;\n",
              "      display: none;\n",
              "      fill: #1967D2;\n",
              "      height: 32px;\n",
              "      padding: 0 0 0 0;\n",
              "      width: 32px;\n",
              "    }\n",
              "\n",
              "    .colab-df-convert:hover {\n",
              "      background-color: #E2EBFA;\n",
              "      box-shadow: 0px 1px 2px rgba(60, 64, 67, 0.3), 0px 1px 3px 1px rgba(60, 64, 67, 0.15);\n",
              "      fill: #174EA6;\n",
              "    }\n",
              "\n",
              "    [theme=dark] .colab-df-convert {\n",
              "      background-color: #3B4455;\n",
              "      fill: #D2E3FC;\n",
              "    }\n",
              "\n",
              "    [theme=dark] .colab-df-convert:hover {\n",
              "      background-color: #434B5C;\n",
              "      box-shadow: 0px 1px 3px 1px rgba(0, 0, 0, 0.15);\n",
              "      filter: drop-shadow(0px 1px 2px rgba(0, 0, 0, 0.3));\n",
              "      fill: #FFFFFF;\n",
              "    }\n",
              "  </style>\n",
              "\n",
              "      <script>\n",
              "        const buttonEl =\n",
              "          document.querySelector('#df-7350edec-c54e-481f-814a-8a311a7f48e5 button.colab-df-convert');\n",
              "        buttonEl.style.display =\n",
              "          google.colab.kernel.accessAllowed ? 'block' : 'none';\n",
              "\n",
              "        async function convertToInteractive(key) {\n",
              "          const element = document.querySelector('#df-7350edec-c54e-481f-814a-8a311a7f48e5');\n",
              "          const dataTable =\n",
              "            await google.colab.kernel.invokeFunction('convertToInteractive',\n",
              "                                                     [key], {});\n",
              "          if (!dataTable) return;\n",
              "\n",
              "          const docLinkHtml = 'Like what you see? Visit the ' +\n",
              "            '<a target=\"_blank\" href=https://colab.research.google.com/notebooks/data_table.ipynb>data table notebook</a>'\n",
              "            + ' to learn more about interactive tables.';\n",
              "          element.innerHTML = '';\n",
              "          dataTable['output_type'] = 'display_data';\n",
              "          await google.colab.output.renderOutput(dataTable, element);\n",
              "          const docLink = document.createElement('div');\n",
              "          docLink.innerHTML = docLinkHtml;\n",
              "          element.appendChild(docLink);\n",
              "        }\n",
              "      </script>\n",
              "    </div>\n",
              "  </div>\n",
              "  "
            ],
            "text/plain": [
              "             CRIM          ZN       INDUS  ...           B       LSTAT        MEDV\n",
              "count  506.000000  506.000000  506.000000  ...  506.000000  506.000000  506.000000\n",
              "mean     3.613524   11.363636   11.136779  ...  356.674032   12.653063   22.532806\n",
              "std      8.601545   23.322453    6.860353  ...   91.294864    7.141062    9.197104\n",
              "min      0.006320    0.000000    0.460000  ...    0.320000    1.730000    5.000000\n",
              "25%      0.082045    0.000000    5.190000  ...  375.377500    6.950000   17.025000\n",
              "50%      0.256510    0.000000    9.690000  ...  391.440000   11.360000   21.200000\n",
              "75%      3.677083   12.500000   18.100000  ...  396.225000   16.955000   25.000000\n",
              "max     88.976200  100.000000   27.740000  ...  396.900000   37.970000   50.000000\n",
              "\n",
              "[8 rows x 14 columns]"
            ]
          },
          "metadata": {},
          "execution_count": 22
        }
      ]
    },
    {
      "cell_type": "markdown",
      "source": [
        ""
      ],
      "metadata": {
        "id": "86ApJDu2kTWz"
      }
    },
    {
      "cell_type": "markdown",
      "source": [
        "- CRIM - per capita crime rate by town\n",
        "- ZN - proportion of residential land zoned for lots over 25,000 sq.ft.\n",
        "- INDUS - proportion of non-retail business acres per town.\n",
        "- CHAS - Charles River dummy variable (1 if tract bounds river; 0 otherwise)\n",
        "NOX - nitric oxides concentration (parts per 10 million)\n",
        "- RM - average number of rooms per dwelling\n",
        "- AGE - proportion of owner-occupied units built prior to 1940\n",
        "- DIS - weighted distances to five Boston employment centres\n",
        "- RAD - index of accessibility to radial highways\n",
        "- TAX - full-value property-tax rate per $10,000\n",
        "PTRATIO - pupil-teacher ratio by town\n",
        "- B - 1000(Bk - 0.63)^2 where Bk is the proportion of blacks by town\n",
        "- LSTAT - % lower status of the population\n",
        "- MEDV - Median value of owner-occupied homes in $1000's\n",
        "\n"
      ],
      "metadata": {
        "id": "ljvCKVd0jDrE"
      }
    },
    {
      "cell_type": "markdown",
      "source": [
        "# Step 4 : Define Target Variable (y) and Features (X)"
      ],
      "metadata": {
        "id": "qlfyefTyg6Oa"
      }
    },
    {
      "cell_type": "code",
      "source": [
        "df.columns "
      ],
      "metadata": {
        "colab": {
          "base_uri": "https://localhost:8080/"
        },
        "id": "UCqeeXezhJmq",
        "outputId": "c453cdb5-461b-4f54-b53c-f3bb6dc86807"
      },
      "execution_count": null,
      "outputs": [
        {
          "output_type": "execute_result",
          "data": {
            "text/plain": [
              "Index(['CRIM', 'ZN', 'INDUS', 'CHAS', 'NX', 'RM', 'AGE', 'DIS', 'RAD', 'TAX',\n",
              "       'PTRATIO', 'B', 'LSTAT', 'MEDV'],\n",
              "      dtype='object')"
            ]
          },
          "metadata": {},
          "execution_count": 23
        }
      ]
    },
    {
      "cell_type": "code",
      "source": [
        "X = df[['CRIM', 'ZN', 'INDUS', 'CHAS', 'NX', 'RM', 'AGE', 'DIS', 'RAD', 'TAX',\n",
        "       'PTRATIO', 'B', 'LSTAT' ]]"
      ],
      "metadata": {
        "id": "idVJvV0hhQNa"
      },
      "execution_count": null,
      "outputs": []
    },
    {
      "cell_type": "markdown",
      "source": [
        "we can also write this another way"
      ],
      "metadata": {
        "id": "YHe0es5lkwd0"
      }
    },
    {
      "cell_type": "code",
      "source": [
        "X = df.drop(['MEDV'], axis = 1)"
      ],
      "metadata": {
        "id": "nrgLeQjFkXG8"
      },
      "execution_count": null,
      "outputs": []
    },
    {
      "cell_type": "markdown",
      "source": [
        "- here medv is a y variable and y is here a continuous variable  "
      ],
      "metadata": {
        "id": "sYI7jgNXL5es"
      }
    },
    {
      "cell_type": "code",
      "source": [
        "X.shape"
      ],
      "metadata": {
        "colab": {
          "base_uri": "https://localhost:8080/"
        },
        "id": "jowxA07wm_vr",
        "outputId": "3176d39d-1c03-42bf-a945-93fe8f4dd525"
      },
      "execution_count": null,
      "outputs": [
        {
          "output_type": "execute_result",
          "data": {
            "text/plain": [
              "(506, 13)"
            ]
          },
          "metadata": {},
          "execution_count": 26
        }
      ]
    },
    {
      "cell_type": "markdown",
      "source": [
        "506 rows, 13 columns "
      ],
      "metadata": {
        "id": "irEs5GwEnKXi"
      }
    },
    {
      "cell_type": "code",
      "source": [
        "Y= df['MEDV']"
      ],
      "metadata": {
        "id": "l3xVGQKCnOlv"
      },
      "execution_count": null,
      "outputs": []
    },
    {
      "cell_type": "code",
      "source": [
        "Y.shape"
      ],
      "metadata": {
        "colab": {
          "base_uri": "https://localhost:8080/"
        },
        "id": "bJ0isnZqnTYh",
        "outputId": "f2b298d9-d46f-4cce-c255-1dd613821760"
      },
      "execution_count": null,
      "outputs": [
        {
          "output_type": "execute_result",
          "data": {
            "text/plain": [
              "(506,)"
            ]
          },
          "metadata": {},
          "execution_count": 28
        }
      ]
    },
    {
      "cell_type": "markdown",
      "source": [
        "506 rows, 0 columns \n",
        "\n",
        "- in sklearn  we want y to be the row vector , features (X)to be the column vector"
      ],
      "metadata": {
        "id": "1Tq-B0UhnYth"
      }
    },
    {
      "cell_type": "code",
      "source": [
        "Y = df[['MEDV']]"
      ],
      "metadata": {
        "id": "FwxzsOwknufo"
      },
      "execution_count": null,
      "outputs": []
    },
    {
      "cell_type": "code",
      "source": [
        "Y.shape"
      ],
      "metadata": {
        "colab": {
          "base_uri": "https://localhost:8080/"
        },
        "id": "ZSpKmEItnzcW",
        "outputId": "a715a945-88d8-418b-f909-c7ea472580b9"
      },
      "execution_count": null,
      "outputs": [
        {
          "output_type": "execute_result",
          "data": {
            "text/plain": [
              "(506, 1)"
            ]
          },
          "metadata": {},
          "execution_count": 30
        }
      ]
    },
    {
      "cell_type": "markdown",
      "source": [
        "# Step 5 : Train Test Split"
      ],
      "metadata": {
        "id": "kTEE39TLn7FC"
      }
    },
    {
      "cell_type": "code",
      "source": [
        " from sklearn.model_selection import train_test_split"
      ],
      "metadata": {
        "id": "rLIqW23sn6n4"
      },
      "execution_count": null,
      "outputs": []
    },
    {
      "cell_type": "markdown",
      "source": [
        "from sklearn which is the machine learning library we import train_test_split function"
      ],
      "metadata": {
        "id": "-v8SR6o1oVZa"
      }
    },
    {
      "cell_type": "code",
      "source": [
        "X_train, X_test, Y_train,Y_test = train_test_split(X,Y,test_size=0.3,random_state =2529)"
      ],
      "metadata": {
        "id": "J89PQrP0of36"
      },
      "execution_count": null,
      "outputs": []
    },
    {
      "cell_type": "markdown",
      "source": [
        "- 0.3 => 30% \n",
        "- X,Y are passed cuz we are performing train, test on it \n",
        "- we can also write train_size =0.7 istead"
      ],
      "metadata": {
        "id": "IZJ4-ilIrH_O"
      }
    },
    {
      "cell_type": "markdown",
      "source": [
        "- random data is chosen which is 70% for x,y for training \n",
        "- random data is chosen which is 30% for x,y for training \n",
        "- when we use random_state = '..' this fixes the data i.e same random data is collected every time \n",
        "- we can give any number for random state "
      ],
      "metadata": {
        "id": "_v4uFCH-xHji"
      }
    },
    {
      "cell_type": "code",
      "source": [
        "X_train.shape,X_test.shape,Y_train.shape,Y_test.shape"
      ],
      "metadata": {
        "colab": {
          "base_uri": "https://localhost:8080/"
        },
        "id": "MGltH8oVriJH",
        "outputId": "e1b0fc37-5494-4993-db91-30fce093decd"
      },
      "execution_count": null,
      "outputs": [
        {
          "output_type": "execute_result",
          "data": {
            "text/plain": [
              "((354, 13), (152, 13), (354, 1), (152, 1))"
            ]
          },
          "metadata": {},
          "execution_count": 33
        }
      ]
    },
    {
      "cell_type": "code",
      "source": [
        "X_train # displays train dataset "
      ],
      "metadata": {
        "colab": {
          "base_uri": "https://localhost:8080/",
          "height": 468
        },
        "id": "Qfoch21UsNm8",
        "outputId": "f5b63a33-6891-43d5-b20c-eb6adc3ab51a"
      },
      "execution_count": null,
      "outputs": [
        {
          "output_type": "execute_result",
          "data": {
            "text/html": [
              "\n",
              "  <div id=\"df-692d002d-66ef-4e12-9d9e-9b3674eb61e7\">\n",
              "    <div class=\"colab-df-container\">\n",
              "      <div>\n",
              "<style scoped>\n",
              "    .dataframe tbody tr th:only-of-type {\n",
              "        vertical-align: middle;\n",
              "    }\n",
              "\n",
              "    .dataframe tbody tr th {\n",
              "        vertical-align: top;\n",
              "    }\n",
              "\n",
              "    .dataframe thead th {\n",
              "        text-align: right;\n",
              "    }\n",
              "</style>\n",
              "<table border=\"1\" class=\"dataframe\">\n",
              "  <thead>\n",
              "    <tr style=\"text-align: right;\">\n",
              "      <th></th>\n",
              "      <th>CRIM</th>\n",
              "      <th>ZN</th>\n",
              "      <th>INDUS</th>\n",
              "      <th>CHAS</th>\n",
              "      <th>NX</th>\n",
              "      <th>RM</th>\n",
              "      <th>AGE</th>\n",
              "      <th>DIS</th>\n",
              "      <th>RAD</th>\n",
              "      <th>TAX</th>\n",
              "      <th>PTRATIO</th>\n",
              "      <th>B</th>\n",
              "      <th>LSTAT</th>\n",
              "    </tr>\n",
              "  </thead>\n",
              "  <tbody>\n",
              "    <tr>\n",
              "      <th>310</th>\n",
              "      <td>2.63548</td>\n",
              "      <td>0.0</td>\n",
              "      <td>9.90</td>\n",
              "      <td>0</td>\n",
              "      <td>0.544</td>\n",
              "      <td>4.973</td>\n",
              "      <td>37.8</td>\n",
              "      <td>2.5194</td>\n",
              "      <td>4</td>\n",
              "      <td>304.0</td>\n",
              "      <td>18.4</td>\n",
              "      <td>350.45</td>\n",
              "      <td>12.64</td>\n",
              "    </tr>\n",
              "    <tr>\n",
              "      <th>202</th>\n",
              "      <td>0.02177</td>\n",
              "      <td>82.5</td>\n",
              "      <td>2.03</td>\n",
              "      <td>0</td>\n",
              "      <td>0.415</td>\n",
              "      <td>7.610</td>\n",
              "      <td>15.7</td>\n",
              "      <td>6.2700</td>\n",
              "      <td>2</td>\n",
              "      <td>348.0</td>\n",
              "      <td>14.7</td>\n",
              "      <td>395.38</td>\n",
              "      <td>3.11</td>\n",
              "    </tr>\n",
              "    <tr>\n",
              "      <th>76</th>\n",
              "      <td>0.10153</td>\n",
              "      <td>0.0</td>\n",
              "      <td>12.83</td>\n",
              "      <td>0</td>\n",
              "      <td>0.437</td>\n",
              "      <td>6.279</td>\n",
              "      <td>74.5</td>\n",
              "      <td>4.0522</td>\n",
              "      <td>5</td>\n",
              "      <td>398.0</td>\n",
              "      <td>18.7</td>\n",
              "      <td>373.66</td>\n",
              "      <td>11.97</td>\n",
              "    </tr>\n",
              "    <tr>\n",
              "      <th>152</th>\n",
              "      <td>1.12658</td>\n",
              "      <td>0.0</td>\n",
              "      <td>19.58</td>\n",
              "      <td>1</td>\n",
              "      <td>0.871</td>\n",
              "      <td>5.012</td>\n",
              "      <td>88.0</td>\n",
              "      <td>1.6102</td>\n",
              "      <td>5</td>\n",
              "      <td>403.0</td>\n",
              "      <td>14.7</td>\n",
              "      <td>343.28</td>\n",
              "      <td>12.12</td>\n",
              "    </tr>\n",
              "    <tr>\n",
              "      <th>186</th>\n",
              "      <td>0.05602</td>\n",
              "      <td>0.0</td>\n",
              "      <td>2.46</td>\n",
              "      <td>0</td>\n",
              "      <td>0.488</td>\n",
              "      <td>7.831</td>\n",
              "      <td>53.6</td>\n",
              "      <td>3.1992</td>\n",
              "      <td>3</td>\n",
              "      <td>193.0</td>\n",
              "      <td>17.8</td>\n",
              "      <td>392.63</td>\n",
              "      <td>4.45</td>\n",
              "    </tr>\n",
              "    <tr>\n",
              "      <th>...</th>\n",
              "      <td>...</td>\n",
              "      <td>...</td>\n",
              "      <td>...</td>\n",
              "      <td>...</td>\n",
              "      <td>...</td>\n",
              "      <td>...</td>\n",
              "      <td>...</td>\n",
              "      <td>...</td>\n",
              "      <td>...</td>\n",
              "      <td>...</td>\n",
              "      <td>...</td>\n",
              "      <td>...</td>\n",
              "      <td>...</td>\n",
              "    </tr>\n",
              "    <tr>\n",
              "      <th>228</th>\n",
              "      <td>0.29819</td>\n",
              "      <td>0.0</td>\n",
              "      <td>6.20</td>\n",
              "      <td>0</td>\n",
              "      <td>0.504</td>\n",
              "      <td>7.686</td>\n",
              "      <td>17.0</td>\n",
              "      <td>3.3751</td>\n",
              "      <td>8</td>\n",
              "      <td>307.0</td>\n",
              "      <td>17.4</td>\n",
              "      <td>377.51</td>\n",
              "      <td>3.92</td>\n",
              "    </tr>\n",
              "    <tr>\n",
              "      <th>399</th>\n",
              "      <td>9.91655</td>\n",
              "      <td>0.0</td>\n",
              "      <td>18.10</td>\n",
              "      <td>0</td>\n",
              "      <td>0.693</td>\n",
              "      <td>5.852</td>\n",
              "      <td>77.8</td>\n",
              "      <td>1.5004</td>\n",
              "      <td>24</td>\n",
              "      <td>666.0</td>\n",
              "      <td>20.2</td>\n",
              "      <td>338.16</td>\n",
              "      <td>29.97</td>\n",
              "    </tr>\n",
              "    <tr>\n",
              "      <th>316</th>\n",
              "      <td>0.31827</td>\n",
              "      <td>0.0</td>\n",
              "      <td>9.90</td>\n",
              "      <td>0</td>\n",
              "      <td>0.544</td>\n",
              "      <td>5.914</td>\n",
              "      <td>83.2</td>\n",
              "      <td>3.9986</td>\n",
              "      <td>4</td>\n",
              "      <td>304.0</td>\n",
              "      <td>18.4</td>\n",
              "      <td>390.70</td>\n",
              "      <td>18.33</td>\n",
              "    </tr>\n",
              "    <tr>\n",
              "      <th>50</th>\n",
              "      <td>0.08873</td>\n",
              "      <td>21.0</td>\n",
              "      <td>5.64</td>\n",
              "      <td>0</td>\n",
              "      <td>0.439</td>\n",
              "      <td>5.963</td>\n",
              "      <td>45.7</td>\n",
              "      <td>6.8147</td>\n",
              "      <td>4</td>\n",
              "      <td>243.0</td>\n",
              "      <td>16.8</td>\n",
              "      <td>395.56</td>\n",
              "      <td>13.45</td>\n",
              "    </tr>\n",
              "    <tr>\n",
              "      <th>352</th>\n",
              "      <td>0.07244</td>\n",
              "      <td>60.0</td>\n",
              "      <td>1.69</td>\n",
              "      <td>0</td>\n",
              "      <td>0.411</td>\n",
              "      <td>5.884</td>\n",
              "      <td>18.5</td>\n",
              "      <td>10.7103</td>\n",
              "      <td>4</td>\n",
              "      <td>411.0</td>\n",
              "      <td>18.3</td>\n",
              "      <td>392.33</td>\n",
              "      <td>7.79</td>\n",
              "    </tr>\n",
              "  </tbody>\n",
              "</table>\n",
              "<p>354 rows × 13 columns</p>\n",
              "</div>\n",
              "      <button class=\"colab-df-convert\" onclick=\"convertToInteractive('df-692d002d-66ef-4e12-9d9e-9b3674eb61e7')\"\n",
              "              title=\"Convert this dataframe to an interactive table.\"\n",
              "              style=\"display:none;\">\n",
              "        \n",
              "  <svg xmlns=\"http://www.w3.org/2000/svg\" height=\"24px\"viewBox=\"0 0 24 24\"\n",
              "       width=\"24px\">\n",
              "    <path d=\"M0 0h24v24H0V0z\" fill=\"none\"/>\n",
              "    <path d=\"M18.56 5.44l.94 2.06.94-2.06 2.06-.94-2.06-.94-.94-2.06-.94 2.06-2.06.94zm-11 1L8.5 8.5l.94-2.06 2.06-.94-2.06-.94L8.5 2.5l-.94 2.06-2.06.94zm10 10l.94 2.06.94-2.06 2.06-.94-2.06-.94-.94-2.06-.94 2.06-2.06.94z\"/><path d=\"M17.41 7.96l-1.37-1.37c-.4-.4-.92-.59-1.43-.59-.52 0-1.04.2-1.43.59L10.3 9.45l-7.72 7.72c-.78.78-.78 2.05 0 2.83L4 21.41c.39.39.9.59 1.41.59.51 0 1.02-.2 1.41-.59l7.78-7.78 2.81-2.81c.8-.78.8-2.07 0-2.86zM5.41 20L4 18.59l7.72-7.72 1.47 1.35L5.41 20z\"/>\n",
              "  </svg>\n",
              "      </button>\n",
              "      \n",
              "  <style>\n",
              "    .colab-df-container {\n",
              "      display:flex;\n",
              "      flex-wrap:wrap;\n",
              "      gap: 12px;\n",
              "    }\n",
              "\n",
              "    .colab-df-convert {\n",
              "      background-color: #E8F0FE;\n",
              "      border: none;\n",
              "      border-radius: 50%;\n",
              "      cursor: pointer;\n",
              "      display: none;\n",
              "      fill: #1967D2;\n",
              "      height: 32px;\n",
              "      padding: 0 0 0 0;\n",
              "      width: 32px;\n",
              "    }\n",
              "\n",
              "    .colab-df-convert:hover {\n",
              "      background-color: #E2EBFA;\n",
              "      box-shadow: 0px 1px 2px rgba(60, 64, 67, 0.3), 0px 1px 3px 1px rgba(60, 64, 67, 0.15);\n",
              "      fill: #174EA6;\n",
              "    }\n",
              "\n",
              "    [theme=dark] .colab-df-convert {\n",
              "      background-color: #3B4455;\n",
              "      fill: #D2E3FC;\n",
              "    }\n",
              "\n",
              "    [theme=dark] .colab-df-convert:hover {\n",
              "      background-color: #434B5C;\n",
              "      box-shadow: 0px 1px 3px 1px rgba(0, 0, 0, 0.15);\n",
              "      filter: drop-shadow(0px 1px 2px rgba(0, 0, 0, 0.3));\n",
              "      fill: #FFFFFF;\n",
              "    }\n",
              "  </style>\n",
              "\n",
              "      <script>\n",
              "        const buttonEl =\n",
              "          document.querySelector('#df-692d002d-66ef-4e12-9d9e-9b3674eb61e7 button.colab-df-convert');\n",
              "        buttonEl.style.display =\n",
              "          google.colab.kernel.accessAllowed ? 'block' : 'none';\n",
              "\n",
              "        async function convertToInteractive(key) {\n",
              "          const element = document.querySelector('#df-692d002d-66ef-4e12-9d9e-9b3674eb61e7');\n",
              "          const dataTable =\n",
              "            await google.colab.kernel.invokeFunction('convertToInteractive',\n",
              "                                                     [key], {});\n",
              "          if (!dataTable) return;\n",
              "\n",
              "          const docLinkHtml = 'Like what you see? Visit the ' +\n",
              "            '<a target=\"_blank\" href=https://colab.research.google.com/notebooks/data_table.ipynb>data table notebook</a>'\n",
              "            + ' to learn more about interactive tables.';\n",
              "          element.innerHTML = '';\n",
              "          dataTable['output_type'] = 'display_data';\n",
              "          await google.colab.output.renderOutput(dataTable, element);\n",
              "          const docLink = document.createElement('div');\n",
              "          docLink.innerHTML = docLinkHtml;\n",
              "          element.appendChild(docLink);\n",
              "        }\n",
              "      </script>\n",
              "    </div>\n",
              "  </div>\n",
              "  "
            ],
            "text/plain": [
              "        CRIM    ZN  INDUS  CHAS     NX  ...  RAD    TAX  PTRATIO       B  LSTAT\n",
              "310  2.63548   0.0   9.90     0  0.544  ...    4  304.0     18.4  350.45  12.64\n",
              "202  0.02177  82.5   2.03     0  0.415  ...    2  348.0     14.7  395.38   3.11\n",
              "76   0.10153   0.0  12.83     0  0.437  ...    5  398.0     18.7  373.66  11.97\n",
              "152  1.12658   0.0  19.58     1  0.871  ...    5  403.0     14.7  343.28  12.12\n",
              "186  0.05602   0.0   2.46     0  0.488  ...    3  193.0     17.8  392.63   4.45\n",
              "..       ...   ...    ...   ...    ...  ...  ...    ...      ...     ...    ...\n",
              "228  0.29819   0.0   6.20     0  0.504  ...    8  307.0     17.4  377.51   3.92\n",
              "399  9.91655   0.0  18.10     0  0.693  ...   24  666.0     20.2  338.16  29.97\n",
              "316  0.31827   0.0   9.90     0  0.544  ...    4  304.0     18.4  390.70  18.33\n",
              "50   0.08873  21.0   5.64     0  0.439  ...    4  243.0     16.8  395.56  13.45\n",
              "352  0.07244  60.0   1.69     0  0.411  ...    4  411.0     18.3  392.33   7.79\n",
              "\n",
              "[354 rows x 13 columns]"
            ]
          },
          "metadata": {},
          "execution_count": 34
        }
      ]
    },
    {
      "cell_type": "markdown",
      "source": [
        "- random data is chosen which is 70% for x,y for training \n",
        "- random data is chosen which is 30% for x,y for training "
      ],
      "metadata": {
        "id": "ddsKTSAiq8LN"
      }
    },
    {
      "cell_type": "markdown",
      "source": [
        "- the data frame we have choosen i.e bosten data frame has countinuous data values so hte model we use is regression model "
      ],
      "metadata": {
        "id": "hxH5i5wsUtjj"
      }
    },
    {
      "cell_type": "markdown",
      "source": [
        "## Session 4 "
      ],
      "metadata": {
        "id": "kQRgrCE5axYH"
      }
    },
    {
      "cell_type": "markdown",
      "source": [
        "# Step 6 : Model Selection"
      ],
      "metadata": {
        "id": "xB6_bhSSVUW4"
      }
    },
    {
      "cell_type": "code",
      "source": [
        "from sklearn.linear_model import LinearRegression"
      ],
      "metadata": {
        "id": "ugZjDZMEsKhp"
      },
      "execution_count": null,
      "outputs": []
    },
    {
      "cell_type": "markdown",
      "source": [
        "- This is case sensitive so use correct spelling ans case(capital,small)"
      ],
      "metadata": {
        "id": "R19asVSGZ_fZ"
      }
    },
    {
      "cell_type": "code",
      "source": [
        "lr = LinearRegression()"
      ],
      "metadata": {
        "id": "wtfSBPHMZ8If"
      },
      "execution_count": null,
      "outputs": []
    },
    {
      "cell_type": "markdown",
      "source": [
        "\n",
        "- here we are calling or activating the function with an alias name or short name \n",
        "- here lr can be again used in future "
      ],
      "metadata": {
        "id": "aagi53Kpaczd"
      }
    },
    {
      "cell_type": "markdown",
      "source": [
        "# Step 7 : Model to Learn (Model Fitting)"
      ],
      "metadata": {
        "id": "arLygNG4bfkx"
      }
    },
    {
      "cell_type": "markdown",
      "source": [
        "- for learning we use train data set "
      ],
      "metadata": {
        "id": "ckHYGYDCis61"
      }
    },
    {
      "cell_type": "code",
      "source": [
        " lr.fit( X_train , Y_train )"
      ],
      "metadata": {
        "colab": {
          "base_uri": "https://localhost:8080/"
        },
        "id": "ofabcTL9a2-w",
        "outputId": "b2c4920b-e217-4bea-bb98-f20fe08583a9"
      },
      "execution_count": null,
      "outputs": [
        {
          "output_type": "execute_result",
          "data": {
            "text/plain": [
              "LinearRegression()"
            ]
          },
          "metadata": {},
          "execution_count": 37
        }
      ]
    },
    {
      "cell_type": "markdown",
      "source": [
        "# Step 8 : Prediction "
      ],
      "metadata": {
        "id": "vrP1v1YBig_Q"
      }
    },
    {
      "cell_type": "markdown",
      "source": [
        "- for prediction we use test data set "
      ],
      "metadata": {
        "id": "RQYnfB0Yiypn"
      }
    },
    {
      "cell_type": "markdown",
      "source": [
        "- here we only give like this not ,Y_test cuz we need to predict we are not supposed to givt the answer \n",
        "- we save the data as y_pred to use data in the\n",
        "future "
      ],
      "metadata": {
        "id": "L5VRuSXWlIHK"
      }
    },
    {
      "cell_type": "code",
      "source": [
        "Y_pred = lr.predict( X_test ) "
      ],
      "metadata": {
        "id": "Isn81Ci8ik6p"
      },
      "execution_count": null,
      "outputs": []
    },
    {
      "cell_type": "code",
      "source": [
        "Y_pred"
      ],
      "metadata": {
        "colab": {
          "base_uri": "https://localhost:8080/"
        },
        "id": "HD25gm5gpADn",
        "outputId": "69ec9c14-08de-4a66-a4f3-b0e8c4560b76"
      },
      "execution_count": null,
      "outputs": [
        {
          "output_type": "execute_result",
          "data": {
            "text/plain": [
              "array([[31.71733828],\n",
              "       [22.02143302],\n",
              "       [21.16613197],\n",
              "       [39.77837246],\n",
              "       [20.10258512],\n",
              "       [22.86056216],\n",
              "       [18.35574643],\n",
              "       [14.7902735 ],\n",
              "       [22.55778646],\n",
              "       [21.34594953],\n",
              "       [18.38491085],\n",
              "       [27.9664665 ],\n",
              "       [29.85929012],\n",
              "       [ 6.44680773],\n",
              "       [10.68297311],\n",
              "       [26.24809521],\n",
              "       [21.89368671],\n",
              "       [25.22692365],\n",
              "       [ 3.62385942],\n",
              "       [36.21920372],\n",
              "       [24.07812335],\n",
              "       [22.94103934],\n",
              "       [14.27095261],\n",
              "       [20.79013279],\n",
              "       [24.22725035],\n",
              "       [16.7379611 ],\n",
              "       [18.74856986],\n",
              "       [20.96709658],\n",
              "       [28.513571  ],\n",
              "       [20.86346628],\n",
              "       [ 9.23450577],\n",
              "       [17.06754852],\n",
              "       [22.06953886],\n",
              "       [22.23121875],\n",
              "       [39.25875323],\n",
              "       [26.16769924],\n",
              "       [42.50354003],\n",
              "       [19.34517962],\n",
              "       [34.51869058],\n",
              "       [14.07023676],\n",
              "       [13.81055358],\n",
              "       [23.27727535],\n",
              "       [11.79100403],\n",
              "       [ 9.01040731],\n",
              "       [21.64587594],\n",
              "       [25.55339317],\n",
              "       [18.16941728],\n",
              "       [16.81991401],\n",
              "       [14.66170215],\n",
              "       [14.86477172],\n",
              "       [33.78924259],\n",
              "       [33.26959074],\n",
              "       [15.49208778],\n",
              "       [24.08269034],\n",
              "       [27.63531226],\n",
              "       [19.58288727],\n",
              "       [45.02488529],\n",
              "       [20.96959671],\n",
              "       [20.07202649],\n",
              "       [27.67146866],\n",
              "       [34.59154418],\n",
              "       [12.71353064],\n",
              "       [23.66247812],\n",
              "       [31.65792337],\n",
              "       [28.97459925],\n",
              "       [32.45963484],\n",
              "       [13.93494747],\n",
              "       [35.491924  ],\n",
              "       [19.35871482],\n",
              "       [19.60341885],\n",
              "       [ 1.43927038],\n",
              "       [24.10206738],\n",
              "       [33.67200257],\n",
              "       [20.62160583],\n",
              "       [26.89383792],\n",
              "       [21.28629335],\n",
              "       [31.94640391],\n",
              "       [29.73908623],\n",
              "       [13.93454775],\n",
              "       [13.81678383],\n",
              "       [19.75873615],\n",
              "       [21.54069878],\n",
              "       [20.86933991],\n",
              "       [23.62698265],\n",
              "       [28.79508068],\n",
              "       [23.64118169],\n",
              "       [ 6.95157816],\n",
              "       [22.19831966],\n",
              "       [-6.82270042],\n",
              "       [16.96842453],\n",
              "       [16.76859897],\n",
              "       [25.43664303],\n",
              "       [14.95151023],\n",
              "       [ 3.71667789],\n",
              "       [15.02525824],\n",
              "       [16.90607726],\n",
              "       [21.45897878],\n",
              "       [31.65915538],\n",
              "       [30.72068155],\n",
              "       [23.72584448],\n",
              "       [22.18882729],\n",
              "       [13.76042247],\n",
              "       [18.47384318],\n",
              "       [18.1524094 ],\n",
              "       [36.60119404],\n",
              "       [27.49121167],\n",
              "       [11.00093835],\n",
              "       [17.26407285],\n",
              "       [22.49004463],\n",
              "       [16.52993633],\n",
              "       [29.49279312],\n",
              "       [22.89418353],\n",
              "       [24.67840473],\n",
              "       [20.37710587],\n",
              "       [19.68603018],\n",
              "       [22.55437435],\n",
              "       [27.31673957],\n",
              "       [24.86003524],\n",
              "       [20.2018396 ],\n",
              "       [29.14358757],\n",
              "       [ 7.42840113],\n",
              "       [ 5.85287912],\n",
              "       [25.34843348],\n",
              "       [38.73123659],\n",
              "       [23.94325177],\n",
              "       [25.28198173],\n",
              "       [20.11046586],\n",
              "       [19.75220882],\n",
              "       [25.06978342],\n",
              "       [35.15909482],\n",
              "       [27.31951047],\n",
              "       [27.2616268 ],\n",
              "       [31.39965843],\n",
              "       [16.55315203],\n",
              "       [14.29555368],\n",
              "       [23.76937723],\n",
              "       [ 7.64840244],\n",
              "       [23.34914332],\n",
              "       [21.36612339],\n",
              "       [26.12068678],\n",
              "       [25.31847859],\n",
              "       [13.1171793 ],\n",
              "       [17.66685837],\n",
              "       [36.19968161],\n",
              "       [20.50074493],\n",
              "       [27.94813333],\n",
              "       [22.45926502],\n",
              "       [18.14585016],\n",
              "       [31.24201417],\n",
              "       [20.85014715],\n",
              "       [27.35824971],\n",
              "       [30.53239318]])"
            ]
          },
          "metadata": {},
          "execution_count": 49
        }
      ]
    },
    {
      "cell_type": "code",
      "source": [
        "Y_test"
      ],
      "metadata": {
        "colab": {
          "base_uri": "https://localhost:8080/",
          "height": 423
        },
        "id": "BIWcHOkOlNsg",
        "outputId": "2bd277e7-a274-4a4f-bd9e-7bf85b8b7b02"
      },
      "execution_count": null,
      "outputs": [
        {
          "output_type": "execute_result",
          "data": {
            "text/html": [
              "\n",
              "  <div id=\"df-4ae354be-acd1-404d-a677-e113812c484b\">\n",
              "    <div class=\"colab-df-container\">\n",
              "      <div>\n",
              "<style scoped>\n",
              "    .dataframe tbody tr th:only-of-type {\n",
              "        vertical-align: middle;\n",
              "    }\n",
              "\n",
              "    .dataframe tbody tr th {\n",
              "        vertical-align: top;\n",
              "    }\n",
              "\n",
              "    .dataframe thead th {\n",
              "        text-align: right;\n",
              "    }\n",
              "</style>\n",
              "<table border=\"1\" class=\"dataframe\">\n",
              "  <thead>\n",
              "    <tr style=\"text-align: right;\">\n",
              "      <th></th>\n",
              "      <th>MEDV</th>\n",
              "    </tr>\n",
              "  </thead>\n",
              "  <tbody>\n",
              "    <tr>\n",
              "      <th>229</th>\n",
              "      <td>31.5</td>\n",
              "    </tr>\n",
              "    <tr>\n",
              "      <th>45</th>\n",
              "      <td>19.3</td>\n",
              "    </tr>\n",
              "    <tr>\n",
              "      <th>119</th>\n",
              "      <td>19.3</td>\n",
              "    </tr>\n",
              "    <tr>\n",
              "      <th>232</th>\n",
              "      <td>41.7</td>\n",
              "    </tr>\n",
              "    <tr>\n",
              "      <th>461</th>\n",
              "      <td>17.7</td>\n",
              "    </tr>\n",
              "    <tr>\n",
              "      <th>...</th>\n",
              "      <td>...</td>\n",
              "    </tr>\n",
              "    <tr>\n",
              "      <th>47</th>\n",
              "      <td>16.6</td>\n",
              "    </tr>\n",
              "    <tr>\n",
              "      <th>39</th>\n",
              "      <td>30.8</td>\n",
              "    </tr>\n",
              "    <tr>\n",
              "      <th>132</th>\n",
              "      <td>23.0</td>\n",
              "    </tr>\n",
              "    <tr>\n",
              "      <th>169</th>\n",
              "      <td>22.3</td>\n",
              "    </tr>\n",
              "    <tr>\n",
              "      <th>278</th>\n",
              "      <td>29.1</td>\n",
              "    </tr>\n",
              "  </tbody>\n",
              "</table>\n",
              "<p>152 rows × 1 columns</p>\n",
              "</div>\n",
              "      <button class=\"colab-df-convert\" onclick=\"convertToInteractive('df-4ae354be-acd1-404d-a677-e113812c484b')\"\n",
              "              title=\"Convert this dataframe to an interactive table.\"\n",
              "              style=\"display:none;\">\n",
              "        \n",
              "  <svg xmlns=\"http://www.w3.org/2000/svg\" height=\"24px\"viewBox=\"0 0 24 24\"\n",
              "       width=\"24px\">\n",
              "    <path d=\"M0 0h24v24H0V0z\" fill=\"none\"/>\n",
              "    <path d=\"M18.56 5.44l.94 2.06.94-2.06 2.06-.94-2.06-.94-.94-2.06-.94 2.06-2.06.94zm-11 1L8.5 8.5l.94-2.06 2.06-.94-2.06-.94L8.5 2.5l-.94 2.06-2.06.94zm10 10l.94 2.06.94-2.06 2.06-.94-2.06-.94-.94-2.06-.94 2.06-2.06.94z\"/><path d=\"M17.41 7.96l-1.37-1.37c-.4-.4-.92-.59-1.43-.59-.52 0-1.04.2-1.43.59L10.3 9.45l-7.72 7.72c-.78.78-.78 2.05 0 2.83L4 21.41c.39.39.9.59 1.41.59.51 0 1.02-.2 1.41-.59l7.78-7.78 2.81-2.81c.8-.78.8-2.07 0-2.86zM5.41 20L4 18.59l7.72-7.72 1.47 1.35L5.41 20z\"/>\n",
              "  </svg>\n",
              "      </button>\n",
              "      \n",
              "  <style>\n",
              "    .colab-df-container {\n",
              "      display:flex;\n",
              "      flex-wrap:wrap;\n",
              "      gap: 12px;\n",
              "    }\n",
              "\n",
              "    .colab-df-convert {\n",
              "      background-color: #E8F0FE;\n",
              "      border: none;\n",
              "      border-radius: 50%;\n",
              "      cursor: pointer;\n",
              "      display: none;\n",
              "      fill: #1967D2;\n",
              "      height: 32px;\n",
              "      padding: 0 0 0 0;\n",
              "      width: 32px;\n",
              "    }\n",
              "\n",
              "    .colab-df-convert:hover {\n",
              "      background-color: #E2EBFA;\n",
              "      box-shadow: 0px 1px 2px rgba(60, 64, 67, 0.3), 0px 1px 3px 1px rgba(60, 64, 67, 0.15);\n",
              "      fill: #174EA6;\n",
              "    }\n",
              "\n",
              "    [theme=dark] .colab-df-convert {\n",
              "      background-color: #3B4455;\n",
              "      fill: #D2E3FC;\n",
              "    }\n",
              "\n",
              "    [theme=dark] .colab-df-convert:hover {\n",
              "      background-color: #434B5C;\n",
              "      box-shadow: 0px 1px 3px 1px rgba(0, 0, 0, 0.15);\n",
              "      filter: drop-shadow(0px 1px 2px rgba(0, 0, 0, 0.3));\n",
              "      fill: #FFFFFF;\n",
              "    }\n",
              "  </style>\n",
              "\n",
              "      <script>\n",
              "        const buttonEl =\n",
              "          document.querySelector('#df-4ae354be-acd1-404d-a677-e113812c484b button.colab-df-convert');\n",
              "        buttonEl.style.display =\n",
              "          google.colab.kernel.accessAllowed ? 'block' : 'none';\n",
              "\n",
              "        async function convertToInteractive(key) {\n",
              "          const element = document.querySelector('#df-4ae354be-acd1-404d-a677-e113812c484b');\n",
              "          const dataTable =\n",
              "            await google.colab.kernel.invokeFunction('convertToInteractive',\n",
              "                                                     [key], {});\n",
              "          if (!dataTable) return;\n",
              "\n",
              "          const docLinkHtml = 'Like what you see? Visit the ' +\n",
              "            '<a target=\"_blank\" href=https://colab.research.google.com/notebooks/data_table.ipynb>data table notebook</a>'\n",
              "            + ' to learn more about interactive tables.';\n",
              "          element.innerHTML = '';\n",
              "          dataTable['output_type'] = 'display_data';\n",
              "          await google.colab.output.renderOutput(dataTable, element);\n",
              "          const docLink = document.createElement('div');\n",
              "          docLink.innerHTML = docLinkHtml;\n",
              "          element.appendChild(docLink);\n",
              "        }\n",
              "      </script>\n",
              "    </div>\n",
              "  </div>\n",
              "  "
            ],
            "text/plain": [
              "     MEDV\n",
              "229  31.5\n",
              "45   19.3\n",
              "119  19.3\n",
              "232  41.7\n",
              "461  17.7\n",
              "..    ...\n",
              "47   16.6\n",
              "39   30.8\n",
              "132  23.0\n",
              "169  22.3\n",
              "278  29.1\n",
              "\n",
              "[152 rows x 1 columns]"
            ]
          },
          "metadata": {},
          "execution_count": 46
        }
      ]
    },
    {
      "cell_type": "markdown",
      "source": [
        "# Step 9a : Model Accuracy (Regression Problem)"
      ],
      "metadata": {
        "id": "tq7sMjWmmC7L"
      }
    },
    {
      "cell_type": "code",
      "source": [
        "from sklearn.metrics import mean_absolute_error, mean_squared_error"
      ],
      "metadata": {
        "id": "zt2AwbLDpd_D"
      },
      "execution_count": null,
      "outputs": []
    },
    {
      "cell_type": "code",
      "source": [
        "mean_absolute_error(Y_test, Y_pred)"
      ],
      "metadata": {
        "colab": {
          "base_uri": "https://localhost:8080/"
        },
        "id": "eHJQxuSFpry8",
        "outputId": "419c0b21-5a8e-42c5-8ea7-87db6b1aed41"
      },
      "execution_count": null,
      "outputs": [
        {
          "output_type": "execute_result",
          "data": {
            "text/plain": [
              "3.1550309276025073"
            ]
          },
          "metadata": {},
          "execution_count": 54
        }
      ]
    },
    {
      "cell_type": "markdown",
      "source": [
        "# Step 9b : Model Accuracy (Classification Problem)"
      ],
      "metadata": {
        "id": "M0Mczm43qGo3"
      }
    },
    {
      "cell_type": "code",
      "source": [
        "from sklearn.metrics import confusion_matrix, classification_report"
      ],
      "metadata": {
        "id": "lOZRCkGXqPPa"
      },
      "execution_count": null,
      "outputs": []
    },
    {
      "cell_type": "markdown",
      "source": [
        "# Regression Analysis "
      ],
      "metadata": {
        "id": "yDhOofEf5_-U"
      }
    },
    {
      "cell_type": "markdown",
      "source": [
        "- Regression problem=> y is contunuous variable \n",
        "- !=> x -> countinuous \n",
        "- regression has y as continuous "
      ],
      "metadata": {
        "id": "y2EZFLQ86Dgy"
      }
    },
    {
      "cell_type": "markdown",
      "source": [
        "## Regression algorithms :\n",
        "### Regression is a type of problem \n",
        "(logistic regression is only alg that cannot be used in the regression)\n",
        "- linear \n",
        "-  SVM \n",
        "- Lasso\n",
        "- Ridge \n",
        "- polynomial\n",
        "- ANN(artificial neural networks )\n",
        "- decision tree \n",
        "- random forest \n",
        "- KNN\n",
        "\n",
        "\n",
        "\n",
        "Types :\n",
        "- simple regression : y = f(x) //has only 1 feature \n",
        "- multiple regression : x1,x2,x3...//has multiple features \n",
        "\n",
        "- OLS (Ordinary least scale regression)"
      ],
      "metadata": {
        "id": "h7E5uGq18pRE"
      }
    },
    {
      "cell_type": "markdown",
      "source": [
        "### Here we are predecting revenue with help of temperature so it is a simple regression "
      ],
      "metadata": {
        "id": "LLIW2dnpPr0c"
      }
    },
    {
      "cell_type": "code",
      "source": [
        "import pandas as pd "
      ],
      "metadata": {
        "id": "h0o3xjaC_PTZ"
      },
      "execution_count": null,
      "outputs": []
    },
    {
      "cell_type": "code",
      "source": [
        "df = pd.read_csv(r'https://github.com/YBI-Foundation/Dataset/raw/main/Ice%20Cream.csv')"
      ],
      "metadata": {
        "id": "bxw5nBgPP3Bd"
      },
      "execution_count": null,
      "outputs": []
    },
    {
      "cell_type": "code",
      "source": [
        "df.head()"
      ],
      "metadata": {
        "colab": {
          "base_uri": "https://localhost:8080/",
          "height": 208
        },
        "id": "SuJqyExBQIfM",
        "outputId": "bfd05563-a651-43b7-a4da-f406ee5accb3"
      },
      "execution_count": null,
      "outputs": [
        {
          "output_type": "execute_result",
          "data": {
            "text/html": [
              "\n",
              "  <div id=\"df-2773e8b3-b76b-4708-b782-e10a1152e8b1\">\n",
              "    <div class=\"colab-df-container\">\n",
              "      <div>\n",
              "<style scoped>\n",
              "    .dataframe tbody tr th:only-of-type {\n",
              "        vertical-align: middle;\n",
              "    }\n",
              "\n",
              "    .dataframe tbody tr th {\n",
              "        vertical-align: top;\n",
              "    }\n",
              "\n",
              "    .dataframe thead th {\n",
              "        text-align: right;\n",
              "    }\n",
              "</style>\n",
              "<table border=\"1\" class=\"dataframe\">\n",
              "  <thead>\n",
              "    <tr style=\"text-align: right;\">\n",
              "      <th></th>\n",
              "      <th>Temperature</th>\n",
              "      <th>Revenue</th>\n",
              "    </tr>\n",
              "  </thead>\n",
              "  <tbody>\n",
              "    <tr>\n",
              "      <th>0</th>\n",
              "      <td>24.6</td>\n",
              "      <td>535</td>\n",
              "    </tr>\n",
              "    <tr>\n",
              "      <th>1</th>\n",
              "      <td>26.1</td>\n",
              "      <td>626</td>\n",
              "    </tr>\n",
              "    <tr>\n",
              "      <th>2</th>\n",
              "      <td>27.8</td>\n",
              "      <td>661</td>\n",
              "    </tr>\n",
              "    <tr>\n",
              "      <th>3</th>\n",
              "      <td>20.6</td>\n",
              "      <td>488</td>\n",
              "    </tr>\n",
              "    <tr>\n",
              "      <th>4</th>\n",
              "      <td>11.6</td>\n",
              "      <td>317</td>\n",
              "    </tr>\n",
              "  </tbody>\n",
              "</table>\n",
              "</div>\n",
              "      <button class=\"colab-df-convert\" onclick=\"convertToInteractive('df-2773e8b3-b76b-4708-b782-e10a1152e8b1')\"\n",
              "              title=\"Convert this dataframe to an interactive table.\"\n",
              "              style=\"display:none;\">\n",
              "        \n",
              "  <svg xmlns=\"http://www.w3.org/2000/svg\" height=\"24px\"viewBox=\"0 0 24 24\"\n",
              "       width=\"24px\">\n",
              "    <path d=\"M0 0h24v24H0V0z\" fill=\"none\"/>\n",
              "    <path d=\"M18.56 5.44l.94 2.06.94-2.06 2.06-.94-2.06-.94-.94-2.06-.94 2.06-2.06.94zm-11 1L8.5 8.5l.94-2.06 2.06-.94-2.06-.94L8.5 2.5l-.94 2.06-2.06.94zm10 10l.94 2.06.94-2.06 2.06-.94-2.06-.94-.94-2.06-.94 2.06-2.06.94z\"/><path d=\"M17.41 7.96l-1.37-1.37c-.4-.4-.92-.59-1.43-.59-.52 0-1.04.2-1.43.59L10.3 9.45l-7.72 7.72c-.78.78-.78 2.05 0 2.83L4 21.41c.39.39.9.59 1.41.59.51 0 1.02-.2 1.41-.59l7.78-7.78 2.81-2.81c.8-.78.8-2.07 0-2.86zM5.41 20L4 18.59l7.72-7.72 1.47 1.35L5.41 20z\"/>\n",
              "  </svg>\n",
              "      </button>\n",
              "      \n",
              "  <style>\n",
              "    .colab-df-container {\n",
              "      display:flex;\n",
              "      flex-wrap:wrap;\n",
              "      gap: 12px;\n",
              "    }\n",
              "\n",
              "    .colab-df-convert {\n",
              "      background-color: #E8F0FE;\n",
              "      border: none;\n",
              "      border-radius: 50%;\n",
              "      cursor: pointer;\n",
              "      display: none;\n",
              "      fill: #1967D2;\n",
              "      height: 32px;\n",
              "      padding: 0 0 0 0;\n",
              "      width: 32px;\n",
              "    }\n",
              "\n",
              "    .colab-df-convert:hover {\n",
              "      background-color: #E2EBFA;\n",
              "      box-shadow: 0px 1px 2px rgba(60, 64, 67, 0.3), 0px 1px 3px 1px rgba(60, 64, 67, 0.15);\n",
              "      fill: #174EA6;\n",
              "    }\n",
              "\n",
              "    [theme=dark] .colab-df-convert {\n",
              "      background-color: #3B4455;\n",
              "      fill: #D2E3FC;\n",
              "    }\n",
              "\n",
              "    [theme=dark] .colab-df-convert:hover {\n",
              "      background-color: #434B5C;\n",
              "      box-shadow: 0px 1px 3px 1px rgba(0, 0, 0, 0.15);\n",
              "      filter: drop-shadow(0px 1px 2px rgba(0, 0, 0, 0.3));\n",
              "      fill: #FFFFFF;\n",
              "    }\n",
              "  </style>\n",
              "\n",
              "      <script>\n",
              "        const buttonEl =\n",
              "          document.querySelector('#df-2773e8b3-b76b-4708-b782-e10a1152e8b1 button.colab-df-convert');\n",
              "        buttonEl.style.display =\n",
              "          google.colab.kernel.accessAllowed ? 'block' : 'none';\n",
              "\n",
              "        async function convertToInteractive(key) {\n",
              "          const element = document.querySelector('#df-2773e8b3-b76b-4708-b782-e10a1152e8b1');\n",
              "          const dataTable =\n",
              "            await google.colab.kernel.invokeFunction('convertToInteractive',\n",
              "                                                     [key], {});\n",
              "          if (!dataTable) return;\n",
              "\n",
              "          const docLinkHtml = 'Like what you see? Visit the ' +\n",
              "            '<a target=\"_blank\" href=https://colab.research.google.com/notebooks/data_table.ipynb>data table notebook</a>'\n",
              "            + ' to learn more about interactive tables.';\n",
              "          element.innerHTML = '';\n",
              "          dataTable['output_type'] = 'display_data';\n",
              "          await google.colab.output.renderOutput(dataTable, element);\n",
              "          const docLink = document.createElement('div');\n",
              "          docLink.innerHTML = docLinkHtml;\n",
              "          element.appendChild(docLink);\n",
              "        }\n",
              "      </script>\n",
              "    </div>\n",
              "  </div>\n",
              "  "
            ],
            "text/plain": [
              "   Temperature  Revenue\n",
              "0         24.6      535\n",
              "1         26.1      626\n",
              "2         27.8      661\n",
              "3         20.6      488\n",
              "4         11.6      317"
            ]
          },
          "metadata": {},
          "execution_count": 5
        }
      ]
    },
    {
      "cell_type": "markdown",
      "source": [
        "# Simple linear Regression - Icecream Revenue Dataset "
      ],
      "metadata": {
        "id": "ynMpt2MeZxGf"
      }
    },
    {
      "cell_type": "code",
      "source": [
        "import pandas as pd"
      ],
      "metadata": {
        "id": "CLMgImq4ScdS"
      },
      "execution_count": null,
      "outputs": []
    },
    {
      "cell_type": "code",
      "source": [
        "import numpy as np "
      ],
      "metadata": {
        "id": "IlepFXZoZ9GS"
      },
      "execution_count": null,
      "outputs": []
    },
    {
      "cell_type": "code",
      "source": [
        "import matplotlib.pyplot as plt"
      ],
      "metadata": {
        "id": "03Q4KsKAaCdl"
      },
      "execution_count": null,
      "outputs": []
    },
    {
      "cell_type": "code",
      "source": [
        "import seaborn as sns"
      ],
      "metadata": {
        "id": "qwX5ZiQuaH4z"
      },
      "execution_count": null,
      "outputs": []
    },
    {
      "cell_type": "code",
      "source": [
        "df = pd.read_csv(r'https://github.com/YBI-Foundation/Dataset/raw/main/Ice%20Cream.csv')"
      ],
      "metadata": {
        "id": "XnJUhpJyZYcW"
      },
      "execution_count": null,
      "outputs": []
    },
    {
      "cell_type": "code",
      "source": [
        "df.head()"
      ],
      "metadata": {
        "colab": {
          "base_uri": "https://localhost:8080/",
          "height": 208
        },
        "id": "ci6ZRczfakLy",
        "outputId": "1885bdf4-0a17-40c0-8932-5e0473b5354d"
      },
      "execution_count": null,
      "outputs": [
        {
          "output_type": "execute_result",
          "data": {
            "text/html": [
              "\n",
              "  <div id=\"df-b97f5b59-67aa-4bd4-848f-7ad5485df2db\">\n",
              "    <div class=\"colab-df-container\">\n",
              "      <div>\n",
              "<style scoped>\n",
              "    .dataframe tbody tr th:only-of-type {\n",
              "        vertical-align: middle;\n",
              "    }\n",
              "\n",
              "    .dataframe tbody tr th {\n",
              "        vertical-align: top;\n",
              "    }\n",
              "\n",
              "    .dataframe thead th {\n",
              "        text-align: right;\n",
              "    }\n",
              "</style>\n",
              "<table border=\"1\" class=\"dataframe\">\n",
              "  <thead>\n",
              "    <tr style=\"text-align: right;\">\n",
              "      <th></th>\n",
              "      <th>Temperature</th>\n",
              "      <th>Revenue</th>\n",
              "    </tr>\n",
              "  </thead>\n",
              "  <tbody>\n",
              "    <tr>\n",
              "      <th>0</th>\n",
              "      <td>24.6</td>\n",
              "      <td>535</td>\n",
              "    </tr>\n",
              "    <tr>\n",
              "      <th>1</th>\n",
              "      <td>26.1</td>\n",
              "      <td>626</td>\n",
              "    </tr>\n",
              "    <tr>\n",
              "      <th>2</th>\n",
              "      <td>27.8</td>\n",
              "      <td>661</td>\n",
              "    </tr>\n",
              "    <tr>\n",
              "      <th>3</th>\n",
              "      <td>20.6</td>\n",
              "      <td>488</td>\n",
              "    </tr>\n",
              "    <tr>\n",
              "      <th>4</th>\n",
              "      <td>11.6</td>\n",
              "      <td>317</td>\n",
              "    </tr>\n",
              "  </tbody>\n",
              "</table>\n",
              "</div>\n",
              "      <button class=\"colab-df-convert\" onclick=\"convertToInteractive('df-b97f5b59-67aa-4bd4-848f-7ad5485df2db')\"\n",
              "              title=\"Convert this dataframe to an interactive table.\"\n",
              "              style=\"display:none;\">\n",
              "        \n",
              "  <svg xmlns=\"http://www.w3.org/2000/svg\" height=\"24px\"viewBox=\"0 0 24 24\"\n",
              "       width=\"24px\">\n",
              "    <path d=\"M0 0h24v24H0V0z\" fill=\"none\"/>\n",
              "    <path d=\"M18.56 5.44l.94 2.06.94-2.06 2.06-.94-2.06-.94-.94-2.06-.94 2.06-2.06.94zm-11 1L8.5 8.5l.94-2.06 2.06-.94-2.06-.94L8.5 2.5l-.94 2.06-2.06.94zm10 10l.94 2.06.94-2.06 2.06-.94-2.06-.94-.94-2.06-.94 2.06-2.06.94z\"/><path d=\"M17.41 7.96l-1.37-1.37c-.4-.4-.92-.59-1.43-.59-.52 0-1.04.2-1.43.59L10.3 9.45l-7.72 7.72c-.78.78-.78 2.05 0 2.83L4 21.41c.39.39.9.59 1.41.59.51 0 1.02-.2 1.41-.59l7.78-7.78 2.81-2.81c.8-.78.8-2.07 0-2.86zM5.41 20L4 18.59l7.72-7.72 1.47 1.35L5.41 20z\"/>\n",
              "  </svg>\n",
              "      </button>\n",
              "      \n",
              "  <style>\n",
              "    .colab-df-container {\n",
              "      display:flex;\n",
              "      flex-wrap:wrap;\n",
              "      gap: 12px;\n",
              "    }\n",
              "\n",
              "    .colab-df-convert {\n",
              "      background-color: #E8F0FE;\n",
              "      border: none;\n",
              "      border-radius: 50%;\n",
              "      cursor: pointer;\n",
              "      display: none;\n",
              "      fill: #1967D2;\n",
              "      height: 32px;\n",
              "      padding: 0 0 0 0;\n",
              "      width: 32px;\n",
              "    }\n",
              "\n",
              "    .colab-df-convert:hover {\n",
              "      background-color: #E2EBFA;\n",
              "      box-shadow: 0px 1px 2px rgba(60, 64, 67, 0.3), 0px 1px 3px 1px rgba(60, 64, 67, 0.15);\n",
              "      fill: #174EA6;\n",
              "    }\n",
              "\n",
              "    [theme=dark] .colab-df-convert {\n",
              "      background-color: #3B4455;\n",
              "      fill: #D2E3FC;\n",
              "    }\n",
              "\n",
              "    [theme=dark] .colab-df-convert:hover {\n",
              "      background-color: #434B5C;\n",
              "      box-shadow: 0px 1px 3px 1px rgba(0, 0, 0, 0.15);\n",
              "      filter: drop-shadow(0px 1px 2px rgba(0, 0, 0, 0.3));\n",
              "      fill: #FFFFFF;\n",
              "    }\n",
              "  </style>\n",
              "\n",
              "      <script>\n",
              "        const buttonEl =\n",
              "          document.querySelector('#df-b97f5b59-67aa-4bd4-848f-7ad5485df2db button.colab-df-convert');\n",
              "        buttonEl.style.display =\n",
              "          google.colab.kernel.accessAllowed ? 'block' : 'none';\n",
              "\n",
              "        async function convertToInteractive(key) {\n",
              "          const element = document.querySelector('#df-b97f5b59-67aa-4bd4-848f-7ad5485df2db');\n",
              "          const dataTable =\n",
              "            await google.colab.kernel.invokeFunction('convertToInteractive',\n",
              "                                                     [key], {});\n",
              "          if (!dataTable) return;\n",
              "\n",
              "          const docLinkHtml = 'Like what you see? Visit the ' +\n",
              "            '<a target=\"_blank\" href=https://colab.research.google.com/notebooks/data_table.ipynb>data table notebook</a>'\n",
              "            + ' to learn more about interactive tables.';\n",
              "          element.innerHTML = '';\n",
              "          dataTable['output_type'] = 'display_data';\n",
              "          await google.colab.output.renderOutput(dataTable, element);\n",
              "          const docLink = document.createElement('div');\n",
              "          docLink.innerHTML = docLinkHtml;\n",
              "          element.appendChild(docLink);\n",
              "        }\n",
              "      </script>\n",
              "    </div>\n",
              "  </div>\n",
              "  "
            ],
            "text/plain": [
              "   Temperature  Revenue\n",
              "0         24.6      535\n",
              "1         26.1      626\n",
              "2         27.8      661\n",
              "3         20.6      488\n",
              "4         11.6      317"
            ]
          },
          "metadata": {},
          "execution_count": 6
        }
      ]
    },
    {
      "cell_type": "code",
      "source": [
        "df.describe()"
      ],
      "metadata": {
        "colab": {
          "base_uri": "https://localhost:8080/",
          "height": 300
        },
        "id": "yGjYeqvXaxuv",
        "outputId": "e1843bd5-a690-4ad5-ffc1-5edd486c2916"
      },
      "execution_count": null,
      "outputs": [
        {
          "output_type": "execute_result",
          "data": {
            "text/html": [
              "\n",
              "  <div id=\"df-3c6ebf7f-eef0-4063-a93b-f69b91a8e264\">\n",
              "    <div class=\"colab-df-container\">\n",
              "      <div>\n",
              "<style scoped>\n",
              "    .dataframe tbody tr th:only-of-type {\n",
              "        vertical-align: middle;\n",
              "    }\n",
              "\n",
              "    .dataframe tbody tr th {\n",
              "        vertical-align: top;\n",
              "    }\n",
              "\n",
              "    .dataframe thead th {\n",
              "        text-align: right;\n",
              "    }\n",
              "</style>\n",
              "<table border=\"1\" class=\"dataframe\">\n",
              "  <thead>\n",
              "    <tr style=\"text-align: right;\">\n",
              "      <th></th>\n",
              "      <th>Temperature</th>\n",
              "      <th>Revenue</th>\n",
              "    </tr>\n",
              "  </thead>\n",
              "  <tbody>\n",
              "    <tr>\n",
              "      <th>count</th>\n",
              "      <td>500.000000</td>\n",
              "      <td>500.000000</td>\n",
              "    </tr>\n",
              "    <tr>\n",
              "      <th>mean</th>\n",
              "      <td>22.281600</td>\n",
              "      <td>522.058000</td>\n",
              "    </tr>\n",
              "    <tr>\n",
              "      <th>std</th>\n",
              "      <td>8.097597</td>\n",
              "      <td>175.410399</td>\n",
              "    </tr>\n",
              "    <tr>\n",
              "      <th>min</th>\n",
              "      <td>0.000000</td>\n",
              "      <td>10.000000</td>\n",
              "    </tr>\n",
              "    <tr>\n",
              "      <th>25%</th>\n",
              "      <td>17.175000</td>\n",
              "      <td>406.000000</td>\n",
              "    </tr>\n",
              "    <tr>\n",
              "      <th>50%</th>\n",
              "      <td>22.400000</td>\n",
              "      <td>530.000000</td>\n",
              "    </tr>\n",
              "    <tr>\n",
              "      <th>75%</th>\n",
              "      <td>27.800000</td>\n",
              "      <td>643.000000</td>\n",
              "    </tr>\n",
              "    <tr>\n",
              "      <th>max</th>\n",
              "      <td>45.000000</td>\n",
              "      <td>1000.000000</td>\n",
              "    </tr>\n",
              "  </tbody>\n",
              "</table>\n",
              "</div>\n",
              "      <button class=\"colab-df-convert\" onclick=\"convertToInteractive('df-3c6ebf7f-eef0-4063-a93b-f69b91a8e264')\"\n",
              "              title=\"Convert this dataframe to an interactive table.\"\n",
              "              style=\"display:none;\">\n",
              "        \n",
              "  <svg xmlns=\"http://www.w3.org/2000/svg\" height=\"24px\"viewBox=\"0 0 24 24\"\n",
              "       width=\"24px\">\n",
              "    <path d=\"M0 0h24v24H0V0z\" fill=\"none\"/>\n",
              "    <path d=\"M18.56 5.44l.94 2.06.94-2.06 2.06-.94-2.06-.94-.94-2.06-.94 2.06-2.06.94zm-11 1L8.5 8.5l.94-2.06 2.06-.94-2.06-.94L8.5 2.5l-.94 2.06-2.06.94zm10 10l.94 2.06.94-2.06 2.06-.94-2.06-.94-.94-2.06-.94 2.06-2.06.94z\"/><path d=\"M17.41 7.96l-1.37-1.37c-.4-.4-.92-.59-1.43-.59-.52 0-1.04.2-1.43.59L10.3 9.45l-7.72 7.72c-.78.78-.78 2.05 0 2.83L4 21.41c.39.39.9.59 1.41.59.51 0 1.02-.2 1.41-.59l7.78-7.78 2.81-2.81c.8-.78.8-2.07 0-2.86zM5.41 20L4 18.59l7.72-7.72 1.47 1.35L5.41 20z\"/>\n",
              "  </svg>\n",
              "      </button>\n",
              "      \n",
              "  <style>\n",
              "    .colab-df-container {\n",
              "      display:flex;\n",
              "      flex-wrap:wrap;\n",
              "      gap: 12px;\n",
              "    }\n",
              "\n",
              "    .colab-df-convert {\n",
              "      background-color: #E8F0FE;\n",
              "      border: none;\n",
              "      border-radius: 50%;\n",
              "      cursor: pointer;\n",
              "      display: none;\n",
              "      fill: #1967D2;\n",
              "      height: 32px;\n",
              "      padding: 0 0 0 0;\n",
              "      width: 32px;\n",
              "    }\n",
              "\n",
              "    .colab-df-convert:hover {\n",
              "      background-color: #E2EBFA;\n",
              "      box-shadow: 0px 1px 2px rgba(60, 64, 67, 0.3), 0px 1px 3px 1px rgba(60, 64, 67, 0.15);\n",
              "      fill: #174EA6;\n",
              "    }\n",
              "\n",
              "    [theme=dark] .colab-df-convert {\n",
              "      background-color: #3B4455;\n",
              "      fill: #D2E3FC;\n",
              "    }\n",
              "\n",
              "    [theme=dark] .colab-df-convert:hover {\n",
              "      background-color: #434B5C;\n",
              "      box-shadow: 0px 1px 3px 1px rgba(0, 0, 0, 0.15);\n",
              "      filter: drop-shadow(0px 1px 2px rgba(0, 0, 0, 0.3));\n",
              "      fill: #FFFFFF;\n",
              "    }\n",
              "  </style>\n",
              "\n",
              "      <script>\n",
              "        const buttonEl =\n",
              "          document.querySelector('#df-3c6ebf7f-eef0-4063-a93b-f69b91a8e264 button.colab-df-convert');\n",
              "        buttonEl.style.display =\n",
              "          google.colab.kernel.accessAllowed ? 'block' : 'none';\n",
              "\n",
              "        async function convertToInteractive(key) {\n",
              "          const element = document.querySelector('#df-3c6ebf7f-eef0-4063-a93b-f69b91a8e264');\n",
              "          const dataTable =\n",
              "            await google.colab.kernel.invokeFunction('convertToInteractive',\n",
              "                                                     [key], {});\n",
              "          if (!dataTable) return;\n",
              "\n",
              "          const docLinkHtml = 'Like what you see? Visit the ' +\n",
              "            '<a target=\"_blank\" href=https://colab.research.google.com/notebooks/data_table.ipynb>data table notebook</a>'\n",
              "            + ' to learn more about interactive tables.';\n",
              "          element.innerHTML = '';\n",
              "          dataTable['output_type'] = 'display_data';\n",
              "          await google.colab.output.renderOutput(dataTable, element);\n",
              "          const docLink = document.createElement('div');\n",
              "          docLink.innerHTML = docLinkHtml;\n",
              "          element.appendChild(docLink);\n",
              "        }\n",
              "      </script>\n",
              "    </div>\n",
              "  </div>\n",
              "  "
            ],
            "text/plain": [
              "       Temperature      Revenue\n",
              "count   500.000000   500.000000\n",
              "mean     22.281600   522.058000\n",
              "std       8.097597   175.410399\n",
              "min       0.000000    10.000000\n",
              "25%      17.175000   406.000000\n",
              "50%      22.400000   530.000000\n",
              "75%      27.800000   643.000000\n",
              "max      45.000000  1000.000000"
            ]
          },
          "metadata": {},
          "execution_count": 7
        }
      ]
    },
    {
      "cell_type": "code",
      "source": [
        "df.info()"
      ],
      "metadata": {
        "colab": {
          "base_uri": "https://localhost:8080/"
        },
        "id": "l7vqUKRja0ys",
        "outputId": "582326b6-6116-437b-d777-dd8d133279e4"
      },
      "execution_count": null,
      "outputs": [
        {
          "output_type": "stream",
          "name": "stdout",
          "text": [
            "<class 'pandas.core.frame.DataFrame'>\n",
            "RangeIndex: 500 entries, 0 to 499\n",
            "Data columns (total 2 columns):\n",
            " #   Column       Non-Null Count  Dtype  \n",
            "---  ------       --------------  -----  \n",
            " 0   Temperature  500 non-null    float64\n",
            " 1   Revenue      500 non-null    int64  \n",
            "dtypes: float64(1), int64(1)\n",
            "memory usage: 7.9 KB\n"
          ]
        }
      ]
    },
    {
      "cell_type": "code",
      "source": [
        "sns.pairplot(df)"
      ],
      "metadata": {
        "colab": {
          "base_uri": "https://localhost:8080/",
          "height": 390
        },
        "id": "T-jRYIEpa8J8",
        "outputId": "0c981720-8b92-4b26-8e7b-027150ea37e9"
      },
      "execution_count": null,
      "outputs": [
        {
          "output_type": "execute_result",
          "data": {
            "text/plain": [
              "<seaborn.axisgrid.PairGrid at 0x7f5cf18fced0>"
            ]
          },
          "metadata": {},
          "execution_count": 9
        },
        {
          "output_type": "display_data",
          "data": {
            "image/png": "[encoded data removed]",
            "text/plain": [
              "<Figure size 360x360 with 6 Axes>"
            ]
          },
          "metadata": {
            "needs_background": "light"
          }
        }
      ]
    },
    {
      "cell_type": "code",
      "source": [
        "df.corr()"
      ],
      "metadata": {
        "colab": {
          "base_uri": "https://localhost:8080/",
          "height": 115
        },
        "id": "p2D1fNJCbE1z",
        "outputId": "9663fcdf-158e-4285-b6e4-3d2b2ea7c46a"
      },
      "execution_count": null,
      "outputs": [
        {
          "output_type": "execute_result",
          "data": {
            "text/html": [
              "\n",
              "  <div id=\"df-e2bbeca1-41c9-430c-b2b5-fa96240ace4f\">\n",
              "    <div class=\"colab-df-container\">\n",
              "      <div>\n",
              "<style scoped>\n",
              "    .dataframe tbody tr th:only-of-type {\n",
              "        vertical-align: middle;\n",
              "    }\n",
              "\n",
              "    .dataframe tbody tr th {\n",
              "        vertical-align: top;\n",
              "    }\n",
              "\n",
              "    .dataframe thead th {\n",
              "        text-align: right;\n",
              "    }\n",
              "</style>\n",
              "<table border=\"1\" class=\"dataframe\">\n",
              "  <thead>\n",
              "    <tr style=\"text-align: right;\">\n",
              "      <th></th>\n",
              "      <th>Temperature</th>\n",
              "      <th>Revenue</th>\n",
              "    </tr>\n",
              "  </thead>\n",
              "  <tbody>\n",
              "    <tr>\n",
              "      <th>Temperature</th>\n",
              "      <td>1.000000</td>\n",
              "      <td>0.989841</td>\n",
              "    </tr>\n",
              "    <tr>\n",
              "      <th>Revenue</th>\n",
              "      <td>0.989841</td>\n",
              "      <td>1.000000</td>\n",
              "    </tr>\n",
              "  </tbody>\n",
              "</table>\n",
              "</div>\n",
              "      <button class=\"colab-df-convert\" onclick=\"convertToInteractive('df-e2bbeca1-41c9-430c-b2b5-fa96240ace4f')\"\n",
              "              title=\"Convert this dataframe to an interactive table.\"\n",
              "              style=\"display:none;\">\n",
              "        \n",
              "  <svg xmlns=\"http://www.w3.org/2000/svg\" height=\"24px\"viewBox=\"0 0 24 24\"\n",
              "       width=\"24px\">\n",
              "    <path d=\"M0 0h24v24H0V0z\" fill=\"none\"/>\n",
              "    <path d=\"M18.56 5.44l.94 2.06.94-2.06 2.06-.94-2.06-.94-.94-2.06-.94 2.06-2.06.94zm-11 1L8.5 8.5l.94-2.06 2.06-.94-2.06-.94L8.5 2.5l-.94 2.06-2.06.94zm10 10l.94 2.06.94-2.06 2.06-.94-2.06-.94-.94-2.06-.94 2.06-2.06.94z\"/><path d=\"M17.41 7.96l-1.37-1.37c-.4-.4-.92-.59-1.43-.59-.52 0-1.04.2-1.43.59L10.3 9.45l-7.72 7.72c-.78.78-.78 2.05 0 2.83L4 21.41c.39.39.9.59 1.41.59.51 0 1.02-.2 1.41-.59l7.78-7.78 2.81-2.81c.8-.78.8-2.07 0-2.86zM5.41 20L4 18.59l7.72-7.72 1.47 1.35L5.41 20z\"/>\n",
              "  </svg>\n",
              "      </button>\n",
              "      \n",
              "  <style>\n",
              "    .colab-df-container {\n",
              "      display:flex;\n",
              "      flex-wrap:wrap;\n",
              "      gap: 12px;\n",
              "    }\n",
              "\n",
              "    .colab-df-convert {\n",
              "      background-color: #E8F0FE;\n",
              "      border: none;\n",
              "      border-radius: 50%;\n",
              "      cursor: pointer;\n",
              "      display: none;\n",
              "      fill: #1967D2;\n",
              "      height: 32px;\n",
              "      padding: 0 0 0 0;\n",
              "      width: 32px;\n",
              "    }\n",
              "\n",
              "    .colab-df-convert:hover {\n",
              "      background-color: #E2EBFA;\n",
              "      box-shadow: 0px 1px 2px rgba(60, 64, 67, 0.3), 0px 1px 3px 1px rgba(60, 64, 67, 0.15);\n",
              "      fill: #174EA6;\n",
              "    }\n",
              "\n",
              "    [theme=dark] .colab-df-convert {\n",
              "      background-color: #3B4455;\n",
              "      fill: #D2E3FC;\n",
              "    }\n",
              "\n",
              "    [theme=dark] .colab-df-convert:hover {\n",
              "      background-color: #434B5C;\n",
              "      box-shadow: 0px 1px 3px 1px rgba(0, 0, 0, 0.15);\n",
              "      filter: drop-shadow(0px 1px 2px rgba(0, 0, 0, 0.3));\n",
              "      fill: #FFFFFF;\n",
              "    }\n",
              "  </style>\n",
              "\n",
              "      <script>\n",
              "        const buttonEl =\n",
              "          document.querySelector('#df-e2bbeca1-41c9-430c-b2b5-fa96240ace4f button.colab-df-convert');\n",
              "        buttonEl.style.display =\n",
              "          google.colab.kernel.accessAllowed ? 'block' : 'none';\n",
              "\n",
              "        async function convertToInteractive(key) {\n",
              "          const element = document.querySelector('#df-e2bbeca1-41c9-430c-b2b5-fa96240ace4f');\n",
              "          const dataTable =\n",
              "            await google.colab.kernel.invokeFunction('convertToInteractive',\n",
              "                                                     [key], {});\n",
              "          if (!dataTable) return;\n",
              "\n",
              "          const docLinkHtml = 'Like what you see? Visit the ' +\n",
              "            '<a target=\"_blank\" href=https://colab.research.google.com/notebooks/data_table.ipynb>data table notebook</a>'\n",
              "            + ' to learn more about interactive tables.';\n",
              "          element.innerHTML = '';\n",
              "          dataTable['output_type'] = 'display_data';\n",
              "          await google.colab.output.renderOutput(dataTable, element);\n",
              "          const docLink = document.createElement('div');\n",
              "          docLink.innerHTML = docLinkHtml;\n",
              "          element.appendChild(docLink);\n",
              "        }\n",
              "      </script>\n",
              "    </div>\n",
              "  </div>\n",
              "  "
            ],
            "text/plain": [
              "             Temperature   Revenue\n",
              "Temperature     1.000000  0.989841\n",
              "Revenue         0.989841  1.000000"
            ]
          },
          "metadata": {},
          "execution_count": 10
        }
      ]
    },
    {
      "cell_type": "code",
      "source": [
        "  df.columns"
      ],
      "metadata": {
        "colab": {
          "base_uri": "https://localhost:8080/"
        },
        "id": "Whh5glcDbY9o",
        "outputId": "bd025fb2-cbc8-41fb-ce76-c7e7978e7591"
      },
      "execution_count": null,
      "outputs": [
        {
          "output_type": "execute_result",
          "data": {
            "text/plain": [
              "Index(['Temperature', 'Revenue'], dtype='object')"
            ]
          },
          "metadata": {},
          "execution_count": 11
        }
      ]
    },
    {
      "cell_type": "code",
      "source": [
        "X = df[['Temperature']]"
      ],
      "metadata": {
        "id": "cWHfq1yeeAzJ"
      },
      "execution_count": null,
      "outputs": []
    },
    {
      "cell_type": "code",
      "source": [
        "y= df['Revenue']"
      ],
      "metadata": {
        "id": "8LX4kOjHfFSu"
      },
      "execution_count": null,
      "outputs": []
    },
    {
      "cell_type": "code",
      "source": [
        "y.shape"
      ],
      "metadata": {
        "colab": {
          "base_uri": "https://localhost:8080/"
        },
        "id": "C7pqtDZvfj59",
        "outputId": "39f00600-ebc7-42ae-8bd7-64f7df204c31"
      },
      "execution_count": null,
      "outputs": [
        {
          "output_type": "execute_result",
          "data": {
            "text/plain": [
              "(500,)"
            ]
          },
          "metadata": {},
          "execution_count": 21
        }
      ]
    },
    {
      "cell_type": "code",
      "source": [
        "from sklearn.model_selection import train_test_split"
      ],
      "metadata": {
        "id": "SumnIbFCfIA3"
      },
      "execution_count": null,
      "outputs": []
    },
    {
      "cell_type": "code",
      "source": [
        "X_train,X_test,y_train,y_test = train_test_split(X,y,train_size = 0.7,random_state = 2529)"
      ],
      "metadata": {
        "id": "Ogg1MKr_fIQG"
      },
      "execution_count": null,
      "outputs": []
    },
    {
      "cell_type": "code",
      "source": [
        "X_train.shape, X_test.shape, y_train.shape, y_test.shape"
      ],
      "metadata": {
        "colab": {
          "base_uri": "https://localhost:8080/"
        },
        "id": "LmE7TUUvfITg",
        "outputId": "1822ad4a-2134-4a34-bab9-515b727ab8c0"
      },
      "execution_count": null,
      "outputs": [
        {
          "output_type": "execute_result",
          "data": {
            "text/plain": [
              "((350, 1), (150, 1), (350,), (150,))"
            ]
          },
          "metadata": {},
          "execution_count": 26
        }
      ]
    },
    {
      "cell_type": "code",
      "source": [
        "from sklearn.linear_model import LinearRegression"
      ],
      "metadata": {
        "id": "nqcYc_RZfIXL"
      },
      "execution_count": null,
      "outputs": []
    },
    {
      "cell_type": "code",
      "source": [
        "lr = LinearRegression()"
      ],
      "metadata": {
        "id": "lqQxIVlufIao"
      },
      "execution_count": null,
      "outputs": []
    },
    {
      "cell_type": "code",
      "source": [
        "lr.fit(X_train,y_train)"
      ],
      "metadata": {
        "colab": {
          "base_uri": "https://localhost:8080/"
        },
        "id": "FaQj75QofIdH",
        "outputId": "ca8a4457-0fea-4a3f-ceef-e9f49fb44864"
      },
      "execution_count": null,
      "outputs": [
        {
          "output_type": "execute_result",
          "data": {
            "text/plain": [
              "LinearRegression()"
            ]
          },
          "metadata": {},
          "execution_count": 29
        }
      ]
    },
    {
      "cell_type": "code",
      "source": [
        "lr.intercept_"
      ],
      "metadata": {
        "colab": {
          "base_uri": "https://localhost:8080/"
        },
        "id": "25wowSYUfIgD",
        "outputId": "a3048f05-0b9b-4b83-a170-d7d18b87e280"
      },
      "execution_count": null,
      "outputs": [
        {
          "output_type": "execute_result",
          "data": {
            "text/plain": [
              "42.444772590839705"
            ]
          },
          "metadata": {},
          "execution_count": 30
        }
      ]
    },
    {
      "cell_type": "code",
      "source": [
        "lr.coef_"
      ],
      "metadata": {
        "colab": {
          "base_uri": "https://localhost:8080/"
        },
        "id": "R6SSe-EkfIi2",
        "outputId": "c5140b68-6ea3-4d73-f213-ec17389c12d0"
      },
      "execution_count": null,
      "outputs": [
        {
          "output_type": "execute_result",
          "data": {
            "text/plain": [
              "array([21.54587147])"
            ]
          },
          "metadata": {},
          "execution_count": 31
        }
      ]
    },
    {
      "cell_type": "markdown",
      "source": [
        "# Revenue = 42.44 + 21.54 Temp + error"
      ],
      "metadata": {
        "id": "PW0fGp1opSWd"
      }
    },
    {
      "cell_type": "code",
      "source": [
        "X_test"
      ],
      "metadata": {
        "colab": {
          "base_uri": "https://localhost:8080/",
          "height": 424
        },
        "id": "nUTn1vsbfIl1",
        "outputId": "e51577cc-96a2-46a8-e915-36e6e1dd6efd"
      },
      "execution_count": null,
      "outputs": [
        {
          "output_type": "execute_result",
          "data": {
            "text/html": [
              "\n",
              "  <div id=\"df-8cdad98e-9b14-4f55-9443-1f375d7fcfd2\">\n",
              "    <div class=\"colab-df-container\">\n",
              "      <div>\n",
              "<style scoped>\n",
              "    .dataframe tbody tr th:only-of-type {\n",
              "        vertical-align: middle;\n",
              "    }\n",
              "\n",
              "    .dataframe tbody tr th {\n",
              "        vertical-align: top;\n",
              "    }\n",
              "\n",
              "    .dataframe thead th {\n",
              "        text-align: right;\n",
              "    }\n",
              "</style>\n",
              "<table border=\"1\" class=\"dataframe\">\n",
              "  <thead>\n",
              "    <tr style=\"text-align: right;\">\n",
              "      <th></th>\n",
              "      <th>Temperature</th>\n",
              "    </tr>\n",
              "  </thead>\n",
              "  <tbody>\n",
              "    <tr>\n",
              "      <th>163</th>\n",
              "      <td>28.0</td>\n",
              "    </tr>\n",
              "    <tr>\n",
              "      <th>45</th>\n",
              "      <td>15.7</td>\n",
              "    </tr>\n",
              "    <tr>\n",
              "      <th>244</th>\n",
              "      <td>6.4</td>\n",
              "    </tr>\n",
              "    <tr>\n",
              "      <th>230</th>\n",
              "      <td>9.5</td>\n",
              "    </tr>\n",
              "    <tr>\n",
              "      <th>421</th>\n",
              "      <td>17.3</td>\n",
              "    </tr>\n",
              "    <tr>\n",
              "      <th>...</th>\n",
              "      <td>...</td>\n",
              "    </tr>\n",
              "    <tr>\n",
              "      <th>47</th>\n",
              "      <td>30.7</td>\n",
              "    </tr>\n",
              "    <tr>\n",
              "      <th>39</th>\n",
              "      <td>17.1</td>\n",
              "    </tr>\n",
              "    <tr>\n",
              "      <th>132</th>\n",
              "      <td>19.5</td>\n",
              "    </tr>\n",
              "    <tr>\n",
              "      <th>307</th>\n",
              "      <td>17.1</td>\n",
              "    </tr>\n",
              "    <tr>\n",
              "      <th>345</th>\n",
              "      <td>12.2</td>\n",
              "    </tr>\n",
              "  </tbody>\n",
              "</table>\n",
              "<p>150 rows × 1 columns</p>\n",
              "</div>\n",
              "      <button class=\"colab-df-convert\" onclick=\"convertToInteractive('df-8cdad98e-9b14-4f55-9443-1f375d7fcfd2')\"\n",
              "              title=\"Convert this dataframe to an interactive table.\"\n",
              "              style=\"display:none;\">\n",
              "        \n",
              "  <svg xmlns=\"http://www.w3.org/2000/svg\" height=\"24px\"viewBox=\"0 0 24 24\"\n",
              "       width=\"24px\">\n",
              "    <path d=\"M0 0h24v24H0V0z\" fill=\"none\"/>\n",
              "    <path d=\"M18.56 5.44l.94 2.06.94-2.06 2.06-.94-2.06-.94-.94-2.06-.94 2.06-2.06.94zm-11 1L8.5 8.5l.94-2.06 2.06-.94-2.06-.94L8.5 2.5l-.94 2.06-2.06.94zm10 10l.94 2.06.94-2.06 2.06-.94-2.06-.94-.94-2.06-.94 2.06-2.06.94z\"/><path d=\"M17.41 7.96l-1.37-1.37c-.4-.4-.92-.59-1.43-.59-.52 0-1.04.2-1.43.59L10.3 9.45l-7.72 7.72c-.78.78-.78 2.05 0 2.83L4 21.41c.39.39.9.59 1.41.59.51 0 1.02-.2 1.41-.59l7.78-7.78 2.81-2.81c.8-.78.8-2.07 0-2.86zM5.41 20L4 18.59l7.72-7.72 1.47 1.35L5.41 20z\"/>\n",
              "  </svg>\n",
              "      </button>\n",
              "      \n",
              "  <style>\n",
              "    .colab-df-container {\n",
              "      display:flex;\n",
              "      flex-wrap:wrap;\n",
              "      gap: 12px;\n",
              "    }\n",
              "\n",
              "    .colab-df-convert {\n",
              "      background-color: #E8F0FE;\n",
              "      border: none;\n",
              "      border-radius: 50%;\n",
              "      cursor: pointer;\n",
              "      display: none;\n",
              "      fill: #1967D2;\n",
              "      height: 32px;\n",
              "      padding: 0 0 0 0;\n",
              "      width: 32px;\n",
              "    }\n",
              "\n",
              "    .colab-df-convert:hover {\n",
              "      background-color: #E2EBFA;\n",
              "      box-shadow: 0px 1px 2px rgba(60, 64, 67, 0.3), 0px 1px 3px 1px rgba(60, 64, 67, 0.15);\n",
              "      fill: #174EA6;\n",
              "    }\n",
              "\n",
              "    [theme=dark] .colab-df-convert {\n",
              "      background-color: #3B4455;\n",
              "      fill: #D2E3FC;\n",
              "    }\n",
              "\n",
              "    [theme=dark] .colab-df-convert:hover {\n",
              "      background-color: #434B5C;\n",
              "      box-shadow: 0px 1px 3px 1px rgba(0, 0, 0, 0.15);\n",
              "      filter: drop-shadow(0px 1px 2px rgba(0, 0, 0, 0.3));\n",
              "      fill: #FFFFFF;\n",
              "    }\n",
              "  </style>\n",
              "\n",
              "      <script>\n",
              "        const buttonEl =\n",
              "          document.querySelector('#df-8cdad98e-9b14-4f55-9443-1f375d7fcfd2 button.colab-df-convert');\n",
              "        buttonEl.style.display =\n",
              "          google.colab.kernel.accessAllowed ? 'block' : 'none';\n",
              "\n",
              "        async function convertToInteractive(key) {\n",
              "          const element = document.querySelector('#df-8cdad98e-9b14-4f55-9443-1f375d7fcfd2');\n",
              "          const dataTable =\n",
              "            await google.colab.kernel.invokeFunction('convertToInteractive',\n",
              "                                                     [key], {});\n",
              "          if (!dataTable) return;\n",
              "\n",
              "          const docLinkHtml = 'Like what you see? Visit the ' +\n",
              "            '<a target=\"_blank\" href=https://colab.research.google.com/notebooks/data_table.ipynb>data table notebook</a>'\n",
              "            + ' to learn more about interactive tables.';\n",
              "          element.innerHTML = '';\n",
              "          dataTable['output_type'] = 'display_data';\n",
              "          await google.colab.output.renderOutput(dataTable, element);\n",
              "          const docLink = document.createElement('div');\n",
              "          docLink.innerHTML = docLinkHtml;\n",
              "          element.appendChild(docLink);\n",
              "        }\n",
              "      </script>\n",
              "    </div>\n",
              "  </div>\n",
              "  "
            ],
            "text/plain": [
              "     Temperature\n",
              "163         28.0\n",
              "45          15.7\n",
              "244          6.4\n",
              "230          9.5\n",
              "421         17.3\n",
              "..           ...\n",
              "47          30.7\n",
              "39          17.1\n",
              "132         19.5\n",
              "307         17.1\n",
              "345         12.2\n",
              "\n",
              "[150 rows x 1 columns]"
            ]
          },
          "metadata": {},
          "execution_count": 32
        }
      ]
    },
    {
      "cell_type": "code",
      "source": [
        "y_pred = lr.predict(X_test)"
      ],
      "metadata": {
        "id": "b7O5Kh5vfIos"
      },
      "execution_count": null,
      "outputs": []
    },
    {
      "cell_type": "code",
      "source": [
        "y_pred"
      ],
      "metadata": {
        "colab": {
          "base_uri": "https://localhost:8080/"
        },
        "id": "QYgUq4VufIrm",
        "outputId": "4aaf2421-7599-481b-c202-2091738960a1"
      },
      "execution_count": null,
      "outputs": [
        {
          "output_type": "execute_result",
          "data": {
            "text/plain": [
              "array([645.7291738 , 380.7149547 , 180.33835001, 247.13055157,\n",
              "       415.18834905, 283.75853308, 372.09660611, 671.58421957,\n",
              "       675.89339386, 684.51174245, 531.536055  , 613.41036659,\n",
              "       361.32367037, 303.1498174 , 158.79247854, 473.36220203,\n",
              "       611.25577945, 615.56495374, 512.14477068, 805.16862269,\n",
              "       268.67642305, 441.04339482, 436.73422053, 861.18788852,\n",
              "       531.536055  , 216.96633151, 725.44889825, 311.76816599,\n",
              "       505.68100924, 466.89844059, 684.51174245, 960.29889729,\n",
              "       550.92733933, 615.56495374, 367.78743182, 404.41541332,\n",
              "       413.03376191, 662.96587098, 876.26999855, 544.46357788,\n",
              "       811.63238414, 686.6663296 , 486.28972491, 322.54110172,\n",
              "       637.11082521, 798.70486125, 438.88880767, 790.08651266,\n",
              "       684.51174245, 497.06266065, 380.7149547 , 479.82596347,\n",
              "       479.82596347, 563.85486221, 665.12045813, 453.9709177 ,\n",
              "       688.82091675, 647.88376095, 391.48789043, 662.96587098,\n",
              "       507.83559638, 309.61357884, 397.95165188, 199.72963434,\n",
              "       387.17871614, 658.65669669, 441.04339482, 395.79706473,\n",
              "       652.19293524, 841.7966042 , 581.09155939, 352.70532179,\n",
              "       734.06724684, 350.55073464, 253.59431301, 449.66174341,\n",
              "       637.11082521, 135.09201992, 594.01908227, 669.42963242,\n",
              "       699.59385248, 598.32825656, 469.05302773, 912.89798005,\n",
              "       697.43926533, 835.33284275, 527.22688071, 902.12504432,\n",
              "       352.70532179, 423.80669764, 591.86449512, 656.50210954,\n",
              "       548.77275218, 188.9566986 , 641.41999951, 641.41999951,\n",
              "       572.4732108 , 486.28972491, 469.05302773, 632.80165092,\n",
              "       512.14477068, 292.37688166, 729.75807254, 477.67137632,\n",
              "        63.99064406, 395.79706473, 591.86449512, 469.05302773,\n",
              "       568.1640365 , 602.63743086, 736.22183398, 492.75348635,\n",
              "       337.62321175, 656.50210954, 423.80669764, 313.92275314,\n",
              "       458.280092  , 419.49752335, 456.12550485, 559.54568791,\n",
              "       522.91770641, 206.19339578, 742.68559543, 673.73880672,\n",
              "       367.78743182, 690.97550389, 712.52137536, 520.76311927,\n",
              "       309.61357884, 626.33788948, 803.01403555, 576.78238509,\n",
              "       738.37642113, 645.7291738 , 453.9709177 , 578.93697224,\n",
              "       566.00944936, 589.70990798, 447.50715626, 434.57963338,\n",
              "       555.23651362, 509.99018353, 641.41999951, 475.51678917,\n",
              "       441.04339482, 703.90302678, 410.87917476, 462.58926629,\n",
              "       410.87917476, 305.30440455])"
            ]
          },
          "metadata": {},
          "execution_count": 34
        }
      ]
    },
    {
      "cell_type": "code",
      "source": [
        "from sklearn.metrics import mean_absolute_error"
      ],
      "metadata": {
        "id": "gscNPCYifIug"
      },
      "execution_count": null,
      "outputs": []
    },
    {
      "cell_type": "code",
      "source": [
        "mean_absolute_error(y_test, y_pred)"
      ],
      "metadata": {
        "colab": {
          "base_uri": "https://localhost:8080/"
        },
        "id": "7F2lYBuNfIxL",
        "outputId": "1189261d-5633-478c-d2b0-673ce77638cc"
      },
      "execution_count": null,
      "outputs": [
        {
          "output_type": "execute_result",
          "data": {
            "text/plain": [
              "19.138687444270737"
            ]
          },
          "metadata": {},
          "execution_count": 36
        }
      ]
    },
    {
      "cell_type": "code",
      "source": [
        ""
      ],
      "metadata": {
        "id": "NNCm-GYG5E25"
      },
      "execution_count": null,
      "outputs": []
    },
    {
      "cell_type": "markdown",
      "source": [
        "# Multiple Regression"
      ],
      "metadata": {
        "id": "4cJ_rqP6p7L9"
      }
    },
    {
      "cell_type": "code",
      "source": [
        "import pandas as pd"
      ],
      "metadata": {
        "id": "3CYsL4sdiR5Z"
      },
      "execution_count": null,
      "outputs": []
    },
    {
      "cell_type": "code",
      "source": [
        "import numpy as np"
      ],
      "metadata": {
        "id": "fFs0Bi4xqAD6"
      },
      "execution_count": null,
      "outputs": []
    },
    {
      "cell_type": "code",
      "source": [
        "df = pd.read_csv(r'https://github.com/Yantra-Byte/Dataset/raw/main/Boston.csv')"
      ],
      "metadata": {
        "id": "sq7k_lXsqBzn"
      },
      "execution_count": null,
      "outputs": []
    },
    {
      "cell_type": "code",
      "source": [
        "df.head()  "
      ],
      "metadata": {
        "colab": {
          "base_uri": "https://localhost:8080/",
          "height": 206
        },
        "id": "_PSNaBABqDMQ",
        "outputId": "203c3c0e-8e00-4be8-ca8c-17d271a8b809"
      },
      "execution_count": null,
      "outputs": [
        {
          "output_type": "execute_result",
          "data": {
            "text/html": [
              "\n",
              "  <div id=\"df-94036a9b-ccdf-4c84-8fdc-3e118fc55ac3\">\n",
              "    <div class=\"colab-df-container\">\n",
              "      <div>\n",
              "<style scoped>\n",
              "    .dataframe tbody tr th:only-of-type {\n",
              "        vertical-align: middle;\n",
              "    }\n",
              "\n",
              "    .dataframe tbody tr th {\n",
              "        vertical-align: top;\n",
              "    }\n",
              "\n",
              "    .dataframe thead th {\n",
              "        text-align: right;\n",
              "    }\n",
              "</style>\n",
              "<table border=\"1\" class=\"dataframe\">\n",
              "  <thead>\n",
              "    <tr style=\"text-align: right;\">\n",
              "      <th></th>\n",
              "      <th>pregnancies</th>\n",
              "      <th>glucose</th>\n",
              "      <th>diastolic</th>\n",
              "      <th>triceps</th>\n",
              "      <th>insulin</th>\n",
              "      <th>bmi</th>\n",
              "      <th>dpf</th>\n",
              "      <th>age</th>\n",
              "      <th>diabetes</th>\n",
              "    </tr>\n",
              "  </thead>\n",
              "  <tbody>\n",
              "    <tr>\n",
              "      <th>0</th>\n",
              "      <td>6</td>\n",
              "      <td>148</td>\n",
              "      <td>72</td>\n",
              "      <td>35</td>\n",
              "      <td>0</td>\n",
              "      <td>33.6</td>\n",
              "      <td>0.627</td>\n",
              "      <td>50</td>\n",
              "      <td>1</td>\n",
              "    </tr>\n",
              "    <tr>\n",
              "      <th>1</th>\n",
              "      <td>1</td>\n",
              "      <td>85</td>\n",
              "      <td>66</td>\n",
              "      <td>29</td>\n",
              "      <td>0</td>\n",
              "      <td>26.6</td>\n",
              "      <td>0.351</td>\n",
              "      <td>31</td>\n",
              "      <td>0</td>\n",
              "    </tr>\n",
              "    <tr>\n",
              "      <th>2</th>\n",
              "      <td>8</td>\n",
              "      <td>183</td>\n",
              "      <td>64</td>\n",
              "      <td>0</td>\n",
              "      <td>0</td>\n",
              "      <td>23.3</td>\n",
              "      <td>0.672</td>\n",
              "      <td>32</td>\n",
              "      <td>1</td>\n",
              "    </tr>\n",
              "    <tr>\n",
              "      <th>3</th>\n",
              "      <td>1</td>\n",
              "      <td>89</td>\n",
              "      <td>66</td>\n",
              "      <td>23</td>\n",
              "      <td>94</td>\n",
              "      <td>28.1</td>\n",
              "      <td>0.167</td>\n",
              "      <td>21</td>\n",
              "      <td>0</td>\n",
              "    </tr>\n",
              "    <tr>\n",
              "      <th>4</th>\n",
              "      <td>0</td>\n",
              "      <td>137</td>\n",
              "      <td>40</td>\n",
              "      <td>35</td>\n",
              "      <td>168</td>\n",
              "      <td>43.1</td>\n",
              "      <td>2.288</td>\n",
              "      <td>33</td>\n",
              "      <td>1</td>\n",
              "    </tr>\n",
              "  </tbody>\n",
              "</table>\n",
              "</div>\n",
              "      <button class=\"colab-df-convert\" onclick=\"convertToInteractive('df-94036a9b-ccdf-4c84-8fdc-3e118fc55ac3')\"\n",
              "              title=\"Convert this dataframe to an interactive table.\"\n",
              "              style=\"display:none;\">\n",
              "        \n",
              "  <svg xmlns=\"http://www.w3.org/2000/svg\" height=\"24px\"viewBox=\"0 0 24 24\"\n",
              "       width=\"24px\">\n",
              "    <path d=\"M0 0h24v24H0V0z\" fill=\"none\"/>\n",
              "    <path d=\"M18.56 5.44l.94 2.06.94-2.06 2.06-.94-2.06-.94-.94-2.06-.94 2.06-2.06.94zm-11 1L8.5 8.5l.94-2.06 2.06-.94-2.06-.94L8.5 2.5l-.94 2.06-2.06.94zm10 10l.94 2.06.94-2.06 2.06-.94-2.06-.94-.94-2.06-.94 2.06-2.06.94z\"/><path d=\"M17.41 7.96l-1.37-1.37c-.4-.4-.92-.59-1.43-.59-.52 0-1.04.2-1.43.59L10.3 9.45l-7.72 7.72c-.78.78-.78 2.05 0 2.83L4 21.41c.39.39.9.59 1.41.59.51 0 1.02-.2 1.41-.59l7.78-7.78 2.81-2.81c.8-.78.8-2.07 0-2.86zM5.41 20L4 18.59l7.72-7.72 1.47 1.35L5.41 20z\"/>\n",
              "  </svg>\n",
              "      </button>\n",
              "      \n",
              "  <style>\n",
              "    .colab-df-container {\n",
              "      display:flex;\n",
              "      flex-wrap:wrap;\n",
              "      gap: 12px;\n",
              "    }\n",
              "\n",
              "    .colab-df-convert {\n",
              "      background-color: #E8F0FE;\n",
              "      border: none;\n",
              "      border-radius: 50%;\n",
              "      cursor: pointer;\n",
              "      display: none;\n",
              "      fill: #1967D2;\n",
              "      height: 32px;\n",
              "      padding: 0 0 0 0;\n",
              "      width: 32px;\n",
              "    }\n",
              "\n",
              "    .colab-df-convert:hover {\n",
              "      background-color: #E2EBFA;\n",
              "      box-shadow: 0px 1px 2px rgba(60, 64, 67, 0.3), 0px 1px 3px 1px rgba(60, 64, 67, 0.15);\n",
              "      fill: #174EA6;\n",
              "    }\n",
              "\n",
              "    [theme=dark] .colab-df-convert {\n",
              "      background-color: #3B4455;\n",
              "      fill: #D2E3FC;\n",
              "    }\n",
              "\n",
              "    [theme=dark] .colab-df-convert:hover {\n",
              "      background-color: #434B5C;\n",
              "      box-shadow: 0px 1px 3px 1px rgba(0, 0, 0, 0.15);\n",
              "      filter: drop-shadow(0px 1px 2px rgba(0, 0, 0, 0.3));\n",
              "      fill: #FFFFFF;\n",
              "    }\n",
              "  </style>\n",
              "\n",
              "      <script>\n",
              "        const buttonEl =\n",
              "          document.querySelector('#df-94036a9b-ccdf-4c84-8fdc-3e118fc55ac3 button.colab-df-convert');\n",
              "        buttonEl.style.display =\n",
              "          google.colab.kernel.accessAllowed ? 'block' : 'none';\n",
              "\n",
              "        async function convertToInteractive(key) {\n",
              "          const element = document.querySelector('#df-94036a9b-ccdf-4c84-8fdc-3e118fc55ac3');\n",
              "          const dataTable =\n",
              "            await google.colab.kernel.invokeFunction('convertToInteractive',\n",
              "                                                     [key], {});\n",
              "          if (!dataTable) return;\n",
              "\n",
              "          const docLinkHtml = 'Like what you see? Visit the ' +\n",
              "            '<a target=\"_blank\" href=https://colab.research.google.com/notebooks/data_table.ipynb>data table notebook</a>'\n",
              "            + ' to learn more about interactive tables.';\n",
              "          element.innerHTML = '';\n",
              "          dataTable['output_type'] = 'display_data';\n",
              "          await google.colab.output.renderOutput(dataTable, element);\n",
              "          const docLink = document.createElement('div');\n",
              "          docLink.innerHTML = docLinkHtml;\n",
              "          element.appendChild(docLink);\n",
              "        }\n",
              "      </script>\n",
              "    </div>\n",
              "  </div>\n",
              "  "
            ],
            "text/plain": [
              "   pregnancies  glucose  diastolic  triceps  ...   bmi    dpf  age  diabetes\n",
              "0            6      148         72       35  ...  33.6  0.627   50         1\n",
              "1            1       85         66       29  ...  26.6  0.351   31         0\n",
              "2            8      183         64        0  ...  23.3  0.672   32         1\n",
              "3            1       89         66       23  ...  28.1  0.167   21         0\n",
              "4            0      137         40       35  ...  43.1  2.288   33         1\n",
              "\n",
              "[5 rows x 9 columns]"
            ]
          },
          "metadata": {},
          "execution_count": 63
        }
      ]
    },
    {
      "cell_type": "code",
      "source": [
        "df.info()"
      ],
      "metadata": {
        "colab": {
          "base_uri": "https://localhost:8080/"
        },
        "id": "YLbSWVl-qFhC",
        "outputId": "f95552ac-9602-47a5-f323-aa4110124662"
      },
      "execution_count": null,
      "outputs": [
        {
          "output_type": "stream",
          "name": "stdout",
          "text": [
            "<class 'pandas.core.frame.DataFrame'>\n",
            "RangeIndex: 768 entries, 0 to 767\n",
            "Data columns (total 9 columns):\n",
            " #   Column       Non-Null Count  Dtype  \n",
            "---  ------       --------------  -----  \n",
            " 0   pregnancies  768 non-null    int64  \n",
            " 1   glucose      768 non-null    int64  \n",
            " 2   diastolic    768 non-null    int64  \n",
            " 3   triceps      768 non-null    int64  \n",
            " 4   insulin      768 non-null    int64  \n",
            " 5   bmi          768 non-null    float64\n",
            " 6   dpf          768 non-null    float64\n",
            " 7   age          768 non-null    int64  \n",
            " 8   diabetes     768 non-null    int64  \n",
            "dtypes: float64(2), int64(7)\n",
            "memory usage: 54.1 KB\n"
          ]
        }
      ]
    },
    {
      "cell_type": "code",
      "source": [
        "df.columns"
      ],
      "metadata": {
        "colab": {
          "base_uri": "https://localhost:8080/"
        },
        "id": "4TjtQ-hlqGlM",
        "outputId": "e944ef9b-fefb-4c9d-be51-a50dc0376f8f"
      },
      "execution_count": null,
      "outputs": [
        {
          "output_type": "execute_result",
          "data": {
            "text/plain": [
              "Index(['CRIM', 'ZN', 'INDUS', 'CHAS', 'NX', 'RM', 'AGE', 'DIS', 'RAD', 'TAX',\n",
              "       'PTRATIO', 'B', 'LSTAT', 'MEDV'],\n",
              "      dtype='object')"
            ]
          },
          "metadata": {},
          "execution_count": 68
        }
      ]
    },
    {
      "cell_type": "code",
      "source": [
        "X = df[['CRIM', 'ZN', 'INDUS', 'CHAS', 'NX', 'RM', 'AGE', 'DIS', 'RAD', 'TAX',\n",
        "       'PTRATIO', 'B', 'LSTAT']]"
      ],
      "metadata": {
        "id": "q7g4D9dkqWwE"
      },
      "execution_count": null,
      "outputs": []
    },
    {
      "cell_type": "code",
      "source": [
        "X.shape"
      ],
      "metadata": {
        "colab": {
          "base_uri": "https://localhost:8080/"
        },
        "id": "s49qmUNVrpm7",
        "outputId": "279c0fb1-f7e6-4b23-bea4-014be1b6335a"
      },
      "execution_count": null,
      "outputs": [
        {
          "output_type": "execute_result",
          "data": {
            "text/plain": [
              "(506, 13)"
            ]
          },
          "metadata": {},
          "execution_count": 70
        }
      ]
    },
    {
      "cell_type": "code",
      "source": [
        "y = df['MEDV']"
      ],
      "metadata": {
        "id": "sN87NyZiqewc"
      },
      "execution_count": null,
      "outputs": []
    },
    {
      "cell_type": "code",
      "source": [
        "from sklearn.model_selection import train_test_split"
      ],
      "metadata": {
        "id": "PctslSx2qhZW"
      },
      "execution_count": null,
      "outputs": []
    },
    {
      "cell_type": "code",
      "source": [
        "X_train, X_test, y_train, y_test = train_test_split(X, y, train_size = 0.7, random_state = 2529)"
      ],
      "metadata": {
        "id": "lqE4617Sqluh"
      },
      "execution_count": null,
      "outputs": []
    },
    {
      "cell_type": "code",
      "source": [
        "from sklearn.linear_model import LinearRegression"
      ],
      "metadata": {
        "id": "5dsGLqCeqlxG"
      },
      "execution_count": null,
      "outputs": []
    },
    {
      "cell_type": "code",
      "source": [
        "lr = LinearRegression()"
      ],
      "metadata": {
        "id": "Yq73v_wXqlzs"
      },
      "execution_count": null,
      "outputs": []
    },
    {
      "cell_type": "code",
      "source": [
        "lr.fit(X_train, y_train)"
      ],
      "metadata": {
        "colab": {
          "base_uri": "https://localhost:8080/"
        },
        "id": "H_Q_Vnsbql2H",
        "outputId": "677d7191-87e5-4f30-8565-047b97f0fb04"
      },
      "execution_count": null,
      "outputs": [
        {
          "output_type": "execute_result",
          "data": {
            "text/plain": [
              "LinearRegression()"
            ]
          },
          "metadata": {},
          "execution_count": 76
        }
      ]
    },
    {
      "cell_type": "code",
      "source": [
        "y_pred = lr.predict(X_test)"
      ],
      "metadata": {
        "id": "kEzpVZ2aql42"
      },
      "execution_count": null,
      "outputs": []
    },
    {
      "cell_type": "code",
      "source": [
        "from sklearn.metrics import mean_absolute_percentage_error, mean_absolute_error"
      ],
      "metadata": {
        "id": "XeSsgpGRrHAo"
      },
      "execution_count": null,
      "outputs": []
    },
    {
      "cell_type": "code",
      "source": [
        "mean_absolute_percentage_error(y_test, y_pred)"
      ],
      "metadata": {
        "colab": {
          "base_uri": "https://localhost:8080/"
        },
        "id": "DbUfD9x9rNPA",
        "outputId": "8927f52c-d28f-49e8-faf6-2107d7633513"
      },
      "execution_count": null,
      "outputs": [
        {
          "output_type": "execute_result",
          "data": {
            "text/plain": [
              "0.16355935882218034"
            ]
          },
          "metadata": {},
          "execution_count": 79
        }
      ]
    },
    {
      "cell_type": "code",
      "source": [
        "mean_absolute_error(y_test, y_pred)"
      ],
      "metadata": {
        "colab": {
          "base_uri": "https://localhost:8080/"
        },
        "id": "9pmaz0vorSU4",
        "outputId": "48038709-e764-45af-f78e-a9ac6eac79fc"
      },
      "execution_count": null,
      "outputs": [
        {
          "output_type": "execute_result",
          "data": {
            "text/plain": [
              "3.1550309276025073"
            ]
          },
          "metadata": {},
          "execution_count": 80
        }
      ]
    },
    {
      "cell_type": "code",
      "source": [
        "lr.intercept_"
      ],
      "metadata": {
        "colab": {
          "base_uri": "https://localhost:8080/"
        },
        "id": "_9QqLt-ZrWLQ",
        "outputId": "57fc8031-9b52-4876-f807-4646baa375ba"
      },
      "execution_count": null,
      "outputs": [
        {
          "output_type": "execute_result",
          "data": {
            "text/plain": [
              "34.21916368863014"
            ]
          },
          "metadata": {},
          "execution_count": 81
        }
      ]
    },
    {
      "cell_type": "code",
      "source": [
        "lr.coef_"
      ],
      "metadata": {
        "colab": {
          "base_uri": "https://localhost:8080/"
        },
        "id": "r-HabpbcrjQc",
        "outputId": "f5fb3643-f9a0-4b33-8ac6-5a9ea2807a5a"
      },
      "execution_count": null,
      "outputs": [
        {
          "output_type": "execute_result",
          "data": {
            "text/plain": [
              "array([-1.29412069e-01,  3.65184937e-02,  1.54418944e-02,  2.35486887e+00,\n",
              "       -2.04171489e+01,  4.41356565e+00,  4.61075512e-03, -1.58626723e+00,\n",
              "        2.51478665e-01, -9.59591213e-03, -9.64169204e-01,  1.00972679e-02,\n",
              "       -5.43198745e-01])"
            ]
          },
          "metadata": {},
          "execution_count": 82
        }
      ]
    },
    {
      "cell_type": "markdown",
      "source": [
        "MEDV (median House Price ) = 34.21 - 0.0129'CRIM'+ .036'ZN'+ .015'INDUS'+ 'CHAS'+ 'NX'+ 'RM'+ 'AGE'+ 'DIS' + 'RAD'+ 'TAX'+\n",
        "       'PTRATIO'+ 'B'+ 'LSTAT'"
      ],
      "metadata": {
        "id": "BxVCKHz6r13G"
      }
    },
    {
      "cell_type": "code",
      "source": [
        "df.columns"
      ],
      "metadata": {
        "colab": {
          "base_uri": "https://localhost:8080/"
        },
        "id": "7BJy8OIdrxZK",
        "outputId": "cf223a21-5350-4e64-9416-9a03bc9270c1"
      },
      "execution_count": null,
      "outputs": [
        {
          "output_type": "execute_result",
          "data": {
            "text/plain": [
              "Index(['CRIM', 'ZN', 'INDUS', 'CHAS', 'NX', 'RM', 'AGE', 'DIS', 'RAD', 'TAX',\n",
              "       'PTRATIO', 'B', 'LSTAT', 'MEDV'],\n",
              "      dtype='object')"
            ]
          },
          "metadata": {},
          "execution_count": 83
        }
      ]
    },
    {
      "cell_type": "markdown",
      "source": [
        "# Test our features for significance (whether they should be used in model or not)"
      ],
      "metadata": {
        "id": "ea-LmzZBtL7-"
      }
    },
    {
      "cell_type": "code",
      "source": [
        "import statsmodels.api as sm\n",
        "X_stat = sm.add_constant(X, has_constant='add')\n",
        "model = sm.OLS(y, X_stat)\n",
        "results = model.fit()\n",
        "print(results.summary())"
      ],
      "metadata": {
        "colab": {
          "base_uri": "https://localhost:8080/"
        },
        "id": "PJdAxTttr-bj",
        "outputId": "5616d36f-c904-42c5-de29-42c66d2ed768"
      },
      "execution_count": null,
      "outputs": [
        {
          "output_type": "stream",
          "name": "stdout",
          "text": [
            "                            OLS Regression Results                            \n",
            "==============================================================================\n",
            "Dep. Variable:                   MEDV   R-squared:                       0.741\n",
            "Model:                            OLS   Adj. R-squared:                  0.735\n",
            "Method:                 Least Squares   F-statistic:                     128.2\n",
            "Date:                Sun, 20 Feb 2022   Prob (F-statistic):          5.54e-137\n",
            "Time:                        06:51:22   Log-Likelihood:                -1498.9\n",
            "No. Observations:                 506   AIC:                             3022.\n",
            "Df Residuals:                     494   BIC:                             3072.\n",
            "Df Model:                          11                                         \n",
            "Covariance Type:            nonrobust                                         \n",
            "==============================================================================\n",
            "                 coef    std err          t      P>|t|      [0.025      0.975]\n",
            "------------------------------------------------------------------------------\n",
            "const         36.3411      5.067      7.171      0.000      26.385      46.298\n",
            "CRIM          -0.1084      0.033     -3.307      0.001      -0.173      -0.044\n",
            "ZN             0.0458      0.014      3.390      0.001       0.019       0.072\n",
            "CHAS           2.7187      0.854      3.183      0.002       1.040       4.397\n",
            "NX           -17.3760      3.535     -4.915      0.000     -24.322     -10.430\n",
            "RM             3.8016      0.406      9.356      0.000       3.003       4.600\n",
            "DIS           -1.4927      0.186     -8.037      0.000      -1.858      -1.128\n",
            "RAD            0.2996      0.063      4.726      0.000       0.175       0.424\n",
            "TAX           -0.0118      0.003     -3.493      0.001      -0.018      -0.005\n",
            "PTRATIO       -0.9465      0.129     -7.334      0.000      -1.200      -0.693\n",
            "B              0.0093      0.003      3.475      0.001       0.004       0.015\n",
            "LSTAT         -0.5226      0.047    -11.019      0.000      -0.616      -0.429\n",
            "==============================================================================\n",
            "Omnibus:                      178.430   Durbin-Watson:                   1.078\n",
            "Prob(Omnibus):                  0.000   Jarque-Bera (JB):              787.785\n",
            "Skew:                           1.523   Prob(JB):                    8.60e-172\n",
            "Kurtosis:                       8.300   Cond. No.                     1.47e+04\n",
            "==============================================================================\n",
            "\n",
            "Warnings:\n",
            "[1] Standard Errors assume that the covariance matrix of the errors is correctly specified.\n",
            "[2] The condition number is large, 1.47e+04. This might indicate that there are\n",
            "strong multicollinearity or other numerical problems.\n"
          ]
        },
        {
          "output_type": "stream",
          "name": "stderr",
          "text": [
            "/usr/local/lib/python3.7/dist-packages/statsmodels/tsa/tsatools.py:117: FutureWarning: In a future version of pandas all arguments of concat except for the argument 'objs' will be keyword-only\n",
            "  x = pd.concat(x[::order], 1)\n"
          ]
        }
      ]
    },
    {
      "cell_type": "code",
      "source": [
        "X = df[['CRIM', 'ZN', 'CHAS', 'NX', 'RM', 'DIS', 'RAD', 'TAX',\n",
        "       'PTRATIO', 'B', 'LSTAT']]"
      ],
      "metadata": {
        "id": "CcM4MHuKt-e0"
      },
      "execution_count": null,
      "outputs": []
    },
    {
      "cell_type": "markdown",
      "source": [
        "# Classification"
      ],
      "metadata": {
        "id": "WbJIbvBEurN7"
      }
    },
    {
      "cell_type": "code",
      "source": [
        "import pandas as pd "
      ],
      "metadata": {
        "id": "9gBBhxjrfIz_"
      },
      "execution_count": null,
      "outputs": []
    },
    {
      "cell_type": "code",
      "source": [
        "import numpy as np"
      ],
      "metadata": {
        "id": "WmclVA23fI3N"
      },
      "execution_count": null,
      "outputs": []
    },
    {
      "cell_type": "code",
      "source": [
        "df = pd.read_csv(r'https://github.com/Chetana16032002/Dataset/raw/main/Diabetes.csv')"
      ],
      "metadata": {
        "id": "XrhuK_hufI6T"
      },
      "execution_count": null,
      "outputs": []
    },
    {
      "cell_type": "markdown",
      "source": [
        "- weather a person has diabeties or no diabeties => a descrete variable "
      ],
      "metadata": {
        "id": "rneCJvCTzOu5"
      }
    },
    {
      "cell_type": "code",
      "source": [
        "df.head()"
      ],
      "metadata": {
        "colab": {
          "base_uri": "https://localhost:8080/",
          "height": 206
        },
        "id": "eQ1VERvhfI9R",
        "outputId": "47d29159-0a04-4ef9-dab7-04acc1ab2bfc"
      },
      "execution_count": null,
      "outputs": [
        {
          "output_type": "execute_result",
          "data": {
            "text/html": [
              "\n",
              "  <div id=\"df-643bdad2-97cb-4cfc-99fe-62a21434eff4\">\n",
              "    <div class=\"colab-df-container\">\n",
              "      <div>\n",
              "<style scoped>\n",
              "    .dataframe tbody tr th:only-of-type {\n",
              "        vertical-align: middle;\n",
              "    }\n",
              "\n",
              "    .dataframe tbody tr th {\n",
              "        vertical-align: top;\n",
              "    }\n",
              "\n",
              "    .dataframe thead th {\n",
              "        text-align: right;\n",
              "    }\n",
              "</style>\n",
              "<table border=\"1\" class=\"dataframe\">\n",
              "  <thead>\n",
              "    <tr style=\"text-align: right;\">\n",
              "      <th></th>\n",
              "      <th>pregnancies</th>\n",
              "      <th>glucose</th>\n",
              "      <th>diastolic</th>\n",
              "      <th>triceps</th>\n",
              "      <th>insulin</th>\n",
              "      <th>bmi</th>\n",
              "      <th>dpf</th>\n",
              "      <th>age</th>\n",
              "      <th>diabetes</th>\n",
              "    </tr>\n",
              "  </thead>\n",
              "  <tbody>\n",
              "    <tr>\n",
              "      <th>0</th>\n",
              "      <td>6</td>\n",
              "      <td>148</td>\n",
              "      <td>72</td>\n",
              "      <td>35</td>\n",
              "      <td>0</td>\n",
              "      <td>33.6</td>\n",
              "      <td>0.627</td>\n",
              "      <td>50</td>\n",
              "      <td>1</td>\n",
              "    </tr>\n",
              "    <tr>\n",
              "      <th>1</th>\n",
              "      <td>1</td>\n",
              "      <td>85</td>\n",
              "      <td>66</td>\n",
              "      <td>29</td>\n",
              "      <td>0</td>\n",
              "      <td>26.6</td>\n",
              "      <td>0.351</td>\n",
              "      <td>31</td>\n",
              "      <td>0</td>\n",
              "    </tr>\n",
              "    <tr>\n",
              "      <th>2</th>\n",
              "      <td>8</td>\n",
              "      <td>183</td>\n",
              "      <td>64</td>\n",
              "      <td>0</td>\n",
              "      <td>0</td>\n",
              "      <td>23.3</td>\n",
              "      <td>0.672</td>\n",
              "      <td>32</td>\n",
              "      <td>1</td>\n",
              "    </tr>\n",
              "    <tr>\n",
              "      <th>3</th>\n",
              "      <td>1</td>\n",
              "      <td>89</td>\n",
              "      <td>66</td>\n",
              "      <td>23</td>\n",
              "      <td>94</td>\n",
              "      <td>28.1</td>\n",
              "      <td>0.167</td>\n",
              "      <td>21</td>\n",
              "      <td>0</td>\n",
              "    </tr>\n",
              "    <tr>\n",
              "      <th>4</th>\n",
              "      <td>0</td>\n",
              "      <td>137</td>\n",
              "      <td>40</td>\n",
              "      <td>35</td>\n",
              "      <td>168</td>\n",
              "      <td>43.1</td>\n",
              "      <td>2.288</td>\n",
              "      <td>33</td>\n",
              "      <td>1</td>\n",
              "    </tr>\n",
              "  </tbody>\n",
              "</table>\n",
              "</div>\n",
              "      <button class=\"colab-df-convert\" onclick=\"convertToInteractive('df-643bdad2-97cb-4cfc-99fe-62a21434eff4')\"\n",
              "              title=\"Convert this dataframe to an interactive table.\"\n",
              "              style=\"display:none;\">\n",
              "        \n",
              "  <svg xmlns=\"http://www.w3.org/2000/svg\" height=\"24px\"viewBox=\"0 0 24 24\"\n",
              "       width=\"24px\">\n",
              "    <path d=\"M0 0h24v24H0V0z\" fill=\"none\"/>\n",
              "    <path d=\"M18.56 5.44l.94 2.06.94-2.06 2.06-.94-2.06-.94-.94-2.06-.94 2.06-2.06.94zm-11 1L8.5 8.5l.94-2.06 2.06-.94-2.06-.94L8.5 2.5l-.94 2.06-2.06.94zm10 10l.94 2.06.94-2.06 2.06-.94-2.06-.94-.94-2.06-.94 2.06-2.06.94z\"/><path d=\"M17.41 7.96l-1.37-1.37c-.4-.4-.92-.59-1.43-.59-.52 0-1.04.2-1.43.59L10.3 9.45l-7.72 7.72c-.78.78-.78 2.05 0 2.83L4 21.41c.39.39.9.59 1.41.59.51 0 1.02-.2 1.41-.59l7.78-7.78 2.81-2.81c.8-.78.8-2.07 0-2.86zM5.41 20L4 18.59l7.72-7.72 1.47 1.35L5.41 20z\"/>\n",
              "  </svg>\n",
              "      </button>\n",
              "      \n",
              "  <style>\n",
              "    .colab-df-container {\n",
              "      display:flex;\n",
              "      flex-wrap:wrap;\n",
              "      gap: 12px;\n",
              "    }\n",
              "\n",
              "    .colab-df-convert {\n",
              "      background-color: #E8F0FE;\n",
              "      border: none;\n",
              "      border-radius: 50%;\n",
              "      cursor: pointer;\n",
              "      display: none;\n",
              "      fill: #1967D2;\n",
              "      height: 32px;\n",
              "      padding: 0 0 0 0;\n",
              "      width: 32px;\n",
              "    }\n",
              "\n",
              "    .colab-df-convert:hover {\n",
              "      background-color: #E2EBFA;\n",
              "      box-shadow: 0px 1px 2px rgba(60, 64, 67, 0.3), 0px 1px 3px 1px rgba(60, 64, 67, 0.15);\n",
              "      fill: #174EA6;\n",
              "    }\n",
              "\n",
              "    [theme=dark] .colab-df-convert {\n",
              "      background-color: #3B4455;\n",
              "      fill: #D2E3FC;\n",
              "    }\n",
              "\n",
              "    [theme=dark] .colab-df-convert:hover {\n",
              "      background-color: #434B5C;\n",
              "      box-shadow: 0px 1px 3px 1px rgba(0, 0, 0, 0.15);\n",
              "      filter: drop-shadow(0px 1px 2px rgba(0, 0, 0, 0.3));\n",
              "      fill: #FFFFFF;\n",
              "    }\n",
              "  </style>\n",
              "\n",
              "      <script>\n",
              "        const buttonEl =\n",
              "          document.querySelector('#df-643bdad2-97cb-4cfc-99fe-62a21434eff4 button.colab-df-convert');\n",
              "        buttonEl.style.display =\n",
              "          google.colab.kernel.accessAllowed ? 'block' : 'none';\n",
              "\n",
              "        async function convertToInteractive(key) {\n",
              "          const element = document.querySelector('#df-643bdad2-97cb-4cfc-99fe-62a21434eff4');\n",
              "          const dataTable =\n",
              "            await google.colab.kernel.invokeFunction('convertToInteractive',\n",
              "                                                     [key], {});\n",
              "          if (!dataTable) return;\n",
              "\n",
              "          const docLinkHtml = 'Like what you see? Visit the ' +\n",
              "            '<a target=\"_blank\" href=https://colab.research.google.com/notebooks/data_table.ipynb>data table notebook</a>'\n",
              "            + ' to learn more about interactive tables.';\n",
              "          element.innerHTML = '';\n",
              "          dataTable['output_type'] = 'display_data';\n",
              "          await google.colab.output.renderOutput(dataTable, element);\n",
              "          const docLink = document.createElement('div');\n",
              "          docLink.innerHTML = docLinkHtml;\n",
              "          element.appendChild(docLink);\n",
              "        }\n",
              "      </script>\n",
              "    </div>\n",
              "  </div>\n",
              "  "
            ],
            "text/plain": [
              "   pregnancies  glucose  diastolic  triceps  ...   bmi    dpf  age  diabetes\n",
              "0            6      148         72       35  ...  33.6  0.627   50         1\n",
              "1            1       85         66       29  ...  26.6  0.351   31         0\n",
              "2            8      183         64        0  ...  23.3  0.672   32         1\n",
              "3            1       89         66       23  ...  28.1  0.167   21         0\n",
              "4            0      137         40       35  ...  43.1  2.288   33         1\n",
              "\n",
              "[5 rows x 9 columns]"
            ]
          },
          "metadata": {},
          "execution_count": 99
        }
      ]
    },
    {
      "cell_type": "code",
      "source": [
        "df.info()"
      ],
      "metadata": {
        "colab": {
          "base_uri": "https://localhost:8080/"
        },
        "id": "AGMyqPPXfJAo",
        "outputId": "3874e122-bd70-4551-fa7b-9d34ffb1f460"
      },
      "execution_count": null,
      "outputs": [
        {
          "output_type": "stream",
          "name": "stdout",
          "text": [
            "<class 'pandas.core.frame.DataFrame'>\n",
            "RangeIndex: 768 entries, 0 to 767\n",
            "Data columns (total 9 columns):\n",
            " #   Column       Non-Null Count  Dtype  \n",
            "---  ------       --------------  -----  \n",
            " 0   pregnancies  768 non-null    int64  \n",
            " 1   glucose      768 non-null    int64  \n",
            " 2   diastolic    768 non-null    int64  \n",
            " 3   triceps      768 non-null    int64  \n",
            " 4   insulin      768 non-null    int64  \n",
            " 5   bmi          768 non-null    float64\n",
            " 6   dpf          768 non-null    float64\n",
            " 7   age          768 non-null    int64  \n",
            " 8   diabetes     768 non-null    int64  \n",
            "dtypes: float64(2), int64(7)\n",
            "memory usage: 54.1 KB\n"
          ]
        }
      ]
    },
    {
      "cell_type": "code",
      "source": [
        "df.columns"
      ],
      "metadata": {
        "colab": {
          "base_uri": "https://localhost:8080/"
        },
        "id": "2YnWAyArfJDz",
        "outputId": "a896ea9b-56f8-4ab9-a24c-b6878fc37a19"
      },
      "execution_count": null,
      "outputs": [
        {
          "output_type": "execute_result",
          "data": {
            "text/plain": [
              "Index(['pregnancies', 'glucose', 'diastolic', 'triceps', 'insulin', 'bmi',\n",
              "       'dpf', 'age', 'diabetes'],\n",
              "      dtype='object')"
            ]
          },
          "metadata": {},
          "execution_count": 101
        }
      ]
    },
    {
      "cell_type": "code",
      "source": [
        "X = df[['pregnancies', 'glucose', 'diastolic', 'triceps', 'insulin', 'bmi',\n",
        "       'dpf', 'age' ]]"
      ],
      "metadata": {
        "id": "CkLfYHMPzixO"
      },
      "execution_count": null,
      "outputs": []
    },
    {
      "cell_type": "code",
      "source": [
        "y = df['diabetes']"
      ],
      "metadata": {
        "id": "bYW316HJzs5P"
      },
      "execution_count": null,
      "outputs": []
    },
    {
      "cell_type": "code",
      "source": [
        "from sklearn.preprocessing import StandardScaler # Z-score \n",
        "sc = StandardScaler()\n",
        "X_std = sc.fit_transform(X)\n",
        "pd.DataFrame(X_std).describe()"
      ],
      "metadata": {
        "colab": {
          "base_uri": "https://localhost:8080/",
          "height": 300
        },
        "id": "pLGeUjAw0B2M",
        "outputId": "fb58b4d8-cfa8-4414-c9b6-54b8b8dc64c3"
      },
      "execution_count": null,
      "outputs": [
        {
          "output_type": "execute_result",
          "data": {
            "text/html": [
              "\n",
              "  <div id=\"df-b6e34672-69ef-4d3e-a45a-2fc3b548584a\">\n",
              "    <div class=\"colab-df-container\">\n",
              "      <div>\n",
              "<style scoped>\n",
              "    .dataframe tbody tr th:only-of-type {\n",
              "        vertical-align: middle;\n",
              "    }\n",
              "\n",
              "    .dataframe tbody tr th {\n",
              "        vertical-align: top;\n",
              "    }\n",
              "\n",
              "    .dataframe thead th {\n",
              "        text-align: right;\n",
              "    }\n",
              "</style>\n",
              "<table border=\"1\" class=\"dataframe\">\n",
              "  <thead>\n",
              "    <tr style=\"text-align: right;\">\n",
              "      <th></th>\n",
              "      <th>0</th>\n",
              "      <th>1</th>\n",
              "      <th>2</th>\n",
              "      <th>3</th>\n",
              "      <th>4</th>\n",
              "      <th>5</th>\n",
              "      <th>6</th>\n",
              "      <th>7</th>\n",
              "    </tr>\n",
              "  </thead>\n",
              "  <tbody>\n",
              "    <tr>\n",
              "      <th>count</th>\n",
              "      <td>7.680000e+02</td>\n",
              "      <td>7.680000e+02</td>\n",
              "      <td>7.680000e+02</td>\n",
              "      <td>7.680000e+02</td>\n",
              "      <td>7.680000e+02</td>\n",
              "      <td>7.680000e+02</td>\n",
              "      <td>7.680000e+02</td>\n",
              "      <td>7.680000e+02</td>\n",
              "    </tr>\n",
              "    <tr>\n",
              "      <th>mean</th>\n",
              "      <td>2.544261e-17</td>\n",
              "      <td>3.614007e-18</td>\n",
              "      <td>-1.327244e-17</td>\n",
              "      <td>7.994184e-17</td>\n",
              "      <td>-3.556183e-17</td>\n",
              "      <td>2.295979e-16</td>\n",
              "      <td>2.028904e-16</td>\n",
              "      <td>1.857600e-16</td>\n",
              "    </tr>\n",
              "    <tr>\n",
              "      <th>std</th>\n",
              "      <td>1.000652e+00</td>\n",
              "      <td>1.000652e+00</td>\n",
              "      <td>1.000652e+00</td>\n",
              "      <td>1.000652e+00</td>\n",
              "      <td>1.000652e+00</td>\n",
              "      <td>1.000652e+00</td>\n",
              "      <td>1.000652e+00</td>\n",
              "      <td>1.000652e+00</td>\n",
              "    </tr>\n",
              "    <tr>\n",
              "      <th>min</th>\n",
              "      <td>-1.141852e+00</td>\n",
              "      <td>-3.783654e+00</td>\n",
              "      <td>-3.572597e+00</td>\n",
              "      <td>-1.288212e+00</td>\n",
              "      <td>-6.928906e-01</td>\n",
              "      <td>-4.060474e+00</td>\n",
              "      <td>-1.189553e+00</td>\n",
              "      <td>-1.041549e+00</td>\n",
              "    </tr>\n",
              "    <tr>\n",
              "      <th>25%</th>\n",
              "      <td>-8.448851e-01</td>\n",
              "      <td>-6.852363e-01</td>\n",
              "      <td>-3.673367e-01</td>\n",
              "      <td>-1.288212e+00</td>\n",
              "      <td>-6.928906e-01</td>\n",
              "      <td>-5.955785e-01</td>\n",
              "      <td>-6.889685e-01</td>\n",
              "      <td>-7.862862e-01</td>\n",
              "    </tr>\n",
              "    <tr>\n",
              "      <th>50%</th>\n",
              "      <td>-2.509521e-01</td>\n",
              "      <td>-1.218877e-01</td>\n",
              "      <td>1.496408e-01</td>\n",
              "      <td>1.545332e-01</td>\n",
              "      <td>-4.280622e-01</td>\n",
              "      <td>9.419788e-04</td>\n",
              "      <td>-3.001282e-01</td>\n",
              "      <td>-3.608474e-01</td>\n",
              "    </tr>\n",
              "    <tr>\n",
              "      <th>75%</th>\n",
              "      <td>6.399473e-01</td>\n",
              "      <td>6.057709e-01</td>\n",
              "      <td>5.632228e-01</td>\n",
              "      <td>7.190857e-01</td>\n",
              "      <td>4.120079e-01</td>\n",
              "      <td>5.847705e-01</td>\n",
              "      <td>4.662269e-01</td>\n",
              "      <td>6.602056e-01</td>\n",
              "    </tr>\n",
              "    <tr>\n",
              "      <th>max</th>\n",
              "      <td>3.906578e+00</td>\n",
              "      <td>2.444478e+00</td>\n",
              "      <td>2.734528e+00</td>\n",
              "      <td>4.921866e+00</td>\n",
              "      <td>6.652839e+00</td>\n",
              "      <td>4.455807e+00</td>\n",
              "      <td>5.883565e+00</td>\n",
              "      <td>4.063716e+00</td>\n",
              "    </tr>\n",
              "  </tbody>\n",
              "</table>\n",
              "</div>\n",
              "      <button class=\"colab-df-convert\" onclick=\"convertToInteractive('df-b6e34672-69ef-4d3e-a45a-2fc3b548584a')\"\n",
              "              title=\"Convert this dataframe to an interactive table.\"\n",
              "              style=\"display:none;\">\n",
              "        \n",
              "  <svg xmlns=\"http://www.w3.org/2000/svg\" height=\"24px\"viewBox=\"0 0 24 24\"\n",
              "       width=\"24px\">\n",
              "    <path d=\"M0 0h24v24H0V0z\" fill=\"none\"/>\n",
              "    <path d=\"M18.56 5.44l.94 2.06.94-2.06 2.06-.94-2.06-.94-.94-2.06-.94 2.06-2.06.94zm-11 1L8.5 8.5l.94-2.06 2.06-.94-2.06-.94L8.5 2.5l-.94 2.06-2.06.94zm10 10l.94 2.06.94-2.06 2.06-.94-2.06-.94-.94-2.06-.94 2.06-2.06.94z\"/><path d=\"M17.41 7.96l-1.37-1.37c-.4-.4-.92-.59-1.43-.59-.52 0-1.04.2-1.43.59L10.3 9.45l-7.72 7.72c-.78.78-.78 2.05 0 2.83L4 21.41c.39.39.9.59 1.41.59.51 0 1.02-.2 1.41-.59l7.78-7.78 2.81-2.81c.8-.78.8-2.07 0-2.86zM5.41 20L4 18.59l7.72-7.72 1.47 1.35L5.41 20z\"/>\n",
              "  </svg>\n",
              "      </button>\n",
              "      \n",
              "  <style>\n",
              "    .colab-df-container {\n",
              "      display:flex;\n",
              "      flex-wrap:wrap;\n",
              "      gap: 12px;\n",
              "    }\n",
              "\n",
              "    .colab-df-convert {\n",
              "      background-color: #E8F0FE;\n",
              "      border: none;\n",
              "      border-radius: 50%;\n",
              "      cursor: pointer;\n",
              "      display: none;\n",
              "      fill: #1967D2;\n",
              "      height: 32px;\n",
              "      padding: 0 0 0 0;\n",
              "      width: 32px;\n",
              "    }\n",
              "\n",
              "    .colab-df-convert:hover {\n",
              "      background-color: #E2EBFA;\n",
              "      box-shadow: 0px 1px 2px rgba(60, 64, 67, 0.3), 0px 1px 3px 1px rgba(60, 64, 67, 0.15);\n",
              "      fill: #174EA6;\n",
              "    }\n",
              "\n",
              "    [theme=dark] .colab-df-convert {\n",
              "      background-color: #3B4455;\n",
              "      fill: #D2E3FC;\n",
              "    }\n",
              "\n",
              "    [theme=dark] .colab-df-convert:hover {\n",
              "      background-color: #434B5C;\n",
              "      box-shadow: 0px 1px 3px 1px rgba(0, 0, 0, 0.15);\n",
              "      filter: drop-shadow(0px 1px 2px rgba(0, 0, 0, 0.3));\n",
              "      fill: #FFFFFF;\n",
              "    }\n",
              "  </style>\n",
              "\n",
              "      <script>\n",
              "        const buttonEl =\n",
              "          document.querySelector('#df-b6e34672-69ef-4d3e-a45a-2fc3b548584a button.colab-df-convert');\n",
              "        buttonEl.style.display =\n",
              "          google.colab.kernel.accessAllowed ? 'block' : 'none';\n",
              "\n",
              "        async function convertToInteractive(key) {\n",
              "          const element = document.querySelector('#df-b6e34672-69ef-4d3e-a45a-2fc3b548584a');\n",
              "          const dataTable =\n",
              "            await google.colab.kernel.invokeFunction('convertToInteractive',\n",
              "                                                     [key], {});\n",
              "          if (!dataTable) return;\n",
              "\n",
              "          const docLinkHtml = 'Like what you see? Visit the ' +\n",
              "            '<a target=\"_blank\" href=https://colab.research.google.com/notebooks/data_table.ipynb>data table notebook</a>'\n",
              "            + ' to learn more about interactive tables.';\n",
              "          element.innerHTML = '';\n",
              "          dataTable['output_type'] = 'display_data';\n",
              "          await google.colab.output.renderOutput(dataTable, element);\n",
              "          const docLink = document.createElement('div');\n",
              "          docLink.innerHTML = docLinkHtml;\n",
              "          element.appendChild(docLink);\n",
              "        }\n",
              "      </script>\n",
              "    </div>\n",
              "  </div>\n",
              "  "
            ],
            "text/plain": [
              "                  0             1  ...             6             7\n",
              "count  7.680000e+02  7.680000e+02  ...  7.680000e+02  7.680000e+02\n",
              "mean   2.544261e-17  3.614007e-18  ...  2.028904e-16  1.857600e-16\n",
              "std    1.000652e+00  1.000652e+00  ...  1.000652e+00  1.000652e+00\n",
              "min   -1.141852e+00 -3.783654e+00  ... -1.189553e+00 -1.041549e+00\n",
              "25%   -8.448851e-01 -6.852363e-01  ... -6.889685e-01 -7.862862e-01\n",
              "50%   -2.509521e-01 -1.218877e-01  ... -3.001282e-01 -3.608474e-01\n",
              "75%    6.399473e-01  6.057709e-01  ...  4.662269e-01  6.602056e-01\n",
              "max    3.906578e+00  2.444478e+00  ...  5.883565e+00  4.063716e+00\n",
              "\n",
              "[8 rows x 8 columns]"
            ]
          },
          "metadata": {},
          "execution_count": 104
        }
      ]
    },
    {
      "cell_type": "code",
      "source": [
        "from sklearn.preprocessing import MinMaxScaler\n",
        "mm = MinMaxScaler()\n",
        "X_mm = mm.fit_transform(X)\n",
        "pd.DataFrame(X_mm).describe()"
      ],
      "metadata": {
        "colab": {
          "base_uri": "https://localhost:8080/",
          "height": 300
        },
        "id": "0lJ6HPt01R_4",
        "outputId": "073350a9-45b5-4a55-f283-96832f115ad9"
      },
      "execution_count": null,
      "outputs": [
        {
          "output_type": "execute_result",
          "data": {
            "text/html": [
              "\n",
              "  <div id=\"df-de00a1aa-b94f-491a-a98d-8253cbfea5ce\">\n",
              "    <div class=\"colab-df-container\">\n",
              "      <div>\n",
              "<style scoped>\n",
              "    .dataframe tbody tr th:only-of-type {\n",
              "        vertical-align: middle;\n",
              "    }\n",
              "\n",
              "    .dataframe tbody tr th {\n",
              "        vertical-align: top;\n",
              "    }\n",
              "\n",
              "    .dataframe thead th {\n",
              "        text-align: right;\n",
              "    }\n",
              "</style>\n",
              "<table border=\"1\" class=\"dataframe\">\n",
              "  <thead>\n",
              "    <tr style=\"text-align: right;\">\n",
              "      <th></th>\n",
              "      <th>0</th>\n",
              "      <th>1</th>\n",
              "      <th>2</th>\n",
              "      <th>3</th>\n",
              "      <th>4</th>\n",
              "      <th>5</th>\n",
              "      <th>6</th>\n",
              "      <th>7</th>\n",
              "    </tr>\n",
              "  </thead>\n",
              "  <tbody>\n",
              "    <tr>\n",
              "      <th>count</th>\n",
              "      <td>768.000000</td>\n",
              "      <td>768.000000</td>\n",
              "      <td>768.000000</td>\n",
              "      <td>768.000000</td>\n",
              "      <td>768.000000</td>\n",
              "      <td>768.000000</td>\n",
              "      <td>768.000000</td>\n",
              "      <td>768.000000</td>\n",
              "    </tr>\n",
              "    <tr>\n",
              "      <th>mean</th>\n",
              "      <td>0.226180</td>\n",
              "      <td>0.607510</td>\n",
              "      <td>0.566438</td>\n",
              "      <td>0.207439</td>\n",
              "      <td>0.094326</td>\n",
              "      <td>0.476790</td>\n",
              "      <td>0.168179</td>\n",
              "      <td>0.204015</td>\n",
              "    </tr>\n",
              "    <tr>\n",
              "      <th>std</th>\n",
              "      <td>0.198210</td>\n",
              "      <td>0.160666</td>\n",
              "      <td>0.158654</td>\n",
              "      <td>0.161134</td>\n",
              "      <td>0.136222</td>\n",
              "      <td>0.117499</td>\n",
              "      <td>0.141473</td>\n",
              "      <td>0.196004</td>\n",
              "    </tr>\n",
              "    <tr>\n",
              "      <th>min</th>\n",
              "      <td>0.000000</td>\n",
              "      <td>0.000000</td>\n",
              "      <td>0.000000</td>\n",
              "      <td>0.000000</td>\n",
              "      <td>0.000000</td>\n",
              "      <td>0.000000</td>\n",
              "      <td>0.000000</td>\n",
              "      <td>0.000000</td>\n",
              "    </tr>\n",
              "    <tr>\n",
              "      <th>25%</th>\n",
              "      <td>0.058824</td>\n",
              "      <td>0.497487</td>\n",
              "      <td>0.508197</td>\n",
              "      <td>0.000000</td>\n",
              "      <td>0.000000</td>\n",
              "      <td>0.406855</td>\n",
              "      <td>0.070773</td>\n",
              "      <td>0.050000</td>\n",
              "    </tr>\n",
              "    <tr>\n",
              "      <th>50%</th>\n",
              "      <td>0.176471</td>\n",
              "      <td>0.587940</td>\n",
              "      <td>0.590164</td>\n",
              "      <td>0.232323</td>\n",
              "      <td>0.036052</td>\n",
              "      <td>0.476900</td>\n",
              "      <td>0.125747</td>\n",
              "      <td>0.133333</td>\n",
              "    </tr>\n",
              "    <tr>\n",
              "      <th>75%</th>\n",
              "      <td>0.352941</td>\n",
              "      <td>0.704774</td>\n",
              "      <td>0.655738</td>\n",
              "      <td>0.323232</td>\n",
              "      <td>0.150414</td>\n",
              "      <td>0.545455</td>\n",
              "      <td>0.234095</td>\n",
              "      <td>0.333333</td>\n",
              "    </tr>\n",
              "    <tr>\n",
              "      <th>max</th>\n",
              "      <td>1.000000</td>\n",
              "      <td>1.000000</td>\n",
              "      <td>1.000000</td>\n",
              "      <td>1.000000</td>\n",
              "      <td>1.000000</td>\n",
              "      <td>1.000000</td>\n",
              "      <td>1.000000</td>\n",
              "      <td>1.000000</td>\n",
              "    </tr>\n",
              "  </tbody>\n",
              "</table>\n",
              "</div>\n",
              "      <button class=\"colab-df-convert\" onclick=\"convertToInteractive('df-de00a1aa-b94f-491a-a98d-8253cbfea5ce')\"\n",
              "              title=\"Convert this dataframe to an interactive table.\"\n",
              "              style=\"display:none;\">\n",
              "        \n",
              "  <svg xmlns=\"http://www.w3.org/2000/svg\" height=\"24px\"viewBox=\"0 0 24 24\"\n",
              "       width=\"24px\">\n",
              "    <path d=\"M0 0h24v24H0V0z\" fill=\"none\"/>\n",
              "    <path d=\"M18.56 5.44l.94 2.06.94-2.06 2.06-.94-2.06-.94-.94-2.06-.94 2.06-2.06.94zm-11 1L8.5 8.5l.94-2.06 2.06-.94-2.06-.94L8.5 2.5l-.94 2.06-2.06.94zm10 10l.94 2.06.94-2.06 2.06-.94-2.06-.94-.94-2.06-.94 2.06-2.06.94z\"/><path d=\"M17.41 7.96l-1.37-1.37c-.4-.4-.92-.59-1.43-.59-.52 0-1.04.2-1.43.59L10.3 9.45l-7.72 7.72c-.78.78-.78 2.05 0 2.83L4 21.41c.39.39.9.59 1.41.59.51 0 1.02-.2 1.41-.59l7.78-7.78 2.81-2.81c.8-.78.8-2.07 0-2.86zM5.41 20L4 18.59l7.72-7.72 1.47 1.35L5.41 20z\"/>\n",
              "  </svg>\n",
              "      </button>\n",
              "      \n",
              "  <style>\n",
              "    .colab-df-container {\n",
              "      display:flex;\n",
              "      flex-wrap:wrap;\n",
              "      gap: 12px;\n",
              "    }\n",
              "\n",
              "    .colab-df-convert {\n",
              "      background-color: #E8F0FE;\n",
              "      border: none;\n",
              "      border-radius: 50%;\n",
              "      cursor: pointer;\n",
              "      display: none;\n",
              "      fill: #1967D2;\n",
              "      height: 32px;\n",
              "      padding: 0 0 0 0;\n",
              "      width: 32px;\n",
              "    }\n",
              "\n",
              "    .colab-df-convert:hover {\n",
              "      background-color: #E2EBFA;\n",
              "      box-shadow: 0px 1px 2px rgba(60, 64, 67, 0.3), 0px 1px 3px 1px rgba(60, 64, 67, 0.15);\n",
              "      fill: #174EA6;\n",
              "    }\n",
              "\n",
              "    [theme=dark] .colab-df-convert {\n",
              "      background-color: #3B4455;\n",
              "      fill: #D2E3FC;\n",
              "    }\n",
              "\n",
              "    [theme=dark] .colab-df-convert:hover {\n",
              "      background-color: #434B5C;\n",
              "      box-shadow: 0px 1px 3px 1px rgba(0, 0, 0, 0.15);\n",
              "      filter: drop-shadow(0px 1px 2px rgba(0, 0, 0, 0.3));\n",
              "      fill: #FFFFFF;\n",
              "    }\n",
              "  </style>\n",
              "\n",
              "      <script>\n",
              "        const buttonEl =\n",
              "          document.querySelector('#df-de00a1aa-b94f-491a-a98d-8253cbfea5ce button.colab-df-convert');\n",
              "        buttonEl.style.display =\n",
              "          google.colab.kernel.accessAllowed ? 'block' : 'none';\n",
              "\n",
              "        async function convertToInteractive(key) {\n",
              "          const element = document.querySelector('#df-de00a1aa-b94f-491a-a98d-8253cbfea5ce');\n",
              "          const dataTable =\n",
              "            await google.colab.kernel.invokeFunction('convertToInteractive',\n",
              "                                                     [key], {});\n",
              "          if (!dataTable) return;\n",
              "\n",
              "          const docLinkHtml = 'Like what you see? Visit the ' +\n",
              "            '<a target=\"_blank\" href=https://colab.research.google.com/notebooks/data_table.ipynb>data table notebook</a>'\n",
              "            + ' to learn more about interactive tables.';\n",
              "          element.innerHTML = '';\n",
              "          dataTable['output_type'] = 'display_data';\n",
              "          await google.colab.output.renderOutput(dataTable, element);\n",
              "          const docLink = document.createElement('div');\n",
              "          docLink.innerHTML = docLinkHtml;\n",
              "          element.appendChild(docLink);\n",
              "        }\n",
              "      </script>\n",
              "    </div>\n",
              "  </div>\n",
              "  "
            ],
            "text/plain": [
              "                0           1           2  ...           5           6           7\n",
              "count  768.000000  768.000000  768.000000  ...  768.000000  768.000000  768.000000\n",
              "mean     0.226180    0.607510    0.566438  ...    0.476790    0.168179    0.204015\n",
              "std      0.198210    0.160666    0.158654  ...    0.117499    0.141473    0.196004\n",
              "min      0.000000    0.000000    0.000000  ...    0.000000    0.000000    0.000000\n",
              "25%      0.058824    0.497487    0.508197  ...    0.406855    0.070773    0.050000\n",
              "50%      0.176471    0.587940    0.590164  ...    0.476900    0.125747    0.133333\n",
              "75%      0.352941    0.704774    0.655738  ...    0.545455    0.234095    0.333333\n",
              "max      1.000000    1.000000    1.000000  ...    1.000000    1.000000    1.000000\n",
              "\n",
              "[8 rows x 8 columns]"
            ]
          },
          "metadata": {},
          "execution_count": 105
        }
      ]
    },
    {
      "cell_type": "code",
      "source": [
        "X_std = sc.fit_transform(X)"
      ],
      "metadata": {
        "id": "Zrh2eY5m1bsT"
      },
      "execution_count": null,
      "outputs": []
    },
    {
      "cell_type": "code",
      "source": [
        "X_mm = mm.fit_transform(X)"
      ],
      "metadata": {
        "id": "B19FNb5Z2KIH"
      },
      "execution_count": null,
      "outputs": []
    },
    {
      "cell_type": "code",
      "source": [
        "X"
      ],
      "metadata": {
        "colab": {
          "base_uri": "https://localhost:8080/",
          "height": 424
        },
        "id": "SE0Ui_145xPk",
        "outputId": "1f32f8e0-0647-421e-9828-997d4fe6597b"
      },
      "execution_count": null,
      "outputs": [
        {
          "output_type": "execute_result",
          "data": {
            "text/html": [
              "\n",
              "  <div id=\"df-356f7ac5-8c0d-4268-8b1a-94a219e46cae\">\n",
              "    <div class=\"colab-df-container\">\n",
              "      <div>\n",
              "<style scoped>\n",
              "    .dataframe tbody tr th:only-of-type {\n",
              "        vertical-align: middle;\n",
              "    }\n",
              "\n",
              "    .dataframe tbody tr th {\n",
              "        vertical-align: top;\n",
              "    }\n",
              "\n",
              "    .dataframe thead th {\n",
              "        text-align: right;\n",
              "    }\n",
              "</style>\n",
              "<table border=\"1\" class=\"dataframe\">\n",
              "  <thead>\n",
              "    <tr style=\"text-align: right;\">\n",
              "      <th></th>\n",
              "      <th>pregnancies</th>\n",
              "      <th>glucose</th>\n",
              "      <th>diastolic</th>\n",
              "      <th>triceps</th>\n",
              "      <th>insulin</th>\n",
              "      <th>bmi</th>\n",
              "      <th>dpf</th>\n",
              "      <th>age</th>\n",
              "    </tr>\n",
              "  </thead>\n",
              "  <tbody>\n",
              "    <tr>\n",
              "      <th>0</th>\n",
              "      <td>6</td>\n",
              "      <td>148</td>\n",
              "      <td>72</td>\n",
              "      <td>35</td>\n",
              "      <td>0</td>\n",
              "      <td>33.6</td>\n",
              "      <td>0.627</td>\n",
              "      <td>50</td>\n",
              "    </tr>\n",
              "    <tr>\n",
              "      <th>1</th>\n",
              "      <td>1</td>\n",
              "      <td>85</td>\n",
              "      <td>66</td>\n",
              "      <td>29</td>\n",
              "      <td>0</td>\n",
              "      <td>26.6</td>\n",
              "      <td>0.351</td>\n",
              "      <td>31</td>\n",
              "    </tr>\n",
              "    <tr>\n",
              "      <th>2</th>\n",
              "      <td>8</td>\n",
              "      <td>183</td>\n",
              "      <td>64</td>\n",
              "      <td>0</td>\n",
              "      <td>0</td>\n",
              "      <td>23.3</td>\n",
              "      <td>0.672</td>\n",
              "      <td>32</td>\n",
              "    </tr>\n",
              "    <tr>\n",
              "      <th>3</th>\n",
              "      <td>1</td>\n",
              "      <td>89</td>\n",
              "      <td>66</td>\n",
              "      <td>23</td>\n",
              "      <td>94</td>\n",
              "      <td>28.1</td>\n",
              "      <td>0.167</td>\n",
              "      <td>21</td>\n",
              "    </tr>\n",
              "    <tr>\n",
              "      <th>4</th>\n",
              "      <td>0</td>\n",
              "      <td>137</td>\n",
              "      <td>40</td>\n",
              "      <td>35</td>\n",
              "      <td>168</td>\n",
              "      <td>43.1</td>\n",
              "      <td>2.288</td>\n",
              "      <td>33</td>\n",
              "    </tr>\n",
              "    <tr>\n",
              "      <th>...</th>\n",
              "      <td>...</td>\n",
              "      <td>...</td>\n",
              "      <td>...</td>\n",
              "      <td>...</td>\n",
              "      <td>...</td>\n",
              "      <td>...</td>\n",
              "      <td>...</td>\n",
              "      <td>...</td>\n",
              "    </tr>\n",
              "    <tr>\n",
              "      <th>763</th>\n",
              "      <td>10</td>\n",
              "      <td>101</td>\n",
              "      <td>76</td>\n",
              "      <td>48</td>\n",
              "      <td>180</td>\n",
              "      <td>32.9</td>\n",
              "      <td>0.171</td>\n",
              "      <td>63</td>\n",
              "    </tr>\n",
              "    <tr>\n",
              "      <th>764</th>\n",
              "      <td>2</td>\n",
              "      <td>122</td>\n",
              "      <td>70</td>\n",
              "      <td>27</td>\n",
              "      <td>0</td>\n",
              "      <td>36.8</td>\n",
              "      <td>0.340</td>\n",
              "      <td>27</td>\n",
              "    </tr>\n",
              "    <tr>\n",
              "      <th>765</th>\n",
              "      <td>5</td>\n",
              "      <td>121</td>\n",
              "      <td>72</td>\n",
              "      <td>23</td>\n",
              "      <td>112</td>\n",
              "      <td>26.2</td>\n",
              "      <td>0.245</td>\n",
              "      <td>30</td>\n",
              "    </tr>\n",
              "    <tr>\n",
              "      <th>766</th>\n",
              "      <td>1</td>\n",
              "      <td>126</td>\n",
              "      <td>60</td>\n",
              "      <td>0</td>\n",
              "      <td>0</td>\n",
              "      <td>30.1</td>\n",
              "      <td>0.349</td>\n",
              "      <td>47</td>\n",
              "    </tr>\n",
              "    <tr>\n",
              "      <th>767</th>\n",
              "      <td>1</td>\n",
              "      <td>93</td>\n",
              "      <td>70</td>\n",
              "      <td>31</td>\n",
              "      <td>0</td>\n",
              "      <td>30.4</td>\n",
              "      <td>0.315</td>\n",
              "      <td>23</td>\n",
              "    </tr>\n",
              "  </tbody>\n",
              "</table>\n",
              "<p>768 rows × 8 columns</p>\n",
              "</div>\n",
              "      <button class=\"colab-df-convert\" onclick=\"convertToInteractive('df-356f7ac5-8c0d-4268-8b1a-94a219e46cae')\"\n",
              "              title=\"Convert this dataframe to an interactive table.\"\n",
              "              style=\"display:none;\">\n",
              "        \n",
              "  <svg xmlns=\"http://www.w3.org/2000/svg\" height=\"24px\"viewBox=\"0 0 24 24\"\n",
              "       width=\"24px\">\n",
              "    <path d=\"M0 0h24v24H0V0z\" fill=\"none\"/>\n",
              "    <path d=\"M18.56 5.44l.94 2.06.94-2.06 2.06-.94-2.06-.94-.94-2.06-.94 2.06-2.06.94zm-11 1L8.5 8.5l.94-2.06 2.06-.94-2.06-.94L8.5 2.5l-.94 2.06-2.06.94zm10 10l.94 2.06.94-2.06 2.06-.94-2.06-.94-.94-2.06-.94 2.06-2.06.94z\"/><path d=\"M17.41 7.96l-1.37-1.37c-.4-.4-.92-.59-1.43-.59-.52 0-1.04.2-1.43.59L10.3 9.45l-7.72 7.72c-.78.78-.78 2.05 0 2.83L4 21.41c.39.39.9.59 1.41.59.51 0 1.02-.2 1.41-.59l7.78-7.78 2.81-2.81c.8-.78.8-2.07 0-2.86zM5.41 20L4 18.59l7.72-7.72 1.47 1.35L5.41 20z\"/>\n",
              "  </svg>\n",
              "      </button>\n",
              "      \n",
              "  <style>\n",
              "    .colab-df-container {\n",
              "      display:flex;\n",
              "      flex-wrap:wrap;\n",
              "      gap: 12px;\n",
              "    }\n",
              "\n",
              "    .colab-df-convert {\n",
              "      background-color: #E8F0FE;\n",
              "      border: none;\n",
              "      border-radius: 50%;\n",
              "      cursor: pointer;\n",
              "      display: none;\n",
              "      fill: #1967D2;\n",
              "      height: 32px;\n",
              "      padding: 0 0 0 0;\n",
              "      width: 32px;\n",
              "    }\n",
              "\n",
              "    .colab-df-convert:hover {\n",
              "      background-color: #E2EBFA;\n",
              "      box-shadow: 0px 1px 2px rgba(60, 64, 67, 0.3), 0px 1px 3px 1px rgba(60, 64, 67, 0.15);\n",
              "      fill: #174EA6;\n",
              "    }\n",
              "\n",
              "    [theme=dark] .colab-df-convert {\n",
              "      background-color: #3B4455;\n",
              "      fill: #D2E3FC;\n",
              "    }\n",
              "\n",
              "    [theme=dark] .colab-df-convert:hover {\n",
              "      background-color: #434B5C;\n",
              "      box-shadow: 0px 1px 3px 1px rgba(0, 0, 0, 0.15);\n",
              "      filter: drop-shadow(0px 1px 2px rgba(0, 0, 0, 0.3));\n",
              "      fill: #FFFFFF;\n",
              "    }\n",
              "  </style>\n",
              "\n",
              "      <script>\n",
              "        const buttonEl =\n",
              "          document.querySelector('#df-356f7ac5-8c0d-4268-8b1a-94a219e46cae button.colab-df-convert');\n",
              "        buttonEl.style.display =\n",
              "          google.colab.kernel.accessAllowed ? 'block' : 'none';\n",
              "\n",
              "        async function convertToInteractive(key) {\n",
              "          const element = document.querySelector('#df-356f7ac5-8c0d-4268-8b1a-94a219e46cae');\n",
              "          const dataTable =\n",
              "            await google.colab.kernel.invokeFunction('convertToInteractive',\n",
              "                                                     [key], {});\n",
              "          if (!dataTable) return;\n",
              "\n",
              "          const docLinkHtml = 'Like what you see? Visit the ' +\n",
              "            '<a target=\"_blank\" href=https://colab.research.google.com/notebooks/data_table.ipynb>data table notebook</a>'\n",
              "            + ' to learn more about interactive tables.';\n",
              "          element.innerHTML = '';\n",
              "          dataTable['output_type'] = 'display_data';\n",
              "          await google.colab.output.renderOutput(dataTable, element);\n",
              "          const docLink = document.createElement('div');\n",
              "          docLink.innerHTML = docLinkHtml;\n",
              "          element.appendChild(docLink);\n",
              "        }\n",
              "      </script>\n",
              "    </div>\n",
              "  </div>\n",
              "  "
            ],
            "text/plain": [
              "     pregnancies  glucose  diastolic  triceps  insulin   bmi    dpf  age\n",
              "0              6      148         72       35        0  33.6  0.627   50\n",
              "1              1       85         66       29        0  26.6  0.351   31\n",
              "2              8      183         64        0        0  23.3  0.672   32\n",
              "3              1       89         66       23       94  28.1  0.167   21\n",
              "4              0      137         40       35      168  43.1  2.288   33\n",
              "..           ...      ...        ...      ...      ...   ...    ...  ...\n",
              "763           10      101         76       48      180  32.9  0.171   63\n",
              "764            2      122         70       27        0  36.8  0.340   27\n",
              "765            5      121         72       23      112  26.2  0.245   30\n",
              "766            1      126         60        0        0  30.1  0.349   47\n",
              "767            1       93         70       31        0  30.4  0.315   23\n",
              "\n",
              "[768 rows x 8 columns]"
            ]
          },
          "metadata": {},
          "execution_count": 108
        }
      ]
    },
    {
      "cell_type": "code",
      "source": [
        "X_mm"
      ],
      "metadata": {
        "colab": {
          "base_uri": "https://localhost:8080/"
        },
        "id": "8Tj8nlSf5_qs",
        "outputId": "9b68c71b-5f75-4395-cdc1-70d302f6524e"
      },
      "execution_count": null,
      "outputs": [
        {
          "output_type": "execute_result",
          "data": {
            "text/plain": [
              "array([[0.35294118, 0.74371859, 0.59016393, ..., 0.50074516, 0.23441503,\n",
              "        0.48333333],\n",
              "       [0.05882353, 0.42713568, 0.54098361, ..., 0.39642325, 0.11656704,\n",
              "        0.16666667],\n",
              "       [0.47058824, 0.91959799, 0.52459016, ..., 0.34724292, 0.25362938,\n",
              "        0.18333333],\n",
              "       ...,\n",
              "       [0.29411765, 0.6080402 , 0.59016393, ..., 0.390462  , 0.07130658,\n",
              "        0.15      ],\n",
              "       [0.05882353, 0.63316583, 0.49180328, ..., 0.4485842 , 0.11571307,\n",
              "        0.43333333],\n",
              "       [0.05882353, 0.46733668, 0.57377049, ..., 0.45305514, 0.10119556,\n",
              "        0.03333333]])"
            ]
          },
          "metadata": {},
          "execution_count": 109
        }
      ]
    },
    {
      "cell_type": "code",
      "source": [
        "pd.DataFrame(X_mm)"
      ],
      "metadata": {
        "colab": {
          "base_uri": "https://localhost:8080/",
          "height": 424
        },
        "id": "4WkG4-696JS_",
        "outputId": "86ca46de-9cc9-499e-cc3e-68c67690a530"
      },
      "execution_count": null,
      "outputs": [
        {
          "output_type": "execute_result",
          "data": {
            "text/html": [
              "\n",
              "  <div id=\"df-3bfbbd13-2840-4d64-8cd4-06061f6d7cae\">\n",
              "    <div class=\"colab-df-container\">\n",
              "      <div>\n",
              "<style scoped>\n",
              "    .dataframe tbody tr th:only-of-type {\n",
              "        vertical-align: middle;\n",
              "    }\n",
              "\n",
              "    .dataframe tbody tr th {\n",
              "        vertical-align: top;\n",
              "    }\n",
              "\n",
              "    .dataframe thead th {\n",
              "        text-align: right;\n",
              "    }\n",
              "</style>\n",
              "<table border=\"1\" class=\"dataframe\">\n",
              "  <thead>\n",
              "    <tr style=\"text-align: right;\">\n",
              "      <th></th>\n",
              "      <th>0</th>\n",
              "      <th>1</th>\n",
              "      <th>2</th>\n",
              "      <th>3</th>\n",
              "      <th>4</th>\n",
              "      <th>5</th>\n",
              "      <th>6</th>\n",
              "      <th>7</th>\n",
              "    </tr>\n",
              "  </thead>\n",
              "  <tbody>\n",
              "    <tr>\n",
              "      <th>0</th>\n",
              "      <td>0.352941</td>\n",
              "      <td>0.743719</td>\n",
              "      <td>0.590164</td>\n",
              "      <td>0.353535</td>\n",
              "      <td>0.000000</td>\n",
              "      <td>0.500745</td>\n",
              "      <td>0.234415</td>\n",
              "      <td>0.483333</td>\n",
              "    </tr>\n",
              "    <tr>\n",
              "      <th>1</th>\n",
              "      <td>0.058824</td>\n",
              "      <td>0.427136</td>\n",
              "      <td>0.540984</td>\n",
              "      <td>0.292929</td>\n",
              "      <td>0.000000</td>\n",
              "      <td>0.396423</td>\n",
              "      <td>0.116567</td>\n",
              "      <td>0.166667</td>\n",
              "    </tr>\n",
              "    <tr>\n",
              "      <th>2</th>\n",
              "      <td>0.470588</td>\n",
              "      <td>0.919598</td>\n",
              "      <td>0.524590</td>\n",
              "      <td>0.000000</td>\n",
              "      <td>0.000000</td>\n",
              "      <td>0.347243</td>\n",
              "      <td>0.253629</td>\n",
              "      <td>0.183333</td>\n",
              "    </tr>\n",
              "    <tr>\n",
              "      <th>3</th>\n",
              "      <td>0.058824</td>\n",
              "      <td>0.447236</td>\n",
              "      <td>0.540984</td>\n",
              "      <td>0.232323</td>\n",
              "      <td>0.111111</td>\n",
              "      <td>0.418778</td>\n",
              "      <td>0.038002</td>\n",
              "      <td>0.000000</td>\n",
              "    </tr>\n",
              "    <tr>\n",
              "      <th>4</th>\n",
              "      <td>0.000000</td>\n",
              "      <td>0.688442</td>\n",
              "      <td>0.327869</td>\n",
              "      <td>0.353535</td>\n",
              "      <td>0.198582</td>\n",
              "      <td>0.642325</td>\n",
              "      <td>0.943638</td>\n",
              "      <td>0.200000</td>\n",
              "    </tr>\n",
              "    <tr>\n",
              "      <th>...</th>\n",
              "      <td>...</td>\n",
              "      <td>...</td>\n",
              "      <td>...</td>\n",
              "      <td>...</td>\n",
              "      <td>...</td>\n",
              "      <td>...</td>\n",
              "      <td>...</td>\n",
              "      <td>...</td>\n",
              "    </tr>\n",
              "    <tr>\n",
              "      <th>763</th>\n",
              "      <td>0.588235</td>\n",
              "      <td>0.507538</td>\n",
              "      <td>0.622951</td>\n",
              "      <td>0.484848</td>\n",
              "      <td>0.212766</td>\n",
              "      <td>0.490313</td>\n",
              "      <td>0.039710</td>\n",
              "      <td>0.700000</td>\n",
              "    </tr>\n",
              "    <tr>\n",
              "      <th>764</th>\n",
              "      <td>0.117647</td>\n",
              "      <td>0.613065</td>\n",
              "      <td>0.573770</td>\n",
              "      <td>0.272727</td>\n",
              "      <td>0.000000</td>\n",
              "      <td>0.548435</td>\n",
              "      <td>0.111870</td>\n",
              "      <td>0.100000</td>\n",
              "    </tr>\n",
              "    <tr>\n",
              "      <th>765</th>\n",
              "      <td>0.294118</td>\n",
              "      <td>0.608040</td>\n",
              "      <td>0.590164</td>\n",
              "      <td>0.232323</td>\n",
              "      <td>0.132388</td>\n",
              "      <td>0.390462</td>\n",
              "      <td>0.071307</td>\n",
              "      <td>0.150000</td>\n",
              "    </tr>\n",
              "    <tr>\n",
              "      <th>766</th>\n",
              "      <td>0.058824</td>\n",
              "      <td>0.633166</td>\n",
              "      <td>0.491803</td>\n",
              "      <td>0.000000</td>\n",
              "      <td>0.000000</td>\n",
              "      <td>0.448584</td>\n",
              "      <td>0.115713</td>\n",
              "      <td>0.433333</td>\n",
              "    </tr>\n",
              "    <tr>\n",
              "      <th>767</th>\n",
              "      <td>0.058824</td>\n",
              "      <td>0.467337</td>\n",
              "      <td>0.573770</td>\n",
              "      <td>0.313131</td>\n",
              "      <td>0.000000</td>\n",
              "      <td>0.453055</td>\n",
              "      <td>0.101196</td>\n",
              "      <td>0.033333</td>\n",
              "    </tr>\n",
              "  </tbody>\n",
              "</table>\n",
              "<p>768 rows × 8 columns</p>\n",
              "</div>\n",
              "      <button class=\"colab-df-convert\" onclick=\"convertToInteractive('df-3bfbbd13-2840-4d64-8cd4-06061f6d7cae')\"\n",
              "              title=\"Convert this dataframe to an interactive table.\"\n",
              "              style=\"display:none;\">\n",
              "        \n",
              "  <svg xmlns=\"http://www.w3.org/2000/svg\" height=\"24px\"viewBox=\"0 0 24 24\"\n",
              "       width=\"24px\">\n",
              "    <path d=\"M0 0h24v24H0V0z\" fill=\"none\"/>\n",
              "    <path d=\"M18.56 5.44l.94 2.06.94-2.06 2.06-.94-2.06-.94-.94-2.06-.94 2.06-2.06.94zm-11 1L8.5 8.5l.94-2.06 2.06-.94-2.06-.94L8.5 2.5l-.94 2.06-2.06.94zm10 10l.94 2.06.94-2.06 2.06-.94-2.06-.94-.94-2.06-.94 2.06-2.06.94z\"/><path d=\"M17.41 7.96l-1.37-1.37c-.4-.4-.92-.59-1.43-.59-.52 0-1.04.2-1.43.59L10.3 9.45l-7.72 7.72c-.78.78-.78 2.05 0 2.83L4 21.41c.39.39.9.59 1.41.59.51 0 1.02-.2 1.41-.59l7.78-7.78 2.81-2.81c.8-.78.8-2.07 0-2.86zM5.41 20L4 18.59l7.72-7.72 1.47 1.35L5.41 20z\"/>\n",
              "  </svg>\n",
              "      </button>\n",
              "      \n",
              "  <style>\n",
              "    .colab-df-container {\n",
              "      display:flex;\n",
              "      flex-wrap:wrap;\n",
              "      gap: 12px;\n",
              "    }\n",
              "\n",
              "    .colab-df-convert {\n",
              "      background-color: #E8F0FE;\n",
              "      border: none;\n",
              "      border-radius: 50%;\n",
              "      cursor: pointer;\n",
              "      display: none;\n",
              "      fill: #1967D2;\n",
              "      height: 32px;\n",
              "      padding: 0 0 0 0;\n",
              "      width: 32px;\n",
              "    }\n",
              "\n",
              "    .colab-df-convert:hover {\n",
              "      background-color: #E2EBFA;\n",
              "      box-shadow: 0px 1px 2px rgba(60, 64, 67, 0.3), 0px 1px 3px 1px rgba(60, 64, 67, 0.15);\n",
              "      fill: #174EA6;\n",
              "    }\n",
              "\n",
              "    [theme=dark] .colab-df-convert {\n",
              "      background-color: #3B4455;\n",
              "      fill: #D2E3FC;\n",
              "    }\n",
              "\n",
              "    [theme=dark] .colab-df-convert:hover {\n",
              "      background-color: #434B5C;\n",
              "      box-shadow: 0px 1px 3px 1px rgba(0, 0, 0, 0.15);\n",
              "      filter: drop-shadow(0px 1px 2px rgba(0, 0, 0, 0.3));\n",
              "      fill: #FFFFFF;\n",
              "    }\n",
              "  </style>\n",
              "\n",
              "      <script>\n",
              "        const buttonEl =\n",
              "          document.querySelector('#df-3bfbbd13-2840-4d64-8cd4-06061f6d7cae button.colab-df-convert');\n",
              "        buttonEl.style.display =\n",
              "          google.colab.kernel.accessAllowed ? 'block' : 'none';\n",
              "\n",
              "        async function convertToInteractive(key) {\n",
              "          const element = document.querySelector('#df-3bfbbd13-2840-4d64-8cd4-06061f6d7cae');\n",
              "          const dataTable =\n",
              "            await google.colab.kernel.invokeFunction('convertToInteractive',\n",
              "                                                     [key], {});\n",
              "          if (!dataTable) return;\n",
              "\n",
              "          const docLinkHtml = 'Like what you see? Visit the ' +\n",
              "            '<a target=\"_blank\" href=https://colab.research.google.com/notebooks/data_table.ipynb>data table notebook</a>'\n",
              "            + ' to learn more about interactive tables.';\n",
              "          element.innerHTML = '';\n",
              "          dataTable['output_type'] = 'display_data';\n",
              "          await google.colab.output.renderOutput(dataTable, element);\n",
              "          const docLink = document.createElement('div');\n",
              "          docLink.innerHTML = docLinkHtml;\n",
              "          element.appendChild(docLink);\n",
              "        }\n",
              "      </script>\n",
              "    </div>\n",
              "  </div>\n",
              "  "
            ],
            "text/plain": [
              "            0         1         2  ...         5         6         7\n",
              "0    0.352941  0.743719  0.590164  ...  0.500745  0.234415  0.483333\n",
              "1    0.058824  0.427136  0.540984  ...  0.396423  0.116567  0.166667\n",
              "2    0.470588  0.919598  0.524590  ...  0.347243  0.253629  0.183333\n",
              "3    0.058824  0.447236  0.540984  ...  0.418778  0.038002  0.000000\n",
              "4    0.000000  0.688442  0.327869  ...  0.642325  0.943638  0.200000\n",
              "..        ...       ...       ...  ...       ...       ...       ...\n",
              "763  0.588235  0.507538  0.622951  ...  0.490313  0.039710  0.700000\n",
              "764  0.117647  0.613065  0.573770  ...  0.548435  0.111870  0.100000\n",
              "765  0.294118  0.608040  0.590164  ...  0.390462  0.071307  0.150000\n",
              "766  0.058824  0.633166  0.491803  ...  0.448584  0.115713  0.433333\n",
              "767  0.058824  0.467337  0.573770  ...  0.453055  0.101196  0.033333\n",
              "\n",
              "[768 rows x 8 columns]"
            ]
          },
          "metadata": {},
          "execution_count": 110
        }
      ]
    },
    {
      "cell_type": "code",
      "source": [
        "from sklearn.model_selection import train_test_split"
      ],
      "metadata": {
        "id": "QfEMQHBp6S8G"
      },
      "execution_count": null,
      "outputs": []
    },
    {
      "cell_type": "code",
      "source": [
        "X_train, X_test, y_train, y_test = train_test_split( X_mm, y, train_size= 0.7, random_state = 2529)"
      ],
      "metadata": {
        "id": "gQB61ave6frn"
      },
      "execution_count": null,
      "outputs": []
    },
    {
      "cell_type": "code",
      "source": [
        "from sklearn.linear_model import LogisticRegression"
      ],
      "metadata": {
        "id": "ee0Uho3V60x0"
      },
      "execution_count": null,
      "outputs": []
    },
    {
      "cell_type": "code",
      "source": [
        "lr = LogisticRegression()"
      ],
      "metadata": {
        "id": "MntSIHQ59ev8"
      },
      "execution_count": null,
      "outputs": []
    },
    {
      "cell_type": "code",
      "source": [
        "lr.fit(X_train,y_train)"
      ],
      "metadata": {
        "colab": {
          "base_uri": "https://localhost:8080/"
        },
        "id": "xoN8aY379t0h",
        "outputId": "abbfe5f4-0219-4f71-9339-cf961b12c757"
      },
      "execution_count": null,
      "outputs": [
        {
          "output_type": "execute_result",
          "data": {
            "text/plain": [
              "LogisticRegression()"
            ]
          },
          "metadata": {},
          "execution_count": 116
        }
      ]
    },
    {
      "cell_type": "code",
      "source": [
        "y_pred = lr.predict(X_test)"
      ],
      "metadata": {
        "id": "npUjPZrz-uyK"
      },
      "execution_count": null,
      "outputs": []
    },
    {
      "cell_type": "code",
      "source": [
        "y_pred"
      ],
      "metadata": {
        "colab": {
          "base_uri": "https://localhost:8080/"
        },
        "id": "ZgBMRFwS-2Hu",
        "outputId": "c4a6556d-c1ed-4186-8f28-3483c44aa5e3"
      },
      "execution_count": null,
      "outputs": [
        {
          "output_type": "execute_result",
          "data": {
            "text/plain": [
              "array([0, 0, 1, 0, 0, 1, 1, 1, 0, 1, 0, 1, 0, 0, 0, 1, 1, 0, 0, 0, 1, 1,\n",
              "       0, 0, 0, 0, 0, 0, 0, 0, 0, 0, 0, 0, 1, 0, 0, 0, 0, 1, 0, 0, 0, 0,\n",
              "       0, 1, 1, 0, 0, 0, 0, 1, 0, 0, 0, 0, 0, 0, 0, 1, 0, 0, 0, 0, 0, 1,\n",
              "       0, 0, 1, 0, 1, 0, 0, 0, 0, 0, 0, 0, 0, 0, 0, 0, 1, 1, 0, 0, 1, 0,\n",
              "       0, 0, 1, 0, 1, 0, 0, 0, 0, 0, 0, 0, 1, 0, 0, 1, 1, 0, 0, 1, 0, 1,\n",
              "       0, 0, 0, 1, 1, 0, 0, 0, 0, 0, 0, 1, 0, 1, 0, 0, 1, 0, 1, 0, 0, 1,\n",
              "       0, 0, 0, 1, 0, 1, 0, 0, 0, 0, 0, 1, 0, 0, 0, 0, 1, 0, 0, 0, 0, 0,\n",
              "       0, 1, 1, 0, 0, 0, 0, 0, 0, 0, 0, 0, 0, 0, 0, 0, 1, 0, 0, 1, 0, 0,\n",
              "       0, 1, 0, 0, 0, 0, 0, 0, 0, 0, 0, 0, 1, 0, 0, 0, 0, 0, 0, 0, 0, 0,\n",
              "       0, 0, 0, 0, 0, 0, 0, 1, 0, 0, 0, 0, 0, 0, 0, 0, 0, 0, 0, 0, 1, 0,\n",
              "       1, 0, 1, 1, 0, 0, 0, 0, 0, 0, 1])"
            ]
          },
          "metadata": {},
          "execution_count": 118
        }
      ]
    },
    {
      "cell_type": "code",
      "source": [
        "from sklearn.metrics import confusion_matrix, classification_report "
      ],
      "metadata": {
        "id": "GGkOPfu_-5ki"
      },
      "execution_count": null,
      "outputs": []
    },
    {
      "cell_type": "code",
      "source": [
        "confusion_matrix(y_test,y_pred)"
      ],
      "metadata": {
        "colab": {
          "base_uri": "https://localhost:8080/"
        },
        "id": "nJcOFRSu_Mkh",
        "outputId": "b93cf9d4-2c5e-4571-dc2f-6a3977245574"
      },
      "execution_count": null,
      "outputs": [
        {
          "output_type": "execute_result",
          "data": {
            "text/plain": [
              "array([[133,  12],\n",
              "       [ 46,  40]])"
            ]
          },
          "metadata": {},
          "execution_count": 120
        }
      ]
    },
    {
      "cell_type": "code",
      "source": [
        "print(classification_report(y_test,y_pred))"
      ],
      "metadata": {
        "colab": {
          "base_uri": "https://localhost:8080/"
        },
        "id": "gWxMwj3M_Yjl",
        "outputId": "33a94def-154b-4dc7-e64b-add9312eda3c"
      },
      "execution_count": null,
      "outputs": [
        {
          "output_type": "stream",
          "name": "stdout",
          "text": [
            "              precision    recall  f1-score   support\n",
            "\n",
            "           0       0.74      0.92      0.82       145\n",
            "           1       0.77      0.47      0.58        86\n",
            "\n",
            "    accuracy                           0.75       231\n",
            "   macro avg       0.76      0.69      0.70       231\n",
            "weighted avg       0.75      0.75      0.73       231\n",
            "\n"
          ]
        }
      ]
    },
    {
      "cell_type": "code",
      "source": [
        ""
      ],
      "metadata": {
        "id": "gI35FzP3_5qb"
      },
      "execution_count": null,
      "outputs": []
    },
    {
      "cell_type": "code",
      "source": [
        "#from sklearn.linear_model import LogisticRegression\n",
        "#from sklearn.neighbors import KNeighborsClassifier\n",
        "#from sklearn.naive_bayes import GaussianNB\n",
        "#from sklearn.svm import SVC\n",
        "#from sklearn.tree import DecesionTreeClassifier\n",
        "from sklearn.ensemble import RandomForestClassifier"
      ],
      "metadata": {
        "id": "TDrk1kFvJtiF"
      },
      "execution_count": null,
      "outputs": []
    },
    {
      "cell_type": "code",
      "source": [
        "model = RandomForestClassifier()"
      ],
      "metadata": {
        "id": "d5Uw2VudHw3m"
      },
      "execution_count": null,
      "outputs": []
    },
    {
      "cell_type": "code",
      "source": [
        "model.fit(X_train, y_train)"
      ],
      "metadata": {
        "colab": {
          "base_uri": "https://localhost:8080/"
        },
        "id": "OhqQzP2nH5KK",
        "outputId": "3c93206a-a3c3-4bfd-afa4-fb5f3a94e089"
      },
      "execution_count": null,
      "outputs": [
        {
          "output_type": "execute_result",
          "data": {
            "text/plain": [
              "RandomForestClassifier()"
            ]
          },
          "metadata": {},
          "execution_count": 124
        }
      ]
    },
    {
      "cell_type": "code",
      "source": [
        "y_pred = model.predict(X_test)"
      ],
      "metadata": {
        "id": "Rk8Gy654IFtJ"
      },
      "execution_count": null,
      "outputs": []
    },
    {
      "cell_type": "code",
      "source": [
        "from sklearn.metrics import confusion_matrix, classification_report"
      ],
      "metadata": {
        "id": "Axg-U7o8IQZv"
      },
      "execution_count": null,
      "outputs": []
    },
    {
      "cell_type": "code",
      "source": [
        "confusion_matrix(y_test, y_pred)"
      ],
      "metadata": {
        "colab": {
          "base_uri": "https://localhost:8080/"
        },
        "id": "ZIVVRSOUIR7B",
        "outputId": "09b060fa-18d1-4dc9-a717-57756167e71f"
      },
      "execution_count": null,
      "outputs": [
        {
          "output_type": "execute_result",
          "data": {
            "text/plain": [
              "array([[129,  16],\n",
              "       [ 37,  49]])"
            ]
          },
          "metadata": {},
          "execution_count": 127
        }
      ]
    },
    {
      "cell_type": "code",
      "source": [
        "y_test.shape"
      ],
      "metadata": {
        "colab": {
          "base_uri": "https://localhost:8080/"
        },
        "id": "ReLpTA1Ja1uN",
        "outputId": "bd74a955-5c0b-4433-9fbc-4bdf52c88553"
      },
      "execution_count": null,
      "outputs": [
        {
          "output_type": "execute_result",
          "data": {
            "text/plain": [
              "(231,)"
            ]
          },
          "metadata": {},
          "execution_count": 128
        }
      ]
    },
    {
      "cell_type": "code",
      "source": [
        "127+18+37+49"
      ],
      "metadata": {
        "colab": {
          "base_uri": "https://localhost:8080/"
        },
        "id": "pXVswvdja5mW",
        "outputId": "30f2685c-bd95-48d9-abe4-171c790c3e4d"
      },
      "execution_count": null,
      "outputs": [
        {
          "output_type": "execute_result",
          "data": {
            "text/plain": [
              "231"
            ]
          },
          "metadata": {},
          "execution_count": 25
        }
      ]
    },
    {
      "cell_type": "code",
      "source": [
        "(127+49)/231"
      ],
      "metadata": {
        "colab": {
          "base_uri": "https://localhost:8080/"
        },
        "id": "Q-r50EpvbBPI",
        "outputId": "4d6494b6-8a1d-41ac-cb94-643e49496e41"
      },
      "execution_count": null,
      "outputs": [
        {
          "output_type": "execute_result",
          "data": {
            "text/plain": [
              "0.7619047619047619"
            ]
          },
          "metadata": {},
          "execution_count": 129
        }
      ]
    },
    {
      "cell_type": "code",
      "source": [
        "classification_report(y_test, y_pred)"
      ],
      "metadata": {
        "colab": {
          "base_uri": "https://localhost:8080/",
          "height": 52
        },
        "id": "SrshgUEpZpKk",
        "outputId": "ff97d296-fdc7-4a8c-ec55-bbde56821242"
      },
      "execution_count": null,
      "outputs": [
        {
          "output_type": "execute_result",
          "data": {
            "application/vnd.google.colaboratory.intrinsic+json": {
              "type": "string"
            },
            "text/plain": [
              "'              precision    recall  f1-score   support\\n\\n           0       0.78      0.89      0.83       145\\n           1       0.75      0.57      0.65        86\\n\\n    accuracy                           0.77       231\\n   macro avg       0.77      0.73      0.74       231\\nweighted avg       0.77      0.77      0.76       231\\n'"
            ]
          },
          "metadata": {},
          "execution_count": 130
        }
      ]
    },
    {
      "cell_type": "code",
      "source": [
        "print(classification_report(y_test, y_pred))"
      ],
      "metadata": {
        "colab": {
          "base_uri": "https://localhost:8080/"
        },
        "id": "e4RQF-PRIeLx",
        "outputId": "484c04d7-e540-416d-f8f5-d3b832b95c51"
      },
      "execution_count": null,
      "outputs": [
        {
          "output_type": "stream",
          "name": "stdout",
          "text": [
            "              precision    recall  f1-score   support\n",
            "\n",
            "           0       0.78      0.89      0.83       145\n",
            "           1       0.75      0.57      0.65        86\n",
            "\n",
            "    accuracy                           0.77       231\n",
            "   macro avg       0.77      0.73      0.74       231\n",
            "weighted avg       0.77      0.77      0.76       231\n",
            "\n"
          ]
        }
      ]
    },
    {
      "cell_type": "markdown",
      "source": [
        "![image.png](data:image/png;base64,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)"
      ],
      "metadata": {
        "id": "asgYJX8VdfdR"
      }
    },
    {
      "cell_type": "markdown",
      "source": [
        "# Car Price Prediction"
      ],
      "metadata": {
        "id": "vSCTSXWPTGk3"
      }
    },
    {
      "cell_type": "code",
      "source": [
        "import pandas as pd "
      ],
      "metadata": {
        "id": "IlwekNQ2R81j"
      },
      "execution_count": null,
      "outputs": []
    },
    {
      "cell_type": "code",
      "source": [
        "import numpy as np "
      ],
      "metadata": {
        "id": "WcjwLDtMTU-u"
      },
      "execution_count": null,
      "outputs": []
    },
    {
      "cell_type": "code",
      "source": [
        "df = pd.read_csv(r'https://github.com/YBI-Foundation/Dataset/raw/main/Car%20Price.csv')"
      ],
      "metadata": {
        "id": "yq1cE25dTZ32"
      },
      "execution_count": null,
      "outputs": []
    },
    {
      "cell_type": "code",
      "source": [
        "df.head()"
      ],
      "metadata": {
        "colab": {
          "base_uri": "https://localhost:8080/",
          "height": 206
        },
        "id": "Qf1X9mg5Tp_c",
        "outputId": "f160b2ef-8d0b-4e92-a009-8cebd5bbbca8"
      },
      "execution_count": null,
      "outputs": [
        {
          "output_type": "execute_result",
          "data": {
            "text/html": [
              "\n",
              "  <div id=\"df-3767a3d8-b77a-4c23-83dd-20ddf45bceeb\">\n",
              "    <div class=\"colab-df-container\">\n",
              "      <div>\n",
              "<style scoped>\n",
              "    .dataframe tbody tr th:only-of-type {\n",
              "        vertical-align: middle;\n",
              "    }\n",
              "\n",
              "    .dataframe tbody tr th {\n",
              "        vertical-align: top;\n",
              "    }\n",
              "\n",
              "    .dataframe thead th {\n",
              "        text-align: right;\n",
              "    }\n",
              "</style>\n",
              "<table border=\"1\" class=\"dataframe\">\n",
              "  <thead>\n",
              "    <tr style=\"text-align: right;\">\n",
              "      <th></th>\n",
              "      <th>Brand</th>\n",
              "      <th>Model</th>\n",
              "      <th>Year</th>\n",
              "      <th>Selling_Price</th>\n",
              "      <th>KM_Driven</th>\n",
              "      <th>Fuel</th>\n",
              "      <th>Seller_Type</th>\n",
              "      <th>Transmission</th>\n",
              "      <th>Owner</th>\n",
              "    </tr>\n",
              "  </thead>\n",
              "  <tbody>\n",
              "    <tr>\n",
              "      <th>0</th>\n",
              "      <td>Maruti</td>\n",
              "      <td>Maruti 800 AC</td>\n",
              "      <td>2007</td>\n",
              "      <td>60000</td>\n",
              "      <td>70000</td>\n",
              "      <td>Petrol</td>\n",
              "      <td>Individual</td>\n",
              "      <td>Manual</td>\n",
              "      <td>First Owner</td>\n",
              "    </tr>\n",
              "    <tr>\n",
              "      <th>1</th>\n",
              "      <td>Maruti</td>\n",
              "      <td>Maruti Wagon R LXI Minor</td>\n",
              "      <td>2007</td>\n",
              "      <td>135000</td>\n",
              "      <td>50000</td>\n",
              "      <td>Petrol</td>\n",
              "      <td>Individual</td>\n",
              "      <td>Manual</td>\n",
              "      <td>First Owner</td>\n",
              "    </tr>\n",
              "    <tr>\n",
              "      <th>2</th>\n",
              "      <td>Hyundai</td>\n",
              "      <td>Hyundai Verna 1.6 SX</td>\n",
              "      <td>2012</td>\n",
              "      <td>600000</td>\n",
              "      <td>100000</td>\n",
              "      <td>Diesel</td>\n",
              "      <td>Individual</td>\n",
              "      <td>Manual</td>\n",
              "      <td>First Owner</td>\n",
              "    </tr>\n",
              "    <tr>\n",
              "      <th>3</th>\n",
              "      <td>Datsun</td>\n",
              "      <td>Datsun RediGO T Option</td>\n",
              "      <td>2017</td>\n",
              "      <td>250000</td>\n",
              "      <td>46000</td>\n",
              "      <td>Petrol</td>\n",
              "      <td>Individual</td>\n",
              "      <td>Manual</td>\n",
              "      <td>First Owner</td>\n",
              "    </tr>\n",
              "    <tr>\n",
              "      <th>4</th>\n",
              "      <td>Honda</td>\n",
              "      <td>Honda Amaze VX i-DTEC</td>\n",
              "      <td>2014</td>\n",
              "      <td>450000</td>\n",
              "      <td>141000</td>\n",
              "      <td>Diesel</td>\n",
              "      <td>Individual</td>\n",
              "      <td>Manual</td>\n",
              "      <td>Second Owner</td>\n",
              "    </tr>\n",
              "  </tbody>\n",
              "</table>\n",
              "</div>\n",
              "      <button class=\"colab-df-convert\" onclick=\"convertToInteractive('df-3767a3d8-b77a-4c23-83dd-20ddf45bceeb')\"\n",
              "              title=\"Convert this dataframe to an interactive table.\"\n",
              "              style=\"display:none;\">\n",
              "        \n",
              "  <svg xmlns=\"http://www.w3.org/2000/svg\" height=\"24px\"viewBox=\"0 0 24 24\"\n",
              "       width=\"24px\">\n",
              "    <path d=\"M0 0h24v24H0V0z\" fill=\"none\"/>\n",
              "    <path d=\"M18.56 5.44l.94 2.06.94-2.06 2.06-.94-2.06-.94-.94-2.06-.94 2.06-2.06.94zm-11 1L8.5 8.5l.94-2.06 2.06-.94-2.06-.94L8.5 2.5l-.94 2.06-2.06.94zm10 10l.94 2.06.94-2.06 2.06-.94-2.06-.94-.94-2.06-.94 2.06-2.06.94z\"/><path d=\"M17.41 7.96l-1.37-1.37c-.4-.4-.92-.59-1.43-.59-.52 0-1.04.2-1.43.59L10.3 9.45l-7.72 7.72c-.78.78-.78 2.05 0 2.83L4 21.41c.39.39.9.59 1.41.59.51 0 1.02-.2 1.41-.59l7.78-7.78 2.81-2.81c.8-.78.8-2.07 0-2.86zM5.41 20L4 18.59l7.72-7.72 1.47 1.35L5.41 20z\"/>\n",
              "  </svg>\n",
              "      </button>\n",
              "      \n",
              "  <style>\n",
              "    .colab-df-container {\n",
              "      display:flex;\n",
              "      flex-wrap:wrap;\n",
              "      gap: 12px;\n",
              "    }\n",
              "\n",
              "    .colab-df-convert {\n",
              "      background-color: #E8F0FE;\n",
              "      border: none;\n",
              "      border-radius: 50%;\n",
              "      cursor: pointer;\n",
              "      display: none;\n",
              "      fill: #1967D2;\n",
              "      height: 32px;\n",
              "      padding: 0 0 0 0;\n",
              "      width: 32px;\n",
              "    }\n",
              "\n",
              "    .colab-df-convert:hover {\n",
              "      background-color: #E2EBFA;\n",
              "      box-shadow: 0px 1px 2px rgba(60, 64, 67, 0.3), 0px 1px 3px 1px rgba(60, 64, 67, 0.15);\n",
              "      fill: #174EA6;\n",
              "    }\n",
              "\n",
              "    [theme=dark] .colab-df-convert {\n",
              "      background-color: #3B4455;\n",
              "      fill: #D2E3FC;\n",
              "    }\n",
              "\n",
              "    [theme=dark] .colab-df-convert:hover {\n",
              "      background-color: #434B5C;\n",
              "      box-shadow: 0px 1px 3px 1px rgba(0, 0, 0, 0.15);\n",
              "      filter: drop-shadow(0px 1px 2px rgba(0, 0, 0, 0.3));\n",
              "      fill: #FFFFFF;\n",
              "    }\n",
              "  </style>\n",
              "\n",
              "      <script>\n",
              "        const buttonEl =\n",
              "          document.querySelector('#df-3767a3d8-b77a-4c23-83dd-20ddf45bceeb button.colab-df-convert');\n",
              "        buttonEl.style.display =\n",
              "          google.colab.kernel.accessAllowed ? 'block' : 'none';\n",
              "\n",
              "        async function convertToInteractive(key) {\n",
              "          const element = document.querySelector('#df-3767a3d8-b77a-4c23-83dd-20ddf45bceeb');\n",
              "          const dataTable =\n",
              "            await google.colab.kernel.invokeFunction('convertToInteractive',\n",
              "                                                     [key], {});\n",
              "          if (!dataTable) return;\n",
              "\n",
              "          const docLinkHtml = 'Like what you see? Visit the ' +\n",
              "            '<a target=\"_blank\" href=https://colab.research.google.com/notebooks/data_table.ipynb>data table notebook</a>'\n",
              "            + ' to learn more about interactive tables.';\n",
              "          element.innerHTML = '';\n",
              "          dataTable['output_type'] = 'display_data';\n",
              "          await google.colab.output.renderOutput(dataTable, element);\n",
              "          const docLink = document.createElement('div');\n",
              "          docLink.innerHTML = docLinkHtml;\n",
              "          element.appendChild(docLink);\n",
              "        }\n",
              "      </script>\n",
              "    </div>\n",
              "  </div>\n",
              "  "
            ],
            "text/plain": [
              "     Brand                     Model  ...  Transmission         Owner\n",
              "0   Maruti             Maruti 800 AC  ...        Manual   First Owner\n",
              "1   Maruti  Maruti Wagon R LXI Minor  ...        Manual   First Owner\n",
              "2  Hyundai      Hyundai Verna 1.6 SX  ...        Manual   First Owner\n",
              "3   Datsun    Datsun RediGO T Option  ...        Manual   First Owner\n",
              "4    Honda     Honda Amaze VX i-DTEC  ...        Manual  Second Owner\n",
              "\n",
              "[5 rows x 9 columns]"
            ]
          },
          "metadata": {},
          "execution_count": 7
        }
      ]
    },
    {
      "cell_type": "code",
      "source": [
        "df.sample(5) # takes 5 random samples "
      ],
      "metadata": {
        "colab": {
          "base_uri": "https://localhost:8080/",
          "height": 206
        },
        "id": "IaYzIW0nT2-z",
        "outputId": "3aa317df-c284-4954-b2e5-d802581dfe60"
      },
      "execution_count": null,
      "outputs": [
        {
          "output_type": "execute_result",
          "data": {
            "text/html": [
              "\n",
              "  <div id=\"df-a3be5cda-8d01-48e2-a5b8-efa28e7dceeb\">\n",
              "    <div class=\"colab-df-container\">\n",
              "      <div>\n",
              "<style scoped>\n",
              "    .dataframe tbody tr th:only-of-type {\n",
              "        vertical-align: middle;\n",
              "    }\n",
              "\n",
              "    .dataframe tbody tr th {\n",
              "        vertical-align: top;\n",
              "    }\n",
              "\n",
              "    .dataframe thead th {\n",
              "        text-align: right;\n",
              "    }\n",
              "</style>\n",
              "<table border=\"1\" class=\"dataframe\">\n",
              "  <thead>\n",
              "    <tr style=\"text-align: right;\">\n",
              "      <th></th>\n",
              "      <th>Brand</th>\n",
              "      <th>Model</th>\n",
              "      <th>Year</th>\n",
              "      <th>Selling_Price</th>\n",
              "      <th>KM_Driven</th>\n",
              "      <th>Fuel</th>\n",
              "      <th>Seller_Type</th>\n",
              "      <th>Transmission</th>\n",
              "      <th>Owner</th>\n",
              "    </tr>\n",
              "  </thead>\n",
              "  <tbody>\n",
              "    <tr>\n",
              "      <th>4320</th>\n",
              "      <td>Maruti</td>\n",
              "      <td>Maruti Alto LX</td>\n",
              "      <td>2008</td>\n",
              "      <td>114999</td>\n",
              "      <td>66782</td>\n",
              "      <td>Petrol</td>\n",
              "      <td>Individual</td>\n",
              "      <td>Manual</td>\n",
              "      <td>Second Owner</td>\n",
              "    </tr>\n",
              "    <tr>\n",
              "      <th>4169</th>\n",
              "      <td>Honda</td>\n",
              "      <td>Honda Accord 2.4 AT</td>\n",
              "      <td>2009</td>\n",
              "      <td>428000</td>\n",
              "      <td>40000</td>\n",
              "      <td>Petrol</td>\n",
              "      <td>Individual</td>\n",
              "      <td>Automatic</td>\n",
              "      <td>Third Owner</td>\n",
              "    </tr>\n",
              "    <tr>\n",
              "      <th>859</th>\n",
              "      <td>Hyundai</td>\n",
              "      <td>Hyundai Getz 1.3 GVS</td>\n",
              "      <td>2010</td>\n",
              "      <td>110000</td>\n",
              "      <td>110000</td>\n",
              "      <td>Petrol</td>\n",
              "      <td>Individual</td>\n",
              "      <td>Manual</td>\n",
              "      <td>First Owner</td>\n",
              "    </tr>\n",
              "    <tr>\n",
              "      <th>2777</th>\n",
              "      <td>Maruti</td>\n",
              "      <td>Maruti Zen LX</td>\n",
              "      <td>1999</td>\n",
              "      <td>75000</td>\n",
              "      <td>70000</td>\n",
              "      <td>Petrol</td>\n",
              "      <td>Individual</td>\n",
              "      <td>Manual</td>\n",
              "      <td>First Owner</td>\n",
              "    </tr>\n",
              "    <tr>\n",
              "      <th>3885</th>\n",
              "      <td>Maruti</td>\n",
              "      <td>Maruti Zen Estilo 1.1 LXI BSIII</td>\n",
              "      <td>2007</td>\n",
              "      <td>160000</td>\n",
              "      <td>90000</td>\n",
              "      <td>Petrol</td>\n",
              "      <td>Individual</td>\n",
              "      <td>Manual</td>\n",
              "      <td>Second Owner</td>\n",
              "    </tr>\n",
              "  </tbody>\n",
              "</table>\n",
              "</div>\n",
              "      <button class=\"colab-df-convert\" onclick=\"convertToInteractive('df-a3be5cda-8d01-48e2-a5b8-efa28e7dceeb')\"\n",
              "              title=\"Convert this dataframe to an interactive table.\"\n",
              "              style=\"display:none;\">\n",
              "        \n",
              "  <svg xmlns=\"http://www.w3.org/2000/svg\" height=\"24px\"viewBox=\"0 0 24 24\"\n",
              "       width=\"24px\">\n",
              "    <path d=\"M0 0h24v24H0V0z\" fill=\"none\"/>\n",
              "    <path d=\"M18.56 5.44l.94 2.06.94-2.06 2.06-.94-2.06-.94-.94-2.06-.94 2.06-2.06.94zm-11 1L8.5 8.5l.94-2.06 2.06-.94-2.06-.94L8.5 2.5l-.94 2.06-2.06.94zm10 10l.94 2.06.94-2.06 2.06-.94-2.06-.94-.94-2.06-.94 2.06-2.06.94z\"/><path d=\"M17.41 7.96l-1.37-1.37c-.4-.4-.92-.59-1.43-.59-.52 0-1.04.2-1.43.59L10.3 9.45l-7.72 7.72c-.78.78-.78 2.05 0 2.83L4 21.41c.39.39.9.59 1.41.59.51 0 1.02-.2 1.41-.59l7.78-7.78 2.81-2.81c.8-.78.8-2.07 0-2.86zM5.41 20L4 18.59l7.72-7.72 1.47 1.35L5.41 20z\"/>\n",
              "  </svg>\n",
              "      </button>\n",
              "      \n",
              "  <style>\n",
              "    .colab-df-container {\n",
              "      display:flex;\n",
              "      flex-wrap:wrap;\n",
              "      gap: 12px;\n",
              "    }\n",
              "\n",
              "    .colab-df-convert {\n",
              "      background-color: #E8F0FE;\n",
              "      border: none;\n",
              "      border-radius: 50%;\n",
              "      cursor: pointer;\n",
              "      display: none;\n",
              "      fill: #1967D2;\n",
              "      height: 32px;\n",
              "      padding: 0 0 0 0;\n",
              "      width: 32px;\n",
              "    }\n",
              "\n",
              "    .colab-df-convert:hover {\n",
              "      background-color: #E2EBFA;\n",
              "      box-shadow: 0px 1px 2px rgba(60, 64, 67, 0.3), 0px 1px 3px 1px rgba(60, 64, 67, 0.15);\n",
              "      fill: #174EA6;\n",
              "    }\n",
              "\n",
              "    [theme=dark] .colab-df-convert {\n",
              "      background-color: #3B4455;\n",
              "      fill: #D2E3FC;\n",
              "    }\n",
              "\n",
              "    [theme=dark] .colab-df-convert:hover {\n",
              "      background-color: #434B5C;\n",
              "      box-shadow: 0px 1px 3px 1px rgba(0, 0, 0, 0.15);\n",
              "      filter: drop-shadow(0px 1px 2px rgba(0, 0, 0, 0.3));\n",
              "      fill: #FFFFFF;\n",
              "    }\n",
              "  </style>\n",
              "\n",
              "      <script>\n",
              "        const buttonEl =\n",
              "          document.querySelector('#df-a3be5cda-8d01-48e2-a5b8-efa28e7dceeb button.colab-df-convert');\n",
              "        buttonEl.style.display =\n",
              "          google.colab.kernel.accessAllowed ? 'block' : 'none';\n",
              "\n",
              "        async function convertToInteractive(key) {\n",
              "          const element = document.querySelector('#df-a3be5cda-8d01-48e2-a5b8-efa28e7dceeb');\n",
              "          const dataTable =\n",
              "            await google.colab.kernel.invokeFunction('convertToInteractive',\n",
              "                                                     [key], {});\n",
              "          if (!dataTable) return;\n",
              "\n",
              "          const docLinkHtml = 'Like what you see? Visit the ' +\n",
              "            '<a target=\"_blank\" href=https://colab.research.google.com/notebooks/data_table.ipynb>data table notebook</a>'\n",
              "            + ' to learn more about interactive tables.';\n",
              "          element.innerHTML = '';\n",
              "          dataTable['output_type'] = 'display_data';\n",
              "          await google.colab.output.renderOutput(dataTable, element);\n",
              "          const docLink = document.createElement('div');\n",
              "          docLink.innerHTML = docLinkHtml;\n",
              "          element.appendChild(docLink);\n",
              "        }\n",
              "      </script>\n",
              "    </div>\n",
              "  </div>\n",
              "  "
            ],
            "text/plain": [
              "        Brand                            Model  ...  Transmission         Owner\n",
              "4320   Maruti                   Maruti Alto LX  ...        Manual  Second Owner\n",
              "4169    Honda              Honda Accord 2.4 AT  ...     Automatic   Third Owner\n",
              "859   Hyundai             Hyundai Getz 1.3 GVS  ...        Manual   First Owner\n",
              "2777   Maruti                    Maruti Zen LX  ...        Manual   First Owner\n",
              "3885   Maruti  Maruti Zen Estilo 1.1 LXI BSIII  ...        Manual  Second Owner\n",
              "\n",
              "[5 rows x 9 columns]"
            ]
          },
          "metadata": {},
          "execution_count": 8
        }
      ]
    },
    {
      "cell_type": "code",
      "source": [
        "df.info()"
      ],
      "metadata": {
        "colab": {
          "base_uri": "https://localhost:8080/"
        },
        "id": "qv8f9pauUw4z",
        "outputId": "e404e83f-9807-4974-b938-575a5cf2079f"
      },
      "execution_count": null,
      "outputs": [
        {
          "output_type": "stream",
          "name": "stdout",
          "text": [
            "<class 'pandas.core.frame.DataFrame'>\n",
            "RangeIndex: 4340 entries, 0 to 4339\n",
            "Data columns (total 9 columns):\n",
            " #   Column         Non-Null Count  Dtype \n",
            "---  ------         --------------  ----- \n",
            " 0   Brand          4340 non-null   object\n",
            " 1   Model          4340 non-null   object\n",
            " 2   Year           4340 non-null   int64 \n",
            " 3   Selling_Price  4340 non-null   int64 \n",
            " 4   KM_Driven      4340 non-null   int64 \n",
            " 5   Fuel           4340 non-null   object\n",
            " 6   Seller_Type    4340 non-null   object\n",
            " 7   Transmission   4340 non-null   object\n",
            " 8   Owner          4340 non-null   object\n",
            "dtypes: int64(3), object(6)\n",
            "memory usage: 305.3+ KB\n"
          ]
        }
      ]
    },
    {
      "cell_type": "code",
      "source": [
        "df.describe()"
      ],
      "metadata": {
        "colab": {
          "base_uri": "https://localhost:8080/",
          "height": 300
        },
        "id": "xoUZ2AYNU30f",
        "outputId": "2a2c76a4-66f6-48aa-c30f-441bb19bdaf1"
      },
      "execution_count": null,
      "outputs": [
        {
          "output_type": "execute_result",
          "data": {
            "text/html": [
              "\n",
              "  <div id=\"df-37583135-1b3f-41b7-82db-4c484dae0322\">\n",
              "    <div class=\"colab-df-container\">\n",
              "      <div>\n",
              "<style scoped>\n",
              "    .dataframe tbody tr th:only-of-type {\n",
              "        vertical-align: middle;\n",
              "    }\n",
              "\n",
              "    .dataframe tbody tr th {\n",
              "        vertical-align: top;\n",
              "    }\n",
              "\n",
              "    .dataframe thead th {\n",
              "        text-align: right;\n",
              "    }\n",
              "</style>\n",
              "<table border=\"1\" class=\"dataframe\">\n",
              "  <thead>\n",
              "    <tr style=\"text-align: right;\">\n",
              "      <th></th>\n",
              "      <th>Year</th>\n",
              "      <th>Selling_Price</th>\n",
              "      <th>KM_Driven</th>\n",
              "    </tr>\n",
              "  </thead>\n",
              "  <tbody>\n",
              "    <tr>\n",
              "      <th>count</th>\n",
              "      <td>4340.000000</td>\n",
              "      <td>4.340000e+03</td>\n",
              "      <td>4340.000000</td>\n",
              "    </tr>\n",
              "    <tr>\n",
              "      <th>mean</th>\n",
              "      <td>2013.090783</td>\n",
              "      <td>5.041273e+05</td>\n",
              "      <td>66215.777419</td>\n",
              "    </tr>\n",
              "    <tr>\n",
              "      <th>std</th>\n",
              "      <td>4.215344</td>\n",
              "      <td>5.785487e+05</td>\n",
              "      <td>46644.102194</td>\n",
              "    </tr>\n",
              "    <tr>\n",
              "      <th>min</th>\n",
              "      <td>1992.000000</td>\n",
              "      <td>2.000000e+04</td>\n",
              "      <td>1.000000</td>\n",
              "    </tr>\n",
              "    <tr>\n",
              "      <th>25%</th>\n",
              "      <td>2011.000000</td>\n",
              "      <td>2.087498e+05</td>\n",
              "      <td>35000.000000</td>\n",
              "    </tr>\n",
              "    <tr>\n",
              "      <th>50%</th>\n",
              "      <td>2014.000000</td>\n",
              "      <td>3.500000e+05</td>\n",
              "      <td>60000.000000</td>\n",
              "    </tr>\n",
              "    <tr>\n",
              "      <th>75%</th>\n",
              "      <td>2016.000000</td>\n",
              "      <td>6.000000e+05</td>\n",
              "      <td>90000.000000</td>\n",
              "    </tr>\n",
              "    <tr>\n",
              "      <th>max</th>\n",
              "      <td>2020.000000</td>\n",
              "      <td>8.900000e+06</td>\n",
              "      <td>806599.000000</td>\n",
              "    </tr>\n",
              "  </tbody>\n",
              "</table>\n",
              "</div>\n",
              "      <button class=\"colab-df-convert\" onclick=\"convertToInteractive('df-37583135-1b3f-41b7-82db-4c484dae0322')\"\n",
              "              title=\"Convert this dataframe to an interactive table.\"\n",
              "              style=\"display:none;\">\n",
              "        \n",
              "  <svg xmlns=\"http://www.w3.org/2000/svg\" height=\"24px\"viewBox=\"0 0 24 24\"\n",
              "       width=\"24px\">\n",
              "    <path d=\"M0 0h24v24H0V0z\" fill=\"none\"/>\n",
              "    <path d=\"M18.56 5.44l.94 2.06.94-2.06 2.06-.94-2.06-.94-.94-2.06-.94 2.06-2.06.94zm-11 1L8.5 8.5l.94-2.06 2.06-.94-2.06-.94L8.5 2.5l-.94 2.06-2.06.94zm10 10l.94 2.06.94-2.06 2.06-.94-2.06-.94-.94-2.06-.94 2.06-2.06.94z\"/><path d=\"M17.41 7.96l-1.37-1.37c-.4-.4-.92-.59-1.43-.59-.52 0-1.04.2-1.43.59L10.3 9.45l-7.72 7.72c-.78.78-.78 2.05 0 2.83L4 21.41c.39.39.9.59 1.41.59.51 0 1.02-.2 1.41-.59l7.78-7.78 2.81-2.81c.8-.78.8-2.07 0-2.86zM5.41 20L4 18.59l7.72-7.72 1.47 1.35L5.41 20z\"/>\n",
              "  </svg>\n",
              "      </button>\n",
              "      \n",
              "  <style>\n",
              "    .colab-df-container {\n",
              "      display:flex;\n",
              "      flex-wrap:wrap;\n",
              "      gap: 12px;\n",
              "    }\n",
              "\n",
              "    .colab-df-convert {\n",
              "      background-color: #E8F0FE;\n",
              "      border: none;\n",
              "      border-radius: 50%;\n",
              "      cursor: pointer;\n",
              "      display: none;\n",
              "      fill: #1967D2;\n",
              "      height: 32px;\n",
              "      padding: 0 0 0 0;\n",
              "      width: 32px;\n",
              "    }\n",
              "\n",
              "    .colab-df-convert:hover {\n",
              "      background-color: #E2EBFA;\n",
              "      box-shadow: 0px 1px 2px rgba(60, 64, 67, 0.3), 0px 1px 3px 1px rgba(60, 64, 67, 0.15);\n",
              "      fill: #174EA6;\n",
              "    }\n",
              "\n",
              "    [theme=dark] .colab-df-convert {\n",
              "      background-color: #3B4455;\n",
              "      fill: #D2E3FC;\n",
              "    }\n",
              "\n",
              "    [theme=dark] .colab-df-convert:hover {\n",
              "      background-color: #434B5C;\n",
              "      box-shadow: 0px 1px 3px 1px rgba(0, 0, 0, 0.15);\n",
              "      filter: drop-shadow(0px 1px 2px rgba(0, 0, 0, 0.3));\n",
              "      fill: #FFFFFF;\n",
              "    }\n",
              "  </style>\n",
              "\n",
              "      <script>\n",
              "        const buttonEl =\n",
              "          document.querySelector('#df-37583135-1b3f-41b7-82db-4c484dae0322 button.colab-df-convert');\n",
              "        buttonEl.style.display =\n",
              "          google.colab.kernel.accessAllowed ? 'block' : 'none';\n",
              "\n",
              "        async function convertToInteractive(key) {\n",
              "          const element = document.querySelector('#df-37583135-1b3f-41b7-82db-4c484dae0322');\n",
              "          const dataTable =\n",
              "            await google.colab.kernel.invokeFunction('convertToInteractive',\n",
              "                                                     [key], {});\n",
              "          if (!dataTable) return;\n",
              "\n",
              "          const docLinkHtml = 'Like what you see? Visit the ' +\n",
              "            '<a target=\"_blank\" href=https://colab.research.google.com/notebooks/data_table.ipynb>data table notebook</a>'\n",
              "            + ' to learn more about interactive tables.';\n",
              "          element.innerHTML = '';\n",
              "          dataTable['output_type'] = 'display_data';\n",
              "          await google.colab.output.renderOutput(dataTable, element);\n",
              "          const docLink = document.createElement('div');\n",
              "          docLink.innerHTML = docLinkHtml;\n",
              "          element.appendChild(docLink);\n",
              "        }\n",
              "      </script>\n",
              "    </div>\n",
              "  </div>\n",
              "  "
            ],
            "text/plain": [
              "              Year  Selling_Price      KM_Driven\n",
              "count  4340.000000   4.340000e+03    4340.000000\n",
              "mean   2013.090783   5.041273e+05   66215.777419\n",
              "std       4.215344   5.785487e+05   46644.102194\n",
              "min    1992.000000   2.000000e+04       1.000000\n",
              "25%    2011.000000   2.087498e+05   35000.000000\n",
              "50%    2014.000000   3.500000e+05   60000.000000\n",
              "75%    2016.000000   6.000000e+05   90000.000000\n",
              "max    2020.000000   8.900000e+06  806599.000000"
            ]
          },
          "metadata": {},
          "execution_count": 10
        }
      ]
    },
    {
      "cell_type": "code",
      "source": [
        "df[['Brand']].value_counts()"
      ],
      "metadata": {
        "colab": {
          "base_uri": "https://localhost:8080/"
        },
        "id": "yidbI51OU_aL",
        "outputId": "50273322-feb2-400f-8d60-978a319a3bbb"
      },
      "execution_count": null,
      "outputs": [
        {
          "output_type": "execute_result",
          "data": {
            "text/plain": [
              "Brand        \n",
              "Maruti           1280\n",
              "Hyundai           821\n",
              "Mahindra          365\n",
              "Tata              361\n",
              "Honda             252\n",
              "Ford              238\n",
              "Toyota            206\n",
              "Chevrolet         188\n",
              "Renault           146\n",
              "Volkswagen        107\n",
              "Skoda              68\n",
              "Nissan             64\n",
              "Audi               60\n",
              "BMW                39\n",
              "Fiat               37\n",
              "Datsun             37\n",
              "Mercedes-Benz      35\n",
              "Mitsubishi          6\n",
              "Jaguar              6\n",
              "Land                5\n",
              "Ambassador          4\n",
              "Volvo               4\n",
              "Jeep                3\n",
              "OpelCorsa           2\n",
              "MG                  2\n",
              "Isuzu               1\n",
              "Force               1\n",
              "Daewoo              1\n",
              "Kia                 1\n",
              "dtype: int64"
            ]
          },
          "metadata": {},
          "execution_count": 11
        }
      ]
    },
    {
      "cell_type": "code",
      "source": [
        "df[['Model']]"
      ],
      "metadata": {
        "colab": {
          "base_uri": "https://localhost:8080/",
          "height": 424
        },
        "id": "gqOCOYQ0VLoo",
        "outputId": "36548c28-16d2-4d07-9979-9bd31f057e0a"
      },
      "execution_count": null,
      "outputs": [
        {
          "output_type": "execute_result",
          "data": {
            "text/html": [
              "\n",
              "  <div id=\"df-2dc1af48-99f0-4174-8d92-6c3d25528f32\">\n",
              "    <div class=\"colab-df-container\">\n",
              "      <div>\n",
              "<style scoped>\n",
              "    .dataframe tbody tr th:only-of-type {\n",
              "        vertical-align: middle;\n",
              "    }\n",
              "\n",
              "    .dataframe tbody tr th {\n",
              "        vertical-align: top;\n",
              "    }\n",
              "\n",
              "    .dataframe thead th {\n",
              "        text-align: right;\n",
              "    }\n",
              "</style>\n",
              "<table border=\"1\" class=\"dataframe\">\n",
              "  <thead>\n",
              "    <tr style=\"text-align: right;\">\n",
              "      <th></th>\n",
              "      <th>Model</th>\n",
              "    </tr>\n",
              "  </thead>\n",
              "  <tbody>\n",
              "    <tr>\n",
              "      <th>0</th>\n",
              "      <td>Maruti 800 AC</td>\n",
              "    </tr>\n",
              "    <tr>\n",
              "      <th>1</th>\n",
              "      <td>Maruti Wagon R LXI Minor</td>\n",
              "    </tr>\n",
              "    <tr>\n",
              "      <th>2</th>\n",
              "      <td>Hyundai Verna 1.6 SX</td>\n",
              "    </tr>\n",
              "    <tr>\n",
              "      <th>3</th>\n",
              "      <td>Datsun RediGO T Option</td>\n",
              "    </tr>\n",
              "    <tr>\n",
              "      <th>4</th>\n",
              "      <td>Honda Amaze VX i-DTEC</td>\n",
              "    </tr>\n",
              "    <tr>\n",
              "      <th>...</th>\n",
              "      <td>...</td>\n",
              "    </tr>\n",
              "    <tr>\n",
              "      <th>4335</th>\n",
              "      <td>Hyundai i20 Magna 1.4 CRDi (Diesel)</td>\n",
              "    </tr>\n",
              "    <tr>\n",
              "      <th>4336</th>\n",
              "      <td>Hyundai i20 Magna 1.4 CRDi</td>\n",
              "    </tr>\n",
              "    <tr>\n",
              "      <th>4337</th>\n",
              "      <td>Maruti 800 AC BSIII</td>\n",
              "    </tr>\n",
              "    <tr>\n",
              "      <th>4338</th>\n",
              "      <td>Hyundai Creta 1.6 CRDi SX Option</td>\n",
              "    </tr>\n",
              "    <tr>\n",
              "      <th>4339</th>\n",
              "      <td>Renault KWID RXT</td>\n",
              "    </tr>\n",
              "  </tbody>\n",
              "</table>\n",
              "<p>4340 rows × 1 columns</p>\n",
              "</div>\n",
              "      <button class=\"colab-df-convert\" onclick=\"convertToInteractive('df-2dc1af48-99f0-4174-8d92-6c3d25528f32')\"\n",
              "              title=\"Convert this dataframe to an interactive table.\"\n",
              "              style=\"display:none;\">\n",
              "        \n",
              "  <svg xmlns=\"http://www.w3.org/2000/svg\" height=\"24px\"viewBox=\"0 0 24 24\"\n",
              "       width=\"24px\">\n",
              "    <path d=\"M0 0h24v24H0V0z\" fill=\"none\"/>\n",
              "    <path d=\"M18.56 5.44l.94 2.06.94-2.06 2.06-.94-2.06-.94-.94-2.06-.94 2.06-2.06.94zm-11 1L8.5 8.5l.94-2.06 2.06-.94-2.06-.94L8.5 2.5l-.94 2.06-2.06.94zm10 10l.94 2.06.94-2.06 2.06-.94-2.06-.94-.94-2.06-.94 2.06-2.06.94z\"/><path d=\"M17.41 7.96l-1.37-1.37c-.4-.4-.92-.59-1.43-.59-.52 0-1.04.2-1.43.59L10.3 9.45l-7.72 7.72c-.78.78-.78 2.05 0 2.83L4 21.41c.39.39.9.59 1.41.59.51 0 1.02-.2 1.41-.59l7.78-7.78 2.81-2.81c.8-.78.8-2.07 0-2.86zM5.41 20L4 18.59l7.72-7.72 1.47 1.35L5.41 20z\"/>\n",
              "  </svg>\n",
              "      </button>\n",
              "      \n",
              "  <style>\n",
              "    .colab-df-container {\n",
              "      display:flex;\n",
              "      flex-wrap:wrap;\n",
              "      gap: 12px;\n",
              "    }\n",
              "\n",
              "    .colab-df-convert {\n",
              "      background-color: #E8F0FE;\n",
              "      border: none;\n",
              "      border-radius: 50%;\n",
              "      cursor: pointer;\n",
              "      display: none;\n",
              "      fill: #1967D2;\n",
              "      height: 32px;\n",
              "      padding: 0 0 0 0;\n",
              "      width: 32px;\n",
              "    }\n",
              "\n",
              "    .colab-df-convert:hover {\n",
              "      background-color: #E2EBFA;\n",
              "      box-shadow: 0px 1px 2px rgba(60, 64, 67, 0.3), 0px 1px 3px 1px rgba(60, 64, 67, 0.15);\n",
              "      fill: #174EA6;\n",
              "    }\n",
              "\n",
              "    [theme=dark] .colab-df-convert {\n",
              "      background-color: #3B4455;\n",
              "      fill: #D2E3FC;\n",
              "    }\n",
              "\n",
              "    [theme=dark] .colab-df-convert:hover {\n",
              "      background-color: #434B5C;\n",
              "      box-shadow: 0px 1px 3px 1px rgba(0, 0, 0, 0.15);\n",
              "      filter: drop-shadow(0px 1px 2px rgba(0, 0, 0, 0.3));\n",
              "      fill: #FFFFFF;\n",
              "    }\n",
              "  </style>\n",
              "\n",
              "      <script>\n",
              "        const buttonEl =\n",
              "          document.querySelector('#df-2dc1af48-99f0-4174-8d92-6c3d25528f32 button.colab-df-convert');\n",
              "        buttonEl.style.display =\n",
              "          google.colab.kernel.accessAllowed ? 'block' : 'none';\n",
              "\n",
              "        async function convertToInteractive(key) {\n",
              "          const element = document.querySelector('#df-2dc1af48-99f0-4174-8d92-6c3d25528f32');\n",
              "          const dataTable =\n",
              "            await google.colab.kernel.invokeFunction('convertToInteractive',\n",
              "                                                     [key], {});\n",
              "          if (!dataTable) return;\n",
              "\n",
              "          const docLinkHtml = 'Like what you see? Visit the ' +\n",
              "            '<a target=\"_blank\" href=https://colab.research.google.com/notebooks/data_table.ipynb>data table notebook</a>'\n",
              "            + ' to learn more about interactive tables.';\n",
              "          element.innerHTML = '';\n",
              "          dataTable['output_type'] = 'display_data';\n",
              "          await google.colab.output.renderOutput(dataTable, element);\n",
              "          const docLink = document.createElement('div');\n",
              "          docLink.innerHTML = docLinkHtml;\n",
              "          element.appendChild(docLink);\n",
              "        }\n",
              "      </script>\n",
              "    </div>\n",
              "  </div>\n",
              "  "
            ],
            "text/plain": [
              "                                    Model\n",
              "0                           Maruti 800 AC\n",
              "1                Maruti Wagon R LXI Minor\n",
              "2                    Hyundai Verna 1.6 SX\n",
              "3                  Datsun RediGO T Option\n",
              "4                   Honda Amaze VX i-DTEC\n",
              "...                                   ...\n",
              "4335  Hyundai i20 Magna 1.4 CRDi (Diesel)\n",
              "4336           Hyundai i20 Magna 1.4 CRDi\n",
              "4337                  Maruti 800 AC BSIII\n",
              "4338     Hyundai Creta 1.6 CRDi SX Option\n",
              "4339                     Renault KWID RXT\n",
              "\n",
              "[4340 rows x 1 columns]"
            ]
          },
          "metadata": {},
          "execution_count": 12
        }
      ]
    },
    {
      "cell_type": "code",
      "source": [
        "df[['Seller_Type']].value_counts()"
      ],
      "metadata": {
        "colab": {
          "base_uri": "https://localhost:8080/"
        },
        "id": "5jKgzajGZJMU",
        "outputId": "52a6d1e6-3651-446a-e9b1-fd4e8de09af4"
      },
      "execution_count": null,
      "outputs": [
        {
          "output_type": "execute_result",
          "data": {
            "text/plain": [
              "Seller_Type     \n",
              "Individual          3244\n",
              "Dealer               994\n",
              "Trustmark Dealer     102\n",
              "dtype: int64"
            ]
          },
          "metadata": {},
          "execution_count": 13
        }
      ]
    },
    {
      "cell_type": "code",
      "source": [
        "df[['Fuel']].value_counts()"
      ],
      "metadata": {
        "colab": {
          "base_uri": "https://localhost:8080/"
        },
        "id": "uk_1NkH1ZSwW",
        "outputId": "7c0694ea-287e-4215-a595-13f1da111ddd"
      },
      "execution_count": null,
      "outputs": [
        {
          "output_type": "execute_result",
          "data": {
            "text/plain": [
              "Fuel    \n",
              "Diesel      2153\n",
              "Petrol      2123\n",
              "CNG           40\n",
              "LPG           23\n",
              "Electric       1\n",
              "dtype: int64"
            ]
          },
          "metadata": {},
          "execution_count": 14
        }
      ]
    },
    {
      "cell_type": "markdown",
      "source": [
        "# Convert Category into Integer "
      ],
      "metadata": {
        "id": "Xod6ZAapZgCp"
      }
    },
    {
      "cell_type": "code",
      "source": [
        "from sklearn.preprocessing import OneHotEncoder"
      ],
      "metadata": {
        "id": "NU_HDN5qZkC5"
      },
      "execution_count": null,
      "outputs": []
    },
    {
      "cell_type": "code",
      "source": [
        "ohe = OneHotEncoder()"
      ],
      "metadata": {
        "id": "EAA_w0KbbrkC"
      },
      "execution_count": null,
      "outputs": []
    },
    {
      "cell_type": "code",
      "source": [
        "ohe.fit_transform(df[['Fuel']]).toarray()"
      ],
      "metadata": {
        "colab": {
          "base_uri": "https://localhost:8080/"
        },
        "id": "ydGHq6G5cGMR",
        "outputId": "9ca08a5e-7f70-4d3b-f98c-97e37e7846be"
      },
      "execution_count": null,
      "outputs": [
        {
          "output_type": "execute_result",
          "data": {
            "text/plain": [
              "array([[0., 0., 0., 0., 1.],\n",
              "       [0., 0., 0., 0., 1.],\n",
              "       [0., 1., 0., 0., 0.],\n",
              "       ...,\n",
              "       [0., 0., 0., 0., 1.],\n",
              "       [0., 1., 0., 0., 0.],\n",
              "       [0., 0., 0., 0., 1.]])"
            ]
          },
          "metadata": {},
          "execution_count": 19
        }
      ]
    },
    {
      "cell_type": "code",
      "source": [
        "from sklearn.preprocessing import OrdinalEncoder"
      ],
      "metadata": {
        "id": "suxC94OpcQDY"
      },
      "execution_count": null,
      "outputs": []
    },
    {
      "cell_type": "code",
      "source": [
        "oe = OrdinalEncoder()"
      ],
      "metadata": {
        "id": "SV3M_izkcpBy"
      },
      "execution_count": null,
      "outputs": []
    },
    {
      "cell_type": "code",
      "source": [
        "oe.fit_transform(df[['Fuel']])"
      ],
      "metadata": {
        "colab": {
          "base_uri": "https://localhost:8080/"
        },
        "id": "OpgHrm3hc-3Q",
        "outputId": "7d3c7ccc-26ac-4bd7-870a-9985706aafb8"
      },
      "execution_count": null,
      "outputs": [
        {
          "output_type": "execute_result",
          "data": {
            "text/plain": [
              "array([[4.],\n",
              "       [4.],\n",
              "       [1.],\n",
              "       ...,\n",
              "       [4.],\n",
              "       [1.],\n",
              "       [4.]])"
            ]
          },
          "metadata": {},
          "execution_count": 29
        }
      ]
    },
    {
      "cell_type": "code",
      "source": [
        "df.replace({'Fuel' : { 'Petrol' : 0, 'Diesel' : 1, 'CNG' : 2, 'LPG' : 2, 'Electric' : 2}}, inplace = True)"
      ],
      "metadata": {
        "id": "t46ExWLjdO7F"
      },
      "execution_count": null,
      "outputs": []
    },
    {
      "cell_type": "code",
      "source": [
        "df[['Fuel']]"
      ],
      "metadata": {
        "colab": {
          "base_uri": "https://localhost:8080/",
          "height": 424
        },
        "id": "J91XOJoedvTo",
        "outputId": "e29cec69-fa7b-4d88-d5c8-86246a3b42d8"
      },
      "execution_count": null,
      "outputs": [
        {
          "output_type": "execute_result",
          "data": {
            "text/html": [
              "\n",
              "  <div id=\"df-d8a44cbc-c686-41bb-b178-b5000da2900f\">\n",
              "    <div class=\"colab-df-container\">\n",
              "      <div>\n",
              "<style scoped>\n",
              "    .dataframe tbody tr th:only-of-type {\n",
              "        vertical-align: middle;\n",
              "    }\n",
              "\n",
              "    .dataframe tbody tr th {\n",
              "        vertical-align: top;\n",
              "    }\n",
              "\n",
              "    .dataframe thead th {\n",
              "        text-align: right;\n",
              "    }\n",
              "</style>\n",
              "<table border=\"1\" class=\"dataframe\">\n",
              "  <thead>\n",
              "    <tr style=\"text-align: right;\">\n",
              "      <th></th>\n",
              "      <th>Fuel</th>\n",
              "    </tr>\n",
              "  </thead>\n",
              "  <tbody>\n",
              "    <tr>\n",
              "      <th>0</th>\n",
              "      <td>0</td>\n",
              "    </tr>\n",
              "    <tr>\n",
              "      <th>1</th>\n",
              "      <td>0</td>\n",
              "    </tr>\n",
              "    <tr>\n",
              "      <th>2</th>\n",
              "      <td>1</td>\n",
              "    </tr>\n",
              "    <tr>\n",
              "      <th>3</th>\n",
              "      <td>0</td>\n",
              "    </tr>\n",
              "    <tr>\n",
              "      <th>4</th>\n",
              "      <td>1</td>\n",
              "    </tr>\n",
              "    <tr>\n",
              "      <th>...</th>\n",
              "      <td>...</td>\n",
              "    </tr>\n",
              "    <tr>\n",
              "      <th>4335</th>\n",
              "      <td>1</td>\n",
              "    </tr>\n",
              "    <tr>\n",
              "      <th>4336</th>\n",
              "      <td>1</td>\n",
              "    </tr>\n",
              "    <tr>\n",
              "      <th>4337</th>\n",
              "      <td>0</td>\n",
              "    </tr>\n",
              "    <tr>\n",
              "      <th>4338</th>\n",
              "      <td>1</td>\n",
              "    </tr>\n",
              "    <tr>\n",
              "      <th>4339</th>\n",
              "      <td>0</td>\n",
              "    </tr>\n",
              "  </tbody>\n",
              "</table>\n",
              "<p>4340 rows × 1 columns</p>\n",
              "</div>\n",
              "      <button class=\"colab-df-convert\" onclick=\"convertToInteractive('df-d8a44cbc-c686-41bb-b178-b5000da2900f')\"\n",
              "              title=\"Convert this dataframe to an interactive table.\"\n",
              "              style=\"display:none;\">\n",
              "        \n",
              "  <svg xmlns=\"http://www.w3.org/2000/svg\" height=\"24px\"viewBox=\"0 0 24 24\"\n",
              "       width=\"24px\">\n",
              "    <path d=\"M0 0h24v24H0V0z\" fill=\"none\"/>\n",
              "    <path d=\"M18.56 5.44l.94 2.06.94-2.06 2.06-.94-2.06-.94-.94-2.06-.94 2.06-2.06.94zm-11 1L8.5 8.5l.94-2.06 2.06-.94-2.06-.94L8.5 2.5l-.94 2.06-2.06.94zm10 10l.94 2.06.94-2.06 2.06-.94-2.06-.94-.94-2.06-.94 2.06-2.06.94z\"/><path d=\"M17.41 7.96l-1.37-1.37c-.4-.4-.92-.59-1.43-.59-.52 0-1.04.2-1.43.59L10.3 9.45l-7.72 7.72c-.78.78-.78 2.05 0 2.83L4 21.41c.39.39.9.59 1.41.59.51 0 1.02-.2 1.41-.59l7.78-7.78 2.81-2.81c.8-.78.8-2.07 0-2.86zM5.41 20L4 18.59l7.72-7.72 1.47 1.35L5.41 20z\"/>\n",
              "  </svg>\n",
              "      </button>\n",
              "      \n",
              "  <style>\n",
              "    .colab-df-container {\n",
              "      display:flex;\n",
              "      flex-wrap:wrap;\n",
              "      gap: 12px;\n",
              "    }\n",
              "\n",
              "    .colab-df-convert {\n",
              "      background-color: #E8F0FE;\n",
              "      border: none;\n",
              "      border-radius: 50%;\n",
              "      cursor: pointer;\n",
              "      display: none;\n",
              "      fill: #1967D2;\n",
              "      height: 32px;\n",
              "      padding: 0 0 0 0;\n",
              "      width: 32px;\n",
              "    }\n",
              "\n",
              "    .colab-df-convert:hover {\n",
              "      background-color: #E2EBFA;\n",
              "      box-shadow: 0px 1px 2px rgba(60, 64, 67, 0.3), 0px 1px 3px 1px rgba(60, 64, 67, 0.15);\n",
              "      fill: #174EA6;\n",
              "    }\n",
              "\n",
              "    [theme=dark] .colab-df-convert {\n",
              "      background-color: #3B4455;\n",
              "      fill: #D2E3FC;\n",
              "    }\n",
              "\n",
              "    [theme=dark] .colab-df-convert:hover {\n",
              "      background-color: #434B5C;\n",
              "      box-shadow: 0px 1px 3px 1px rgba(0, 0, 0, 0.15);\n",
              "      filter: drop-shadow(0px 1px 2px rgba(0, 0, 0, 0.3));\n",
              "      fill: #FFFFFF;\n",
              "    }\n",
              "  </style>\n",
              "\n",
              "      <script>\n",
              "        const buttonEl =\n",
              "          document.querySelector('#df-d8a44cbc-c686-41bb-b178-b5000da2900f button.colab-df-convert');\n",
              "        buttonEl.style.display =\n",
              "          google.colab.kernel.accessAllowed ? 'block' : 'none';\n",
              "\n",
              "        async function convertToInteractive(key) {\n",
              "          const element = document.querySelector('#df-d8a44cbc-c686-41bb-b178-b5000da2900f');\n",
              "          const dataTable =\n",
              "            await google.colab.kernel.invokeFunction('convertToInteractive',\n",
              "                                                     [key], {});\n",
              "          if (!dataTable) return;\n",
              "\n",
              "          const docLinkHtml = 'Like what you see? Visit the ' +\n",
              "            '<a target=\"_blank\" href=https://colab.research.google.com/notebooks/data_table.ipynb>data table notebook</a>'\n",
              "            + ' to learn more about interactive tables.';\n",
              "          element.innerHTML = '';\n",
              "          dataTable['output_type'] = 'display_data';\n",
              "          await google.colab.output.renderOutput(dataTable, element);\n",
              "          const docLink = document.createElement('div');\n",
              "          docLink.innerHTML = docLinkHtml;\n",
              "          element.appendChild(docLink);\n",
              "        }\n",
              "      </script>\n",
              "    </div>\n",
              "  </div>\n",
              "  "
            ],
            "text/plain": [
              "      Fuel\n",
              "0        0\n",
              "1        0\n",
              "2        1\n",
              "3        0\n",
              "4        1\n",
              "...    ...\n",
              "4335     1\n",
              "4336     1\n",
              "4337     0\n",
              "4338     1\n",
              "4339     0\n",
              "\n",
              "[4340 rows x 1 columns]"
            ]
          },
          "metadata": {},
          "execution_count": 31
        }
      ]
    },
    {
      "cell_type": "code",
      "source": [
        "df.head()"
      ],
      "metadata": {
        "id": "wedbwOaUk1C7",
        "colab": {
          "base_uri": "https://localhost:8080/",
          "height": 206
        },
        "outputId": "022ed754-e116-4364-a1ff-1b4c14045697"
      },
      "execution_count": null,
      "outputs": [
        {
          "output_type": "execute_result",
          "data": {
            "text/html": [
              "\n",
              "  <div id=\"df-f794183b-ad8b-473a-a4a2-02cd4e491e78\">\n",
              "    <div class=\"colab-df-container\">\n",
              "      <div>\n",
              "<style scoped>\n",
              "    .dataframe tbody tr th:only-of-type {\n",
              "        vertical-align: middle;\n",
              "    }\n",
              "\n",
              "    .dataframe tbody tr th {\n",
              "        vertical-align: top;\n",
              "    }\n",
              "\n",
              "    .dataframe thead th {\n",
              "        text-align: right;\n",
              "    }\n",
              "</style>\n",
              "<table border=\"1\" class=\"dataframe\">\n",
              "  <thead>\n",
              "    <tr style=\"text-align: right;\">\n",
              "      <th></th>\n",
              "      <th>Brand</th>\n",
              "      <th>Model</th>\n",
              "      <th>Year</th>\n",
              "      <th>Selling_Price</th>\n",
              "      <th>KM_Driven</th>\n",
              "      <th>Fuel</th>\n",
              "      <th>Seller_Type</th>\n",
              "      <th>Transmission</th>\n",
              "      <th>Owner</th>\n",
              "    </tr>\n",
              "  </thead>\n",
              "  <tbody>\n",
              "    <tr>\n",
              "      <th>0</th>\n",
              "      <td>Maruti</td>\n",
              "      <td>Maruti 800 AC</td>\n",
              "      <td>2007</td>\n",
              "      <td>60000</td>\n",
              "      <td>70000</td>\n",
              "      <td>0</td>\n",
              "      <td>Individual</td>\n",
              "      <td>Manual</td>\n",
              "      <td>First Owner</td>\n",
              "    </tr>\n",
              "    <tr>\n",
              "      <th>1</th>\n",
              "      <td>Maruti</td>\n",
              "      <td>Maruti Wagon R LXI Minor</td>\n",
              "      <td>2007</td>\n",
              "      <td>135000</td>\n",
              "      <td>50000</td>\n",
              "      <td>0</td>\n",
              "      <td>Individual</td>\n",
              "      <td>Manual</td>\n",
              "      <td>First Owner</td>\n",
              "    </tr>\n",
              "    <tr>\n",
              "      <th>2</th>\n",
              "      <td>Hyundai</td>\n",
              "      <td>Hyundai Verna 1.6 SX</td>\n",
              "      <td>2012</td>\n",
              "      <td>600000</td>\n",
              "      <td>100000</td>\n",
              "      <td>1</td>\n",
              "      <td>Individual</td>\n",
              "      <td>Manual</td>\n",
              "      <td>First Owner</td>\n",
              "    </tr>\n",
              "    <tr>\n",
              "      <th>3</th>\n",
              "      <td>Datsun</td>\n",
              "      <td>Datsun RediGO T Option</td>\n",
              "      <td>2017</td>\n",
              "      <td>250000</td>\n",
              "      <td>46000</td>\n",
              "      <td>0</td>\n",
              "      <td>Individual</td>\n",
              "      <td>Manual</td>\n",
              "      <td>First Owner</td>\n",
              "    </tr>\n",
              "    <tr>\n",
              "      <th>4</th>\n",
              "      <td>Honda</td>\n",
              "      <td>Honda Amaze VX i-DTEC</td>\n",
              "      <td>2014</td>\n",
              "      <td>450000</td>\n",
              "      <td>141000</td>\n",
              "      <td>1</td>\n",
              "      <td>Individual</td>\n",
              "      <td>Manual</td>\n",
              "      <td>Second Owner</td>\n",
              "    </tr>\n",
              "  </tbody>\n",
              "</table>\n",
              "</div>\n",
              "      <button class=\"colab-df-convert\" onclick=\"convertToInteractive('df-f794183b-ad8b-473a-a4a2-02cd4e491e78')\"\n",
              "              title=\"Convert this dataframe to an interactive table.\"\n",
              "              style=\"display:none;\">\n",
              "        \n",
              "  <svg xmlns=\"http://www.w3.org/2000/svg\" height=\"24px\"viewBox=\"0 0 24 24\"\n",
              "       width=\"24px\">\n",
              "    <path d=\"M0 0h24v24H0V0z\" fill=\"none\"/>\n",
              "    <path d=\"M18.56 5.44l.94 2.06.94-2.06 2.06-.94-2.06-.94-.94-2.06-.94 2.06-2.06.94zm-11 1L8.5 8.5l.94-2.06 2.06-.94-2.06-.94L8.5 2.5l-.94 2.06-2.06.94zm10 10l.94 2.06.94-2.06 2.06-.94-2.06-.94-.94-2.06-.94 2.06-2.06.94z\"/><path d=\"M17.41 7.96l-1.37-1.37c-.4-.4-.92-.59-1.43-.59-.52 0-1.04.2-1.43.59L10.3 9.45l-7.72 7.72c-.78.78-.78 2.05 0 2.83L4 21.41c.39.39.9.59 1.41.59.51 0 1.02-.2 1.41-.59l7.78-7.78 2.81-2.81c.8-.78.8-2.07 0-2.86zM5.41 20L4 18.59l7.72-7.72 1.47 1.35L5.41 20z\"/>\n",
              "  </svg>\n",
              "      </button>\n",
              "      \n",
              "  <style>\n",
              "    .colab-df-container {\n",
              "      display:flex;\n",
              "      flex-wrap:wrap;\n",
              "      gap: 12px;\n",
              "    }\n",
              "\n",
              "    .colab-df-convert {\n",
              "      background-color: #E8F0FE;\n",
              "      border: none;\n",
              "      border-radius: 50%;\n",
              "      cursor: pointer;\n",
              "      display: none;\n",
              "      fill: #1967D2;\n",
              "      height: 32px;\n",
              "      padding: 0 0 0 0;\n",
              "      width: 32px;\n",
              "    }\n",
              "\n",
              "    .colab-df-convert:hover {\n",
              "      background-color: #E2EBFA;\n",
              "      box-shadow: 0px 1px 2px rgba(60, 64, 67, 0.3), 0px 1px 3px 1px rgba(60, 64, 67, 0.15);\n",
              "      fill: #174EA6;\n",
              "    }\n",
              "\n",
              "    [theme=dark] .colab-df-convert {\n",
              "      background-color: #3B4455;\n",
              "      fill: #D2E3FC;\n",
              "    }\n",
              "\n",
              "    [theme=dark] .colab-df-convert:hover {\n",
              "      background-color: #434B5C;\n",
              "      box-shadow: 0px 1px 3px 1px rgba(0, 0, 0, 0.15);\n",
              "      filter: drop-shadow(0px 1px 2px rgba(0, 0, 0, 0.3));\n",
              "      fill: #FFFFFF;\n",
              "    }\n",
              "  </style>\n",
              "\n",
              "      <script>\n",
              "        const buttonEl =\n",
              "          document.querySelector('#df-f794183b-ad8b-473a-a4a2-02cd4e491e78 button.colab-df-convert');\n",
              "        buttonEl.style.display =\n",
              "          google.colab.kernel.accessAllowed ? 'block' : 'none';\n",
              "\n",
              "        async function convertToInteractive(key) {\n",
              "          const element = document.querySelector('#df-f794183b-ad8b-473a-a4a2-02cd4e491e78');\n",
              "          const dataTable =\n",
              "            await google.colab.kernel.invokeFunction('convertToInteractive',\n",
              "                                                     [key], {});\n",
              "          if (!dataTable) return;\n",
              "\n",
              "          const docLinkHtml = 'Like what you see? Visit the ' +\n",
              "            '<a target=\"_blank\" href=https://colab.research.google.com/notebooks/data_table.ipynb>data table notebook</a>'\n",
              "            + ' to learn more about interactive tables.';\n",
              "          element.innerHTML = '';\n",
              "          dataTable['output_type'] = 'display_data';\n",
              "          await google.colab.output.renderOutput(dataTable, element);\n",
              "          const docLink = document.createElement('div');\n",
              "          docLink.innerHTML = docLinkHtml;\n",
              "          element.appendChild(docLink);\n",
              "        }\n",
              "      </script>\n",
              "    </div>\n",
              "  </div>\n",
              "  "
            ],
            "text/plain": [
              "     Brand                     Model  ...  Transmission         Owner\n",
              "0   Maruti             Maruti 800 AC  ...        Manual   First Owner\n",
              "1   Maruti  Maruti Wagon R LXI Minor  ...        Manual   First Owner\n",
              "2  Hyundai      Hyundai Verna 1.6 SX  ...        Manual   First Owner\n",
              "3   Datsun    Datsun RediGO T Option  ...        Manual   First Owner\n",
              "4    Honda     Honda Amaze VX i-DTEC  ...        Manual  Second Owner\n",
              "\n",
              "[5 rows x 9 columns]"
            ]
          },
          "metadata": {},
          "execution_count": 32
        }
      ]
    },
    {
      "cell_type": "code",
      "source": [
        "df.columns"
      ],
      "metadata": {
        "colab": {
          "base_uri": "https://localhost:8080/"
        },
        "id": "DUPQZc4ufMnC",
        "outputId": "8332fae5-53fe-4f70-bb65-e8bb0ff318e4"
      },
      "execution_count": null,
      "outputs": [
        {
          "output_type": "execute_result",
          "data": {
            "text/plain": [
              "Index(['Brand', 'Model', 'Year', 'Selling_Price', 'KM_Driven', 'Fuel',\n",
              "       'Seller_Type', 'Transmission', 'Owner'],\n",
              "      dtype='object')"
            ]
          },
          "metadata": {},
          "execution_count": 33
        }
      ]
    },
    {
      "cell_type": "code",
      "source": [
        "y = df['Selling_Price']"
      ],
      "metadata": {
        "id": "PAKMjqxTkZ0x"
      },
      "execution_count": null,
      "outputs": []
    },
    {
      "cell_type": "code",
      "source": [
        "X = df[[]]"
      ],
      "metadata": {
        "id": "pe2sIjloknhU"
      },
      "execution_count": null,
      "outputs": []
    }
  ]
}